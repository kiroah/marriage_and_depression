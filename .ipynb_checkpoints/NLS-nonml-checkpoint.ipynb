{
 "cells": [
  {
   "cell_type": "markdown",
   "id": "475d7bc3-55cc-4e8c-9b1a-a1055fe455bc",
   "metadata": {},
   "source": [
    "## Notes\n",
    "   * __Data assumptions:__\n",
    "      * SUTVA - We assume there's no spillover effect, and marriage \"treatment\" is the same across people. The latter is fixed such that marriage = having legal notice, but the effect is hard to justify it is equal among everyone. Nevertheless, we will assume so. \n",
    "   * List of responders is not completely random, as the sampling is done in two methods, listed below: \n",
    "      * A cross-sectional sample of 6,748 respondents designed to be representative of people living in the United States during the initial survey round and born between January 1, 1980, and December 31, 1984. For more information on representativeness of sample, see NLSY97 Technical Sampling Report (2000).\n",
    "      * A supplemental sample of 2,236 respondents designed to oversample Hispanic/Latino and black people living in the United States during the initial survey round and born during the same period as the cross-sectional sample.\n",
    "   * This is using logitudinal data however it's not really a panel data analysis since we are not comparing two points in time (as data is not available)\n",
    "   * We will mainly use the 2019 data as it's pre-COVID, but may look at 2021 data for comparison\n",
    "   * To reduce dependency between rounds (i.e. need to run previous rounds prior to running next round), some code may be redundant between rounds\n",
    "   * At some point PCA can be used but is not being done here as I have not really studied PCA yet. \n"
   ]
  },
  {
   "cell_type": "markdown",
   "id": "f5a7d459-36ef-435a-8b56-ff3704e4365e",
   "metadata": {},
   "source": [
    "## Imports"
   ]
  },
  {
   "cell_type": "code",
   "execution_count": 5,
   "id": "a64961d6-d54e-4f84-889c-e74b2e168542",
   "metadata": {
    "tags": []
   },
   "outputs": [],
   "source": [
    "import pandas as pd\n",
    "from io import StringIO\n",
    "import re\n",
    "from itables import init_notebook_mode\n",
    "from itables import show\n",
    "\n",
    "import math\n",
    "import numpy as np\n",
    "import seaborn as sns\n",
    "import matplotlib.pyplot as plt\n",
    "\n",
    "from sklearn.model_selection import train_test_split\n",
    "from sklearn.linear_model import LinearRegression\n",
    "from sklearn.tree import DecisionTreeRegressor\n",
    "from sklearn.metrics import mean_squared_error, r2_score\n",
    "import statsmodels.api as sm\n",
    "import statsmodels.formula.api as smf\n",
    "\n",
    "from sklearn.metrics import confusion_matrix, ConfusionMatrixDisplay\n",
    "from scipy.stats import chi2_contingency\n",
    "from scipy.stats import ks_2samp\n",
    "from scipy.stats import mannwhitneyu\n",
    "from sklearn.neighbors import NearestNeighbors\n",
    "\n",
    "\n",
    "import pickle"
   ]
  },
  {
   "cell_type": "markdown",
   "id": "0de5305c-7ba2-475d-842d-a809bbe6982f",
   "metadata": {},
   "source": [
    "## Data preprocess"
   ]
  },
  {
   "cell_type": "code",
   "execution_count": 7,
   "id": "4b3af025-79d4-49e0-aa85-3f8ac42ae1b0",
   "metadata": {
    "tags": []
   },
   "outputs": [],
   "source": [
    "target_year = 2021\n",
    "target_outcome = 'CESD_above_8'\n",
    "target_treatment = 'married_vs_never_married'"
   ]
  },
  {
   "cell_type": "code",
   "execution_count": 8,
   "id": "41d30868-8f3d-435c-ba3d-67fa588424b1",
   "metadata": {
    "tags": []
   },
   "outputs": [],
   "source": [
    "def better_colnames(df, from_col: str, to_cols: list[str]  = ['Description','Year']):\n",
    "    ''' Helper function to rename the columns in the (NLS data) df into something readable/helpful, based on data in codebook_df\n",
    "    '''\n",
    "    #Create dataframe with Ref column and the desired new column names based on input\n",
    "    col_mapping = pd.concat([codebook_df[from_col],codebook_df[to_cols[0]].str.cat(codebook_df[to_cols[1:]],sep='_')],axis=1)    \n",
    "    col_mapping.columns.values[1] = '_'.join(to_cols)\n",
    "    #Convert the mapping dataframe to dictionary and rename columns\n",
    "    return(df.rename(columns = col_mapping.set_index(from_col).squeeze().to_dict()))"
   ]
  },
  {
   "cell_type": "code",
   "execution_count": 9,
   "id": "7bc90439-8e49-4430-8ca3-a8a37be05338",
   "metadata": {
    "tags": []
   },
   "outputs": [],
   "source": [
    "tidy_df= pd.read_pickle('temp/tidy_df.pkl')\n",
    "main_df= pd.read_pickle('temp/main_df.pkl')\n",
    "codebook_df= pd.read_pickle('temp/codebook_df.pkl')\n",
    "mental_health_df= pd.read_pickle('temp/mental_health_df.pkl')\n",
    "codebook_df= pd.read_pickle('temp/codebook_df.pkl')\n",
    "cohab_mhealth_df = pd.read_pickle('temp/cohab_mhealth_df.pkl')\n",
    "source_df = pd.read_pickle('temp/source_df.pkl')\n",
    "partner_df = pd.read_pickle('temp/partner_df.pkl')\n",
    "marriage_stats_df = pd.read_pickle('temp/marriage_stats_df.pkl')\n",
    "interview_df = pd.read_pickle('temp/interview_df.pkl')\n"
   ]
  },
  {
   "cell_type": "code",
   "execution_count": 10,
   "id": "b7e64e71-78d8-4bcb-b740-31c30ca4661b",
   "metadata": {
    "tags": []
   },
   "outputs": [],
   "source": [
    "#Model data creation\n",
    "\n",
    "tidy_df_cols = {\n",
    "    'uid': 'uid',\n",
    "    'sex': 'sex',\n",
    "    'age_1996': 'age_1996',\n",
    "    'hispanic': 'hispanic',\n",
    "    'race': 'race',\n",
    "    'CV_URBAN_RURAL': 'urban',\n",
    "    'CV_HH_SIZE': 'household_size',\n",
    "    'CV_INCOME_FAMILY': 'household_income',\n",
    "    'CV_HH_POV_RATIO': 'pov_ratio',\n",
    "    'YHEA_1005': 'limited_work_kind',\n",
    "    'YHEA_1006': 'limited_work_amt',\n",
    "    'BIOADOPTCHILD_ADOPTED.01': 'child_1_adopted', #This can also tell if respondent has a child\n",
    "    \n",
    "}\n",
    "source_df_cols = {\n",
    "    'S1235200': 'asthma_2002',\n",
    "    'S1235201': 'heart_2002',\n",
    "    'S1235202': 'anemia_2002',\n",
    "    'S1235203': 'diabetes_2002',\n",
    "    'S1235204': 'cancer_2002',\n",
    "    'S1235205': 'epilepsy_2002',\n",
    "    'S1235206': 'hiv_aids_2002',\n",
    "    'S1235207': 'std_2002',\n",
    "    'S1235208': 'chronic_other_2002',\n",
    "    'Z9083900': 'highest_degree',\n",
    "    'R0534000': 'nonresp_parent_in_HH',\n",
    "    'R1204500': 'hh_income_1997',\n",
    "    'R0689000': 'pct_college_by_30',\n",
    "    'R2182500': 'date_male_1998',\n",
    "    'R2182000': 'date_female_1998',    \n",
    "    'R0073000': 'num_days_homework'\n",
    "}\n",
    "\n",
    "#Initially add columns from tidy_df \n",
    "model_data_df = tidy_df.loc[tidy_df['Year'] == target_year,list(tidy_df_cols.keys()),]\n",
    "\n",
    "#Add source_df columns\n",
    "model_data_df = model_data_df.merge(source_df.loc[:,['uid'] + list(source_df_cols.keys())],on='uid')\n",
    "\n",
    "\n",
    "#Add derived columns from previous work\n",
    "cohab_mhealth_cols = ['uid','Rxx_CESD_SCORE_(x_ITEM)','married',target_outcome]\n",
    "model_data_df = model_data_df.merge(cohab_mhealth_df.loc[cohab_mhealth_df['Year']==2019,cohab_mhealth_cols],on='uid')\n",
    "model_data_df = model_data_df.rename(columns={'Rxx_CESD_SCORE_(x_ITEM)':'CESD'})\n",
    "\n",
    "\n",
    "#converting the main treatments and outcome to int\n",
    "#Since there are three states (Married, Not married but married before, Never married), we will create two separate columns \n",
    "model_data_df['CESD_above_8'] = model_data_df['CESD_above_8'].astype(int)\n",
    "model_data_df['married_vs_not_married'] = (model_data_df['married'] == 'Yes').astype(int)\n",
    "model_data_df['married_vs_never_married'] = (model_data_df['married'] == 'Yes').astype(int)\n",
    "#For married VS never married, the \"Married but married before\" respondents will be marked as NaN\n",
    "model_data_df.loc[model_data_df['married']=='No',['married_vs_never_married']] = np.nan\n",
    "\n",
    "model_data_df.rename(columns=tidy_df_cols,inplace=True)\n",
    "model_data_df.rename(columns=source_df_cols,inplace=True)"
   ]
  },
  {
   "cell_type": "code",
   "execution_count": 11,
   "id": "80b9e4ce-cad1-4634-b02a-b3b42aafdba3",
   "metadata": {
    "tags": []
   },
   "outputs": [],
   "source": [
    "# Currently a lot of the columns are stored as sparse data. Some models choke as they don't handle such datatype. \n",
    "# Therefore, changing them to dense\n",
    "\n",
    "def dense_columns(col):\n",
    "    if (isinstance(col.dtype, pd.SparseDtype)): \n",
    "        return col.sparse.to_dense()\n",
    "    else:\n",
    "        return col\n",
    "    \n",
    "model_data_df = model_data_df.apply(dense_columns,axis=0)"
   ]
  },
  {
   "cell_type": "code",
   "execution_count": 12,
   "id": "44baa2e3-8d5f-4e36-a4ae-8b97034ad1bc",
   "metadata": {
    "tags": []
   },
   "outputs": [],
   "source": [
    "#Create BMI columns. Since height and weight not mentioned every year, need to pull from last known\n",
    "\n",
    "#Get index for last known weight and height \n",
    "last_known_wgt_idx = tidy_df.loc[(tidy_df['YSAQ_000B'].notnull()) & (tidy_df['YSAQ_000B'] > 0),:].groupby('uid')['YSAQ_000B'].idxmax()\n",
    "last_known_hgt_idx = tidy_df.loc[(tidy_df['YSAQ_000A000001'].notnull()) & (tidy_df['YSAQ_000A000001'] > 0)\n",
    "                                 & (tidy_df['YSAQ_000A000002'].notnull()) & (tidy_df['YSAQ_000A000002'] >= 0)\n",
    "                                 ,:].groupby('uid')['YSAQ_000A000001'].idxmax()\n",
    "\n",
    "\n",
    "#Using the values above, get bmi\n",
    "bmi_df = tidy_df.loc[last_known_wgt_idx,['uid','YSAQ_000B']]\n",
    "bmi_df = bmi_df.merge(tidy_df.loc[last_known_hgt_idx,['uid','YSAQ_000A000001','YSAQ_000A000002']],on='uid',how='left')\n",
    "bmi_df['bmi'] = bmi_df['YSAQ_000B'] / ((bmi_df['YSAQ_000A000001'] * 12 + bmi_df['YSAQ_000A000002']) ** 2) * 703\n",
    "bmi_df['bmi'] = bmi_df['bmi'].sparse.to_dense()\n",
    "\n",
    "model_data_df.drop(['bmi','bmi_bin'],inplace=True,errors='ignore')\n",
    "model_data_df = model_data_df.merge(bmi_df[['uid','bmi']], on='uid',how='left')\n",
    "\n",
    "#Imputing bmi based on US average. Technically the average is different per male and female, but it's slight difference\n",
    "# (29.1 VS 29.6) so just using the same value.\n",
    "model_data_df['bmi'] = model_data_df['bmi'].fillna(29.4)\n",
    "\n",
    "#There is one person with weight of 999. Assuming that's by error. Using average\n",
    "model_data_df.loc[model_data_df['uid'] == 5707,'bmi'] = 29.4\n",
    "\n",
    "#Create bin\n",
    "model_data_df['bmi_bin'] = ''\n",
    "model_data_df.loc[model_data_df['bmi'] < 18.5,'bmi_bin'] = 'under'\n",
    "model_data_df.loc[model_data_df['bmi'].between(18.5, 25.0,inclusive='left'),'bmi_bin'] = 'normal'\n",
    "model_data_df.loc[model_data_df['bmi'].between(25.0, 29.0,inclusive='left'),'bmi_bin'] = 'over'\n",
    "model_data_df.loc[model_data_df['bmi'] > 29.0,'bmi_bin'] = 'obese'\n",
    "model_data_df['bmi_bin'] = model_data_df['bmi_bin'].astype('category')"
   ]
  },
  {
   "cell_type": "code",
   "execution_count": 13,
   "id": "67a9079d-35ec-4523-9807-b3840692d45d",
   "metadata": {
    "tags": []
   },
   "outputs": [],
   "source": [
    "#Flipping urban variable values (0:rural 1:urban 2:unknown) to somewhat more ordinal (0:unknown 1:rural 2:urban)\n",
    "model_data_df['urban'].fillna(0,inplace=True)\n",
    "model_data_df['urban'] = model_data_df['urban'].map({0:1,1:2,2:0})"
   ]
  },
  {
   "cell_type": "code",
   "execution_count": 14,
   "id": "37c65883-3838-45c5-827f-d0b03316fee2",
   "metadata": {
    "tags": []
   },
   "outputs": [],
   "source": [
    "#Put any NaNs or negative values to zero\n",
    "model_data_df['household_income'].fillna(0,inplace=True)\n",
    "model_data_df.loc[model_data_df['household_income'] < 0, 'household_income'] = 0\n",
    "#Log transform income\n",
    "model_data_df['household_income_log'] = np.log(model_data_df['household_income'] + 1) \n",
    "\n",
    "model_data_df.loc[model_data_df['limited_work_kind'] < 0, 'limited_work_kind'] = 0\n",
    "model_data_df.loc[model_data_df['limited_work_kind'] < 0, 'limited_work_kind'] = 0\n",
    "\n",
    "\n",
    "\n",
    "model_data_df.loc[model_data_df['pov_ratio'] < 0, 'pov_ratio'] = 0\n",
    "\n",
    "# Create a column for having a child or not. \n",
    "# One concern. This may not mean the child is still alive, which may negatively effect the mental health\n",
    "model_data_df['has_child'] = (model_data_df['child_1_adopted'] < 0).astype(int)\n"
   ]
  },
  {
   "cell_type": "code",
   "execution_count": 15,
   "id": "f00a4b8a-67b3-4147-a25b-d16d4177381e",
   "metadata": {
    "tags": []
   },
   "outputs": [],
   "source": [
    "model_data_df.loc[model_data_df['asthma_2002'] < 0, 'asthma_2002'] = 0\n",
    "model_data_df.loc[model_data_df['heart_2002'] < 0, 'heart_2002'] = 0\n",
    "model_data_df.loc[model_data_df['anemia_2002'] < 0, 'anemia_2002'] = 0\n",
    "model_data_df.loc[model_data_df['diabetes_2002'] < 0, 'diabetes_2002'] = 0\n",
    "model_data_df.loc[model_data_df['cancer_2002'] < 0, 'cancer_2002'] = 0\n",
    "model_data_df.loc[model_data_df['epilepsy_2002'] < 0, 'epilepsy_2002'] = 0\n",
    "model_data_df.loc[model_data_df['hiv_aids_2002'] < 0, 'hiv_aids_2002'] = 0\n",
    "model_data_df.loc[model_data_df['std_2002'] < 0, 'std_2002'] = 0\n",
    "model_data_df.loc[model_data_df['chronic_other_2002'] < 0, 'chronic_other_2002'] = 0"
   ]
  },
  {
   "cell_type": "code",
   "execution_count": 16,
   "id": "607bd4af-a123-4f89-ba85-53df77983d33",
   "metadata": {
    "tags": []
   },
   "outputs": [],
   "source": [
    "#For highest educational degree, there were few that refused to answer (-3). For them, setting as high school diploma (2)\n",
    "model_data_df.loc[model_data_df['highest_degree'] < 0, 'highest_degree'] = 2"
   ]
  },
  {
   "cell_type": "code",
   "execution_count": 17,
   "id": "fe18de98-57db-4ea5-b3a2-43abfe954e08",
   "metadata": {},
   "outputs": [],
   "source": [
    "# Create log transform version of hh_income_1997. \n",
    "model_data_df['hh_income_1997_log'] = np.log(model_data_df['hh_income_1997'].map(lambda x: x if x > 0 else 0)+ 1) \n",
    "\n",
    "#Set negative values to NaNs\n",
    "model_data_df.loc[model_data_df['pct_college_by_30'] < 0,'pct_college_by_30'] = np.nan\n",
    "model_data_df.loc[model_data_df['num_days_homework'] < 0,'num_days_homework'] = np.nan\n",
    "\n",
    "\n",
    "#combine date male and female \n",
    "model_data_df['date_1998'] = model_data_df.loc[:,['date_male_1998','date_female_1998']].max(axis=1)\n",
    "model_data_df['date_1998'] = model_data_df['date_1998'].map(lambda x: x if x > 0 else 0)\n"
   ]
  },
  {
   "cell_type": "code",
   "execution_count": 18,
   "id": "680d9427-dcb9-46d8-97c2-d1c379e6541e",
   "metadata": {
    "tags": []
   },
   "outputs": [],
   "source": [
    "#Get number of months married based on the interview year-month\n",
    "temp_df = interview_df.loc[interview_df['Year']==target_year,:]\n",
    "temp_df = temp_df.merge(marriage_stats_df,on='uid')\n",
    "temp_df = temp_df.loc[(temp_df['marriage_start'] <= temp_df['interview_year-month']) & (temp_df['interview_year-month'] <= temp_df['marriage_end']) ,:]\n",
    "temp_df['marriage_start_year'] = temp_df['marriage_start'].str[:4].astype(int)\n",
    "temp_df['marriage_start_month'] = temp_df['marriage_start'].str[-2:].astype(int)\n",
    "temp_df['years_married'] = ((temp_df['CV_INTERVIEW_DATE_Y'].astype(int) - temp_df['marriage_start_year'])) + ((temp_df['CV_INTERVIEW_DATE_M'].astype(int) - temp_df['marriage_start_month']) / 12.0)\n",
    "\n",
    "model_data_df.drop('years_married',errors='ignore')\n",
    "model_data_df = model_data_df.merge(temp_df[['uid','years_married']],on='uid',how='left')\n",
    "model_data_df['years_married'].fillna(0,inplace=True)\n",
    "\n",
    "model_data_df['years_married_log'] =  np.log(model_data_df['years_married'] + 1)"
   ]
  },
  {
   "cell_type": "markdown",
   "id": "f93c985c-21ae-4e1f-a279-3a613de2aabb",
   "metadata": {
    "tags": []
   },
   "source": [
    "## Round 0 - Logistic regression w/ only treatment variable\n",
    "   * Use logistic regression w/ married_vs_never_married only\n",
    "   * Odds change: 0.44x, w/ p-value < 0.01"
   ]
  },
  {
   "cell_type": "code",
   "execution_count": 20,
   "id": "309c7a74-58c4-458a-9e48-5d30cc3f1737",
   "metadata": {
    "tags": []
   },
   "outputs": [],
   "source": [
    "temp_model_data_df = model_data_df.copy()\n",
    "temp_model_data_df.dropna(axis=0,subset='married_vs_never_married',inplace=True)"
   ]
  },
  {
   "cell_type": "code",
   "execution_count": 21,
   "id": "288a9d0f-77e4-4894-9847-e4b5c66e760f",
   "metadata": {
    "tags": []
   },
   "outputs": [
    {
     "name": "stdout",
     "output_type": "stream",
     "text": [
      "CESD_above_8 ~ married_vs_never_married\n",
      "                 Generalized Linear Model Regression Results                  \n",
      "==============================================================================\n",
      "Dep. Variable:           CESD_above_8   No. Observations:                 5297\n",
      "Model:                            GLM   Df Residuals:                     5295\n",
      "Model Family:                Binomial   Df Model:                            1\n",
      "Link Function:                  Logit   Scale:                          1.0000\n",
      "Method:                          IRLS   Log-Likelihood:                -1548.0\n",
      "Date:                Thu, 08 Aug 2024   Deviance:                       3096.0\n",
      "Time:                        18:18:11   Pearson chi2:                 5.30e+03\n",
      "No. Iterations:                     6   Pseudo R-squ. (CS):            0.01285\n",
      "Covariance Type:            nonrobust                                         \n",
      "============================================================================================\n",
      "                               coef    std err          z      P>|z|      [0.025      0.975]\n",
      "--------------------------------------------------------------------------------------------\n",
      "Intercept                   -1.9721      0.061    -32.374      0.000      -2.091      -1.853\n",
      "married_vs_never_married    -0.8186      0.102     -8.065      0.000      -1.018      -0.620\n",
      "============================================================================================\n",
      "Log odds increase when married: 0.4410569989109108 \n",
      "P-value: 7.352321970157279e-16 \n"
     ]
    }
   ],
   "source": [
    "formula = target_outcome +  ' ~ ' + target_treatment\n",
    "print(formula)\n",
    "# Fit the logistic regression model using GLM\n",
    "model = smf.glm(formula=formula, data=temp_model_data_df, family=sm.families.Binomial()).fit()\n",
    "\n",
    "# Print the summary of the model\n",
    "print(model.summary())\n",
    "print(f'Log odds increase when married: {math.exp(model.params[target_treatment])} ')\n",
    "print(f'P-value: {model.pvalues[target_treatment]} ')\n"
   ]
  },
  {
   "cell_type": "markdown",
   "id": "3c914e7f-5da1-46d8-b8f8-9cbdb4781dff",
   "metadata": {},
   "source": [
    "## Round 1 - Logistic regression w/ few demographics\n",
    "   * Use logistic regression w/ age, race-related & sex as additional explanatory variables\n",
    "   * Additional assumptions\n",
    "      * No unconfounding variables (HAHAHA...) \n",
    "      * Linearity of logit - We should check this but not checking for this round as the above assumption doesn't really hold anyways\n",
    "   * __Result__\n",
    "      * Odds change: 0.41x, w/ p-value < 0.01\n",
    "      * There is significance btw male VS female. We will look at this later"
   ]
  },
  {
   "cell_type": "code",
   "execution_count": 23,
   "id": "f698fff4-6f59-4a78-84d7-bfb6ed5e2fe0",
   "metadata": {
    "tags": []
   },
   "outputs": [],
   "source": [
    "temp_model_data_df = model_data_df.copy()\n",
    "temp_model_data_df.dropna(axis=0,subset=target_treatment,inplace=True)"
   ]
  },
  {
   "cell_type": "code",
   "execution_count": 24,
   "id": "332dbea6-e584-4dcd-a211-f1cdfddab44a",
   "metadata": {
    "tags": []
   },
   "outputs": [
    {
     "name": "stdout",
     "output_type": "stream",
     "text": [
      "CESD_above_8  ~  married_vs_never_married + age_1996 + C(hispanic) + C(sex) + C(race)\n"
     ]
    }
   ],
   "source": [
    "#formula creation\n",
    "\n",
    "Xs_numerical = ['age_1996']\n",
    "Xs_categorical = ['hispanic','sex','race']\n",
    "\n",
    "formula = f'{target_outcome}  ~  {target_treatment} + ' + (' + '.join(Xs_numerical)) + ' + C(' + (') + C(').join(Xs_categorical) + ')'\n",
    "print(formula)"
   ]
  },
  {
   "cell_type": "code",
   "execution_count": 25,
   "id": "7d8de7bd-7ed0-4b06-9903-153069915c69",
   "metadata": {
    "tags": []
   },
   "outputs": [
    {
     "name": "stdout",
     "output_type": "stream",
     "text": [
      "                 Generalized Linear Model Regression Results                  \n",
      "==============================================================================\n",
      "Dep. Variable:           CESD_above_8   No. Observations:                 5297\n",
      "Model:                            GLM   Df Residuals:                     5284\n",
      "Model Family:                Binomial   Df Model:                           12\n",
      "Link Function:                  Logit   Scale:                          1.0000\n",
      "Method:                          IRLS   Log-Likelihood:                -1527.9\n",
      "Date:                Thu, 08 Aug 2024   Deviance:                       3055.8\n",
      "Time:                        18:18:11   Pearson chi2:                 5.26e+03\n",
      "No. Iterations:                    20   Pseudo R-squ. (CS):            0.02032\n",
      "Covariance Type:            nonrobust                                         \n",
      "========================================================================================================\n",
      "                                           coef    std err          z      P>|z|      [0.025      0.975]\n",
      "--------------------------------------------------------------------------------------------------------\n",
      "Intercept                               -1.3999      1.266     -1.105      0.269      -3.882       1.082\n",
      "C(hispanic)[T.-1]                       18.5546   1.28e+04      0.001      0.999   -2.52e+04    2.52e+04\n",
      "C(hispanic)[T.0]                        -1.2721      0.924     -1.377      0.168      -3.083       0.538\n",
      "C(hispanic)[T.1]                        -1.6177      0.926     -1.746      0.081      -3.433       0.198\n",
      "C(sex)[T.Male]                          -0.5447      0.101     -5.414      0.000      -0.742      -0.347\n",
      "C(race)[T.Asian or Pacific Islander]     0.4837      0.849      0.570      0.569      -1.180       2.147\n",
      "C(race)[T.Black or African American]     0.5929      0.738      0.803      0.422      -0.854       2.040\n",
      "C(race)[T.Don't know]                  -18.1597   1.28e+04     -0.001      0.999   -2.52e+04    2.52e+04\n",
      "C(race)[T.Refusal]                       0.4321      1.120      0.386      0.700      -1.764       2.628\n",
      "C(race)[T.Something else]                0.9735      0.755      1.290      0.197      -0.505       2.453\n",
      "C(race)[T.White]                         0.7766      0.736      1.055      0.292      -0.667       2.220\n",
      "married_vs_never_married                -0.9020      0.108     -8.362      0.000      -1.113      -0.691\n",
      "age_1996                                 0.0223      0.035      0.632      0.528      -0.047       0.092\n",
      "========================================================================================================\n",
      "Log odds increase when married: 0.40574897099210594 \n",
      "P-value: 6.150475862432269e-17 \n"
     ]
    }
   ],
   "source": [
    "# Fit the logistic regression model using GLM\n",
    "model = smf.glm(formula=formula, data=temp_model_data_df, family=sm.families.Binomial()).fit()\n",
    "\n",
    "# Print the summary of the model\n",
    "print(model.summary())\n",
    "print(f'Log odds increase when married: {math.exp(model.params[target_treatment])} ')\n",
    "print(f'P-value: {model.pvalues[target_treatment]} ')\n"
   ]
  },
  {
   "cell_type": "markdown",
   "id": "607accd8-0b7d-4ef0-bb2e-631665b4d2dd",
   "metadata": {},
   "source": [
    "## Round 2 - Logistic regression w/ more fields\n",
    "   * Use logistic regression w/ added fields:\n",
    "      * BMI in bins (underweight, normal, over, obese)\n",
    "      * Living in urban or rural place\n",
    "      * Household income at survey year\n",
    "      * <strike>POV ratio</strike>\n",
    "      * Education level\n",
    "      * Have child or not\n",
    "      * Number of people in household\n",
    "      * Chronic condition\n",
    "      * Limited in kind<strike>/amount</strike> of work because of health\n",
    "      * <strike>Length of marriage </strike>\n",
    "    \n",
    "   * Additional assumptions\n",
    "      * No unconfounding variables (better than before with added variables, but still quite unsure)\n",
    "      * Linearity of logit - Only checked non-logit linear correlation btw variables. No high r2s\n",
    "   * __Result__\n",
    "      * Odds change: 0.44x, w/ p-value < 0.01"
   ]
  },
  {
   "cell_type": "code",
   "execution_count": 27,
   "id": "11c020ba-eeb3-4296-822e-c720eacdf9e6",
   "metadata": {
    "tags": []
   },
   "outputs": [],
   "source": [
    "temp_model_data_df = model_data_df.copy()\n",
    "temp_model_data_df.dropna(axis=0,subset=target_treatment,inplace=True)"
   ]
  },
  {
   "cell_type": "code",
   "execution_count": 28,
   "id": "e7d63565-c11c-4cce-a08c-7ed5e4559134",
   "metadata": {
    "tags": []
   },
   "outputs": [
    {
     "name": "stdout",
     "output_type": "stream",
     "text": [
      "CESD_above_8  ~  married_vs_never_married + age_1996 + household_size + household_income_log + child_1_adopted + asthma_2002 + heart_2002 + anemia_2002 + diabetes_2002 + cancer_2002 + epilepsy_2002 + hiv_aids_2002 + std_2002 + chronic_other_2002 + urban + highest_degree + C(hispanic) + C(sex) + C(race) + C(bmi_bin) + C(limited_work_kind)\n"
     ]
    }
   ],
   "source": [
    "#formula creation\n",
    "\n",
    "Xs_numerical = ['age_1996','household_size','household_income_log','child_1_adopted', \n",
    "                'asthma_2002','heart_2002','anemia_2002','diabetes_2002','cancer_2002','epilepsy_2002',\n",
    "                'hiv_aids_2002','std_2002','chronic_other_2002','urban', 'highest_degree']\n",
    "Xs_categorical = ['hispanic','sex','race','bmi_bin','limited_work_kind',]\n",
    "\n",
    "formula = f'{target_outcome}  ~  {target_treatment} + ' + (' + '.join(Xs_numerical)) + ' + C(' + (') + C(').join(Xs_categorical) + ')'\n",
    "print(formula)"
   ]
  },
  {
   "cell_type": "code",
   "execution_count": 29,
   "id": "d333b503-8442-43fd-94dc-fc2b69b66a53",
   "metadata": {
    "tags": []
   },
   "outputs": [
    {
     "name": "stdout",
     "output_type": "stream",
     "text": [
      "                 Generalized Linear Model Regression Results                  \n",
      "==============================================================================\n",
      "Dep. Variable:           CESD_above_8   No. Observations:                 5224\n",
      "Model:                            GLM   Df Residuals:                     5194\n",
      "Model Family:                Binomial   Df Model:                           29\n",
      "Link Function:                  Logit   Scale:                          1.0000\n",
      "Method:                          IRLS   Log-Likelihood:                -1365.6\n",
      "Date:                Thu, 08 Aug 2024   Deviance:                       2731.2\n",
      "Time:                        18:18:12   Pearson chi2:                 5.04e+03\n",
      "No. Iterations:                    20   Pseudo R-squ. (CS):            0.07392\n",
      "Covariance Type:            nonrobust                                         \n",
      "========================================================================================================\n",
      "                                           coef    std err          z      P>|z|      [0.025      0.975]\n",
      "--------------------------------------------------------------------------------------------------------\n",
      "Intercept                               -1.0881      1.343     -0.810      0.418      -3.721       1.545\n",
      "C(hispanic)[T.-1]                       18.1568   1.63e+04      0.001      0.999    -3.2e+04     3.2e+04\n",
      "C(hispanic)[T.0]                        -1.1643      0.935     -1.245      0.213      -2.998       0.669\n",
      "C(hispanic)[T.1]                        -1.6179      0.938     -1.724      0.085      -3.457       0.221\n",
      "C(sex)[T.Male]                          -0.5926      0.110     -5.366      0.000      -0.809      -0.376\n",
      "C(race)[T.Asian or Pacific Islander]     1.2770      0.902      1.416      0.157      -0.490       3.044\n",
      "C(race)[T.Black or African American]     0.8538      0.784      1.089      0.276      -0.683       2.391\n",
      "C(race)[T.Don't know]                  -17.1474   1.63e+04     -0.001      0.999    -3.2e+04     3.2e+04\n",
      "C(race)[T.Refusal]                       0.9455      1.143      0.827      0.408      -1.295       3.186\n",
      "C(race)[T.Something else]                1.4594      0.803      1.818      0.069      -0.114       3.032\n",
      "C(race)[T.White]                         1.2033      0.782      1.538      0.124      -0.330       2.737\n",
      "C(bmi_bin)[T.obese]                      0.1467      0.142      1.036      0.300      -0.131       0.424\n",
      "C(bmi_bin)[T.over]                       0.1104      0.163      0.678      0.498      -0.209       0.429\n",
      "C(bmi_bin)[T.under]                     -0.9457      0.765     -1.236      0.216      -2.446       0.554\n",
      "C(limited_work_kind)[T.1.0]              1.6248      0.127     12.821      0.000       1.376       1.873\n",
      "married_vs_never_married                -0.4426      0.128     -3.466      0.001      -0.693      -0.192\n",
      "age_1996                                -0.0062      0.037     -0.166      0.868      -0.079       0.067\n",
      "household_size                          -0.0422      0.037     -1.128      0.259      -0.115       0.031\n",
      "household_income_log                    -0.0691      0.011     -6.048      0.000      -0.092      -0.047\n",
      "child_1_adopted                         -0.0606      0.033     -1.813      0.070      -0.126       0.005\n",
      "asthma_2002                              0.0041      0.185      0.022      0.982      -0.359       0.367\n",
      "heart_2002                              -0.1141      0.586     -0.195      0.846      -1.262       1.034\n",
      "anemia_2002                             -0.0192      0.367     -0.052      0.958      -0.738       0.699\n",
      "diabetes_2002                            0.6676      0.540      1.235      0.217      -0.392       1.727\n",
      "cancer_2002                              0.6652      0.586      1.134      0.257      -0.484       1.815\n",
      "epilepsy_2002                           -0.0121      0.746     -0.016      0.987      -1.475       1.451\n",
      "hiv_aids_2002                         2.051e-10    1.9e-07      0.001      0.999   -3.72e-07    3.72e-07\n",
      "std_2002                                 0.9538      0.525      1.817      0.069      -0.075       1.983\n",
      "chronic_other_2002                       0.1640      0.339      0.484      0.629      -0.501       0.829\n",
      "urban                                    0.0728      0.130      0.561      0.575      -0.182       0.327\n",
      "highest_degree                          -0.1586      0.041     -3.909      0.000      -0.238      -0.079\n",
      "========================================================================================================\n",
      "Log odds increase when married: 0.6423383083110121 \n",
      "P-value: 0.0005281227073907981 \n"
     ]
    }
   ],
   "source": [
    "# Fit the logistic regression model using GLM\n",
    "model = smf.glm(formula=formula, data=temp_model_data_df, family=sm.families.Binomial()).fit()\n",
    "#model = smf.glm(formula=formula, data=temp_model_data_df, family=sm.families.Binomial()).fit_regularized)\n",
    "\n",
    "\n",
    "# Print the summary of the model\n",
    "print(model.summary())\n",
    "print(f'Log odds increase when married: {math.exp(model.params[target_treatment])} ')\n",
    "print(f'P-value: {model.pvalues[target_treatment]} ')\n"
   ]
  },
  {
   "cell_type": "markdown",
   "id": "a4430f57-2357-427d-9644-79e0d311090f",
   "metadata": {},
   "source": [
    "## Round 3 - Propensity score matching\n",
    "  * Since this is observational data (from treatment i.e. marriage perspective), we will attempt to apply propensity score to balance the assignments. \n",
    "  * We will use logistic regression for matching\n",
    "  * Steps: \n",
    "     1. Decide on variables \n",
    "     2. Fit logistic regression model \n",
    "     3. Match data (nearest neighbor) & see propensity score overlap and covariates balance \n",
    "     4. Get average treatment effects\n",
    "  * *Result*\n",
    "     * Odds change: 0.59x\n",
    "     * However there are a lot (~10%) of data points w/ propensity score of 0. This may mean we don't have enough variables for better scoring. Either way"
   ]
  },
  {
   "cell_type": "markdown",
   "id": "f035575b-84e6-4f7b-9dcb-f4f9eba7fc04",
   "metadata": {
    "tags": []
   },
   "source": [
    "### Variable selection\n",
    "In addition to basic demographics that were used before, try to see if there are other variables\n",
    "__Criteria__\n",
    "   * Confounding variables\n",
    "   * Pre-treatment variables\n",
    "   * Not instrumental\n",
    "   * (No peeking for balance)\n",
    "\n",
    "\n",
    "   "
   ]
  },
  {
   "cell_type": "code",
   "execution_count": 32,
   "id": "14dddd80-b7bf-4208-a103-bdf877e4b4ba",
   "metadata": {
    "tags": []
   },
   "outputs": [
    {
     "name": "stdout",
     "output_type": "stream",
     "text": [
      "# of people married by year:\n"
     ]
    },
    {
     "data": {
      "text/plain": [
       "1996.0      2\n",
       "1997.0     27\n",
       "1998.0     79\n",
       "1999.0    204\n",
       "2000.0    429\n",
       "Name: First_marriage_year, dtype: int64"
      ]
     },
     "execution_count": 32,
     "metadata": {},
     "output_type": "execute_result"
    }
   ],
   "source": [
    "# Checking to see which survey year data we can use (Total is ~8300)\n",
    "# Based on below output, we will assume we can data from survey 1998 or less, since the # of people married is still low\n",
    "\n",
    "print(\"# of people married by year:\")\n",
    "cohab_mhealth_df['First_marriage_year'].value_counts().sort_index().cumsum().head()"
   ]
  },
  {
   "cell_type": "code",
   "execution_count": 33,
   "id": "ab425098-ccca-4afe-a8c0-48f79ea878b2",
   "metadata": {
    "tags": []
   },
   "outputs": [
    {
     "name": "stderr",
     "output_type": "stream",
     "text": [
      "C:\\Users\\hiron\\AppData\\Local\\Temp\\ipykernel_33516\\741386516.py:18: FutureWarning: The default value of numeric_only in DataFrame.corrwith is deprecated. In a future version, it will default to False. Select only valid columns or specify the value of numeric_only to silence this warning.\n",
      "  corr_df = temp_df.corrwith(temp_df['married_vs_never_married'],method='kendall').to_frame(name='corr').reset_index(names='name')\n"
     ]
    },
    {
     "data": {
      "text/html": [
       "<table id=\"itables_534c6ce4_bad4_4a81_a7ec_a37d6fd76c5b\" class=\"display nowrap\" data-quarto-disable-processing=\"true\" style=\"table-layout:auto;width:auto;margin:auto;caption-side:bottom\">\n",
       "<thead>\n",
       "    <tr style=\"text-align: right;\">\n",
       "      <th></th>\n",
       "      <th>name</th>\n",
       "      <th>corr</th>\n",
       "      <th>nans</th>\n",
       "      <th>Modified_Description</th>\n",
       "    </tr>\n",
       "  </thead><tbody><tr><td>Loading... (need <a href=https://mwouts.github.io/itables/troubleshooting.html>help</a>?)</td></tr></tbody>\n",
       "\n",
       "</table>\n",
       "<link href=\"https://www.unpkg.com/dt_for_itables@2.0.1/dt_bundle.css\" rel=\"stylesheet\">\n",
       "<script type=\"module\">\n",
       "    import {DataTable, jQuery as $} from 'https://www.unpkg.com/dt_for_itables@2.0.1/dt_bundle.js';\n",
       "\n",
       "    document.querySelectorAll(\"#itables_534c6ce4_bad4_4a81_a7ec_a37d6fd76c5b:not(.dataTable)\").forEach(table => {\n",
       "        // Define the table data\n",
       "        const data = [[2180, \"married_vs_never_married\", 1.0, 0.169378, \"NaN\"], [2179, \"married_vs_not_married\", 1.0, 0.0, \"NaN\"], [2177, \"Ever_cohabitted\", 0.453756, 0.0, \"NaN\"], [1911, \"YOUTH_NONR1INHH.01\", 0.199652, 0.0, \"YOUTH, DOES xST NON-RESP BIO PARENT OF R xx LIVE IN HH? (ROS ITEM)\"], [202, \"CV_SAMPLE_TYPE\", 0.189194, 0.0, \"SAMPLE TYPE.  CROSS-SECTIONAL OR OVERSAMPLE\"], [180, \"CV_INCOME_GROSS_YR\", 0.183658, 0.261454, \"GROSS HH INCOME IN PAST YEAR\"], [175, \"CV_HH_POV_RATIO\", 0.179276, 0.26399, \"RATIO OF HOUSEHOLD INCOME TO POVERTY LEVEL\"], [1388, \"PC10_026\", 0.169946, 0.119236, \"R RECEIVE INCOME FROM JOB LAST YEAR?\"], [1907, \"YOUTH_DADID.01\", 0.169761, 0.0, \"YOUTH, R xx BIO DADS ID (ROS ITEM)\"], [1396, \"PC11_014\", 0.164497, 0.671542, \"PERCENT CHANCE R HAS COLLEGE DEGREE BY xx YEARS OLD\"], [1393, \"PC11_008\", 0.157625, 0.669005, \"PERCENT CHANCE R HAS HIGH SCHOOL DIPLOMA BY xx YEARS OLD\"], [1391, \"PC11_005\", 0.153396, 0.666766, \"PERCENT CHANCE R IN SCHOOL NEXT YEAR\"], [1876, \"YINC_1400\", 0.141417, 0.002537, \"R RECEIVE INCOME FROM JOB IN PAST YEAR?\"], [1981, \"YSAQ_296\", 0.136082, 0.750933, \"# DATES R HAD IN PAST YEAR WITH MALE\"], [1536, \"YEXP_2000\", 0.108326, 0.617371, \"PERCENT CHANCE R HAS COLLEGE DEGREE BY xx YEARS OLD\"], [1321, \"P5_028\", 0.106064, 0.573049, \"TOTAL INCOME PRS SPOUSE FROM WAGES AND SALARY LAST YEAR (TRUNC)\"], [2017, \"YSAQ_364\", 0.102589, 0.577526, \"HOW OLD R FIRST TIME DRINK ALCOHOL?\"], [2139, \"YTIM_2200\", 0.097204, 0.398448, \"R SPEND TIME DOING HOMEWORK?\"], [1531, \"YEXP_1500\", 0.094731, 0.616177, \"PERCENT CHANCE R HAS HIGH SCHOOL DIPLOMA BY xx YEARS OLD\"], [1977, \"YSAQ_294A\", 0.091696, 0.491568, \"R HAS EVER HAD DATE WITH BOYFRIEND?\"], [1549, \"YEXP_500\", 0.091267, 0.61558, \"PERCENT CHANCE R IN SCHOOL NEXT YEAR\"], [2041, \"YSAQ_513\", 0.089495, 0.030592, \"PERCENT CHANCE ARRESTED IF STEAL CAR?\"], [1317, \"P5_018\", 0.085027, 0.115356, \"PR RECEIVE INCOME FROM OWN BUS OR FARM IN LAST YEAR?\"], [1559, \"YEXP_700\", 0.077067, 0.621101, \"PERCENT CHANCE WORK xx+ HOURS WHILE NOT IN SCHOOL NEXT YEAR\"], [1541, \"YEXP_300\", 0.07672, 0.618714, \"PERCENT CHANCE GET FLU NEXT YEAR\"], [1850, \"YHEA_900\", 0.076303, 0.79809, \"SMOKING x PACK + PER DAY INCREASE CHANCE HEART DISEASE?\"], [2158, \"YTIM_3200_000002\", 0.075167, 0.423071, \"TIME PER WEEKDAY R WATCHES TV? (MINUTES)\"], [1910, \"YOUTH_MOMID.01\", 0.073556, 0.0, \"YOUTH, R xx BIO MOMS ID (ROS ITEM)\"], [2143, \"YTIM_2500_000001\", 0.07333, 0.468587, \"TOTAL TIME PER WEEKEND DOING HOMEWORK (HOURS)\"], [1972, \"YSAQ_292\", 0.070922, 0.702283, \"HOW OLD R FIRST DATE WITH A GIRLFRIEND?\"], [1934, \"YPRS_600\", 0.070637, 0.021042, \"PERCENT OF PEERS WHO GO TO CHURCH REGULARLY\"], [1304, \"P4_016\", 0.066501, 0.507984, \"RS NONRESP BIO PARENT x HEIGHT IN FEET\"], [1542, \"YEXP_400\", 0.066145, 0.615878, \"PERCENT CHANCE EAT PIZZA NEXT YEAR\"], [1971, \"YSAQ_291A\", 0.065308, 0.511565, \"R HAS EVER HAD DATE WITH GIRLFRIEND?\"], [1929, \"YPRS_1100\", 0.063636, 0.012834, \"PERCENT PEERS WHO PLAN TO GO TO COLLEGE\"], [5, \"age_1996\", 0.062981, 0.0, \"NaN\"], [151, \"CV_AGE_12/31/96\", 0.062981, 0.0, \"RS AGE AS OF xx/xx/xx\"], [152, \"CV_AGE_INT_DATE\", 0.062711, 0.0, \"RS AGE AT INTERVIEW DATE\"], [4, \"first_interview_age\", 0.062563, 0.0, \"NaN\"], [2010, \"YSAQ_360\", 0.060212, 0.612446, \"HOW OLD R FIRST TIME SMOKED?\"], [1540, \"YEXP_2100\", 0.058603, 0.617669, \"PERCENT CHANCE WORK xx+ HOURS PER WEEK BY xx YEARS OLD\"], [150, \"CV_AGE(MONTHS)_INT_DATE\", 0.058417, 0.0, \"RS AGE IN MONTHS AS OF INTERVIEW DATE\"], [2145, \"YTIM_2600\", 0.056321, 0.392628, \"R TAKE EXTRA CLASSES OR LESSONS?\"], [1294, \"P2_049\", 0.056044, 0.438293, \"WHAT RELIGION WAS PRS SPOUSE/PARTNER RAISED IN?\"], [2164, \"YTIM_3600_000002\", 0.053773, 0.632741, \"TIME PER WEEKDAY R READS FOR PLEASURE (MINUTES)\"], [1389, \"PC10_027\", 0.053215, 0.703029, \"RS TOTAL INCOME FROM WAGES AND SALARY LAST YEAR\"], [1320, \"P5_022\", 0.052616, 0.398448, \"PRS SPOUSE RECEIVE INCOME FROM JOB LAST YEAR?\"], [2160, \"YTIM_3300_000002\", 0.048728, 0.418743, \"TOTAL TIME PER WEEKEND R WATCHES TV (MINUTES)\"], [1323, \"P5_031\", 0.048347, 0.399642, \"PRS SPOUSE RECEIVE INCOME FROM OWN BUS OR FARM LAST YEAR?\"], [1315, \"P5_016\", 0.047916, 0.409043, \"TOTAL INCOME FROM PRS WAGES AND SALARY LAST YEAR (TRUNC)\"], [1312, \"P5_010\", 0.047362, 0.113565, \"PR RECEIVE INCOME FROM JOB LAST YEAR?\"], [2165, \"YTIM_3700_000001\", 0.046213, 0.624086, \"TOTAL TIME PER WEEKEND R READS FOR PLEASURE (HOURS)\"], [1914, \"YOUTH_PARENTID.01\", 0.045773, 0.0, \"YOUTH, ID OF R xx RESP PARENT (ROS ITEM)\"], [2140, \"YTIM_2300\", 0.04566, 0.468885, \"# WEEKDAYS R DOES HOMEWORK\"], [1296, \"P2_114.01\", 0.045085, 0.768691, \"WHAT RELIGION WAS NONRESP PARENT xx RAISED IN?\"], [1756, \"YHEA_2000\", 0.04496, 0.021191, \"HEIGHT OF R IN FEET\"], [2040, \"YSAQ_374\", 0.040869, 0.00194, \"WHAT R DO ABOUT WEIGHT\"], [1979, \"YSAQ_295\", 0.039865, 0.752574, \"HOW OLD R FIRST DATE WITH BOYFRIEND?\"], [2016, \"YSAQ_363\", 0.038798, 0.00388, \"R EVER DRINK ALCOHOL?\"], [2162, \"YTIM_3500\", 0.038604, 0.623638, \"# WEEKDAYS R READ FOR PLEASURE\"], [1882, \"YINC_1700\", 0.037376, 0.596777, \"TOTAL INCOME FROM WAGES AND SALARY IN PAST YEAR\"], [1937, \"YPRS_900\", 0.036113, 0.003731, \"PERCENT PEERS IN SPORTS, CLUBS, SCHOOL ACTIVITIES\"], [2074, \"YSCH_36600\", 0.035251, 0.001492, \"STUDENTS DISRUPT LEARNING AGREE/DISAGREE\"], [1974, \"YSAQ_293\", 0.033495, 0.70094, \"# DATES R HAS HAD IN PAST YEAR WITH GIRLFRIEND\"], [1749, \"YHEA_1400\", 0.031981, 0.797194, \"x+ DRINKS INCREASE RS RISK ADDICTION TO ALCOHOL?\"], [2144, \"YTIM_2500_000002\", 0.031681, 0.468139, \"TOTAL TIME PER WEEKEND DOING HOMEWORK (MINUTES)\"], [1301, \"P4_004\", 0.030681, 0.115654, \"HEIGHT OF PR IN FEET\"], [1936, \"YPRS_800\", 0.03048, 0.018355, \"PERCENT OF PEERS WHO GET DRUNK x+ TIMES A MONTH\"], [1913, \"YOUTH_PARENTGUAR.01\", 0.027726, 0.0, \"YOUTH, DOES R xx HAVE A RESP PARENT OR GUARDIAN IN HH (ROS ITEM)\"], [1397, \"PC11_015\", 0.027521, 0.669154, \"PERCENT CHANCE R WORK xx+ HOURS PER WEEK BY xx YEARS OLD\"], [1295, \"P2_050\", 0.026715, 0.428742, \"WHAT IS PRS SPOUSE/PARTNER CURRENT RELIGIOUS PREFERENCE?\"], [2044, \"YSAQ_515\", 0.026469, 0.04268, \"PERCENT CHANCE PAY FINE AND RELEASED IF STOLE CAR?\"], [2161, \"YTIM_3400\", 0.026024, 0.392926, \"R SPEND TIME READING FOR PLEASURE?\"], [1342, \"P6_028\", 0.022563, 0.748097, \"x+ DRINKS INCREASE PRS RISK OF HARMING UNBORN CHILD?\"], [1750, \"YHEA_1500\", 0.022545, 0.797642, \"x+ DRINKS INCREASE RS RISK OF HARMING UNBORN CHILD?\"], [154, \"CV_CENSUS_REGION\", 0.021733, 0.0, \"CENSUS REGION OF RESIDENCE\"], [1292, \"P2_013\", 0.021576, 0.113117, \"WHAT RELIGION WAS PR RAISED IN?\"], [1293, \"P2_014\", 0.021403, 0.114013, \"WHAT IS PRS CURRENT RELIGIOUS PREFERENCE?\"], [2007, \"YSAQ_356\", 0.021366, 0.392926, \"R OPTIMISTIC ABOUT FUTURE (AGREE/DISAGREE)\"], [2062, \"YSAQ_INTRO_2\", 0.02131, 0.000597, \"CHOCOLATE ICE CREAM (SAQ)\"], [1758, \"YHEA_2100\", 0.020637, 0.024922, \"HEIGHT OF R IN INCHES\"], [1306, \"P4_018\", 0.019863, 0.528876, \"RS NONRESP BIO PARENTx WEIGHT\"], [2045, \"YSAQ_516\", 0.019364, 0.04074, \"PERCENT CHANCE GO TO JAIL IF STOLE CAR?\"], [1343, \"P6_INT_2\", 0.018164, 0.323534, \"INTRO PSAQ CHOCOLATE ICE CREAM\"], [1905, \"YOUTH_ADOPDADID.01\", 0.01426, 0.0, \"YOUTH, R xx ADOPTIVE DADS ID (ROS ITEM)\"], [2043, \"YSAQ_514\", 0.013867, 0.0388, \"PERCENT CHANCE RELEASED WITH OUT CHARGE IF STOLE CAR?\"], [2141, \"YTIM_2400_000001\", 0.01338, 0.469184, \"TIME PER WEEKDAY SPEND DOING HOMEWORK (HOURS)\"], [2009, \"YSAQ_359\", 0.012551, 0.003134, \"R EVER SMOKED?\"], [1527, \"YEXP_1100\", 0.010036, 0.617221, \"PERCENT CHANCE R GET DRUNK BY NEXT YEAR\"], [2152, \"YTIM_3000\", 0.009065, 0.392628, \"R SPEND TIME WATCHING TV?\"], [1528, \"YEXP_1200\", 0.008774, 0.620206, \"PERCENT CHANCE R VICTIM OF VIOLENT CRIME BY NEXT YEAR\"], [182, \"CV_INTERVIEW_DATE_M\", 0.006292, 0.0, \"MONTH R INTERVIEWED\"], [2166, \"YTIM_3700_000002\", 0.005603, 0.623489, \"TOTAL TIME PER WEEKEND R READS FOR PLEASURE (MINUTES)\"], [2142, \"YTIM_2400_000002\", 0.004333, 0.469034, \"TIME PER WEEKDAY SPEND DOING HOMEWORK (MINUTES)\"], [1447, \"PC9_023\", 0.002687, 0.116401, \"R HAVE DEFORMED/MISSING BODY PART?\"], [2004, \"YSAQ_351A\", -0.000371, 0.390688, \"WHO R TURNS TO WITH PERSONAL PROBLEMS?\"], [1339, \"P6_023\", -0.000904, 0.749739, \"x+ DRINKS INCREASE PRS RISK DAMAGE LIVER?\"], [2039, \"YSAQ_373\", -0.001483, 0.002238, \"R DESCRIBE WEIGHT\"], [1305, \"P4_017\", -0.001561, 0.50873, \"RS NONRESP BIO PARENTx HEIGHT IN INCHES\"], [1530, \"YEXP_1400\", -0.002846, 0.625728, \"PERCENT CHANCE R DIE BY NEXT YEAR\"], [6, \"hispanic\", -0.003076, 0.002537, \"NaN\"], [1328, \"P6_004\", -0.003088, 0.32622, \"OPTIMISTIC ABOUT PRS FUTURE\"], [181, \"CV_INTERVIEW_CMONTH\", -0.0032, 0.0, \"MONTH INTERVIEWED\"], [1935, \"YPRS_700\", -0.003433, 0.011789, \"PERCENT OF PEERS WHO SMOKE\"], [201, \"CV_PARENT_INT_DATE_Y\", -0.004543, 0.110879, \"PARENTS INTERVIEW DATE\"], [1338, \"P6_022\", -0.006037, 0.765408, \"x+ DRINKS INCREASE PRS RISK GETTING ARTHRITIS?\"], [1948, \"YSAQ_010\", -0.006386, 0.394419, \"# DAYS PER WEEK TYPICALLY FAMILY DOES SOMETHING RELIGIOUS\"], [2076, \"YSCH_36800\", -0.006495, 0.009103, \"CHEAT ON TEST AND ASSIGNMENT (AGREE/DISAGREE)\"], [1302, \"P4_005\", -0.007229, 0.117744, \"HEIGHT OF PR IN INCHES\"], [1326, \"P6_002\", -0.007438, 0.325026, \"UNCERTAIN TIMES PR EXPECT BEST\"], [208, \"FP_PPRELIG\", -0.007477, 0.325474, \"PARENTS RELIGIOSITY, PARENT REPORT\"], [2020, \"YSAQ_365\", -0.007968, 0.577526, \"# DAYS R DRINK ALCOHOL LAST xx DAYS\"], [200, \"CV_PARENT_INT_DATE_M\", -0.008193, 0.110879, \"PARENTS INTERVIEW DATE\"], [1906, \"YOUTH_ADOPMOMID.01\", -0.008503, 0.0, \"YOUTH, R xx ADOPTIVE MOMS ID (ROS ITEM)\"], [1908, \"YOUTH_FOSTDADID.01\", -0.009803, 0.0, \"YOUTH, R xx FOSTER DADS ID (ROS ITEM)\"], [176, \"CV_HH_SIZE\", -0.010151, 0.0, \"HOUSEHOLD SIZE\"], [2005, \"YSAQ_354\", -0.010813, 0.39233, \"R EXPECTS BEST IN UNCERTAIN TIMES (AGREE/DISAGREE)\"], [1330, \"P6_011\", -0.010837, 0.324728, \"PR DOES NOT NEED RELIGION FOR GOOD VALUES\"], [1534, \"YEXP_1900\", -0.010881, 0.625728, \"PERCENT CHANCE R DIE BY xx YEARS OLD\"], [1340, \"P6_024\", -0.016384, 0.754962, \"x+ DRINKS INCREASE PRS RISK GET HEART DISEASE?\"], [1408, \"PC9_003\", -0.01757, 0.116401, \"R TAKE MEDICATION FOR CHRONIC CONDITION?\"], [2013, \"YSAQ_361\", -0.017935, 0.6117, \"# DAYS SMOKED IN LAST xx DAYS\"], [1533, \"YEXP_1800\", -0.018391, 0.61946, \"PERCENT CHANCE R A PARENT BY xx YEARS OLD\"], [1425, \"PC9_014\", -0.019154, 0.116401, \"R HAVE TROUBLE SEEING, HEARING, SPEAKING? (SENSORY)\"], [1931, \"YPRS_1300\", -0.02075, 0.023131, \"PERCENT PEERS USE ILLEGAL DRUGS\"], [184, \"CV_INTERVIEW_DATE_Y\", -0.020855, 0.0, \"YEAR R INTERVIEWED\"], [1341, \"P6_027\", -0.021885, 0.74944, \"x+ DRINKS INCREASE PRS RISK ADDICTION TO ALCOHOL?\"], [2001, \"YSAQ_348\", -0.022092, 0.700194, \"R DOES NOT GET ALONG WITH OTHERS (MALE)\"], [2, \"birth_month\", -0.022185, 0.0, \"NaN\"], [1909, \"YOUTH_FOSTMOMID.01\", -0.022647, 0.0, \"YOUTH, R xx FOSTER MOMS ID (ROS ITEM)\"], [1760, \"YHEA_2200\", -0.023917, 0.03104, \"WEIGHT OF R - POUNDS\"], [1912, \"YOUTH_NONR2INHH.01\", -0.024112, 0.0, \"YOUTH, IS R xx xND NON-RESP BIO PARENT IN HH (ROS ITEM)\"], [1335, \"P6_019\", -0.024175, 0.325175, \"PR ASKS GOD HELP MAKE DECISIONS\"], [2046, \"YSAQ_517\", -0.024996, 0.017162, \"HOUSE OR APARTMENT BROKEN INTO < xx YEARS OLD?\"], [1930, \"YPRS_1200\", -0.02584, 0.015371, \"PERCENT OF PEERS WHO DO VOLUNTEER WORK\"], [1300, \"P4_003\", -0.026111, 0.111924, \"PR HAVE HEALTH PROBLEM SINCE OLDEST CHILD BORN?\"], [1558, \"YEXP_600\", -0.026494, 0.61752, \"PERCENT CHANCE R IN SCHOOL AND WORKING xx+ HOURS PER WEEK NEXT YEAR\"], [1529, \"YEXP_1300\", -0.028537, 0.61752, \"PERCENT CHANCE R ARRESTED BY NEXT YEAR\"], [2048, \"YSAQ_518\", -0.02914, 0.015371, \"R VICTIM OF BULLYING < xx YEARS OLD?\"], [2002, \"YSAQ_349\", -0.029238, 0.700194, \"R LIES OR CHEATS (MALE)\"], [1982, \"YSAQ_297\", -0.02956, 0.783167, \"# DIFFERENT BOYS DATED IN LAST YEAR\"], [1463, \"PC9_032\", -0.029782, 0.116401, \"R HAVE A CHRONIC CONDITION?\"], [1532, \"YEXP_1600\", -0.031795, 0.616475, \"PERCENT CHANCE R IN JAIL BY xx YEARS OLD\"], [2067, \"YSCH_35900\", -0.031894, 0.011043, \"R HAD SOMETHING STOLEN FROM SCHOOL\"], [1996, \"YSAQ_345\", -0.032052, 0.690345, \"R HAS TROUBLE SLEEPING (FEMALE)\"], [2068, \"YSCH_36000\", -0.032596, 0.011342, \"R THREATENED TO BE HURT AT SCHOOL\"], [1337, \"P6_021A\", -0.035096, 0.325772, \"PR PRAYS MORE THAN ONCE A DAY\"], [2024, \"YSAQ_369\", -0.037096, 0.003731, \"R EVER USE MARIJUANA?\"], [1976, \"YSAQ_294\", -0.041656, 0.742277, \"# DIFFERENT GIRLS DATED IN PAST YEAR\"], [2071, \"YSCH_36300\", -0.043989, 0.030145, \"# DAYS R ABSENT FROM SCHOOL?\"], [2163, \"YTIM_3600_000001\", -0.044193, 0.633189, \"TIME PER WEEKDAY R READS FOR PLEASURE (HOURS)\"], [2156, \"YTIM_3100\", -0.044696, 0.418147, \"# WEEKDAYS R WATCHES TV\"], [2077, \"YSCH_36900\", -0.044784, 0.004178, \"DISCIPLINE IS FAIR AGREE/DISAGREE\"], [174, \"CV_HH_INCOME_SOURCE\", -0.047793, 0.0, \"HOUSEHOLD INCOME FROM PARENT OR R\"], [1932, \"YPRS_1400\", -0.048516, 0.005522, \"PERCENT OF PEERS WHO CUT CLASSES OR SCHOOL\"], [1919, \"YOUTH_SIBRELY01.01\", -0.049636, 0.551112, \"YOUTH, RELATIONSHIP OF xST OTHER RESPONDENT IN R xx HOUSEHOLD (ROS ITEM)\"], [1299, \"P4_002\", -0.049729, 0.112371, \"PR HAVE LONG-TERM HEALTH PROBLEM LIMITING EMPLOYMENT?\"], [1344, \"P6_INT_3\", -0.05255, 0.323385, \"INTRO PSAQ FAVORITE ICE CREAM\"], [177, \"CV_HH_UNDER_18\", -0.053453, 0.0, \"NUMBER OF HOUSEHOLD MEMBERS UNDER AGE xx\"], [2064, \"YSAQ_INTRO_3\", -0.054, 0.000597, \"FAVORITE ICE CREAM (SAQ)\"], [1329, \"P6_005\", -0.054667, 0.324578, \"HARDLY EXPECT THINGS TO GO PRS WAY\"], [1407, \"PC9_002\", -0.056838, 0.116997, \"R HAVE PHYSICAL, EMOTIONAL CONDITION LIMITS SCHOOL/WORK?\"], [1392, \"PC11_006\", -0.059669, 0.669303, \"PERCENT CHANCE R IN SCHOOL & WORKING xx+ HOURS PER WEEK NEXT YEAR\"], [1327, \"P6_003\", -0.059673, 0.324429, \"RARELY GOOD THINGS HAPPEN TO PR\"], [2073, \"YSCH_36500\", -0.059986, 0.002238, \"TEACHERS INTERESTED IN STUDENTS AGREE/DISAGREE\"], [3, \"birth_year\", -0.062981, 0.0, \"NaN\"], [2075, \"YSCH_36700\", -0.063239, 0.002537, \"STUDENTS GRADED FAIRLY AGREE/DISAGREE\"], [1992, \"YSAQ_343\", -0.067734, 0.690345, \"R LIES OR CHEATS (FEMALE)\"], [2003, \"YSAQ_350\", -0.067766, 0.700194, \"R UNHAPPY, SAD, DEPRESSED (MALE)\"], [2159, \"YTIM_3300_000001\", -0.068435, 0.419937, \"TOTAL TIME PER WEEKEND R WATCHES TV (HOURS)\"], [203, \"CV_URBAN_RURAL\", -0.068986, 0.0, \"CURRENT RESIDENCE IN URBAN OR RURAL AREA\"], [178, \"CV_HH_UNDER_6\", -0.06938, 0.0, \"NUMBER OF HOUSEHOLD MEMBERS UNDER AGE x\"], [1994, \"YSAQ_344\", -0.069391, 0.690195, \"RS SCHOOL WORK POOR (FEMALE)\"], [1311, \"P4_029\", -0.070385, 0.395463, \"PRS SPOUSE/PARTNER HAVE HEALTH PROBLEM LIMITING EMPLOYMENT?\"], [212, \"FP_YYMBEHS\", -0.070547, 0.700194, \"BOYS BEHAVIORAL/EMOTIONAL PROBLEMS SCALE, YOUTH REPORT\"], [1395, \"PC11_013\", -0.071013, 0.673034, \"PERCENT CHANCE R A PARENT BY xx YEARS OLD\"], [1310, \"P4_028\", -0.07322, 0.39606, \"PRS SPOUSE/PARTNER HEALTH IN GENERAL\"], [1336, \"P6_020\", -0.074847, 0.327563, \"GOD HAS NOTHING TO DO WITH WHAT HAPPENS TO PR\"], [2000, \"YSAQ_347\", -0.07593, 0.700194, \"R HAS TROUBLE CONCENTRATING AND PAYING ATTENTION (MALE)\"], [2008, \"YSAQ_357\", -0.081101, 0.390389, \"HARDLY EXPECT THINGS TO GO RS WAY (AGREE/DISAGREE)\"], [2072, \"YSCH_36400\", -0.08166, 0.001343, \"TEACHERS GOOD (AGREE/DISAGREE)\"], [1303, \"P4_006\", -0.085516, 0.156096, \"WEIGHT OF PR\"], [198, \"CV_MSA\", -0.085868, 0.0, \"R CURRENTLY RESIDE IN MSA\"], [1334, \"P6_018\", -0.086169, 0.784659, \"PR OBEYS RELIGIOUS TEACHINGS IN EVERY SITUATION\"], [2070, \"YSCH_36200\", -0.086979, 0.017162, \"R LATE FOR SCHOOL WITHOUT EXCUSE\"], [1394, \"PC11_011\", -0.088796, 0.669005, \"PERCENT CHANCE R IN JAIL BY xx YEARS OLD\"], [1998, \"YSAQ_346\", -0.090319, 0.690345, \"R UNHAPPY, SAD, DEPRESSED (FEMALE)\"], [2178, \"CESD_above_8\", -0.090741, 0.0, \"NaN\"], [1643, \"YHEA_100\", -0.093437, 0.0, \"HOW IS RS GENERAL HEALTH?\"], [1501, \"SIDCODE\", -0.095613, 0.0, \"HOUSEHOLD IDENTIFICATION CODE\"], [211, \"FP_YYFBEHS\", -0.095907, 0.690195, \"GIRLS BEHAVIORAL/EMOTIONAL PROBLEMS SCALE, YOUTH REPORT\"], [1500, \"PUBID\", -0.096668, 0.0, \"PUBID, YOUTH CASE IDENTIFICATION CODE\"], [1, \"uid\", -0.096668, 0.0, \"NaN\"], [0, \"index\", -0.096668, 0.0, \"NaN\"], [2050, \"YSAQ_519\", -0.097339, 0.015371, \"R SEE SOMEONE SHOT WITH GUN < xx YEARS OLD?\"], [1409, \"PC9_004\", -0.098048, 0.116997, \"R HAVE LEARNING/EMOTIONAL PROBLEM LIMITING SCHOOL/WORK PERFORMANCE?\"], [1928, \"YPRS_1000\", -0.101523, 0.018057, \"PERCENT OF PEERS BELONG TO A GANG\"], [2006, \"YSAQ_355\", -0.103665, 0.389942, \"R RARELY EXPECTS GOOD THINGS (AGREE/DISAGREE)\"], [1298, \"P4_001\", -0.105432, 0.111774, \"HOW IS PRS GENERAL HEALTH\"], [1933, \"YPRS_1600\", -0.10827, 0.567229, \"PERCENT OF PEERS WHO HAVE HAD SEX\"], [1331, \"P6_015\", -0.109938, 0.60379, \"PR OBEYS BIBLE IN EVERY SITUATION\"], [1915, \"YOUTH_SIBID01.01\", -0.110608, 0.550664, \"YOUTH, ID OF xST OTHER RESPONDENT IN R xx HOUSEHOLD (ROS ITEM)\"], [2078, \"YSCH_37000\", -0.115592, 0.002388, \"FEEL SAFE AT SCHOOL AGREE/DISAGREE\"], [2069, \"YSCH_36100\", -0.121613, 0.010894, \"R IN A FIGHT AT SCHOOL\"], [1406, \"PC9_001\", -0.12171, 0.11655, \"HOW IS RS HEALTH?\"], [2157, \"YTIM_3200_000001\", -0.12614, 0.42337, \"TIME PER WEEKDAY R WATCHES TV? (HOURS)\"], [207, \"CV_YTH_REL_HH_CURRENT\", -0.199274, 0.003283, \"RS RELATIONSHIP TO HOUSEHOLD PARENT FIGURE\"], [204, \"CV_YTH_REL_HH_AGE_12\", -0.200252, 0.122221, \"RELATIONSHIP TO PARENT FIGURES WHEN R AGE xx\"], [206, \"CV_YTH_REL_HH_AGE_6\", -0.213413, 0.122519, \"RELATIONSHIP TO PARENT FIGURES WHEN R AGE x\"], [205, \"CV_YTH_REL_HH_AGE_2\", -0.220329, 0.121474, \"RELATIONSHIP TO PARENT FIGURES WHEN R AGE x\"], [7, \"Year\", NaN, 0.0, \"NaN\"], [2176, \"last_interview\", NaN, 0.0, \"NaN\"]];\n",
       "\n",
       "        // Define the dt_args\n",
       "        let dt_args = {\"layout\": {\"topStart\": \"pageLength\", \"topEnd\": \"search\", \"bottomStart\": \"info\", \"bottomEnd\": \"paging\"}, \"order\": [], \"warn_on_dom\": true};\n",
       "        dt_args[\"data\"] = data;\n",
       "\n",
       "        \n",
       "        new DataTable(table, dt_args);\n",
       "    });\n",
       "</script>\n"
      ],
      "text/plain": [
       "<IPython.core.display.HTML object>"
      ]
     },
     "metadata": {},
     "output_type": "display_data"
    }
   ],
   "source": [
    "# Look for additional variables that can be used for propensity scoring (but not for instrumental)\n",
    "# Get all columns from particular year, and set negative values to NaNs\n",
    "temp_df = tidy_df.loc[tidy_df['Year'] == 1997,:].select_dtypes(exclude=['object','category'])\n",
    "temp_df = temp_df.apply(dense_columns,axis=0)\n",
    "temp_df = temp_df.applymap(lambda x: np.nan if x < 0 else x)\n",
    "\n",
    "#Get needed treatment + outcome data and merge with previous df\n",
    "temp2_df = cohab_mhealth_df.loc[cohab_mhealth_df['Year'] == target_year,['uid','Ever_cohabitted','CESD_above_8','married']].drop_duplicates()\n",
    "temp_df = temp_df.merge(temp2_df,on='uid')\n",
    "\n",
    "#Create same married flags in the same df\n",
    "temp_df['married_vs_not_married'] = (temp_df['married'] == 'Yes').astype(int)\n",
    "temp_df['married_vs_never_married'] = (temp_df['married'] == 'Yes').astype(int)\n",
    "#For married VS never married, the \"Married but married before\" respondents will be marked as NaN\n",
    "temp_df.loc[temp_df['married']=='No',['married_vs_never_married']] = np.nan\n",
    "\n",
    "#Create correlation dataframe. Not using pearson as target (both treatment and outcome) is binomial\n",
    "corr_df = temp_df.corrwith(temp_df['married_vs_never_married'],method='kendall').to_frame(name='corr').reset_index(names='name')\n",
    "#Calculate % of nans \n",
    "temp3_df = (1 - temp_df.count() / temp_df.shape[0]).to_frame(name='nans').reset_index(names='name')\n",
    "corr_df = corr_df.merge(temp3_df,on='name')\n",
    "\n",
    "#Get descriptions from codebook\n",
    "corr_df = corr_df.merge(codebook_df[['Modified_Question','Modified_Description']].drop_duplicates(),left_on='name',right_on='Modified_Question',how='left')\n",
    "corr_df.drop('Modified_Question',axis=1,inplace=True)\n",
    "\n",
    "#Looking at list of \n",
    "show(corr_df.loc[corr_df['nans'] <= 0.8,:].sort_values(by='corr',ascending=False))"
   ]
  },
  {
   "cell_type": "markdown",
   "id": "1d124373-79ab-4a87-8ce6-8e386b17f776",
   "metadata": {},
   "source": [
    "__Results__ \n",
    "   * Just by looking at correlation (kendall), the correlation score is low (<0.2). However we will include a few based on score & data availability\n",
    "      * YOUTH_NONR1INHH.01 - If non-responding biological parent live in the household \n",
    "      * CV_INCOME_GROSS_YR - Gross income of household\n",
    "      * PC11_014 - Percent change respondent has college degree by some age (only answered by age >= 16)\n",
    "      * YTIM_2300 - # of days spending homework a week (only answered by age <= 15\n",
    "      * YSAQ_296 - # of dates with male\n",
    "      * YSAQ_294 - # of dates with female"
   ]
  },
  {
   "cell_type": "markdown",
   "id": "ecfc17c3-f0cc-450e-9967-c3192fcbdd57",
   "metadata": {},
   "source": [
    "### Fit propensity model (logistic regression)"
   ]
  },
  {
   "cell_type": "code",
   "execution_count": 36,
   "id": "492a23f9-20b8-4169-a0f8-ee2b93a69be7",
   "metadata": {
    "tags": []
   },
   "outputs": [],
   "source": [
    "temp_model_data_df = model_data_df.copy()\n",
    "temp_model_data_df.dropna(axis=0,subset=target_treatment,inplace=True)"
   ]
  },
  {
   "cell_type": "code",
   "execution_count": 37,
   "id": "21dda967-dfd4-401f-b117-fddec8d66a01",
   "metadata": {
    "tags": []
   },
   "outputs": [
    {
     "name": "stdout",
     "output_type": "stream",
     "text": [
      "Model over 15: married_vs_never_married ~ hh_income_1997_log + date_1998 + num_days_homework + C(hispanic) + C(sex) + C(race) + C(nonresp_parent_in_HH)\n",
      "Model under 16: married_vs_never_married ~ hh_income_1997_log + date_1998 + pct_college_by_30 + C(hispanic) + C(sex) + C(race) + C(nonresp_parent_in_HH)\n"
     ]
    }
   ],
   "source": [
    "#Since \"Number of days doing HW\" and \"Percent going to college by 30\" is mutually exclusive by age, we will create two \n",
    "# separate models. \n",
    "\n",
    "Xs_numerical = ['hh_income_1997_log','date_1998','num_days_homework']\n",
    "Xs_categorical = ['hispanic','sex','race','nonresp_parent_in_HH']\n",
    "formula = f'{target_treatment} ~ ' + (' + '.join(Xs_numerical)) + ' + C(' + (') + C(').join(Xs_categorical) + ')'\n",
    "print(\"Model over 15: \" + formula)\n",
    "# Fit the logistic regression model using GLM\n",
    "model_over_15 = smf.glm(formula=formula, data=temp_model_data_df, family=sm.families.Binomial()).fit()\n",
    "result1 = model_over_15.predict(temp_model_data_df[Xs_numerical+Xs_categorical])\n",
    "\n",
    "\n",
    "#formula creation\n",
    "Xs_numerical = ['hh_income_1997_log','date_1998','pct_college_by_30']\n",
    "Xs_categorical = ['hispanic','sex','race','nonresp_parent_in_HH']\n",
    "formula = f'{target_treatment} ~ ' + (' + '.join(Xs_numerical)) + ' + C(' + (') + C(').join(Xs_categorical) + ')'\n",
    "print(\"Model under 16: \" + formula)\n",
    "# Fit the logistic regression model using GLM\n",
    "model_under_16 = smf.glm(formula=formula, data=temp_model_data_df, family=sm.families.Binomial()).fit()\n",
    "result2 = model_under_16.predict(temp_model_data_df[Xs_numerical+Xs_categorical])\n",
    "\n"
   ]
  },
  {
   "cell_type": "markdown",
   "id": "e15acdfe-3b07-4450-ab34-a0d93c040c9a",
   "metadata": {},
   "source": [
    "### Match responders and check balance"
   ]
  },
  {
   "cell_type": "code",
   "execution_count": 40,
   "id": "4ca24ca0-bab7-4a52-ae2f-423cae92ada1",
   "metadata": {},
   "outputs": [],
   "source": [
    "#Put the two (mutually exclusive) p-scores into one and add to the model data df\n",
    "temp_df = pd.DataFrame({'pscore1':result1, 'pscore2':result2})\n",
    "temp_df.fillna(0,inplace=True)\n",
    "temp_df['pscore'] = temp_df['pscore1'] +temp_df['pscore2']\n",
    "\n",
    "temp_model_data_df.drop('pscore',axis=1,errors='ignore',inplace=True)\n",
    "temp_model_data_df = pd.concat([temp_model_data_df,temp_df[['pscore']]],axis=1)"
   ]
  },
  {
   "cell_type": "code",
   "execution_count": 42,
   "id": "e688d27a-d11a-4c43-9955-135d221c55d4",
   "metadata": {
    "tags": []
   },
   "outputs": [
    {
     "data": {
      "text/plain": [
       "<AxesSubplot: xlabel='pscore', ylabel='Count'>"
      ]
     },
     "execution_count": 42,
     "metadata": {},
     "output_type": "execute_result"
    },
    {
     "data": {
      "image/png": "[encoded data removed]",
      "text/plain": [
       "<Figure size 640x480 with 1 Axes>"
      ]
     },
     "metadata": {},
     "output_type": "display_data"
    }
   ],
   "source": [
    "#Check propensity score overlap between treated (married) and untreated\n",
    "sns.histplot(data=temp_model_data_df, x='pscore', hue='married_vs_never_married') "
   ]
  },
  {
   "cell_type": "code",
   "execution_count": 44,
   "id": "f289bdf6-8293-4394-a242-ac10be6b4fe1",
   "metadata": {
    "tags": []
   },
   "outputs": [
    {
     "name": "stderr",
     "output_type": "stream",
     "text": [
      "C:\\Users\\hiron\\AppData\\Local\\Temp\\ipykernel_33516\\177032192.py:21: FutureWarning: The default value of numeric_only in DataFrameGroupBy.mean is deprecated. In a future version, numeric_only will default to False. Either specify numeric_only or select only columns which should be valid for the function.\n",
      "  show(matched_data_df.groupby(target_treatment).mean())\n"
     ]
    },
    {
     "data": {
      "text/html": [
       "<table id=\"itables_245e47da_56c7_4e5e_92b3_a6fa8630a8f7\" class=\"display nowrap\" data-quarto-disable-processing=\"true\" style=\"table-layout:auto;width:auto;margin:auto;caption-side:bottom\">\n",
       "<thead>\n",
       "    <tr style=\"text-align: right;\">\n",
       "      <th></th>\n",
       "      <th>uid</th>\n",
       "      <th>age_1996</th>\n",
       "      <th>hispanic</th>\n",
       "      <th>urban</th>\n",
       "      <th>household_size</th>\n",
       "      <th>household_income</th>\n",
       "      <th>pov_ratio</th>\n",
       "      <th>limited_work_kind</th>\n",
       "      <th>limited_work_amt</th>\n",
       "      <th>child_1_adopted</th>\n",
       "      <th>asthma_2002</th>\n",
       "      <th>heart_2002</th>\n",
       "      <th>anemia_2002</th>\n",
       "      <th>diabetes_2002</th>\n",
       "      <th>cancer_2002</th>\n",
       "      <th>epilepsy_2002</th>\n",
       "      <th>hiv_aids_2002</th>\n",
       "      <th>std_2002</th>\n",
       "      <th>chronic_other_2002</th>\n",
       "      <th>highest_degree</th>\n",
       "      <th>nonresp_parent_in_HH</th>\n",
       "      <th>hh_income_1997</th>\n",
       "      <th>pct_college_by_30</th>\n",
       "      <th>date_male_1998</th>\n",
       "      <th>date_female_1998</th>\n",
       "      <th>num_days_homework</th>\n",
       "      <th>CESD</th>\n",
       "      <th>CESD_above_8</th>\n",
       "      <th>married_vs_not_married</th>\n",
       "      <th>bmi</th>\n",
       "      <th>household_income_log</th>\n",
       "      <th>has_child</th>\n",
       "      <th>hh_income_1997_log</th>\n",
       "      <th>date_1998</th>\n",
       "      <th>years_married</th>\n",
       "      <th>years_married_log</th>\n",
       "      <th>pscore</th>\n",
       "    </tr>\n",
       "    <tr>\n",
       "      <th>married_vs_never_married</th>\n",
       "      <th></th>\n",
       "      <th></th>\n",
       "      <th></th>\n",
       "      <th></th>\n",
       "      <th></th>\n",
       "      <th></th>\n",
       "      <th></th>\n",
       "      <th></th>\n",
       "      <th></th>\n",
       "      <th></th>\n",
       "      <th></th>\n",
       "      <th></th>\n",
       "      <th></th>\n",
       "      <th></th>\n",
       "      <th></th>\n",
       "      <th></th>\n",
       "      <th></th>\n",
       "      <th></th>\n",
       "      <th></th>\n",
       "      <th></th>\n",
       "      <th></th>\n",
       "      <th></th>\n",
       "      <th></th>\n",
       "      <th></th>\n",
       "      <th></th>\n",
       "      <th></th>\n",
       "      <th></th>\n",
       "      <th></th>\n",
       "      <th></th>\n",
       "      <th></th>\n",
       "      <th></th>\n",
       "      <th></th>\n",
       "      <th></th>\n",
       "      <th></th>\n",
       "      <th></th>\n",
       "      <th></th>\n",
       "      <th></th>\n",
       "    </tr>\n",
       "  </thead><tbody><tr><td>Loading... (need <a href=https://mwouts.github.io/itables/troubleshooting.html>help</a>?)</td></tr></tbody>\n",
       "\n",
       "</table>\n",
       "<link href=\"https://www.unpkg.com/dt_for_itables@2.0.1/dt_bundle.css\" rel=\"stylesheet\">\n",
       "<script type=\"module\">\n",
       "    import {DataTable, jQuery as $} from 'https://www.unpkg.com/dt_for_itables@2.0.1/dt_bundle.js';\n",
       "\n",
       "    document.querySelectorAll(\"#itables_245e47da_56c7_4e5e_92b3_a6fa8630a8f7:not(.dataTable)\").forEach(table => {\n",
       "        // Define the table data\n",
       "        const data = [[0.0, 3692.892601, 13.683908, 0.154454, 1.855685, 2.869253, 80783.510057, 406.723779, 0.084411, 0.086925, -1.804598, 0.074713, 0.002514, 0.014009, 0.006466, 0.006466, 0.000718, 0.0, 0.008621, 0.017241, 2.735632, 0.542026, 35511.115661, 78.0901, -1.297055, -1.649066, 3.8465, 3.109195, 0.094468, 0.0, 32.781306, 9.584941, 0.451509, 7.084986, 2.435345, 0.097132, 0.044149, 0.527586], [1.0, 4271.895474, 14.047055, 0.199353, 1.754635, 4.119253, 133001.873563, 536.724497, 0.058549, 0.046695, -0.448994, 0.079382, 0.007543, 0.017601, 0.00431, 0.005747, 0.003951, 0.0, 0.005388, 0.019397, 3.076149, 0.596983, 40638.315014, 76.170558, -1.107399, -1.167744, 3.890921, 2.33908, 0.05783, 1.0, 30.447175, 10.591984, 0.113865, 7.878768, 2.761853, 10.99114, 2.316619, 0.528865]];\n",
       "\n",
       "        // Define the dt_args\n",
       "        let dt_args = {\"layout\": {\"topStart\": null, \"topEnd\": null, \"bottomStart\": null, \"bottomEnd\": null}, \"order\": [], \"warn_on_dom\": true};\n",
       "        dt_args[\"data\"] = data;\n",
       "\n",
       "        \n",
       "        new DataTable(table, dt_args);\n",
       "    });\n",
       "</script>\n"
      ],
      "text/plain": [
       "<IPython.core.display.HTML object>"
      ]
     },
     "metadata": {},
     "output_type": "display_data"
    }
   ],
   "source": [
    "#Use nearest neighbor to get matched indices and create new dataframe for it. \n",
    "\n",
    "T = temp_model_data_df[target_treatment]\n",
    "\n",
    "treated = temp_model_data_df[temp_model_data_df[target_treatment] == 1]\n",
    "control = temp_model_data_df[temp_model_data_df[target_treatment] == 0]\n",
    "\n",
    "# Fit the Nearest Neighbors model on the control group's propensity scores\n",
    "nn = NearestNeighbors(n_neighbors=1)\n",
    "nn.fit(control[['pscore']])\n",
    "\n",
    "# Find the nearest neighbors in the control group for each treated unit\n",
    "distances, indices = nn.kneighbors(treated[['pscore']])\n",
    "\n",
    "# Get the matched control indices\n",
    "matched_control_indices = control.iloc[indices.flatten()].index\n",
    "\n",
    "# Create a DataFrame with the matched pairs\n",
    "matched_df = pd.concat([treated, temp_model_data_df.loc[matched_control_indices]])\n",
    "\n",
    "show(matched_df.groupby(target_treatment).mean())\n"
   ]
  },
  {
   "cell_type": "code",
   "execution_count": 46,
   "id": "672828a5-de14-4acd-839d-c494d9773aaa",
   "metadata": {},
   "outputs": [
    {
     "name": "stderr",
     "output_type": "stream",
     "text": [
      "C:\\Users\\hiron\\AppData\\Local\\Temp\\ipykernel_33516\\863515322.py:1: FutureWarning: The default value of numeric_only in DataFrameGroupBy.mean is deprecated. In a future version, numeric_only will default to False. Either specify numeric_only or select only columns which should be valid for the function.\n",
      "  show(temp_model_data_df.groupby(target_treatment).mean())\n"
     ]
    },
    {
     "data": {
      "text/html": [
       "<table id=\"itables_e727e732_8ad9_4b5e_9233_fc4833d02bf2\" class=\"display nowrap\" data-quarto-disable-processing=\"true\" style=\"table-layout:auto;width:auto;margin:auto;caption-side:bottom\">\n",
       "<thead>\n",
       "    <tr style=\"text-align: right;\">\n",
       "      <th></th>\n",
       "      <th>uid</th>\n",
       "      <th>age_1996</th>\n",
       "      <th>hispanic</th>\n",
       "      <th>urban</th>\n",
       "      <th>household_size</th>\n",
       "      <th>household_income</th>\n",
       "      <th>pov_ratio</th>\n",
       "      <th>limited_work_kind</th>\n",
       "      <th>limited_work_amt</th>\n",
       "      <th>child_1_adopted</th>\n",
       "      <th>asthma_2002</th>\n",
       "      <th>heart_2002</th>\n",
       "      <th>anemia_2002</th>\n",
       "      <th>diabetes_2002</th>\n",
       "      <th>cancer_2002</th>\n",
       "      <th>epilepsy_2002</th>\n",
       "      <th>hiv_aids_2002</th>\n",
       "      <th>std_2002</th>\n",
       "      <th>chronic_other_2002</th>\n",
       "      <th>highest_degree</th>\n",
       "      <th>nonresp_parent_in_HH</th>\n",
       "      <th>hh_income_1997</th>\n",
       "      <th>pct_college_by_30</th>\n",
       "      <th>date_male_1998</th>\n",
       "      <th>date_female_1998</th>\n",
       "      <th>num_days_homework</th>\n",
       "      <th>CESD</th>\n",
       "      <th>CESD_above_8</th>\n",
       "      <th>married_vs_not_married</th>\n",
       "      <th>bmi</th>\n",
       "      <th>household_income_log</th>\n",
       "      <th>has_child</th>\n",
       "      <th>hh_income_1997_log</th>\n",
       "      <th>date_1998</th>\n",
       "      <th>years_married</th>\n",
       "      <th>years_married_log</th>\n",
       "      <th>pscore</th>\n",
       "    </tr>\n",
       "    <tr>\n",
       "      <th>married_vs_never_married</th>\n",
       "      <th></th>\n",
       "      <th></th>\n",
       "      <th></th>\n",
       "      <th></th>\n",
       "      <th></th>\n",
       "      <th></th>\n",
       "      <th></th>\n",
       "      <th></th>\n",
       "      <th></th>\n",
       "      <th></th>\n",
       "      <th></th>\n",
       "      <th></th>\n",
       "      <th></th>\n",
       "      <th></th>\n",
       "      <th></th>\n",
       "      <th></th>\n",
       "      <th></th>\n",
       "      <th></th>\n",
       "      <th></th>\n",
       "      <th></th>\n",
       "      <th></th>\n",
       "      <th></th>\n",
       "      <th></th>\n",
       "      <th></th>\n",
       "      <th></th>\n",
       "      <th></th>\n",
       "      <th></th>\n",
       "      <th></th>\n",
       "      <th></th>\n",
       "      <th></th>\n",
       "      <th></th>\n",
       "      <th></th>\n",
       "      <th></th>\n",
       "      <th></th>\n",
       "      <th></th>\n",
       "      <th></th>\n",
       "      <th></th>\n",
       "    </tr>\n",
       "  </thead><tbody><tr><td>Loading... (need <a href=https://mwouts.github.io/itables/troubleshooting.html>help</a>?)</td></tr></tbody>\n",
       "\n",
       "</table>\n",
       "<link href=\"https://www.unpkg.com/dt_for_itables@2.0.1/dt_bundle.css\" rel=\"stylesheet\">\n",
       "<script type=\"module\">\n",
       "    import {DataTable, jQuery as $} from 'https://www.unpkg.com/dt_for_itables@2.0.1/dt_bundle.js';\n",
       "\n",
       "    document.querySelectorAll(\"#itables_e727e732_8ad9_4b5e_9233_fc4833d02bf2:not(.dataTable)\").forEach(table => {\n",
       "        // Define the table data\n",
       "        const data = [[0.0, 4859.584958, 13.823319, 0.200159, 1.839871, 2.833665, 65652.385197, 331.406685, 0.116196, 0.10585, -1.663749, 0.078392, 0.005571, 0.017907, 0.005571, 0.003581, 0.00199, 0.0, 0.003979, 0.015917, 2.286112, 0.41345, 28263.16156, 64.226027, -1.808993, -1.278552, 3.78655, 3.485078, 0.122165, 0.0, 31.541676, 8.743401, 0.416634, 7.241767, 2.241544, 0.1217, 0.052443, 0.39341], [1.0, 4271.895474, 14.047055, 0.199353, 1.754635, 4.119253, 133001.873563, 536.724497, 0.058549, 0.046695, -0.448994, 0.079382, 0.007543, 0.017601, 0.00431, 0.005747, 0.003951, 0.0, 0.005388, 0.019397, 3.076149, 0.596983, 40638.315014, 76.170558, -1.107399, -1.167744, 3.890921, 2.33908, 0.05783, 1.0, 30.447175, 10.591984, 0.113865, 7.878768, 2.761853, 10.99114, 2.316619, 0.528865]];\n",
       "\n",
       "        // Define the dt_args\n",
       "        let dt_args = {\"layout\": {\"topStart\": null, \"topEnd\": null, \"bottomStart\": null, \"bottomEnd\": null}, \"order\": [], \"warn_on_dom\": true};\n",
       "        dt_args[\"data\"] = data;\n",
       "\n",
       "        \n",
       "        new DataTable(table, dt_args);\n",
       "    });\n",
       "</script>\n"
      ],
      "text/plain": [
       "<IPython.core.display.HTML object>"
      ]
     },
     "metadata": {},
     "output_type": "display_data"
    }
   ],
   "source": [
    "show(temp_model_data_df.groupby(target_treatment).mean())"
   ]
  },
  {
   "cell_type": "markdown",
   "id": "44749de1-8034-4c5c-97e0-56251f5b8a0f",
   "metadata": {},
   "source": [
    "__Results__\n",
    "   * There seems a good overlap between treated & untreated w/ propensity score, although there are a lot of 0 propensity scores which is concerning\n",
    "   * The balance of covariates seems ok (was also checked for categorical variables) though there may not be a huge difference"
   ]
  },
  {
   "cell_type": "markdown",
   "id": "6252bc70-6511-448c-8e52-b0dc74f2b02a",
   "metadata": {},
   "source": [
    "### Get effect"
   ]
  },
  {
   "cell_type": "code",
   "execution_count": 51,
   "id": "368a1d6b-f4d9-4e74-aff2-809861b49a20",
   "metadata": {
    "tags": []
   },
   "outputs": [
    {
     "name": "stdout",
     "output_type": "stream",
     "text": [
      "Prob. of CESD > x for married: 0.0578\n",
      "Prob. of CESD > x for never married: 0.0945\n",
      "Average Treatment Effect in prob. (Relative): 0.6122\n",
      "\n",
      "Odds for CESD > x for married: 0.0614\n",
      "Odds for CESD > x for never married: 0.1043\n",
      "Average Treatment Effect in odds (Relative): 0.5884\n"
     ]
    }
   ],
   "source": [
    "# Calculate the mean outcome for the treated and matched control groups\n",
    "treated_outcome = matched_df[matched_df[target_treatment] == 1][target_outcome].mean()\n",
    "control_outcome = matched_df[matched_df[target_treatment] == 0][target_outcome].mean()\n",
    "\n",
    "# Calculate the Average Treatment Effect (ATE)\n",
    "ate = treated_outcome - control_outcome\n",
    "\n",
    "print(f\"Prob. of CESD > x for married: {treated_outcome:.4f}\")\n",
    "print(f\"Prob. of CESD > x for never married: {control_outcome:.4f}\")\n",
    "print(f\"Average Treatment Effect in prob. (Relative): {(treated_outcome / control_outcome):.4f}\")\n",
    "print('')\n",
    "\n",
    "# Convert to odds to match with others\n",
    "treated_outcome_odds = treated_outcome / (1 - treated_outcome)\n",
    "control_outcome_odds = control_outcome / (1 - control_outcome)\n",
    "\n",
    "                        \n",
    "print(f\"Odds for CESD > x for married: {treated_outcome_odds:.4f}\")\n",
    "print(f\"Odds for CESD > x for never married: {control_outcome_odds:.4f}\")\n",
    "print(f\"Average Treatment Effect in odds (Relative): {(treated_outcome_odds / control_outcome_odds):.4f}\")\n",
    "\n",
    "\n"
   ]
  },
  {
   "cell_type": "markdown",
   "id": "2fb9cfba-0d27-426d-a17e-6107a0ecd015",
   "metadata": {},
   "source": [
    "## Round 4 - Inverse probability weighting\n",
    "Use propensity score method from preious step to calculate average effect using IPW instead of PSM\n",
    "\n",
    "__Big note: As IPW doesn't allow pscore of 0, we are discarding about 10% of users. This round is done just for reference only__\n",
    "\n",
    "__Results__\n",
    "   * * Odds change: 0.61x"
   ]
  },
  {
   "cell_type": "code",
   "execution_count": 77,
   "id": "550dd0ae-062e-46c9-bfe3-403979cbf7a2",
   "metadata": {
    "tags": []
   },
   "outputs": [],
   "source": [
    "temp_model_data_df = model_data_df.copy()\n",
    "temp_model_data_df.dropna(axis=0,subset=target_treatment,inplace=True)"
   ]
  },
  {
   "cell_type": "code",
   "execution_count": 79,
   "id": "86e1d0cf-d025-4ba6-8499-f2f5f6480f0d",
   "metadata": {
    "tags": []
   },
   "outputs": [
    {
     "name": "stdout",
     "output_type": "stream",
     "text": [
      "Model over 15: married_vs_never_married ~ hh_income_1997_log + date_1998 + num_days_homework + C(hispanic) + C(sex) + C(race) + C(nonresp_parent_in_HH)\n",
      "Model under 16: married_vs_never_married ~ hh_income_1997_log + date_1998 + pct_college_by_30 + C(hispanic) + C(sex) + C(race) + C(nonresp_parent_in_HH)\n"
     ]
    }
   ],
   "source": [
    "#Since \"Number of days doing HW\" and \"Percent going to college by 30\" is mutually exclusive by age, we will create two \n",
    "# separate models. \n",
    "\n",
    "Xs_numerical = ['hh_income_1997_log','date_1998','num_days_homework']\n",
    "Xs_categorical = ['hispanic','sex','race','nonresp_parent_in_HH']\n",
    "formula = f'{target_treatment} ~ ' + (' + '.join(Xs_numerical)) + ' + C(' + (') + C(').join(Xs_categorical) + ')'\n",
    "print(\"Model over 15: \" + formula)\n",
    "# Fit the logistic regression model using GLM\n",
    "model_over_15 = smf.glm(formula=formula, data=temp_model_data_df, family=sm.families.Binomial()).fit()\n",
    "result1 = model_over_15.predict(temp_model_data_df[Xs_numerical+Xs_categorical])\n",
    "\n",
    "\n",
    "#formula creation\n",
    "Xs_numerical = ['hh_income_1997_log','date_1998','pct_college_by_30']\n",
    "Xs_categorical = ['hispanic','sex','race','nonresp_parent_in_HH']\n",
    "formula = f'{target_treatment} ~ ' + (' + '.join(Xs_numerical)) + ' + C(' + (') + C(').join(Xs_categorical) + ')'\n",
    "print(\"Model under 16: \" + formula)\n",
    "# Fit the logistic regression model using GLM\n",
    "model_under_16 = smf.glm(formula=formula, data=temp_model_data_df, family=sm.families.Binomial()).fit()\n",
    "result2 = model_under_16.predict(temp_model_data_df[Xs_numerical+Xs_categorical])\n",
    "\n",
    "#Put the two (mutually exclusive) p-scores into one and add to the model data df\n",
    "temp_df = pd.DataFrame({'pscore1':result1, 'pscore2':result2})\n",
    "temp_df.fillna(0,inplace=True)\n",
    "temp_df['pscore'] = temp_df['pscore1'] +temp_df['pscore2']\n",
    "\n",
    "temp_model_data_df.drop('pscore',axis=1,errors='ignore',inplace=True)\n",
    "temp_model_data_df = pd.concat([temp_model_data_df,temp_df[['pscore']]],axis=1)"
   ]
  },
  {
   "cell_type": "code",
   "execution_count": 90,
   "id": "78fa9028-613c-4a30-950d-a2ce89af750b",
   "metadata": {
    "tags": []
   },
   "outputs": [],
   "source": [
    "temp_model_data_df = temp_model_data_df.query('pscore!=0')"
   ]
  },
  {
   "cell_type": "code",
   "execution_count": 92,
   "id": "ac05783f-8041-4dc9-b61a-672eeb9746d7",
   "metadata": {
    "tags": []
   },
   "outputs": [],
   "source": [
    "#Use nearest neighbor to get matched indices and create new dataframe for it. \n",
    "\n",
    "T = temp_model_data_df[target_treatment]\n",
    "\n",
    "treated = temp_model_data_df[temp_model_data_df[target_treatment] == 1]\n",
    "control = temp_model_data_df[temp_model_data_df[target_treatment] == 0]\n",
    "\n",
    "# Fit the Nearest Neighbors model on the control group's propensity scores\n",
    "nn = NearestNeighbors(n_neighbors=1)\n",
    "nn.fit(control[['pscore']])\n",
    "\n",
    "# Find the nearest neighbors in the control group for each treated unit\n",
    "distances, indices = nn.kneighbors(treated[['pscore']])\n",
    "\n",
    "# Get the matched control indices\n",
    "matched_control_indices = control.iloc[indices.flatten()].index\n",
    "\n",
    "# Create a DataFrame with the matched pairs\n",
    "matched_df = pd.concat([treated, temp_model_data_df.loc[matched_control_indices]])"
   ]
  },
  {
   "cell_type": "code",
   "execution_count": 96,
   "id": "b7410de4-b37a-4ffb-a5d3-e8708da8b4f4",
   "metadata": {
    "tags": []
   },
   "outputs": [
    {
     "name": "stdout",
     "output_type": "stream",
     "text": [
      "Prob. of CESD > x for married: 0.0599\n",
      "Prob. of CESD > x for never married: 0.0946\n",
      "Average Treatment Effect in prob. (Relative): 0.6341\n",
      "\n",
      "Odds for CESD > x for married: 0.0637\n",
      "Odds for CESD > x for never married: 0.1045\n",
      "Average Treatment Effect in odds (Relative): 0.6097\n"
     ]
    }
   ],
   "source": [
    "# Calculate weights\n",
    "matched_df['weight'] = np.where(matched_df[target_treatment] == 1, 1 / matched_df['pscore'], 1 / (1 - matched_df['pscore']))\n",
    "\n",
    "# Calculate weighted outcomes\n",
    "w_treated_outcome = np.sum(matched_df[matched_df[target_treatment] == 1]['weight'] * matched_df[matched_df[target_treatment] == 1][target_outcome]) / np.sum(matched_df[matched_df[target_treatment] == 1]['weight'])\n",
    "w_control_outcome = np.sum(matched_df[matched_df[target_treatment] == 0]['weight'] * matched_df[matched_df[target_treatment] == 0][target_outcome]) / np.sum(matched_df[matched_df[target_treatment] == 0]['weight'])\n",
    "\n",
    "# Calculate the ATE\n",
    "ate = w_treated_outcome - w_control_outcome\n",
    "\n",
    "print(f\"Prob. of CESD > x for married: {w_treated_outcome:.4f}\")\n",
    "print(f\"Prob. of CESD > x for never married: {w_control_outcome:.4f}\")\n",
    "print(f\"Average Treatment Effect in prob. (Relative): {(w_treated_outcome / w_control_outcome):.4f}\")\n",
    "print('')\n",
    "\n",
    "# Convert to odds to match with others\n",
    "w_treated_outcome_odds = w_treated_outcome / (1 - w_treated_outcome)\n",
    "w_control_outcome_odds = w_control_outcome / (1 - w_control_outcome)\n",
    "\n",
    "                        \n",
    "print(f\"Odds for CESD > x for married: {w_treated_outcome_odds:.4f}\")\n",
    "print(f\"Odds for CESD > x for never married: {w_control_outcome_odds:.4f}\")\n",
    "print(f\"Average Treatment Effect in odds (Relative): {(w_treated_outcome_odds / w_control_outcome_odds):.4f}\")\n",
    "\n"
   ]
  },
  {
   "cell_type": "markdown",
   "id": "e7b00dd7-f21c-4898-85b1-d98db570cc9a",
   "metadata": {
    "tags": []
   },
   "source": [
    "## backlog\n",
    "   * Health_at_38_39\n",
    "   * Substance use\n",
    "   * Make length of marriage as the treatment instead of married VS not \n",
    "   * Use more later survey year qs for propensity score calculation\n",
    "   * Instrumental variable? - Unable to find a variable (or set of them) that has high correlation w/ marriage (but low directly to outcome)"
   ]
  },
  {
   "cell_type": "markdown",
   "id": "ef665bc0-1f78-462b-b1d5-573af51b97f7",
   "metadata": {
    "tags": []
   },
   "source": [
    "## RAndom"
   ]
  },
  {
   "cell_type": "code",
   "execution_count": null,
   "id": "a5a470b9-be66-45cc-990b-32d3d3bd49b2",
   "metadata": {
    "tags": []
   },
   "outputs": [],
   "source": [
    "show(tidy_df[['CV_URBAN_RURAL']])"
   ]
  },
  {
   "cell_type": "code",
   "execution_count": null,
   "id": "d630b746-915c-4aeb-8c55-157c2165b68a",
   "metadata": {
    "tags": []
   },
   "outputs": [],
   "source": [
    "temp_df = cohab_mhealth_df.loc[:,['uid','Ever_cohabitted','CESD_above_8','married']].drop_duplicates()\n",
    "temp_df.dropna(inplace=True)\n",
    "temp_df = pd.pivot_table(temp_df,values='uid',index='Ever_cohabitted',columns='CESD_above_8',aggfunc='count')\n",
    "temp_df / temp_df.sum()\n",
    "\n"
   ]
  },
  {
   "cell_type": "code",
   "execution_count": null,
   "id": "ea2f6d71-d035-4e19-a482-c0787b13cd66",
   "metadata": {
    "tags": []
   },
   "outputs": [],
   "source": [
    "temp_df = cohab_mhealth_df.loc[cohab_mhealth_df['Year'] == 2021,['uid','Ever_cohabitted','CESD_above_8','married']].drop_duplicates()\n",
    "temp2_df = tidy_df.loc[tidy_df['Year'] <= 2001].groupby('uid')[['YSAQ_291A','YSAQ_294A']].max().max(axis=1).to_frame()\n",
    "temp2_df = temp2_df.applymap(lambda x: 0 if x < 0 else x)\n",
    "temp_df = temp_df.merge(temp2_df,on='uid')\n",
    "temp_df.rename(columns={0:'dated'},inplace=True)\n",
    "\n",
    "\n",
    "temp_df.dropna(inplace=True)\n",
    "temp_df = pd.pivot_table(temp_df,values='uid',index='dated',columns='married',aggfunc='count')\n",
    "temp_df / temp_df.sum()"
   ]
  },
  {
   "cell_type": "code",
   "execution_count": null,
   "id": "8943aade-65f2-48d1-a67f-4aef6842af21",
   "metadata": {
    "tags": []
   },
   "outputs": [],
   "source": [
    "# Look for variables that can be used for propensity scoring or as instrumental variable\n",
    "# Get all columns from particular year, and set negative values to NaNs\n",
    "temp_df = tidy_df.loc[tidy_df['Year'] == 1997,:].select_dtypes(exclude=['object','category'])\n",
    "temp_df = temp_df.apply(dense_columns,axis=0)\n",
    "temp_df = temp_df.applymap(lambda x: np.nan if x < 0 else x)\n",
    "\n",
    "#Get needed treatment + outcome data and merge with previous df\n",
    "temp2_df = cohab_mhealth_df.loc[cohab_mhealth_df['Year'] == target_year,['uid','Ever_cohabitted','CESD_above_8','married']].drop_duplicates()\n",
    "temp_df = temp_df.merge(temp2_df,on='uid')\n",
    "\n",
    "#Create same married flags in the same df\n",
    "temp_df['married_vs_not_married'] = (temp_df['married'] == 'Yes').astype(int)\n",
    "temp_df['married_vs_never_married'] = (temp_df['married'] == 'Yes').astype(int)\n",
    "#For married VS never married, the \"Married but married before\" respondents will be marked as NaN\n",
    "temp_df.loc[temp_df['married']=='No',['married_vs_never_married']] = np.nan\n",
    "\n",
    "#Create correlation dataframe. Not using pearson as target (both treatment and outcome) is binomial\n",
    "corr_df = temp_df.corrwith(temp_df['married_vs_never_married'],method='kendall').to_frame(name='corr').reset_index(names='name')\n",
    "#Calculate % of nans \n",
    "temp3_df = (1 - temp_df.count() / temp_df.shape[0]).to_frame(name='nans').reset_index(names='name')\n",
    "corr_df = corr_df.merge(temp3_df,on='name')\n",
    "\n",
    "#Get descriptions from codebook\n",
    "corr_df = corr_df.merge(codebook_df[['Modified_Question','Modified_Description']].drop_duplicates(),left_on='name',right_on='Modified_Question',how='left')\n",
    "corr_df.drop('Modified_Question',axis=1,inplace=True)\n",
    "\n",
    "#Looking at list of \n",
    "show(corr_df.loc[corr_df['nans'] < 0.7,:].sort_values(by='corr',ascending=False))"
   ]
  },
  {
   "cell_type": "code",
   "execution_count": null,
   "id": "95f6be2e-4b09-4084-84af-b77d6dfa8327",
   "metadata": {
    "tags": []
   },
   "outputs": [],
   "source": [
    "show(temp_df.loc[:,['married_vs_never_married','YSAQ_364']].value_counts().to_frame().reset_index().pivot(index='married_vs_never_married',columns='YSAQ_364'))"
   ]
  },
  {
   "cell_type": "code",
   "execution_count": null,
   "id": "244dd67f-a782-46b3-9ca7-9c5d6b40f937",
   "metadata": {
    "tags": []
   },
   "outputs": [],
   "source": [
    "temp_df = cohab_mhealth_df.loc[:,['uid','Ever_cohabitted','CESD_above_8','married']].drop_duplicates()\n",
    "temp_df.dropna(inplace=True)\n",
    "temp_df.loc[:,['Ever_cohabitted','married']].value_counts(dropna=False)"
   ]
  },
  {
   "cell_type": "markdown",
   "id": "d61a2b8b-56bb-45c7-b252-b6a941f0230e",
   "metadata": {},
   "source": [
    "R1210200 1997 married"
   ]
  }
 ],
 "metadata": {
  "kernelspec": {
   "display_name": "Python 3 (ipykernel)",
   "language": "python",
   "name": "python3"
  },
  "language_info": {
   "codemirror_mode": {
    "name": "ipython",
    "version": 3
   },
   "file_extension": ".py",
   "mimetype": "text/x-python",
   "name": "python",
   "nbconvert_exporter": "python",
   "pygments_lexer": "ipython3",
   "version": "3.11.7"
  }
 },
 "nbformat": 4,
 "nbformat_minor": 5
}
