{
 "cells": [
  {
   "cell_type": "markdown",
   "id": "7061f7b1-fbd0-4fcf-a6e1-3f76d3da6fba",
   "metadata": {},
   "source": [
    "## General assumptions about the data\n",
    "   * SUTVA - We assume there's no spillover effect, and marriage \"treatment\" is the same across people. The latter is fixed such that marriage = having legal notice, but the effect is hard to justify it is equal among everyone. Nevertheless, we will assume so. \n",
    "   * Randomness - The survey respondents are randomly chosen. Even if we assume the survey respondents are chosen randomly (to represent the US population), the dropout may not be random, which may have some bias. "
   ]
  },
  {
   "cell_type": "markdown",
   "id": "475d7bc3-55cc-4e8c-9b1a-a1055fe455bc",
   "metadata": {},
   "source": [
    "## Notes\n",
    "   * This is using logitudinal data however it's not really a panel data analysis since we are not comparing two points in time (as data is not available)\n",
    "   * We will mainly use the 2019 data as it's pre-COVID, but may look at 2021 data for comparison\n",
    "   * To reduce dependency between rounds (i.e. need to run previous rounds prior to running next round), some code may be redundant between rounds\n",
    "   * At some point PCA can be used but is not being done here as I have not really studied PCA yet. \n",
    "   \n",
    "   \n",
    "## backlog\n",
    "   * Health_at_38_39\n",
    "   * Substance use\n",
    "   * How length of marriage can change the probability\n",
    "   "
   ]
  },
  {
   "cell_type": "markdown",
   "id": "3f90ad8f-88c4-41c2-8acb-6378a660ec46",
   "metadata": {},
   "source": [
    "## Rough course of action\n",
    "\n",
    "1. Decide on datapoints \n",
    "2. Prepare "
   ]
  },
  {
   "cell_type": "markdown",
   "id": "f5a7d459-36ef-435a-8b56-ff3704e4365e",
   "metadata": {},
   "source": [
    "## Imports"
   ]
  },
  {
   "cell_type": "code",
   "execution_count": 5,
   "id": "a64961d6-d54e-4f84-889c-e74b2e168542",
   "metadata": {
    "tags": []
   },
   "outputs": [],
   "source": [
    "import pandas as pd\n",
    "from io import StringIO\n",
    "import re\n",
    "from itables import init_notebook_mode\n",
    "from itables import show\n",
    "\n",
    "import math\n",
    "import numpy as np\n",
    "import seaborn as sns\n",
    "import matplotlib.pyplot as plt\n",
    "\n",
    "from sklearn.model_selection import train_test_split\n",
    "from sklearn.linear_model import LinearRegression\n",
    "from sklearn.tree import DecisionTreeRegressor\n",
    "from sklearn.metrics import mean_squared_error, r2_score\n",
    "import statsmodels.api as sm\n",
    "import statsmodels.formula.api as smf\n",
    "\n",
    "from sklearn.metrics import confusion_matrix, ConfusionMatrixDisplay\n",
    "from scipy.stats import chi2_contingency\n",
    "from scipy.stats import ks_2samp\n",
    "from scipy.stats import mannwhitneyu\n",
    "from sklearn.neighbors import NearestNeighbors\n",
    "\n",
    "\n",
    "import pickle"
   ]
  },
  {
   "cell_type": "markdown",
   "id": "0de5305c-7ba2-475d-842d-a809bbe6982f",
   "metadata": {},
   "source": [
    "## Data preprocess"
   ]
  },
  {
   "cell_type": "code",
   "execution_count": 7,
   "id": "4b3af025-79d4-49e0-aa85-3f8ac42ae1b0",
   "metadata": {
    "tags": []
   },
   "outputs": [],
   "source": [
    "target_year = 2021\n",
    "target_outcome = 'CESD_above_8'\n",
    "target_treatment = 'married_vs_never_married'"
   ]
  },
  {
   "cell_type": "code",
   "execution_count": 8,
   "id": "41d30868-8f3d-435c-ba3d-67fa588424b1",
   "metadata": {
    "tags": []
   },
   "outputs": [],
   "source": [
    "def better_colnames(df, from_col: str, to_cols: list[str]  = ['Description','Year']):\n",
    "    ''' Helper function to rename the columns in the (NLS data) df into something readable/helpful, based on data in codebook_df\n",
    "    '''\n",
    "    #Create dataframe with Ref column and the desired new column names based on input\n",
    "    col_mapping = pd.concat([codebook_df[from_col],codebook_df[to_cols[0]].str.cat(codebook_df[to_cols[1:]],sep='_')],axis=1)    \n",
    "    col_mapping.columns.values[1] = '_'.join(to_cols)\n",
    "    #Convert the mapping dataframe to dictionary and rename columns\n",
    "    return(df.rename(columns = col_mapping.set_index(from_col).squeeze().to_dict()))"
   ]
  },
  {
   "cell_type": "code",
   "execution_count": 9,
   "id": "7bc90439-8e49-4430-8ca3-a8a37be05338",
   "metadata": {
    "tags": []
   },
   "outputs": [],
   "source": [
    "tidy_df= pd.read_pickle('temp/tidy_df.pkl')\n",
    "main_df= pd.read_pickle('temp/main_df.pkl')\n",
    "codebook_df= pd.read_pickle('temp/codebook_df.pkl')\n",
    "mental_health_df= pd.read_pickle('temp/mental_health_df.pkl')\n",
    "codebook_df= pd.read_pickle('temp/codebook_df.pkl')\n",
    "cohab_mhealth_df = pd.read_pickle('temp/cohab_mhealth_df.pkl')\n",
    "source_df = pd.read_pickle('temp/source_df.pkl')\n",
    "partner_df = pd.read_pickle('temp/partner_df.pkl')\n",
    "marriage_stats_df = pd.read_pickle('temp/marriage_stats_df.pkl')\n",
    "interview_df = pd.read_pickle('temp/interview_df.pkl')\n"
   ]
  },
  {
   "cell_type": "code",
   "execution_count": 10,
   "id": "b7e64e71-78d8-4bcb-b740-31c30ca4661b",
   "metadata": {
    "tags": []
   },
   "outputs": [],
   "source": [
    "#Model data creation\n",
    "\n",
    "tidy_df_cols = {\n",
    "    'uid': 'uid',\n",
    "    'sex': 'sex',\n",
    "    'age_1996': 'age_1996',\n",
    "    'hispanic': 'hispanic',\n",
    "    'race': 'race',\n",
    "    'CV_URBAN_RURAL': 'urban',\n",
    "    'CV_HH_SIZE': 'household_size',\n",
    "    'CV_INCOME_FAMILY': 'household_income',\n",
    "    'CV_HH_POV_RATIO': 'pov_ratio',\n",
    "    'YHEA_1005': 'limited_work_kind',\n",
    "    'YHEA_1006': 'limited_work_amt',\n",
    "    'BIOADOPTCHILD_ADOPTED.01': 'child_1_adopted', #This can also tell if respondent has a child\n",
    "    \n",
    "}\n",
    "source_df_cols = {\n",
    "    'S1235200': 'asthma_2002',\n",
    "    'S1235201': 'heart_2002',\n",
    "    'S1235202': 'anemia_2002',\n",
    "    'S1235203': 'diabetes_2002',\n",
    "    'S1235204': 'cancer_2002',\n",
    "    'S1235205': 'epilepsy_2002',\n",
    "    'S1235206': 'hiv_aids_2002',\n",
    "    'S1235207': 'std_2002',\n",
    "    'S1235208': 'chronic_other_2002',\n",
    "    'Z9083900': 'highest_degree',\n",
    "    'R0534000': 'nonresp_parent_in_HH',\n",
    "    'R1204500': 'hh_income_1997',\n",
    "    'R0689000': 'pct_college_by_30',\n",
    "    'R2182500': 'date_male_1998',\n",
    "    'R2182000': 'date_female_1998',    \n",
    "    'R0073000': 'num_days_homework'\n",
    "}\n",
    "\n",
    "#Initially add columns from tidy_df \n",
    "model_data_df = tidy_df.loc[tidy_df['Year'] == target_year,list(tidy_df_cols.keys()),]\n",
    "\n",
    "#Add source_df columns\n",
    "model_data_df = model_data_df.merge(source_df.loc[:,['uid'] + list(source_df_cols.keys())],on='uid')\n",
    "\n",
    "\n",
    "#Add derived columns from previous work\n",
    "cohab_mhealth_cols = ['uid','Rxx_CESD_SCORE_(x_ITEM)','married',target_outcome]\n",
    "model_data_df = model_data_df.merge(cohab_mhealth_df.loc[cohab_mhealth_df['Year']==2019,cohab_mhealth_cols],on='uid')\n",
    "model_data_df = model_data_df.rename(columns={'Rxx_CESD_SCORE_(x_ITEM)':'CESD'})\n",
    "\n",
    "\n",
    "#converting the main treatments and outcome to int\n",
    "#Since there are three states (Married, Not married but married before, Never married), we will create two separate columns \n",
    "model_data_df['CESD_above_8'] = model_data_df['CESD_above_8'].astype(int)\n",
    "model_data_df['married_vs_not_married'] = (model_data_df['married'] == 'Yes').astype(int)\n",
    "model_data_df['married_vs_never_married'] = (model_data_df['married'] == 'Yes').astype(int)\n",
    "#For married VS never married, the \"Married but married before\" respondents will be marked as NaN\n",
    "model_data_df.loc[model_data_df['married']=='No',['married_vs_never_married']] = np.nan\n",
    "\n",
    "model_data_df.rename(columns=tidy_df_cols,inplace=True)\n",
    "model_data_df.rename(columns=source_df_cols,inplace=True)"
   ]
  },
  {
   "cell_type": "code",
   "execution_count": 11,
   "id": "80b9e4ce-cad1-4634-b02a-b3b42aafdba3",
   "metadata": {
    "tags": []
   },
   "outputs": [],
   "source": [
    "# Currently a lot of the columns are stored as sparse data. Some models choke as they don't handle such datatype. \n",
    "# Therefore, changing them to dense\n",
    "\n",
    "def dense_columns(col):\n",
    "    if (isinstance(col.dtype, pd.SparseDtype)): \n",
    "        return col.sparse.to_dense()\n",
    "    else:\n",
    "        return col\n",
    "    \n",
    "model_data_df = model_data_df.apply(dense_columns,axis=0)"
   ]
  },
  {
   "cell_type": "code",
   "execution_count": 12,
   "id": "44baa2e3-8d5f-4e36-a4ae-8b97034ad1bc",
   "metadata": {
    "tags": []
   },
   "outputs": [],
   "source": [
    "#Create BMI columns. Since height and weight not mentioned every year, need to pull from last known\n",
    "\n",
    "#Get index for last known weight and height \n",
    "last_known_wgt_idx = tidy_df.loc[(tidy_df['YSAQ_000B'].notnull()) & (tidy_df['YSAQ_000B'] > 0),:].groupby('uid')['YSAQ_000B'].idxmax()\n",
    "last_known_hgt_idx = tidy_df.loc[(tidy_df['YSAQ_000A000001'].notnull()) & (tidy_df['YSAQ_000A000001'] > 0)\n",
    "                                 & (tidy_df['YSAQ_000A000002'].notnull()) & (tidy_df['YSAQ_000A000002'] >= 0)\n",
    "                                 ,:].groupby('uid')['YSAQ_000A000001'].idxmax()\n",
    "\n",
    "\n",
    "#Using the values above, get bmi\n",
    "bmi_df = tidy_df.loc[last_known_wgt_idx,['uid','YSAQ_000B']]\n",
    "bmi_df = bmi_df.merge(tidy_df.loc[last_known_hgt_idx,['uid','YSAQ_000A000001','YSAQ_000A000002']],on='uid',how='left')\n",
    "bmi_df['bmi'] = bmi_df['YSAQ_000B'] / ((bmi_df['YSAQ_000A000001'] * 12 + bmi_df['YSAQ_000A000002']) ** 2) * 703\n",
    "bmi_df['bmi'] = bmi_df['bmi'].sparse.to_dense()\n",
    "\n",
    "model_data_df.drop(['bmi','bmi_bin'],inplace=True,errors='ignore')\n",
    "model_data_df = model_data_df.merge(bmi_df[['uid','bmi']], on='uid',how='left')\n",
    "\n",
    "#Imputing bmi based on US average. Technically the average is different per male and female, but it's slight difference\n",
    "# (29.1 VS 29.6) so just using the same value.\n",
    "model_data_df['bmi'] = model_data_df['bmi'].fillna(29.4)\n",
    "\n",
    "#There is one person with weight of 999. Assuming that's by error. Using average\n",
    "model_data_df.loc[model_data_df['uid'] == 5707,'bmi'] = 29.4\n",
    "\n",
    "#Create bin\n",
    "model_data_df['bmi_bin'] = ''\n",
    "model_data_df.loc[model_data_df['bmi'] < 18.5,'bmi_bin'] = 'under'\n",
    "model_data_df.loc[model_data_df['bmi'].between(18.5, 25.0,inclusive='left'),'bmi_bin'] = 'normal'\n",
    "model_data_df.loc[model_data_df['bmi'].between(25.0, 29.0,inclusive='left'),'bmi_bin'] = 'over'\n",
    "model_data_df.loc[model_data_df['bmi'] > 29.0,'bmi_bin'] = 'obese'\n",
    "model_data_df['bmi_bin'] = model_data_df['bmi_bin'].astype('category')"
   ]
  },
  {
   "cell_type": "code",
   "execution_count": 13,
   "id": "67a9079d-35ec-4523-9807-b3840692d45d",
   "metadata": {
    "tags": []
   },
   "outputs": [],
   "source": [
    "#Flipping urban variable values (0:rural 1:urban 2:unknown) to somewhat more ordinal (0:unknown 1:rural 2:urban)\n",
    "model_data_df['urban'].fillna(0,inplace=True)\n",
    "model_data_df['urban'] = model_data_df['urban'].map({0:1,1:2,2:0})"
   ]
  },
  {
   "cell_type": "code",
   "execution_count": 14,
   "id": "37c65883-3838-45c5-827f-d0b03316fee2",
   "metadata": {
    "tags": []
   },
   "outputs": [],
   "source": [
    "#Put any NaNs or negative values to zero\n",
    "model_data_df['household_income'].fillna(0,inplace=True)\n",
    "model_data_df.loc[model_data_df['household_income'] < 0, 'household_income'] = 0\n",
    "#Log transform income\n",
    "model_data_df['household_income_log'] = np.log(model_data_df['household_income'] + 1) \n",
    "\n",
    "model_data_df.loc[model_data_df['limited_work_kind'] < 0, 'limited_work_kind'] = 0\n",
    "model_data_df.loc[model_data_df['limited_work_kind'] < 0, 'limited_work_kind'] = 0\n",
    "\n",
    "\n",
    "\n",
    "model_data_df.loc[model_data_df['pov_ratio'] < 0, 'pov_ratio'] = 0\n",
    "\n",
    "# Create a column for having a child or not. \n",
    "# One concern. This may not mean the child is still alive, which may negatively effect the mental health\n",
    "model_data_df['has_child'] = (model_data_df['child_1_adopted'] < 0).astype(int)\n"
   ]
  },
  {
   "cell_type": "code",
   "execution_count": 15,
   "id": "f00a4b8a-67b3-4147-a25b-d16d4177381e",
   "metadata": {
    "tags": []
   },
   "outputs": [],
   "source": [
    "model_data_df.loc[model_data_df['asthma_2002'] < 0, 'asthma_2002'] = 0\n",
    "model_data_df.loc[model_data_df['heart_2002'] < 0, 'heart_2002'] = 0\n",
    "model_data_df.loc[model_data_df['anemia_2002'] < 0, 'anemia_2002'] = 0\n",
    "model_data_df.loc[model_data_df['diabetes_2002'] < 0, 'diabetes_2002'] = 0\n",
    "model_data_df.loc[model_data_df['cancer_2002'] < 0, 'cancer_2002'] = 0\n",
    "model_data_df.loc[model_data_df['epilepsy_2002'] < 0, 'epilepsy_2002'] = 0\n",
    "model_data_df.loc[model_data_df['hiv_aids_2002'] < 0, 'hiv_aids_2002'] = 0\n",
    "model_data_df.loc[model_data_df['std_2002'] < 0, 'std_2002'] = 0\n",
    "model_data_df.loc[model_data_df['chronic_other_2002'] < 0, 'chronic_other_2002'] = 0"
   ]
  },
  {
   "cell_type": "code",
   "execution_count": 16,
   "id": "607bd4af-a123-4f89-ba85-53df77983d33",
   "metadata": {
    "tags": []
   },
   "outputs": [],
   "source": [
    "#For highest educational degree, there were few that refused to answer (-3). For them, setting as high school diploma (2)\n",
    "model_data_df.loc[model_data_df['highest_degree'] < 0, 'highest_degree'] = 2"
   ]
  },
  {
   "cell_type": "code",
   "execution_count": 17,
   "id": "fe18de98-57db-4ea5-b3a2-43abfe954e08",
   "metadata": {},
   "outputs": [],
   "source": [
    "# Create log transform version of hh_income_1997. \n",
    "model_data_df['hh_income_1997_log'] = np.log(model_data_df['hh_income_1997'].map(lambda x: x if x > 0 else 0)+ 1) \n",
    "\n",
    "#Set negative values to NaNs\n",
    "model_data_df.loc[model_data_df['pct_college_by_30'] < 0,'pct_college_by_30'] = np.nan\n",
    "model_data_df.loc[model_data_df['num_days_homework'] < 0,'num_days_homework'] = np.nan\n",
    "\n",
    "\n",
    "#combine date male and female \n",
    "model_data_df['date_1998'] = model_data_df.loc[:,['date_male_1998','date_female_1998']].max(axis=1)\n",
    "model_data_df['date_1998'] = model_data_df['date_1998'].map(lambda x: x if x > 0 else 0)\n"
   ]
  },
  {
   "cell_type": "code",
   "execution_count": 18,
   "id": "680d9427-dcb9-46d8-97c2-d1c379e6541e",
   "metadata": {
    "tags": []
   },
   "outputs": [],
   "source": [
    "#Get number of months married based on the interview year-month\n",
    "temp_df = interview_df.loc[interview_df['Year']==target_year,:]\n",
    "temp_df = temp_df.merge(marriage_stats_df,on='uid')\n",
    "temp_df = temp_df.loc[(temp_df['marriage_start'] <= temp_df['interview_year-month']) & (temp_df['interview_year-month'] <= temp_df['marriage_end']) ,:]\n",
    "temp_df['marriage_start_year'] = temp_df['marriage_start'].str[:4].astype(int)\n",
    "temp_df['marriage_start_month'] = temp_df['marriage_start'].str[-2:].astype(int)\n",
    "temp_df['years_married'] = ((temp_df['CV_INTERVIEW_DATE_Y'].astype(int) - temp_df['marriage_start_year'])) + ((temp_df['CV_INTERVIEW_DATE_M'].astype(int) - temp_df['marriage_start_month']) / 12.0)\n",
    "\n",
    "model_data_df.drop('years_married',errors='ignore')\n",
    "model_data_df = model_data_df.merge(temp_df[['uid','years_married']],on='uid',how='left')\n",
    "model_data_df['years_married'].fillna(0,inplace=True)\n",
    "\n",
    "model_data_df['years_married_log'] =  np.log(model_data_df['years_married'] + 1)"
   ]
  },
  {
   "cell_type": "markdown",
   "id": "f93c985c-21ae-4e1f-a279-3a613de2aabb",
   "metadata": {
    "tags": []
   },
   "source": [
    "## Round 0 - Logistic regression w/ only treatment variable\n",
    "   * Use logistic regression w/ married_vs_never_married only\n",
    "   * Odds change: 0.44x, w/ p-value < 0.01"
   ]
  },
  {
   "cell_type": "code",
   "execution_count": 20,
   "id": "309c7a74-58c4-458a-9e48-5d30cc3f1737",
   "metadata": {
    "tags": []
   },
   "outputs": [],
   "source": [
    "temp_model_data_df = model_data_df.copy()\n",
    "temp_model_data_df.dropna(axis=0,subset='married_vs_never_married',inplace=True)"
   ]
  },
  {
   "cell_type": "code",
   "execution_count": 21,
   "id": "288a9d0f-77e4-4894-9847-e4b5c66e760f",
   "metadata": {
    "tags": []
   },
   "outputs": [
    {
     "name": "stdout",
     "output_type": "stream",
     "text": [
      "CESD_above_8 ~ married_vs_never_married\n",
      "                 Generalized Linear Model Regression Results                  \n",
      "==============================================================================\n",
      "Dep. Variable:           CESD_above_8   No. Observations:                 5297\n",
      "Model:                            GLM   Df Residuals:                     5295\n",
      "Model Family:                Binomial   Df Model:                            1\n",
      "Link Function:                  Logit   Scale:                          1.0000\n",
      "Method:                          IRLS   Log-Likelihood:                -1548.0\n",
      "Date:                Thu, 08 Aug 2024   Deviance:                       3096.0\n",
      "Time:                        18:18:11   Pearson chi2:                 5.30e+03\n",
      "No. Iterations:                     6   Pseudo R-squ. (CS):            0.01285\n",
      "Covariance Type:            nonrobust                                         \n",
      "============================================================================================\n",
      "                               coef    std err          z      P>|z|      [0.025      0.975]\n",
      "--------------------------------------------------------------------------------------------\n",
      "Intercept                   -1.9721      0.061    -32.374      0.000      -2.091      -1.853\n",
      "married_vs_never_married    -0.8186      0.102     -8.065      0.000      -1.018      -0.620\n",
      "============================================================================================\n",
      "Log odds increase when married: 0.4410569989109108 \n",
      "P-value: 7.352321970157279e-16 \n"
     ]
    }
   ],
   "source": [
    "formula = target_outcome +  ' ~ ' + target_treatment\n",
    "print(formula)\n",
    "# Fit the logistic regression model using GLM\n",
    "model = smf.glm(formula=formula, data=temp_model_data_df, family=sm.families.Binomial()).fit()\n",
    "\n",
    "# Print the summary of the model\n",
    "print(model.summary())\n",
    "print(f'Log odds increase when married: {math.exp(model.params[target_treatment])} ')\n",
    "print(f'P-value: {model.pvalues[target_treatment]} ')\n"
   ]
  },
  {
   "cell_type": "markdown",
   "id": "3c914e7f-5da1-46d8-b8f8-9cbdb4781dff",
   "metadata": {},
   "source": [
    "## Round 1 - Logistic regression w/ few demographics\n",
    "   * Use logistic regression w/ age, race-related & sex as additional explanatory variables\n",
    "   * Additional assumptions\n",
    "      * No unconfounding variables (HAHAHA...) \n",
    "      * Linearity of logit - We should check this but not checking for this round as the above assumption doesn't really hold anyways\n",
    "   * __Result__\n",
    "      * Odds change: 0.41x, w/ p-value < 0.01\n",
    "      * There is significance btw male VS female. We will look at this later"
   ]
  },
  {
   "cell_type": "code",
   "execution_count": 23,
   "id": "f698fff4-6f59-4a78-84d7-bfb6ed5e2fe0",
   "metadata": {
    "tags": []
   },
   "outputs": [],
   "source": [
    "temp_model_data_df = model_data_df.copy()\n",
    "temp_model_data_df.dropna(axis=0,subset=target_treatment,inplace=True)"
   ]
  },
  {
   "cell_type": "code",
   "execution_count": 24,
   "id": "332dbea6-e584-4dcd-a211-f1cdfddab44a",
   "metadata": {
    "tags": []
   },
   "outputs": [
    {
     "name": "stdout",
     "output_type": "stream",
     "text": [
      "CESD_above_8  ~  married_vs_never_married + age_1996 + C(hispanic) + C(sex) + C(race)\n"
     ]
    }
   ],
   "source": [
    "#formula creation\n",
    "\n",
    "Xs_numerical = ['age_1996']\n",
    "Xs_categorical = ['hispanic','sex','race']\n",
    "\n",
    "formula = f'{target_outcome}  ~  {target_treatment} + ' + (' + '.join(Xs_numerical)) + ' + C(' + (') + C(').join(Xs_categorical) + ')'\n",
    "print(formula)"
   ]
  },
  {
   "cell_type": "code",
   "execution_count": 25,
   "id": "7d8de7bd-7ed0-4b06-9903-153069915c69",
   "metadata": {
    "tags": []
   },
   "outputs": [
    {
     "name": "stdout",
     "output_type": "stream",
     "text": [
      "                 Generalized Linear Model Regression Results                  \n",
      "==============================================================================\n",
      "Dep. Variable:           CESD_above_8   No. Observations:                 5297\n",
      "Model:                            GLM   Df Residuals:                     5284\n",
      "Model Family:                Binomial   Df Model:                           12\n",
      "Link Function:                  Logit   Scale:                          1.0000\n",
      "Method:                          IRLS   Log-Likelihood:                -1527.9\n",
      "Date:                Thu, 08 Aug 2024   Deviance:                       3055.8\n",
      "Time:                        18:18:11   Pearson chi2:                 5.26e+03\n",
      "No. Iterations:                    20   Pseudo R-squ. (CS):            0.02032\n",
      "Covariance Type:            nonrobust                                         \n",
      "========================================================================================================\n",
      "                                           coef    std err          z      P>|z|      [0.025      0.975]\n",
      "--------------------------------------------------------------------------------------------------------\n",
      "Intercept                               -1.3999      1.266     -1.105      0.269      -3.882       1.082\n",
      "C(hispanic)[T.-1]                       18.5546   1.28e+04      0.001      0.999   -2.52e+04    2.52e+04\n",
      "C(hispanic)[T.0]                        -1.2721      0.924     -1.377      0.168      -3.083       0.538\n",
      "C(hispanic)[T.1]                        -1.6177      0.926     -1.746      0.081      -3.433       0.198\n",
      "C(sex)[T.Male]                          -0.5447      0.101     -5.414      0.000      -0.742      -0.347\n",
      "C(race)[T.Asian or Pacific Islander]     0.4837      0.849      0.570      0.569      -1.180       2.147\n",
      "C(race)[T.Black or African American]     0.5929      0.738      0.803      0.422      -0.854       2.040\n",
      "C(race)[T.Don't know]                  -18.1597   1.28e+04     -0.001      0.999   -2.52e+04    2.52e+04\n",
      "C(race)[T.Refusal]                       0.4321      1.120      0.386      0.700      -1.764       2.628\n",
      "C(race)[T.Something else]                0.9735      0.755      1.290      0.197      -0.505       2.453\n",
      "C(race)[T.White]                         0.7766      0.736      1.055      0.292      -0.667       2.220\n",
      "married_vs_never_married                -0.9020      0.108     -8.362      0.000      -1.113      -0.691\n",
      "age_1996                                 0.0223      0.035      0.632      0.528      -0.047       0.092\n",
      "========================================================================================================\n",
      "Log odds increase when married: 0.40574897099210594 \n",
      "P-value: 6.150475862432269e-17 \n"
     ]
    }
   ],
   "source": [
    "# Fit the logistic regression model using GLM\n",
    "model = smf.glm(formula=formula, data=temp_model_data_df, family=sm.families.Binomial()).fit()\n",
    "\n",
    "# Print the summary of the model\n",
    "print(model.summary())\n",
    "print(f'Log odds increase when married: {math.exp(model.params[target_treatment])} ')\n",
    "print(f'P-value: {model.pvalues[target_treatment]} ')\n"
   ]
  },
  {
   "cell_type": "markdown",
   "id": "607accd8-0b7d-4ef0-bb2e-631665b4d2dd",
   "metadata": {},
   "source": [
    "## Round 2 - Logistic regression w/ more fields\n",
    "   * Use logistic regression w/ added fields:\n",
    "      * BMI in bins (underweight, normal, over, obese)\n",
    "      * Living in urban or rural place\n",
    "      * Household income at survey year\n",
    "      * <strike>POV ratio</strike>\n",
    "      * Education level\n",
    "      * Have child or not\n",
    "      * Number of people in household\n",
    "      * Chronic condition\n",
    "      * Limited in kind<strike>/amount</strike> of work because of health\n",
    "      * <strike>Length of marriage </strike>\n",
    "    \n",
    "   * Additional assumptions\n",
    "      * No unconfounding variables (better than before with added variables, but still quite unsure)\n",
    "      * Linearity of logit - Only checked non-logit linear correlation btw variables. No high r2s\n",
    "   * __Result__\n",
    "      * Odds change: 0.44x, w/ p-value < 0.01"
   ]
  },
  {
   "cell_type": "code",
   "execution_count": 27,
   "id": "11c020ba-eeb3-4296-822e-c720eacdf9e6",
   "metadata": {
    "tags": []
   },
   "outputs": [],
   "source": [
    "temp_model_data_df = model_data_df.copy()\n",
    "temp_model_data_df.dropna(axis=0,subset=target_treatment,inplace=True)"
   ]
  },
  {
   "cell_type": "code",
   "execution_count": 28,
   "id": "e7d63565-c11c-4cce-a08c-7ed5e4559134",
   "metadata": {
    "tags": []
   },
   "outputs": [
    {
     "name": "stdout",
     "output_type": "stream",
     "text": [
      "CESD_above_8  ~  married_vs_never_married + age_1996 + household_size + household_income_log + child_1_adopted + asthma_2002 + heart_2002 + anemia_2002 + diabetes_2002 + cancer_2002 + epilepsy_2002 + hiv_aids_2002 + std_2002 + chronic_other_2002 + urban + highest_degree + C(hispanic) + C(sex) + C(race) + C(bmi_bin) + C(limited_work_kind)\n"
     ]
    }
   ],
   "source": [
    "#formula creation\n",
    "\n",
    "Xs_numerical = ['age_1996','household_size','household_income_log','child_1_adopted', \n",
    "                'asthma_2002','heart_2002','anemia_2002','diabetes_2002','cancer_2002','epilepsy_2002',\n",
    "                'hiv_aids_2002','std_2002','chronic_other_2002','urban', 'highest_degree']\n",
    "Xs_categorical = ['hispanic','sex','race','bmi_bin','limited_work_kind',]\n",
    "\n",
    "formula = f'{target_outcome}  ~  {target_treatment} + ' + (' + '.join(Xs_numerical)) + ' + C(' + (') + C(').join(Xs_categorical) + ')'\n",
    "print(formula)"
   ]
  },
  {
   "cell_type": "code",
   "execution_count": 29,
   "id": "d333b503-8442-43fd-94dc-fc2b69b66a53",
   "metadata": {
    "tags": []
   },
   "outputs": [
    {
     "name": "stdout",
     "output_type": "stream",
     "text": [
      "                 Generalized Linear Model Regression Results                  \n",
      "==============================================================================\n",
      "Dep. Variable:           CESD_above_8   No. Observations:                 5224\n",
      "Model:                            GLM   Df Residuals:                     5194\n",
      "Model Family:                Binomial   Df Model:                           29\n",
      "Link Function:                  Logit   Scale:                          1.0000\n",
      "Method:                          IRLS   Log-Likelihood:                -1365.6\n",
      "Date:                Thu, 08 Aug 2024   Deviance:                       2731.2\n",
      "Time:                        18:18:12   Pearson chi2:                 5.04e+03\n",
      "No. Iterations:                    20   Pseudo R-squ. (CS):            0.07392\n",
      "Covariance Type:            nonrobust                                         \n",
      "========================================================================================================\n",
      "                                           coef    std err          z      P>|z|      [0.025      0.975]\n",
      "--------------------------------------------------------------------------------------------------------\n",
      "Intercept                               -1.0881      1.343     -0.810      0.418      -3.721       1.545\n",
      "C(hispanic)[T.-1]                       18.1568   1.63e+04      0.001      0.999    -3.2e+04     3.2e+04\n",
      "C(hispanic)[T.0]                        -1.1643      0.935     -1.245      0.213      -2.998       0.669\n",
      "C(hispanic)[T.1]                        -1.6179      0.938     -1.724      0.085      -3.457       0.221\n",
      "C(sex)[T.Male]                          -0.5926      0.110     -5.366      0.000      -0.809      -0.376\n",
      "C(race)[T.Asian or Pacific Islander]     1.2770      0.902      1.416      0.157      -0.490       3.044\n",
      "C(race)[T.Black or African American]     0.8538      0.784      1.089      0.276      -0.683       2.391\n",
      "C(race)[T.Don't know]                  -17.1474   1.63e+04     -0.001      0.999    -3.2e+04     3.2e+04\n",
      "C(race)[T.Refusal]                       0.9455      1.143      0.827      0.408      -1.295       3.186\n",
      "C(race)[T.Something else]                1.4594      0.803      1.818      0.069      -0.114       3.032\n",
      "C(race)[T.White]                         1.2033      0.782      1.538      0.124      -0.330       2.737\n",
      "C(bmi_bin)[T.obese]                      0.1467      0.142      1.036      0.300      -0.131       0.424\n",
      "C(bmi_bin)[T.over]                       0.1104      0.163      0.678      0.498      -0.209       0.429\n",
      "C(bmi_bin)[T.under]                     -0.9457      0.765     -1.236      0.216      -2.446       0.554\n",
      "C(limited_work_kind)[T.1.0]              1.6248      0.127     12.821      0.000       1.376       1.873\n",
      "married_vs_never_married                -0.4426      0.128     -3.466      0.001      -0.693      -0.192\n",
      "age_1996                                -0.0062      0.037     -0.166      0.868      -0.079       0.067\n",
      "household_size                          -0.0422      0.037     -1.128      0.259      -0.115       0.031\n",
      "household_income_log                    -0.0691      0.011     -6.048      0.000      -0.092      -0.047\n",
      "child_1_adopted                         -0.0606      0.033     -1.813      0.070      -0.126       0.005\n",
      "asthma_2002                              0.0041      0.185      0.022      0.982      -0.359       0.367\n",
      "heart_2002                              -0.1141      0.586     -0.195      0.846      -1.262       1.034\n",
      "anemia_2002                             -0.0192      0.367     -0.052      0.958      -0.738       0.699\n",
      "diabetes_2002                            0.6676      0.540      1.235      0.217      -0.392       1.727\n",
      "cancer_2002                              0.6652      0.586      1.134      0.257      -0.484       1.815\n",
      "epilepsy_2002                           -0.0121      0.746     -0.016      0.987      -1.475       1.451\n",
      "hiv_aids_2002                         2.051e-10    1.9e-07      0.001      0.999   -3.72e-07    3.72e-07\n",
      "std_2002                                 0.9538      0.525      1.817      0.069      -0.075       1.983\n",
      "chronic_other_2002                       0.1640      0.339      0.484      0.629      -0.501       0.829\n",
      "urban                                    0.0728      0.130      0.561      0.575      -0.182       0.327\n",
      "highest_degree                          -0.1586      0.041     -3.909      0.000      -0.238      -0.079\n",
      "========================================================================================================\n",
      "Log odds increase when married: 0.6423383083110121 \n",
      "P-value: 0.0005281227073907981 \n"
     ]
    }
   ],
   "source": [
    "# Fit the logistic regression model using GLM\n",
    "model = smf.glm(formula=formula, data=temp_model_data_df, family=sm.families.Binomial()).fit()\n",
    "#model = smf.glm(formula=formula, data=temp_model_data_df, family=sm.families.Binomial()).fit_regularized)\n",
    "\n",
    "\n",
    "# Print the summary of the model\n",
    "print(model.summary())\n",
    "print(f'Log odds increase when married: {math.exp(model.params[target_treatment])} ')\n",
    "print(f'P-value: {model.pvalues[target_treatment]} ')\n"
   ]
  },
  {
   "cell_type": "markdown",
   "id": "a4430f57-2357-427d-9644-79e0d311090f",
   "metadata": {},
   "source": [
    "## Round 3 - Propensity score matching\n",
    "  * Since this is observational data (from treatment i.e. marriage perspective), we will attempt to apply propensity score to balance the assignments. \n",
    "  * We will use logistic regression for matching\n",
    "  * Steps: \n",
    "     1. Decide on variables \n",
    "     2. Fit logistic regression model \n",
    "     3. Match data (nearest neighbor) & see propensity score overlap and covariates balance \n",
    "     4. Get average treatment effects\n",
    "  * *Result*\n",
    "     * Odds change: 0.59x"
   ]
  },
  {
   "cell_type": "markdown",
   "id": "f035575b-84e6-4f7b-9dcb-f4f9eba7fc04",
   "metadata": {
    "tags": []
   },
   "source": [
    "### Variable selection\n",
    "In addition to basic demographics that were used before, try to see if there are other variables\n",
    "__Criteria__\n",
    "   * Confounding variables\n",
    "   * Pre-treatment variables\n",
    "   * Not instrumental\n",
    "   * (No peeking for balance)\n",
    "\n",
    "\n",
    "   "
   ]
  },
  {
   "cell_type": "code",
   "execution_count": 32,
   "id": "14dddd80-b7bf-4208-a103-bdf877e4b4ba",
   "metadata": {
    "tags": []
   },
   "outputs": [
    {
     "name": "stdout",
     "output_type": "stream",
     "text": [
      "# of people married by year:\n"
     ]
    },
    {
     "data": {
      "text/plain": [
       "1996.0      2\n",
       "1997.0     27\n",
       "1998.0     79\n",
       "1999.0    204\n",
       "2000.0    429\n",
       "Name: First_marriage_year, dtype: int64"
      ]
     },
     "execution_count": 32,
     "metadata": {},
     "output_type": "execute_result"
    }
   ],
   "source": [
    "# Checking to see which survey year data we can use (Total is ~8300)\n",
    "# Based on below output, we will assume we can data from survey 1998 or less, since the # of people married is still low\n",
    "\n",
    "print(\"# of people married by year:\")\n",
    "cohab_mhealth_df['First_marriage_year'].value_counts().sort_index().cumsum().head()"
   ]
  },
  {
   "cell_type": "code",
   "execution_count": 33,
   "id": "ab425098-ccca-4afe-a8c0-48f79ea878b2",
   "metadata": {
    "tags": []
   },
   "outputs": [
    {
     "name": "stderr",
     "output_type": "stream",
     "text": [
      "C:\\Users\\hiron\\AppData\\Local\\Temp\\ipykernel_33516\\741386516.py:18: FutureWarning: The default value of numeric_only in DataFrame.corrwith is deprecated. In a future version, it will default to False. Select only valid columns or specify the value of numeric_only to silence this warning.\n",
      "  corr_df = temp_df.corrwith(temp_df['married_vs_never_married'],method='kendall').to_frame(name='corr').reset_index(names='name')\n"
     ]
    },
    {
     "data": {
      "text/html": [
       "<table id=\"itables_534c6ce4_bad4_4a81_a7ec_a37d6fd76c5b\" class=\"display nowrap\" data-quarto-disable-processing=\"true\" style=\"table-layout:auto;width:auto;margin:auto;caption-side:bottom\">\n",
       "<thead>\n",
       "    <tr style=\"text-align: right;\">\n",
       "      <th></th>\n",
       "      <th>name</th>\n",
       "      <th>corr</th>\n",
       "      <th>nans</th>\n",
       "      <th>Modified_Description</th>\n",
       "    </tr>\n",
       "  </thead><tbody><tr><td>Loading... (need <a href=https://mwouts.github.io/itables/troubleshooting.html>help</a>?)</td></tr></tbody>\n",
       "\n",
       "</table>\n",
       "<link href=\"https://www.unpkg.com/dt_for_itables@2.0.1/dt_bundle.css\" rel=\"stylesheet\">\n",
       "<script type=\"module\">\n",
       "    import {DataTable, jQuery as $} from 'https://www.unpkg.com/dt_for_itables@2.0.1/dt_bundle.js';\n",
       "\n",
       "    document.querySelectorAll(\"#itables_534c6ce4_bad4_4a81_a7ec_a37d6fd76c5b:not(.dataTable)\").forEach(table => {\n",
       "        // Define the table data\n",
       "        const data = [[2180, \"married_vs_never_married\", 1.0, 0.169378, \"NaN\"], [2179, \"married_vs_not_married\", 1.0, 0.0, \"NaN\"], [2177, \"Ever_cohabitted\", 0.453756, 0.0, \"NaN\"], [1911, \"YOUTH_NONR1INHH.01\", 0.199652, 0.0, \"YOUTH, DOES xST NON-RESP BIO PARENT OF R xx LIVE IN HH? (ROS ITEM)\"], [202, \"CV_SAMPLE_TYPE\", 0.189194, 0.0, \"SAMPLE TYPE.  CROSS-SECTIONAL OR OVERSAMPLE\"], [180, \"CV_INCOME_GROSS_YR\", 0.183658, 0.261454, \"GROSS HH INCOME IN PAST YEAR\"], [175, \"CV_HH_POV_RATIO\", 0.179276, 0.26399, \"RATIO OF HOUSEHOLD INCOME TO POVERTY LEVEL\"], [1388, \"PC10_026\", 0.169946, 0.119236, \"R RECEIVE INCOME FROM JOB LAST YEAR?\"], [1907, \"YOUTH_DADID.01\", 0.169761, 0.0, \"YOUTH, R xx BIO DADS ID (ROS ITEM)\"], [1396, \"PC11_014\", 0.164497, 0.671542, \"PERCENT CHANCE R HAS COLLEGE DEGREE BY xx YEARS OLD\"], [1393, \"PC11_008\", 0.157625, 0.669005, \"PERCENT CHANCE R HAS HIGH SCHOOL DIPLOMA BY xx YEARS OLD\"], [1391, \"PC11_005\", 0.153396, 0.666766, \"PERCENT CHANCE R IN SCHOOL NEXT YEAR\"], [1876, \"YINC_1400\", 0.141417, 0.002537, \"R RECEIVE INCOME FROM JOB IN PAST YEAR?\"], [1981, \"YSAQ_296\", 0.136082, 0.750933, \"# DATES R HAD IN PAST YEAR WITH MALE\"], [1536, \"YEXP_2000\", 0.108326, 0.617371, \"PERCENT CHANCE R HAS COLLEGE DEGREE BY xx YEARS OLD\"], [1321, \"P5_028\", 0.106064, 0.573049, \"TOTAL INCOME PRS SPOUSE FROM WAGES AND SALARY LAST YEAR (TRUNC)\"], [2017, \"YSAQ_364\", 0.102589, 0.577526, \"HOW OLD R FIRST TIME DRINK ALCOHOL?\"], [2139, \"YTIM_2200\", 0.097204, 0.398448, \"R SPEND TIME DOING HOMEWORK?\"], [1531, \"YEXP_1500\", 0.094731, 0.616177, \"PERCENT CHANCE R HAS HIGH SCHOOL DIPLOMA BY xx YEARS OLD\"], [1977, \"YSAQ_294A\", 0.091696, 0.491568, \"R HAS EVER HAD DATE WITH BOYFRIEND?\"], [1549, \"YEXP_500\", 0.091267, 0.61558, \"PERCENT CHANCE R IN SCHOOL NEXT YEAR\"], [2041, \"YSAQ_513\", 0.089495, 0.030592, \"PERCENT CHANCE ARRESTED IF STEAL CAR?\"], [1317, \"P5_018\", 0.085027, 0.115356, \"PR RECEIVE INCOME FROM OWN BUS OR FARM IN LAST YEAR?\"], [1559, \"YEXP_700\", 0.077067, 0.621101, \"PERCENT CHANCE WORK xx+ HOURS WHILE NOT IN SCHOOL NEXT YEAR\"], [1541, \"YEXP_300\", 0.07672, 0.618714, \"PERCENT CHANCE GET FLU NEXT YEAR\"], [1850, \"YHEA_900\", 0.076303, 0.79809, \"SMOKING x PACK + PER DAY INCREASE CHANCE HEART DISEASE?\"], [2158, \"YTIM_3200_000002\", 0.075167, 0.423071, \"TIME PER WEEKDAY R WATCHES TV? (MINUTES)\"], [1910, \"YOUTH_MOMID.01\", 0.073556, 0.0, \"YOUTH, R xx BIO MOMS ID (ROS ITEM)\"], [2143, \"YTIM_2500_000001\", 0.07333, 0.468587, \"TOTAL TIME PER WEEKEND DOING HOMEWORK (HOURS)\"], [1972, \"YSAQ_292\", 0.070922, 0.702283, \"HOW OLD R FIRST DATE WITH A GIRLFRIEND?\"], [1934, \"YPRS_600\", 0.070637, 0.021042, \"PERCENT OF PEERS WHO GO TO CHURCH REGULARLY\"], [1304, \"P4_016\", 0.066501, 0.507984, \"RS NONRESP BIO PARENT x HEIGHT IN FEET\"], [1542, \"YEXP_400\", 0.066145, 0.615878, \"PERCENT CHANCE EAT PIZZA NEXT YEAR\"], [1971, \"YSAQ_291A\", 0.065308, 0.511565, \"R HAS EVER HAD DATE WITH GIRLFRIEND?\"], [1929, \"YPRS_1100\", 0.063636, 0.012834, \"PERCENT PEERS WHO PLAN TO GO TO COLLEGE\"], [5, \"age_1996\", 0.062981, 0.0, \"NaN\"], [151, \"CV_AGE_12/31/96\", 0.062981, 0.0, \"RS AGE AS OF xx/xx/xx\"], [152, \"CV_AGE_INT_DATE\", 0.062711, 0.0, \"RS AGE AT INTERVIEW DATE\"], [4, \"first_interview_age\", 0.062563, 0.0, \"NaN\"], [2010, \"YSAQ_360\", 0.060212, 0.612446, \"HOW OLD R FIRST TIME SMOKED?\"], [1540, \"YEXP_2100\", 0.058603, 0.617669, \"PERCENT CHANCE WORK xx+ HOURS PER WEEK BY xx YEARS OLD\"], [150, \"CV_AGE(MONTHS)_INT_DATE\", 0.058417, 0.0, \"RS AGE IN MONTHS AS OF INTERVIEW DATE\"], [2145, \"YTIM_2600\", 0.056321, 0.392628, \"R TAKE EXTRA CLASSES OR LESSONS?\"], [1294, \"P2_049\", 0.056044, 0.438293, \"WHAT RELIGION WAS PRS SPOUSE/PARTNER RAISED IN?\"], [2164, \"YTIM_3600_000002\", 0.053773, 0.632741, \"TIME PER WEEKDAY R READS FOR PLEASURE (MINUTES)\"], [1389, \"PC10_027\", 0.053215, 0.703029, \"RS TOTAL INCOME FROM WAGES AND SALARY LAST YEAR\"], [1320, \"P5_022\", 0.052616, 0.398448, \"PRS SPOUSE RECEIVE INCOME FROM JOB LAST YEAR?\"], [2160, \"YTIM_3300_000002\", 0.048728, 0.418743, \"TOTAL TIME PER WEEKEND R WATCHES TV (MINUTES)\"], [1323, \"P5_031\", 0.048347, 0.399642, \"PRS SPOUSE RECEIVE INCOME FROM OWN BUS OR FARM LAST YEAR?\"], [1315, \"P5_016\", 0.047916, 0.409043, \"TOTAL INCOME FROM PRS WAGES AND SALARY LAST YEAR (TRUNC)\"], [1312, \"P5_010\", 0.047362, 0.113565, \"PR RECEIVE INCOME FROM JOB LAST YEAR?\"], [2165, \"YTIM_3700_000001\", 0.046213, 0.624086, \"TOTAL TIME PER WEEKEND R READS FOR PLEASURE (HOURS)\"], [1914, \"YOUTH_PARENTID.01\", 0.045773, 0.0, \"YOUTH, ID OF R xx RESP PARENT (ROS ITEM)\"], [2140, \"YTIM_2300\", 0.04566, 0.468885, \"# WEEKDAYS R DOES HOMEWORK\"], [1296, \"P2_114.01\", 0.045085, 0.768691, \"WHAT RELIGION WAS NONRESP PARENT xx RAISED IN?\"], [1756, \"YHEA_2000\", 0.04496, 0.021191, \"HEIGHT OF R IN FEET\"], [2040, \"YSAQ_374\", 0.040869, 0.00194, \"WHAT R DO ABOUT WEIGHT\"], [1979, \"YSAQ_295\", 0.039865, 0.752574, \"HOW OLD R FIRST DATE WITH BOYFRIEND?\"], [2016, \"YSAQ_363\", 0.038798, 0.00388, \"R EVER DRINK ALCOHOL?\"], [2162, \"YTIM_3500\", 0.038604, 0.623638, \"# WEEKDAYS R READ FOR PLEASURE\"], [1882, \"YINC_1700\", 0.037376, 0.596777, \"TOTAL INCOME FROM WAGES AND SALARY IN PAST YEAR\"], [1937, \"YPRS_900\", 0.036113, 0.003731, \"PERCENT PEERS IN SPORTS, CLUBS, SCHOOL ACTIVITIES\"], [2074, \"YSCH_36600\", 0.035251, 0.001492, \"STUDENTS DISRUPT LEARNING AGREE/DISAGREE\"], [1974, \"YSAQ_293\", 0.033495, 0.70094, \"# DATES R HAS HAD IN PAST YEAR WITH GIRLFRIEND\"], [1749, \"YHEA_1400\", 0.031981, 0.797194, \"x+ DRINKS INCREASE RS RISK ADDICTION TO ALCOHOL?\"], [2144, \"YTIM_2500_000002\", 0.031681, 0.468139, \"TOTAL TIME PER WEEKEND DOING HOMEWORK (MINUTES)\"], [1301, \"P4_004\", 0.030681, 0.115654, \"HEIGHT OF PR IN FEET\"], [1936, \"YPRS_800\", 0.03048, 0.018355, \"PERCENT OF PEERS WHO GET DRUNK x+ TIMES A MONTH\"], [1913, \"YOUTH_PARENTGUAR.01\", 0.027726, 0.0, \"YOUTH, DOES R xx HAVE A RESP PARENT OR GUARDIAN IN HH (ROS ITEM)\"], [1397, \"PC11_015\", 0.027521, 0.669154, \"PERCENT CHANCE R WORK xx+ HOURS PER WEEK BY xx YEARS OLD\"], [1295, \"P2_050\", 0.026715, 0.428742, \"WHAT IS PRS SPOUSE/PARTNER CURRENT RELIGIOUS PREFERENCE?\"], [2044, \"YSAQ_515\", 0.026469, 0.04268, \"PERCENT CHANCE PAY FINE AND RELEASED IF STOLE CAR?\"], [2161, \"YTIM_3400\", 0.026024, 0.392926, \"R SPEND TIME READING FOR PLEASURE?\"], [1342, \"P6_028\", 0.022563, 0.748097, \"x+ DRINKS INCREASE PRS RISK OF HARMING UNBORN CHILD?\"], [1750, \"YHEA_1500\", 0.022545, 0.797642, \"x+ DRINKS INCREASE RS RISK OF HARMING UNBORN CHILD?\"], [154, \"CV_CENSUS_REGION\", 0.021733, 0.0, \"CENSUS REGION OF RESIDENCE\"], [1292, \"P2_013\", 0.021576, 0.113117, \"WHAT RELIGION WAS PR RAISED IN?\"], [1293, \"P2_014\", 0.021403, 0.114013, \"WHAT IS PRS CURRENT RELIGIOUS PREFERENCE?\"], [2007, \"YSAQ_356\", 0.021366, 0.392926, \"R OPTIMISTIC ABOUT FUTURE (AGREE/DISAGREE)\"], [2062, \"YSAQ_INTRO_2\", 0.02131, 0.000597, \"CHOCOLATE ICE CREAM (SAQ)\"], [1758, \"YHEA_2100\", 0.020637, 0.024922, \"HEIGHT OF R IN INCHES\"], [1306, \"P4_018\", 0.019863, 0.528876, \"RS NONRESP BIO PARENTx WEIGHT\"], [2045, \"YSAQ_516\", 0.019364, 0.04074, \"PERCENT CHANCE GO TO JAIL IF STOLE CAR?\"], [1343, \"P6_INT_2\", 0.018164, 0.323534, \"INTRO PSAQ CHOCOLATE ICE CREAM\"], [1905, \"YOUTH_ADOPDADID.01\", 0.01426, 0.0, \"YOUTH, R xx ADOPTIVE DADS ID (ROS ITEM)\"], [2043, \"YSAQ_514\", 0.013867, 0.0388, \"PERCENT CHANCE RELEASED WITH OUT CHARGE IF STOLE CAR?\"], [2141, \"YTIM_2400_000001\", 0.01338, 0.469184, \"TIME PER WEEKDAY SPEND DOING HOMEWORK (HOURS)\"], [2009, \"YSAQ_359\", 0.012551, 0.003134, \"R EVER SMOKED?\"], [1527, \"YEXP_1100\", 0.010036, 0.617221, \"PERCENT CHANCE R GET DRUNK BY NEXT YEAR\"], [2152, \"YTIM_3000\", 0.009065, 0.392628, \"R SPEND TIME WATCHING TV?\"], [1528, \"YEXP_1200\", 0.008774, 0.620206, \"PERCENT CHANCE R VICTIM OF VIOLENT CRIME BY NEXT YEAR\"], [182, \"CV_INTERVIEW_DATE_M\", 0.006292, 0.0, \"MONTH R INTERVIEWED\"], [2166, \"YTIM_3700_000002\", 0.005603, 0.623489, \"TOTAL TIME PER WEEKEND R READS FOR PLEASURE (MINUTES)\"], [2142, \"YTIM_2400_000002\", 0.004333, 0.469034, \"TIME PER WEEKDAY SPEND DOING HOMEWORK (MINUTES)\"], [1447, \"PC9_023\", 0.002687, 0.116401, \"R HAVE DEFORMED/MISSING BODY PART?\"], [2004, \"YSAQ_351A\", -0.000371, 0.390688, \"WHO R TURNS TO WITH PERSONAL PROBLEMS?\"], [1339, \"P6_023\", -0.000904, 0.749739, \"x+ DRINKS INCREASE PRS RISK DAMAGE LIVER?\"], [2039, \"YSAQ_373\", -0.001483, 0.002238, \"R DESCRIBE WEIGHT\"], [1305, \"P4_017\", -0.001561, 0.50873, \"RS NONRESP BIO PARENTx HEIGHT IN INCHES\"], [1530, \"YEXP_1400\", -0.002846, 0.625728, \"PERCENT CHANCE R DIE BY NEXT YEAR\"], [6, \"hispanic\", -0.003076, 0.002537, \"NaN\"], [1328, \"P6_004\", -0.003088, 0.32622, \"OPTIMISTIC ABOUT PRS FUTURE\"], [181, \"CV_INTERVIEW_CMONTH\", -0.0032, 0.0, \"MONTH INTERVIEWED\"], [1935, \"YPRS_700\", -0.003433, 0.011789, \"PERCENT OF PEERS WHO SMOKE\"], [201, \"CV_PARENT_INT_DATE_Y\", -0.004543, 0.110879, \"PARENTS INTERVIEW DATE\"], [1338, \"P6_022\", -0.006037, 0.765408, \"x+ DRINKS INCREASE PRS RISK GETTING ARTHRITIS?\"], [1948, \"YSAQ_010\", -0.006386, 0.394419, \"# DAYS PER WEEK TYPICALLY FAMILY DOES SOMETHING RELIGIOUS\"], [2076, \"YSCH_36800\", -0.006495, 0.009103, \"CHEAT ON TEST AND ASSIGNMENT (AGREE/DISAGREE)\"], [1302, \"P4_005\", -0.007229, 0.117744, \"HEIGHT OF PR IN INCHES\"], [1326, \"P6_002\", -0.007438, 0.325026, \"UNCERTAIN TIMES PR EXPECT BEST\"], [208, \"FP_PPRELIG\", -0.007477, 0.325474, \"PARENTS RELIGIOSITY, PARENT REPORT\"], [2020, \"YSAQ_365\", -0.007968, 0.577526, \"# DAYS R DRINK ALCOHOL LAST xx DAYS\"], [200, \"CV_PARENT_INT_DATE_M\", -0.008193, 0.110879, \"PARENTS INTERVIEW DATE\"], [1906, \"YOUTH_ADOPMOMID.01\", -0.008503, 0.0, \"YOUTH, R xx ADOPTIVE MOMS ID (ROS ITEM)\"], [1908, \"YOUTH_FOSTDADID.01\", -0.009803, 0.0, \"YOUTH, R xx FOSTER DADS ID (ROS ITEM)\"], [176, \"CV_HH_SIZE\", -0.010151, 0.0, \"HOUSEHOLD SIZE\"], [2005, \"YSAQ_354\", -0.010813, 0.39233, \"R EXPECTS BEST IN UNCERTAIN TIMES (AGREE/DISAGREE)\"], [1330, \"P6_011\", -0.010837, 0.324728, \"PR DOES NOT NEED RELIGION FOR GOOD VALUES\"], [1534, \"YEXP_1900\", -0.010881, 0.625728, \"PERCENT CHANCE R DIE BY xx YEARS OLD\"], [1340, \"P6_024\", -0.016384, 0.754962, \"x+ DRINKS INCREASE PRS RISK GET HEART DISEASE?\"], [1408, \"PC9_003\", -0.01757, 0.116401, \"R TAKE MEDICATION FOR CHRONIC CONDITION?\"], [2013, \"YSAQ_361\", -0.017935, 0.6117, \"# DAYS SMOKED IN LAST xx DAYS\"], [1533, \"YEXP_1800\", -0.018391, 0.61946, \"PERCENT CHANCE R A PARENT BY xx YEARS OLD\"], [1425, \"PC9_014\", -0.019154, 0.116401, \"R HAVE TROUBLE SEEING, HEARING, SPEAKING? (SENSORY)\"], [1931, \"YPRS_1300\", -0.02075, 0.023131, \"PERCENT PEERS USE ILLEGAL DRUGS\"], [184, \"CV_INTERVIEW_DATE_Y\", -0.020855, 0.0, \"YEAR R INTERVIEWED\"], [1341, \"P6_027\", -0.021885, 0.74944, \"x+ DRINKS INCREASE PRS RISK ADDICTION TO ALCOHOL?\"], [2001, \"YSAQ_348\", -0.022092, 0.700194, \"R DOES NOT GET ALONG WITH OTHERS (MALE)\"], [2, \"birth_month\", -0.022185, 0.0, \"NaN\"], [1909, \"YOUTH_FOSTMOMID.01\", -0.022647, 0.0, \"YOUTH, R xx FOSTER MOMS ID (ROS ITEM)\"], [1760, \"YHEA_2200\", -0.023917, 0.03104, \"WEIGHT OF R - POUNDS\"], [1912, \"YOUTH_NONR2INHH.01\", -0.024112, 0.0, \"YOUTH, IS R xx xND NON-RESP BIO PARENT IN HH (ROS ITEM)\"], [1335, \"P6_019\", -0.024175, 0.325175, \"PR ASKS GOD HELP MAKE DECISIONS\"], [2046, \"YSAQ_517\", -0.024996, 0.017162, \"HOUSE OR APARTMENT BROKEN INTO < xx YEARS OLD?\"], [1930, \"YPRS_1200\", -0.02584, 0.015371, \"PERCENT OF PEERS WHO DO VOLUNTEER WORK\"], [1300, \"P4_003\", -0.026111, 0.111924, \"PR HAVE HEALTH PROBLEM SINCE OLDEST CHILD BORN?\"], [1558, \"YEXP_600\", -0.026494, 0.61752, \"PERCENT CHANCE R IN SCHOOL AND WORKING xx+ HOURS PER WEEK NEXT YEAR\"], [1529, \"YEXP_1300\", -0.028537, 0.61752, \"PERCENT CHANCE R ARRESTED BY NEXT YEAR\"], [2048, \"YSAQ_518\", -0.02914, 0.015371, \"R VICTIM OF BULLYING < xx YEARS OLD?\"], [2002, \"YSAQ_349\", -0.029238, 0.700194, \"R LIES OR CHEATS (MALE)\"], [1982, \"YSAQ_297\", -0.02956, 0.783167, \"# DIFFERENT BOYS DATED IN LAST YEAR\"], [1463, \"PC9_032\", -0.029782, 0.116401, \"R HAVE A CHRONIC CONDITION?\"], [1532, \"YEXP_1600\", -0.031795, 0.616475, \"PERCENT CHANCE R IN JAIL BY xx YEARS OLD\"], [2067, \"YSCH_35900\", -0.031894, 0.011043, \"R HAD SOMETHING STOLEN FROM SCHOOL\"], [1996, \"YSAQ_345\", -0.032052, 0.690345, \"R HAS TROUBLE SLEEPING (FEMALE)\"], [2068, \"YSCH_36000\", -0.032596, 0.011342, \"R THREATENED TO BE HURT AT SCHOOL\"], [1337, \"P6_021A\", -0.035096, 0.325772, \"PR PRAYS MORE THAN ONCE A DAY\"], [2024, \"YSAQ_369\", -0.037096, 0.003731, \"R EVER USE MARIJUANA?\"], [1976, \"YSAQ_294\", -0.041656, 0.742277, \"# DIFFERENT GIRLS DATED IN PAST YEAR\"], [2071, \"YSCH_36300\", -0.043989, 0.030145, \"# DAYS R ABSENT FROM SCHOOL?\"], [2163, \"YTIM_3600_000001\", -0.044193, 0.633189, \"TIME PER WEEKDAY R READS FOR PLEASURE (HOURS)\"], [2156, \"YTIM_3100\", -0.044696, 0.418147, \"# WEEKDAYS R WATCHES TV\"], [2077, \"YSCH_36900\", -0.044784, 0.004178, \"DISCIPLINE IS FAIR AGREE/DISAGREE\"], [174, \"CV_HH_INCOME_SOURCE\", -0.047793, 0.0, \"HOUSEHOLD INCOME FROM PARENT OR R\"], [1932, \"YPRS_1400\", -0.048516, 0.005522, \"PERCENT OF PEERS WHO CUT CLASSES OR SCHOOL\"], [1919, \"YOUTH_SIBRELY01.01\", -0.049636, 0.551112, \"YOUTH, RELATIONSHIP OF xST OTHER RESPONDENT IN R xx HOUSEHOLD (ROS ITEM)\"], [1299, \"P4_002\", -0.049729, 0.112371, \"PR HAVE LONG-TERM HEALTH PROBLEM LIMITING EMPLOYMENT?\"], [1344, \"P6_INT_3\", -0.05255, 0.323385, \"INTRO PSAQ FAVORITE ICE CREAM\"], [177, \"CV_HH_UNDER_18\", -0.053453, 0.0, \"NUMBER OF HOUSEHOLD MEMBERS UNDER AGE xx\"], [2064, \"YSAQ_INTRO_3\", -0.054, 0.000597, \"FAVORITE ICE CREAM (SAQ)\"], [1329, \"P6_005\", -0.054667, 0.324578, \"HARDLY EXPECT THINGS TO GO PRS WAY\"], [1407, \"PC9_002\", -0.056838, 0.116997, \"R HAVE PHYSICAL, EMOTIONAL CONDITION LIMITS SCHOOL/WORK?\"], [1392, \"PC11_006\", -0.059669, 0.669303, \"PERCENT CHANCE R IN SCHOOL & WORKING xx+ HOURS PER WEEK NEXT YEAR\"], [1327, \"P6_003\", -0.059673, 0.324429, \"RARELY GOOD THINGS HAPPEN TO PR\"], [2073, \"YSCH_36500\", -0.059986, 0.002238, \"TEACHERS INTERESTED IN STUDENTS AGREE/DISAGREE\"], [3, \"birth_year\", -0.062981, 0.0, \"NaN\"], [2075, \"YSCH_36700\", -0.063239, 0.002537, \"STUDENTS GRADED FAIRLY AGREE/DISAGREE\"], [1992, \"YSAQ_343\", -0.067734, 0.690345, \"R LIES OR CHEATS (FEMALE)\"], [2003, \"YSAQ_350\", -0.067766, 0.700194, \"R UNHAPPY, SAD, DEPRESSED (MALE)\"], [2159, \"YTIM_3300_000001\", -0.068435, 0.419937, \"TOTAL TIME PER WEEKEND R WATCHES TV (HOURS)\"], [203, \"CV_URBAN_RURAL\", -0.068986, 0.0, \"CURRENT RESIDENCE IN URBAN OR RURAL AREA\"], [178, \"CV_HH_UNDER_6\", -0.06938, 0.0, \"NUMBER OF HOUSEHOLD MEMBERS UNDER AGE x\"], [1994, \"YSAQ_344\", -0.069391, 0.690195, \"RS SCHOOL WORK POOR (FEMALE)\"], [1311, \"P4_029\", -0.070385, 0.395463, \"PRS SPOUSE/PARTNER HAVE HEALTH PROBLEM LIMITING EMPLOYMENT?\"], [212, \"FP_YYMBEHS\", -0.070547, 0.700194, \"BOYS BEHAVIORAL/EMOTIONAL PROBLEMS SCALE, YOUTH REPORT\"], [1395, \"PC11_013\", -0.071013, 0.673034, \"PERCENT CHANCE R A PARENT BY xx YEARS OLD\"], [1310, \"P4_028\", -0.07322, 0.39606, \"PRS SPOUSE/PARTNER HEALTH IN GENERAL\"], [1336, \"P6_020\", -0.074847, 0.327563, \"GOD HAS NOTHING TO DO WITH WHAT HAPPENS TO PR\"], [2000, \"YSAQ_347\", -0.07593, 0.700194, \"R HAS TROUBLE CONCENTRATING AND PAYING ATTENTION (MALE)\"], [2008, \"YSAQ_357\", -0.081101, 0.390389, \"HARDLY EXPECT THINGS TO GO RS WAY (AGREE/DISAGREE)\"], [2072, \"YSCH_36400\", -0.08166, 0.001343, \"TEACHERS GOOD (AGREE/DISAGREE)\"], [1303, \"P4_006\", -0.085516, 0.156096, \"WEIGHT OF PR\"], [198, \"CV_MSA\", -0.085868, 0.0, \"R CURRENTLY RESIDE IN MSA\"], [1334, \"P6_018\", -0.086169, 0.784659, \"PR OBEYS RELIGIOUS TEACHINGS IN EVERY SITUATION\"], [2070, \"YSCH_36200\", -0.086979, 0.017162, \"R LATE FOR SCHOOL WITHOUT EXCUSE\"], [1394, \"PC11_011\", -0.088796, 0.669005, \"PERCENT CHANCE R IN JAIL BY xx YEARS OLD\"], [1998, \"YSAQ_346\", -0.090319, 0.690345, \"R UNHAPPY, SAD, DEPRESSED (FEMALE)\"], [2178, \"CESD_above_8\", -0.090741, 0.0, \"NaN\"], [1643, \"YHEA_100\", -0.093437, 0.0, \"HOW IS RS GENERAL HEALTH?\"], [1501, \"SIDCODE\", -0.095613, 0.0, \"HOUSEHOLD IDENTIFICATION CODE\"], [211, \"FP_YYFBEHS\", -0.095907, 0.690195, \"GIRLS BEHAVIORAL/EMOTIONAL PROBLEMS SCALE, YOUTH REPORT\"], [1500, \"PUBID\", -0.096668, 0.0, \"PUBID, YOUTH CASE IDENTIFICATION CODE\"], [1, \"uid\", -0.096668, 0.0, \"NaN\"], [0, \"index\", -0.096668, 0.0, \"NaN\"], [2050, \"YSAQ_519\", -0.097339, 0.015371, \"R SEE SOMEONE SHOT WITH GUN < xx YEARS OLD?\"], [1409, \"PC9_004\", -0.098048, 0.116997, \"R HAVE LEARNING/EMOTIONAL PROBLEM LIMITING SCHOOL/WORK PERFORMANCE?\"], [1928, \"YPRS_1000\", -0.101523, 0.018057, \"PERCENT OF PEERS BELONG TO A GANG\"], [2006, \"YSAQ_355\", -0.103665, 0.389942, \"R RARELY EXPECTS GOOD THINGS (AGREE/DISAGREE)\"], [1298, \"P4_001\", -0.105432, 0.111774, \"HOW IS PRS GENERAL HEALTH\"], [1933, \"YPRS_1600\", -0.10827, 0.567229, \"PERCENT OF PEERS WHO HAVE HAD SEX\"], [1331, \"P6_015\", -0.109938, 0.60379, \"PR OBEYS BIBLE IN EVERY SITUATION\"], [1915, \"YOUTH_SIBID01.01\", -0.110608, 0.550664, \"YOUTH, ID OF xST OTHER RESPONDENT IN R xx HOUSEHOLD (ROS ITEM)\"], [2078, \"YSCH_37000\", -0.115592, 0.002388, \"FEEL SAFE AT SCHOOL AGREE/DISAGREE\"], [2069, \"YSCH_36100\", -0.121613, 0.010894, \"R IN A FIGHT AT SCHOOL\"], [1406, \"PC9_001\", -0.12171, 0.11655, \"HOW IS RS HEALTH?\"], [2157, \"YTIM_3200_000001\", -0.12614, 0.42337, \"TIME PER WEEKDAY R WATCHES TV? (HOURS)\"], [207, \"CV_YTH_REL_HH_CURRENT\", -0.199274, 0.003283, \"RS RELATIONSHIP TO HOUSEHOLD PARENT FIGURE\"], [204, \"CV_YTH_REL_HH_AGE_12\", -0.200252, 0.122221, \"RELATIONSHIP TO PARENT FIGURES WHEN R AGE xx\"], [206, \"CV_YTH_REL_HH_AGE_6\", -0.213413, 0.122519, \"RELATIONSHIP TO PARENT FIGURES WHEN R AGE x\"], [205, \"CV_YTH_REL_HH_AGE_2\", -0.220329, 0.121474, \"RELATIONSHIP TO PARENT FIGURES WHEN R AGE x\"], [7, \"Year\", NaN, 0.0, \"NaN\"], [2176, \"last_interview\", NaN, 0.0, \"NaN\"]];\n",
       "\n",
       "        // Define the dt_args\n",
       "        let dt_args = {\"layout\": {\"topStart\": \"pageLength\", \"topEnd\": \"search\", \"bottomStart\": \"info\", \"bottomEnd\": \"paging\"}, \"order\": [], \"warn_on_dom\": true};\n",
       "        dt_args[\"data\"] = data;\n",
       "\n",
       "        \n",
       "        new DataTable(table, dt_args);\n",
       "    });\n",
       "</script>\n"
      ],
      "text/plain": [
       "<IPython.core.display.HTML object>"
      ]
     },
     "metadata": {},
     "output_type": "display_data"
    }
   ],
   "source": [
    "# Look for additional variables that can be used for propensity scoring (but not for instrumental)\n",
    "# Get all columns from particular year, and set negative values to NaNs\n",
    "temp_df = tidy_df.loc[tidy_df['Year'] == 1997,:].select_dtypes(exclude=['object','category'])\n",
    "temp_df = temp_df.apply(dense_columns,axis=0)\n",
    "temp_df = temp_df.applymap(lambda x: np.nan if x < 0 else x)\n",
    "\n",
    "#Get needed treatment + outcome data and merge with previous df\n",
    "temp2_df = cohab_mhealth_df.loc[cohab_mhealth_df['Year'] == target_year,['uid','Ever_cohabitted','CESD_above_8','married']].drop_duplicates()\n",
    "temp_df = temp_df.merge(temp2_df,on='uid')\n",
    "\n",
    "#Create same married flags in the same df\n",
    "temp_df['married_vs_not_married'] = (temp_df['married'] == 'Yes').astype(int)\n",
    "temp_df['married_vs_never_married'] = (temp_df['married'] == 'Yes').astype(int)\n",
    "#For married VS never married, the \"Married but married before\" respondents will be marked as NaN\n",
    "temp_df.loc[temp_df['married']=='No',['married_vs_never_married']] = np.nan\n",
    "\n",
    "#Create correlation dataframe. Not using pearson as target (both treatment and outcome) is binomial\n",
    "corr_df = temp_df.corrwith(temp_df['married_vs_never_married'],method='kendall').to_frame(name='corr').reset_index(names='name')\n",
    "#Calculate % of nans \n",
    "temp3_df = (1 - temp_df.count() / temp_df.shape[0]).to_frame(name='nans').reset_index(names='name')\n",
    "corr_df = corr_df.merge(temp3_df,on='name')\n",
    "\n",
    "#Get descriptions from codebook\n",
    "corr_df = corr_df.merge(codebook_df[['Modified_Question','Modified_Description']].drop_duplicates(),left_on='name',right_on='Modified_Question',how='left')\n",
    "corr_df.drop('Modified_Question',axis=1,inplace=True)\n",
    "\n",
    "#Looking at list of \n",
    "show(corr_df.loc[corr_df['nans'] <= 0.8,:].sort_values(by='corr',ascending=False))"
   ]
  },
  {
   "cell_type": "markdown",
   "id": "1d124373-79ab-4a87-8ce6-8e386b17f776",
   "metadata": {},
   "source": [
    "__Results__ \n",
    "   * Just by looking at correlation (kendall), the correlation score is low (<0.2). However we will include a few based on score & data availability\n",
    "      * YOUTH_NONR1INHH.01 - If non-responding biological parent live in the household \n",
    "      * CV_INCOME_GROSS_YR - Gross income of household\n",
    "      * PC11_014 - Percent change respondent has college degree by some age (only answered by age >= 16)\n",
    "      * YTIM_2300 - # of days spending homework a week (only answered by age <= 15\n",
    "      * YSAQ_296 - # of dates with male\n",
    "      * YSAQ_294 - # of dates with female"
   ]
  },
  {
   "cell_type": "markdown",
   "id": "ecfc17c3-f0cc-450e-9967-c3192fcbdd57",
   "metadata": {},
   "source": [
    "### Fit propensity model (logistic regression)"
   ]
  },
  {
   "cell_type": "code",
   "execution_count": 36,
   "id": "492a23f9-20b8-4169-a0f8-ee2b93a69be7",
   "metadata": {
    "tags": []
   },
   "outputs": [],
   "source": [
    "temp_model_data_df = model_data_df.copy()\n",
    "temp_model_data_df.dropna(axis=0,subset=target_treatment,inplace=True)"
   ]
  },
  {
   "cell_type": "code",
   "execution_count": 37,
   "id": "21dda967-dfd4-401f-b117-fddec8d66a01",
   "metadata": {
    "tags": []
   },
   "outputs": [
    {
     "name": "stdout",
     "output_type": "stream",
     "text": [
      "Model over 15: married_vs_never_married ~ hh_income_1997_log + date_1998 + num_days_homework + C(hispanic) + C(sex) + C(race) + C(nonresp_parent_in_HH)\n",
      "Model under 16: married_vs_never_married ~ hh_income_1997_log + date_1998 + pct_college_by_30 + C(hispanic) + C(sex) + C(race) + C(nonresp_parent_in_HH)\n"
     ]
    }
   ],
   "source": [
    "#Since \"Number of days doing HW\" and \"Percent going to college by 30\" is mutually exclusive by age, we will create two \n",
    "# separate models. \n",
    "\n",
    "Xs_numerical = ['hh_income_1997_log','date_1998','num_days_homework']\n",
    "Xs_categorical = ['hispanic','sex','race','nonresp_parent_in_HH']\n",
    "formula = f'{target_treatment} ~ ' + (' + '.join(Xs_numerical)) + ' + C(' + (') + C(').join(Xs_categorical) + ')'\n",
    "print(\"Model over 15: \" + formula)\n",
    "# Fit the logistic regression model using GLM\n",
    "model_over_15 = smf.glm(formula=formula, data=temp_model_data_df, family=sm.families.Binomial()).fit()\n",
    "result1 = model_over_15.predict(temp_model_data_df[Xs_numerical+Xs_categorical])\n",
    "\n",
    "\n",
    "#formula creation\n",
    "Xs_numerical = ['hh_income_1997_log','date_1998','pct_college_by_30']\n",
    "Xs_categorical = ['hispanic','sex','race','nonresp_parent_in_HH']\n",
    "formula = f'{target_treatment} ~ ' + (' + '.join(Xs_numerical)) + ' + C(' + (') + C(').join(Xs_categorical) + ')'\n",
    "print(\"Model under 16: \" + formula)\n",
    "# Fit the logistic regression model using GLM\n",
    "model_under_16 = smf.glm(formula=formula, data=temp_model_data_df, family=sm.families.Binomial()).fit()\n",
    "result2 = model_under_16.predict(temp_model_data_df[Xs_numerical+Xs_categorical])\n",
    "\n"
   ]
  },
  {
   "cell_type": "markdown",
   "id": "e15acdfe-3b07-4450-ab34-a0d93c040c9a",
   "metadata": {},
   "source": [
    "### Match responders and check balance"
   ]
  },
  {
   "cell_type": "code",
   "execution_count": null,
   "id": "4ca24ca0-bab7-4a52-ae2f-423cae92ada1",
   "metadata": {},
   "outputs": [
    {
     "data": {
      "text/html": [
       "<table id=\"itables_31f98628_e615_4061_ac06_ff1a8b69ac6e\" class=\"display nowrap\" data-quarto-disable-processing=\"true\" style=\"table-layout:auto;width:auto;margin:auto;caption-side:bottom\">\n",
       "<thead>\n",
       "    <tr style=\"text-align: right;\">\n",
       "      <th></th>\n",
       "      <th>uid</th>\n",
       "      <th>sex</th>\n",
       "      <th>age_1996</th>\n",
       "      <th>hispanic</th>\n",
       "      <th>race</th>\n",
       "      <th>urban</th>\n",
       "      <th>household_size</th>\n",
       "      <th>household_income</th>\n",
       "      <th>pov_ratio</th>\n",
       "      <th>limited_work_kind</th>\n",
       "      <th>limited_work_amt</th>\n",
       "      <th>child_1_adopted</th>\n",
       "      <th>asthma_2002</th>\n",
       "      <th>heart_2002</th>\n",
       "      <th>anemia_2002</th>\n",
       "      <th>diabetes_2002</th>\n",
       "      <th>cancer_2002</th>\n",
       "      <th>epilepsy_2002</th>\n",
       "      <th>hiv_aids_2002</th>\n",
       "      <th>std_2002</th>\n",
       "      <th>chronic_other_2002</th>\n",
       "      <th>highest_degree</th>\n",
       "      <th>nonresp_parent_in_HH</th>\n",
       "      <th>hh_income_1997</th>\n",
       "      <th>pct_college_by_30</th>\n",
       "      <th>date_male_1998</th>\n",
       "      <th>date_female_1998</th>\n",
       "      <th>num_days_homework</th>\n",
       "      <th>CESD</th>\n",
       "      <th>married</th>\n",
       "      <th>CESD_above_8</th>\n",
       "      <th>married_vs_not_married</th>\n",
       "      <th>married_vs_never_married</th>\n",
       "      <th>bmi</th>\n",
       "      <th>bmi_bin</th>\n",
       "      <th>household_income_log</th>\n",
       "      <th>has_child</th>\n",
       "      <th>years_married</th>\n",
       "      <th>years_married_log</th>\n",
       "      <th>hh_income_1997_log</th>\n",
       "      <th>date_1998</th>\n",
       "      <th>pscore</th>\n",
       "    </tr>\n",
       "  </thead><tbody><tr><td>Loading... (need <a href=https://mwouts.github.io/itables/troubleshooting.html>help</a>?)</td></tr></tbody>\n",
       "\n",
       "</table>\n",
       "<link href=\"https://www.unpkg.com/dt_for_itables@2.0.1/dt_bundle.css\" rel=\"stylesheet\">\n",
       "<script type=\"module\">\n",
       "    import {DataTable, jQuery as $} from 'https://www.unpkg.com/dt_for_itables@2.0.1/dt_bundle.js';\n",
       "\n",
       "    document.querySelectorAll(\"#itables_31f98628_e615_4061_ac06_ff1a8b69ac6e:not(.dataTable)\").forEach(table => {\n",
       "        // Define the table data\n",
       "        const data = [[24, 34, \"Male\", 13, 0, \"Asian or Pacific Islander\", 2.0, 4, 0.0, 0, 0.0, 0.0, 0.0, 0, 0, 0, 0, 0, 0, 0, 0, 0, 4, 1, -4, NaN, -4, -4, NaN, 3.0, \"No, never married\", 0, 0, 0.0, 28.188906, \"over\", 0.0, 0, 0.0, 0.0, 0.0, 0, 0.0], [26, 37, \"Female\", 15, 0, \"White\", 2.0, 3, 123486.0, 593, 0.0, 0.0, 0.0, 0, 0, 0, 0, 0, 0, 0, 0, 0, 4, 1, 47500, NaN, -4, -4, NaN, 4.0, \"No, never married\", 0, 0, 0.0, 26.622856, \"over\", 11.723891, 0, 0.0, 0.0, 10.768506, 0, 0.0], [28, 42, \"Female\", 15, 0, \"Black or African American\", 2.0, 1, 0.0, 0, 1.0, 1.0, -4.0, 0, 0, 0, 0, 0, 0, 0, 0, 0, 1, 0, -3, NaN, 2, -4, NaN, 12.0, \"No, never married\", 1, 0, 0.0, 29.291667, \"obese\", 0.0, 1, 2.0, 1.098612, 0.0, 2, 0.0], [30, 44, \"Female\", 12, 0, \"Black or African American\", 2.0, 2, 46000.0, 265, 0.0, 0.0, 0.0, 0, 0, 0, 0, 0, 0, 0, 0, 0, 3, 0, -3, NaN, 1, -4, NaN, 4.0, \"No, never married\", 0, 0, 0.0, 38.73018, \"obese\", 10.736418, 0, 0.0, 0.0, 0.0, 1, 0.0], [31, 45, \"Male\", 12, 0, \"Black or African American\", 2.0, 4, 22000.0, 81, 0.0, 0.0, 0.0, 0, 0, 0, 0, 0, 0, 0, 0, 0, 1, 0, -3, NaN, -4, -4, NaN, 0.0, \"No, never married\", 0, 0, 0.0, 36.937512, \"obese\", 9.998843, 0, 0.0, 0.0, 0.0, 0, 0.0], [38, 53, \"Female\", 12, 0, \"Black or African American\", 2.0, 5, 40000.0, 132, 0.0, 0.0, 0.0, 0, 0, 0, 0, 0, 0, 0, 0, 0, 3, 0, -3, NaN, -4, -4, NaN, 0.0, \"No, never married\", 0, 0, 0.0, 44.280675, \"obese\", 10.59666, 0, 0.0, 0.0, 0.0, 0, 0.0], [48, 63, \"Male\", 16, 0, \"Black or African American\", 2.0, 3, 0.0, 0, 0.0, 0.0, 0.0, 0, 0, 0, 0, 0, 0, 0, 0, 0, 2, 1, 40000, NaN, -4, 4, NaN, 0.0, \"No, never married\", 0, 0, 0.0, 28.793321, \"over\", 0.0, 0, 0.0, 0.0, 10.59666, 4, 0.0], [55, 77, \"Female\", 15, 0, \"White\", 2.0, 2, 15000.0, 84, 0.0, 0.0, 0.0, 0, 0, 0, 0, 0, 0, 0, 0, 0, 3, 0, -3, NaN, 2, -4, NaN, 4.0, \"No, never married\", 0, 0, 0.0, 28.346774, \"over\", 9.615872, 0, 0.0, 0.0, 0.0, 2, 0.0], [61, 87, \"Male\", 15, 0, \"White\", 2.0, 4, 52000.0, 195, 0.0, 0.0, -4.0, 0, 0, 0, 0, 0, 0, 0, 0, 0, 2, 1, -4, NaN, -4, -1, NaN, 1.0, \"No, never married\", 0, 0, 0.0, 25.08777, \"over\", 10.859018, 1, 0.0, 0.0, 0.0, 0, 0.0], [64, 90, \"Female\", 14, 1, \"Black or African American\", 2.0, 2, 190000.0, 1096, 0.0, 0.0, -4.0, 0, 0, 0, 0, 0, 0, 0, 0, 1, 4, 1, -3, NaN, -4, -4, NaN, 6.0, \"No, never married\", 0, 0, 0.0, 38.008218, \"obese\", 12.154785, 1, 0.0, 0.0, 0.0, 0, 0.0], [82, 125, \"Male\", 15, 0, \"White\", 2.0, 5, 79000.0, 250, 0.0, 0.0, 0.0, 0, 0, 0, 0, 0, 0, 0, 0, 0, 2, 0, -4, NaN, -4, 5, NaN, 2.0, \"No, never married\", 0, 0, 0.0, 22.804931, \"normal\", 11.277216, 0, 0.0, 0.0, 0.0, 5, 0.0], [84, 129, \"Female\", 15, 0, \"Asian or Pacific Islander\", 2.0, 2, 138000.0, 796, 0.0, 0.0, -4.0, 0, 0, 0, 0, 0, 0, 0, 0, 0, 4, 0, -4, NaN, 5, -4, NaN, 6.0, \"No, never married\", 0, 0, 0.0, 22.462722, \"normal\", 11.835016, 1, 0.0, 0.0, 0.0, 5, 0.0], [93, 152, \"Female\", 16, 0, \"Black or African American\", 2.0, 5, 0.0, 0, 1.0, 1.0, 0.0, 0, 0, 0, 0, 0, 0, 0, 0, 0, 2, 0, -3, NaN, 2, -4, NaN, 16.0, \"No, never married\", 1, 0, 0.0, 39.539715, \"obese\", 0.0, 0, 0.0, 0.0, 0.0, 2, 0.0], [98, 159, \"Female\", 15, 1, \"White\", 2.0, 3, 8000.0, 38, 1.0, 1.0, 0.0, 0, 0, 0, 0, 0, 0, 0, 0, 0, 1, 0, 5856, NaN, 2, -4, NaN, 6.0, \"No, never married\", 0, 0, 0.0, 34.326172, \"obese\", 8.987322, 0, 0.0, 0.0, 8.675393, 2, 0.0], [122, 197, \"Female\", 16, 0, \"White\", 2.0, 4, 264000.0, 989, 0.0, 0.0, 0.0, 0, 0, 0, 0, 0, 0, 0, 0, 0, 2, 0, -4, NaN, 3, -4, NaN, 0.0, \"Yes\", 0, 1, 1.0, 36.576483, \"obese\", 12.483708, 0, 11.0, 2.484907, 0.0, 3, 0.0], [126, 201, \"Male\", 14, 0, \"White\", 2.0, 4, 138929.0, 512, 0.0, 0.0, 0.0, 0, 0, 0, 0, 0, 0, 0, 0, 0, 1, 1, -4, NaN, -4, 5, NaN, 0.0, \"Yes\", 0, 1, 1.0, 25.675676, \"over\", 11.841725, 0, 18.333333, 2.961831, 0.0, 5, 0.0], [133, 215, \"Female\", 16, 1, \"Something else\", 2.0, 2, 205000.0, 1149, 0.0, 0.0, 0.0, 0, 0, 0, 0, 0, 0, 0, 0, 0, 4, 1, 71900, NaN, 6, -4, NaN, 9.0, \"Yes\", 1, 1, 1.0, 52.175781, \"obese\", 12.23077, 0, 23.416667, 3.195266, 11.183045, 6, 0.0], [151, 237, \"Female\", 15, 0, \"Asian or Pacific Islander\", NaN, 4, 20810.0, 78, 1.0, 0.0, -4.0, 0, 0, 0, 0, 0, 0, 0, 0, 1, 4, 0, -4, NaN, -4, -4, NaN, 2.0, \"No, never married\", 0, 0, 0.0, 33.197222, \"obese\", 9.943237, 1, 0.0, 0.0, 0.0, 0, 0.0], [162, 248, \"Male\", 15, 0, \"White\", 2.0, 2, 36686.0, 212, 0.0, 0.0, -4.0, 0, 0, 0, 0, 0, 0, 0, 0, 0, 2, 0, -4, NaN, -5, -5, NaN, 0.0, \"No, never married\", 0, 0, 0.0, 29.4, \"obese\", 10.510178, 1, 0.0, 0.0, 0.0, 0, 0.0], [169, 259, \"Male\", 16, 0, \"Black or African American\", 2.0, 2, 45100.0, 260, 0.0, 0.0, -4.0, 0, 0, 0, 0, 0, 0, 0, 0, 0, 4, 0, -4, NaN, -4, 4, NaN, 3.0, \"No, never married\", 0, 0, 0.0, 33.224344, \"obese\", 10.71666, 1, 0.0, 0.0, 0.0, 4, 0.0], [175, 267, \"Male\", 15, 1, \"Something else\", 1.0, 5, 127000.0, 411, 0.0, 0.0, 0.0, 0, 0, 0, 0, 0, 0, 0, 0, 1, 3, 0, 71100, NaN, -4, 5, NaN, 0.0, \"Yes\", 0, 1, 1.0, 27.976531, \"over\", 11.75195, 0, 16.166667, 2.84297, 11.171857, 5, 0.0], [202, 305, \"Female\", 16, 0, \"White\", 2.0, 5, 0.0, 0, 0.0, 0.0, 0.0, 0, 0, 0, 0, 0, 0, 0, 0, 0, 5, 0, -3, NaN, 3, -4, NaN, 5.0, \"Yes\", 0, 1, 1.0, 27.365917, \"over\", 0.0, 0, 16.916667, 2.885731, 0.0, 3, 0.0], [203, 306, \"Female\", 16, 0, \"White\", 2.0, 1, 132000.0, 980, 0.0, 0.0, -4.0, 0, 0, 0, 0, 0, 0, 0, 0, 0, 5, 0, -3, NaN, 2, -4, NaN, 1.0, \"No, never married\", 0, 0, 0.0, 23.025951, \"normal\", 11.790565, 1, 0.0, 0.0, 0.0, 2, 0.0], [204, 308, \"Female\", 15, 0, \"White\", 2.0, 6, 103000.0, 298, 0.0, 0.0, 0.0, 0, 0, 0, 0, 0, 0, 0, 0, 0, 4, 0, -3, NaN, -4, -4, NaN, 2.0, \"Yes\", 0, 1, 1.0, 37.195767, \"obese\", 11.542494, 0, 17.666667, 2.926739, 0.0, 0, 0.0], [217, 334, \"Female\", 16, 0, \"White\", 2.0, 4, 171993.0, 634, 0.0, 0.0, 0.0, 0, 0, 0, 0, 0, 0, 0, 0, 0, 4, 1, -4, NaN, -2, -4, NaN, 5.0, \"Yes\", 0, 1, 1.0, 35.505051, \"obese\", 12.055215, 0, 7.25, 2.110213, 0.0, 0, 0.0], [228, 346, \"Male\", 15, 1, \"Refusal\", 2.0, 12, 67000.0, 122, 0.0, 0.0, -4.0, 0, 0, 0, 0, 0, 0, 0, 0, 0, 2, 1, -3, NaN, -4, -4, NaN, 2.0, \"No, never married\", 0, 0, 0.0, 25.499082, \"over\", 11.112463, 1, 0.0, 0.0, 0.0, 0, 0.0], [237, 365, \"Female\", 16, 1, \"White\", 2.0, 4, 99806.0, 380, 0.0, 0.0, 0.0, 0, 0, 0, 0, 0, 0, 0, 0, 0, 4, 1, -4, NaN, 2, -4, NaN, 0.0, \"Yes\", 0, 1, 1.0, 32.446154, \"obese\", 11.510994, 0, 8.083333, 2.206441, 0.0, 2, 0.0], [238, 366, \"Male\", 15, 1, \"White\", 2.0, 3, 100000.0, 494, 0.0, 0.0, -4.0, 0, 0, 0, 0, 0, 0, 0, 0, 0, 3, 1, -4, NaN, -4, 2, NaN, 0.0, \"No, never married\", 0, 0, 0.0, 28.971931, \"over\", 11.512935, 1, 0.0, 0.0, 0.0, 2, 0.0], [243, 376, \"Female\", 12, 0, \"Black or African American\", 2.0, 4, 20000.0, 76, 0.0, 0.0, 0.0, 1, 0, 0, 0, 0, 0, 0, 0, 0, 2, 0, -3, NaN, -4, -4, NaN, 0.0, \"No, never married\", 0, 0, 0.0, 24.853535, \"normal\", 9.903538, 0, 0.0, 0.0, 0.0, 0, 0.0], [245, 381, \"Female\", 16, 0, \"White\", 2.0, 3, 99500.0, 478, 0.0, 0.0, 0.0, 0, 0, 1, 0, 0, 0, 0, 0, 0, 4, 0, -3, NaN, 5, -4, NaN, 0.0, \"Yes\", 0, 1, 1.0, 25.386111, \"over\", 11.507923, 0, 5.25, 1.832581, 0.0, 5, 0.0], [251, 390, \"Male\", 16, 0, \"Asian or Pacific Islander\", 2.0, 2, 160000.0, 923, 0.0, 0.0, -4.0, 0, 0, 0, 0, 0, 0, 0, 0, 0, 5, 1, -4, NaN, -4, 2, NaN, 0.0, \"Yes\", 0, 1, 1.0, 25.085424, \"over\", 11.982935, 1, 2.916667, 1.365241, 0.0, 2, 0.0], [252, 392, \"Male\", 13, 1, \"Something else\", 2.0, 2, 31000.0, 179, 0.0, 0.0, -4.0, 0, 0, 0, 0, 0, 0, 0, 0, 0, 3, 0, -4, NaN, -4, 4, NaN, 6.0, \"No, never married\", 0, 0, 0.0, 28.971931, \"over\", 10.341775, 1, 0.0, 0.0, 0.0, 4, 0.0], [257, 397, \"Male\", 16, 1, \"Something else\", 2.0, 4, 0.0, 0, 1.0, 1.0, 0.0, 0, 0, 0, 0, 0, 0, 0, 0, 0, 2, 1, -4, NaN, -4, 3, NaN, 3.0, \"No, never married\", 0, 0, 0.0, 29.531611, \"obese\", 0.0, 0, 0.0, 0.0, 0.0, 3, 0.0], [264, 410, \"Female\", 16, 1, \"Something else\", 2.0, 5, 55286.0, 169, 1.0, 1.0, 0.0, 1, 0, 0, 0, 0, 0, 0, 0, 0, 2, 1, -4, NaN, 4, -4, NaN, 1.0, \"Yes\", 0, 1, 1.0, 38.269822, \"obese\", 10.920293, 0, 3.666667, 1.540445, 0.0, 4, 0.0], [265, 412, \"Male\", 16, 0, \"Black or African American\", 2.0, 2, 128000.0, 739, 0.0, 0.0, -4.0, 0, 0, 0, 0, 0, 0, 0, 0, 0, 2, 0, -4, NaN, -4, 4, NaN, 0.0, \"No, never married\", 0, 0, 0.0, 64.640646, \"obese\", 11.759793, 1, 0.0, 0.0, 0.0, 4, 0.0], [266, 413, \"Female\", 16, 0, \"Black or African American\", 2.0, 1, 0.0, 0, 1.0, 1.0, -4.0, 0, 0, 0, 0, 0, 0, 0, 0, 0, 2, 0, 3000, NaN, 1, -4, NaN, 16.0, \"No, never married\", 1, 0, 0.0, 76.110047, \"obese\", 0.0, 1, 0.0, 0.0, 8.006701, 1, 0.0], [271, 421, \"Male\", 15, 0, \"Something else\", 2.0, 4, 145000.0, 552, 0.0, 0.0, 0.0, 0, 0, 0, 0, 0, 0, 0, 0, 0, 4, 1, 103000, NaN, -4, 4, NaN, 2.0, \"No, never married\", 0, 0, 0.0, 25.821855, \"over\", 11.884496, 0, 0.0, 0.0, 11.542494, 4, 0.0], [284, 440, \"Male\", 14, 1, \"Refusal\", 2.0, 2, 21500.0, 124, 0.0, 0.0, 0.0, 0, 0, 0, 0, 0, 0, 0, 0, 0, 0, 1, 4000, NaN, -4, 3, NaN, 0.0, \"Yes\", 0, 1, 1.0, 47.931818, \"obese\", 9.975855, 0, 5.916667, 1.933934, 8.2943, 3, 0.0], [286, 444, \"Male\", 15, 1, \"Refusal\", 2.0, 1, 78000.0, 579, 0.0, 0.0, -4.0, 0, 0, 0, 0, 0, 0, 0, 0, 0, 4, 0, -4, NaN, -5, -5, NaN, 5.0, \"No, never married\", 0, 0, 0.0, 21.615751, \"normal\", 11.264477, 1, 0.0, 0.0, 0.0, 0, 0.0], [289, 447, \"Female\", 13, 1, \"Something else\", 2.0, 2, 0.0, 0, 0.0, 0.0, 0.0, 0, 0, 0, 0, 0, 0, 0, 0, 0, 2, 1, -3, NaN, 1, -4, NaN, 0.0, \"No, never married\", 0, 0, 0.0, 38.665, \"obese\", 0.0, 0, 0.0, 0.0, 0.0, 1, 0.0], [291, 450, \"Male\", 13, 1, \"White\", 2.0, 3, 133000.0, 657, 0.0, 0.0, 0.0, 0, 0, 0, 0, 0, 0, 0, 0, 0, 1, 1, 14000, NaN, -5, -5, NaN, 0.0, \"No, never married\", 0, 0, 0.0, 24.40488, \"normal\", 11.798112, 0, 0.0, 0.0, 9.546884, 0, 0.0], [293, 452, \"Female\", 14, 1, \"White\", 2.0, 6, 20743.0, 58, 0.0, 0.0, 0.0, 0, 0, 0, 0, 0, 0, 0, 0, 0, 0, 0, 19500, NaN, -5, -5, NaN, 0.0, \"Yes\", 0, 1, 1.0, 58.450491, \"obese\", 9.940012, 0, 18.083333, 2.948815, 9.878221, 0, 0.0], [308, 469, \"Female\", 15, 1, \"Something else\", 2.0, 7, 115000.0, 274, 0.0, 0.0, 0.0, 0, 0, 0, 0, 0, 0, 0, 0, 0, 2, 0, -4, NaN, 3, -4, NaN, 7.0, \"No, never married\", 0, 0, 0.0, 24.207989, \"normal\", 11.652696, 0, 0.0, 0.0, 0.0, 3, 0.0], [309, 470, \"Male\", 16, 1, \"Something else\", 2.0, 2, 0.0, 0, 0.0, 0.0, 0.0, 0, 0, 0, 0, 0, 0, 0, 0, 0, 2, 1, 23000, NaN, -4, 5, NaN, 0.0, \"No, never married\", 0, 0, 0.0, 32.280612, \"obese\", 0.0, 0, 0.0, 0.0, 10.043293, 5, 0.0], [315, 476, \"Female\", 14, 1, \"Something else\", 2.0, 6, 135000.0, 378, 0.0, 0.0, 0.0, 0, 0, 1, 0, 0, 0, 0, 0, 0, 2, 0, -4, NaN, 4, -4, NaN, 2.0, \"Yes\", 0, 1, 1.0, 28.339156, \"over\", 11.813037, 0, 5.166667, 1.819158, 0.0, 4, 0.0], [325, 487, \"Female\", 14, 0, \"White\", 1.0, 5, 47288.0, 153, 0.0, 0.0, 0.0, 0, 0, 0, 0, 0, 0, 0, 0, 0, 2, 0, 34000, NaN, 5, -4, NaN, 0.0, \"Yes\", 0, 1, 1.0, 32.772267, \"obese\", 10.764033, 0, 16.666667, 2.87168, 10.434145, 5, 0.0], [329, 497, \"Female\", 16, 0, \"White\", 2.0, 4, 215000.0, 819, 0.0, 0.0, 0.0, 0, 0, 0, 0, 0, 0, 0, 0, 0, 5, 1, 76400, NaN, 5, -4, NaN, 1.0, \"Yes\", 0, 1, 1.0, 21.14168, \"normal\", 12.278398, 0, 14.333333, 2.730029, 11.243751, 5, 0.0], [332, 502, \"Male\", 15, 0, \"White\", 2.0, 2, 0.0, 0, 0.0, 0.0, -4.0, 0, 0, 0, 0, 0, 0, 0, 0, 0, 5, 1, 75000, NaN, -4, 1, NaN, 12.0, \"Yes\", 1, 1, 1.0, 43.395062, \"obese\", 0.0, 1, 11.416667, 2.51904, 11.225257, 1, 0.0], [338, 510, \"Male\", 16, 1, \"White\", 2.0, 4, 123000.0, 461, 0.0, 0.0, 0.0, 0, 0, 0, 0, 0, 0, 0, 0, 0, 2, 1, -4, NaN, -4, 4, NaN, 0.0, \"Yes\", 0, 1, 1.0, 35.549343, \"obese\", 11.719948, 0, 16.333333, 2.852631, 0.0, 4, 0.0], [342, 515, \"Male\", 13, 1, \"Something else\", 2.0, 7, 20000.0, 47, 1.0, 0.0, 0.0, 0, 0, 0, 0, 0, 0, 0, 0, 0, 0, 0, 18000, NaN, -4, 2, NaN, 4.0, \"No, never married\", 0, 0, 0.0, 17.881836, \"under\", 9.903538, 0, 0.0, 0.0, 9.798183, 2, 0.0], [343, 516, \"Male\", 15, 1, \"White\", 2.0, 3, 155000.0, 744, 1.0, 1.0, 0.0, 0, 0, 0, 0, 0, 0, 0, 0, 0, 2, 1, -4, NaN, -4, 5, NaN, 0.0, \"Yes\", 0, 1, 1.0, 26.443866, \"over\", 11.951187, 0, 9.583333, 2.35928, 0.0, 5, 0.0], [345, 518, \"Female\", 16, 1, \"White\", 2.0, 6, 212500.0, 584, 0.0, 0.0, 0.0, 0, 0, 0, 0, 0, 0, 0, 0, 0, 2, 0, 456, NaN, 6, -4, NaN, 0.0, \"Yes\", 0, 1, 1.0, 42.794485, \"obese\", 12.266702, 0, 23.25, 3.188417, 6.124683, 6, 0.0], [346, 519, \"Male\", 15, 1, \"Something else\", 2.0, 2, 114000.0, 658, 0.0, 0.0, -4.0, 0, 0, 0, 0, 0, 0, 0, 0, 0, 2, 0, -4, NaN, -4, 1, NaN, 0.0, \"No, never married\", 0, 0, 0.0, 27.875696, \"over\", 11.643962, 1, 0.0, 0.0, 0.0, 1, 0.0], [348, 521, \"Male\", 13, 1, \"Something else\", 2.0, 3, 48000.0, 237, 0.0, 0.0, -4.0, 0, 0, 0, 0, 0, 0, 0, 0, 0, 0, 0, 15000, NaN, -4, 3, NaN, 2.0, \"No, never married\", 0, 0, 0.0, 24.680941, \"normal\", 10.778977, 1, 0.0, 0.0, 9.615872, 3, 0.0], [350, 523, \"Male\", 15, 1, \"White\", 2.0, 4, 599728.0, 2718, 0.0, 0.0, 0.0, 0, 0, 0, 0, 0, 0, 0, 0, 0, 1, 1, -4, NaN, -4, 5, NaN, 5.0, \"Yes\", 0, 1, 1.0, 25.821855, \"over\", 13.304233, 0, 0.0, 0.0, 0.0, 5, 0.0], [357, 533, \"Female\", 15, 1, \"White\", 1.0, 4, 64000.0, 244, 0.0, 0.0, 0.0, 0, 0, 0, 0, 0, 0, 0, 0, 0, 2, 0, -4, NaN, 3, -4, NaN, 7.0, \"Yes\", 0, 1, 1.0, 31.882086, \"obese\", 11.066654, 0, 11.083333, 2.491827, 0.0, 3, 0.0], [359, 536, \"Male\", 14, 0, \"White\", 2.0, 5, 179600.0, 581, 0.0, 0.0, 0.0, 0, 0, 0, 0, 0, 0, 0, 0, 0, 0, 0, 36960, NaN, -4, 3, NaN, 0.0, \"Yes\", 0, 1, 1.0, 36.277913, \"obese\", 12.098493, 0, 6.5, 2.014903, 10.517619, 3, 0.0], [388, 583, \"Female\", 15, 0, \"White\", 1.0, 4, 307000.0, 1170, 0.0, 0.0, 0.0, 0, 0, 0, 0, 0, 0, 0, 0, 0, 4, 1, -4, NaN, 3, -4, NaN, 4.0, \"Yes\", 0, 1, 1.0, 35.773964, \"obese\", 12.634606, 0, 16.25, 2.847812, 0.0, 3, 0.0], [394, 591, \"Female\", 12, 1, \"White\", 2.0, 3, 144114.0, 712, 0.0, 0.0, -4.0, 0, 0, 0, 0, 0, 0, 0, 0, 0, 2, 0, 14000, NaN, -4, -4, NaN, 1.0, \"No, never married\", 0, 0, 0.0, 35.42454, \"obese\", 11.878367, 1, 0.0, 0.0, 9.546884, 0, 0.0], [397, 594, \"Female\", 15, 0, \"Black or African American\", 2.0, 3, 48993.0, 235, 1.0, 1.0, 0.0, 0, 0, 0, 0, 0, 0, 0, 0, 0, 2, 0, 32220, NaN, 2, -4, NaN, 0.0, \"Yes\", 0, 1, 1.0, 24.234415, \"normal\", 10.799453, 0, 0.0, 0.0, 10.380374, 2, 0.0], [401, 600, \"Female\", 16, 1, \"White\", 2.0, 6, 125000.0, 343, 0.0, 0.0, 0.0, 0, 0, 0, 0, 0, 0, 0, 0, 0, 1, 0, -4, NaN, -5, -5, NaN, 10.0, \"No, never married\", 1, 0, 0.0, 27.432362, \"over\", 11.736077, 0, 0.0, 0.0, 0.0, 0, 0.0], [406, 606, \"Female\", 14, 0, \"White\", 2.0, 2, 120000.0, 673, 0.0, 0.0, 0.0, 0, 0, 0, 0, 0, 0, 0, 0, 0, 1, 0, 11157, NaN, 4, -4, NaN, 10.0, \"No, never married\", 1, 0, 0.0, 25.790533, \"over\", 11.695255, 0, 0.0, 0.0, 9.319912, 4, 0.0], [440, 659, \"Female\", 14, 1, \"Something else\", 2.0, 3, 94000.0, 464, 0.0, 1.0, 0.0, 0, 0, 0, 0, 0, 0, 0, 0, 0, 0, 1, 68500, NaN, 3, -4, NaN, 12.0, \"No, never married\", 1, 0, 0.0, 25.499082, \"over\", 11.451061, 0, 0.0, 0.0, 11.134604, 3, 0.0], [447, 667, \"Female\", 12, 0, \"Something else\", 2.0, 3, 217000.0, 1072, 0.0, 0.0, -4.0, 0, 0, 0, 0, 0, 0, 0, 0, 0, 5, 1, 35000, NaN, -4, -4, NaN, 3.0, \"Yes\", 0, 1, 1.0, 24.95858, \"normal\", 12.287657, 1, 10.5, 2.442347, 10.463132, 0, 0.0], [449, 671, \"Female\", 16, 0, \"Black or African American\", 2.0, 4, 0.0, 0, 0.0, 0.0, 0.0, 1, 0, 0, 0, 0, 0, 0, 0, 0, 4, 1, 60650, NaN, 2, -4, NaN, 3.0, \"Yes\", 0, 1, 1.0, 36.487889, \"obese\", 0.0, 0, 0.0, 0.0, 11.012891, 2, 0.0], [460, 686, \"Male\", 13, 0, \"White\", 2.0, 5, 158000.0, 512, 0.0, 0.0, 0.0, 0, 0, 0, 0, 1, 0, 0, 0, 0, 1, 0, 35100, NaN, -4, 4, NaN, 3.0, \"Yes\", 0, 1, 1.0, 41.344255, \"obese\", 11.970357, 0, 14.083333, 2.71359, 10.465985, 4, 0.0], [463, 690, \"Male\", 14, 1, \"Something else\", 2.0, 4, 78000.0, 297, 0.0, 0.0, 0.0, 0, 0, 0, 0, 0, 0, 0, 0, 0, 1, 1, -3, NaN, -4, 4, NaN, 1.0, \"No, never married\", 0, 0, 0.0, 37.970679, \"obese\", 11.264477, 0, 0.0, 0.0, 0.0, 4, 0.0], [479, 715, \"Male\", 14, 1, \"Something else\", 2.0, 6, 599728.0, 2718, 0.0, 0.0, 0.0, 0, 0, 0, 0, 0, 0, 0, 0, 0, 2, 0, 8250, NaN, -4, 5, NaN, 4.0, \"No, never married\", 0, 0, 0.0, 25.845588, \"over\", 13.304233, 0, 0.0, 0.0, 9.01809, 5, 0.0], [505, 751, \"Male\", 13, 0, \"Black or African American\", 2.0, 5, 9100.0, 29, 0.0, 0.0, 0.0, 1, 0, 0, 0, 0, 0, 0, 0, 0, 2, 0, 4968, NaN, -4, -4, NaN, 2.0, \"Yes\", 0, 1, 1.0, 28.886246, \"over\", 9.11614, 0, 3.583333, 1.522427, 8.510974, 0, 0.0], [506, 752, \"Male\", 14, 0, \"Black or African American\", 2.0, 2, 140000.0, 808, 0.0, 1.0, -4.0, 0, 0, 0, 0, 0, 0, 0, 0, 0, 2, 0, 30620, NaN, -4, 2, NaN, 9.0, \"No, never married\", 1, 0, 0.0, 40.004823, \"obese\", 11.849405, 1, 0.0, 0.0, 10.329441, 2, 0.0], [523, 788, \"Male\", 13, 0, \"White\", 2.0, 1, 84000.0, 624, 0.0, 0.0, 0.0, 0, 0, 0, 0, 0, 0, 0, 0, 0, 1, 0, 88160, NaN, -4, 5, NaN, 0.0, \"No, never married\", 0, 0, 0.0, 27.799961, \"over\", 11.338584, 0, 0.0, 0.0, 11.38692, 5, 0.0], [545, 822, \"Female\", 16, 1, \"Something else\", 2.0, 4, 190000.0, 724, 0.0, 0.0, 0.0, 0, 0, 1, 0, 0, 0, 0, 0, 0, 2, 0, -4, NaN, 2, -4, NaN, 2.0, \"Yes\", 0, 1, 1.0, 26.21416, \"over\", 12.154785, 0, 11.583333, 2.532373, 0.0, 2, 0.0], [559, 841, \"Male\", 16, 0, \"Asian or Pacific Islander\", 2.0, 3, 178500.0, 857, 0.0, 0.0, 0.0, 1, 0, 0, 0, 0, 0, 0, 0, 0, 2, 0, -4, NaN, -4, 3, NaN, 1.0, \"Yes\", 0, 1, 1.0, 27.759714, \"over\", 12.092349, 0, 2.583333, 1.276293, 0.0, 3, 0.0], [564, 848, \"Female\", 15, 0, \"Black or African American\", 2.0, 2, 90000.0, 519, 0.0, 0.0, -4.0, 0, 0, 0, 0, 0, 0, 0, 0, 0, 5, 0, 22600, NaN, 4, -4, NaN, 0.0, \"No, never married\", 0, 0, 0.0, 29.225246, \"obese\", 11.407576, 1, 0.0, 0.0, 10.025749, 4, 0.0], [594, 886, \"Female\", 15, 0, \"Refusal\", 2.0, 2, 130000.0, 729, 0.0, 0.0, 0.0, 0, 0, 0, 0, 0, 0, 0, 0, 0, 3, 0, -4, NaN, -5, -5, NaN, 0.0, \"Yes\", 0, 1, 1.0, 27.405881, \"over\", 11.775297, 0, 0.0, 0.0, 0.0, 0, 0.0], [595, 888, \"Male\", 16, 0, \"Black or African American\", 2.0, 5, 180743.0, 571, 0.0, 0.0, 0.0, 0, 0, 0, 0, 0, 0, 0, 0, 0, 1, 1, -4, NaN, -5, -5, NaN, 4.0, \"Yes\", 0, 1, 1.0, 29.64641, \"obese\", 12.104837, 0, 25.0, 3.258097, 0.0, 0, 0.0], [597, 891, \"Male\", 16, 1, \"White\", 2.0, 2, 124000.0, 715, 0.0, 0.0, -4.0, 0, 0, 0, 0, 0, 0, 0, 0, 0, 5, 1, -4, NaN, -4, 4, NaN, 0.0, \"Yes\", 0, 1, 1.0, 31.377703, \"obese\", 11.728045, 1, 9.583333, 2.35928, 0.0, 4, 0.0], [602, 902, \"Female\", 13, 1, \"Something else\", 2.0, 5, 200000.0, 621, 0.0, 0.0, 0.0, 0, 0, 0, 0, 0, 0, 0, 0, 0, 1, 1, 12600, NaN, 4, -4, NaN, 4.0, \"Yes\", 0, 1, 1.0, 27.460938, \"over\", 12.206078, 0, 18.916667, 2.991557, 9.441531, 4, 0.0], [642, 968, \"Male\", 13, 0, \"White\", 2.0, 3, 121700.0, 584, 0.0, 0.0, 0.0, 0, 0, 0, 0, 0, 0, 0, 0, 0, 4, 1, 83750, NaN, -4, 4, NaN, 1.0, \"Yes\", 0, 1, 1.0, 21.410418, \"normal\", 11.709322, 0, 6.416667, 2.00373, 11.335603, 4, 0.0], [664, 998, \"Male\", 15, 0, \"Something else\", 2.0, 1, 10000.0, 74, 0.0, 0.0, -4.0, 0, 0, 0, 0, 0, 0, 0, 0, 0, 2, 0, 1007, NaN, -4, 3, NaN, 3.0, \"No, never married\", 0, 0, 0.0, 32.63243, \"obese\", 9.21044, 1, 0.0, 0.0, 6.915723, 3, 0.0], [665, 1001, \"Female\", 14, 0, \"Asian or Pacific Islander\", 2.0, 4, 73200.0, 279, 0.0, 0.0, 0.0, 0, 0, 0, 0, 0, 0, 0, 0, 0, 2, 1, -4, NaN, 2, -4, NaN, 0.0, \"Yes\", 0, 1, 1.0, 37.550013, \"obese\", 11.200964, 0, 17.916667, 2.940043, 0.0, 2, 0.0], [682, 1027, \"Female\", 14, 0, \"White\", 2.0, 7, 75000.0, 194, 0.0, 0.0, 0.0, 0, 0, 0, 0, 0, 0, 0, 0, 0, 2, 0, 46000, NaN, 4, -4, NaN, 10.0, \"Yes\", 1, 1, 1.0, 30.663453, \"obese\", 11.225257, 0, 9.5, 2.351375, 10.736418, 4, 0.0], [687, 1033, \"Female\", 15, 0, \"Black or African American\", 2.0, 3, 51000.0, 252, 0.0, 0.0, 0.0, 0, 0, 0, 0, 0, 0, 0, 0, 0, 2, 0, -4, NaN, 5, -4, NaN, 4.0, \"No, never married\", 0, 0, 0.0, 22.296331, \"normal\", 10.839601, 0, 0.0, 0.0, 0.0, 5, 0.0], [689, 1036, \"Male\", 12, 0, \"Black or African American\", 2.0, 6, 0.0, 0, 0.0, 0.0, 0.0, 0, 0, 0, 0, 0, 0, 0, 0, 0, 0, 0, 5042, NaN, -4, -4, NaN, 3.0, \"No, never married\", 0, 0, 0.0, 27.460938, \"over\", 0.0, 0, 0.0, 0.0, 8.525756, 0, 0.0], [708, 1061, \"Male\", 14, 0, \"Black or African American\", 2.0, 1, 0.0, 0, 0.0, 0.0, 0.0, 0, 0, 0, 0, 0, 0, 0, 0, 0, 2, 0, -3, NaN, -5, -5, NaN, 2.0, \"Yes\", 0, 1, 1.0, 28.362732, \"over\", 0.0, 0, 3.166667, 1.427116, 0.0, 0, 0.0], [720, 1089, \"Female\", 16, 0, \"White\", 2.0, 4, 152000.0, 579, 0.0, 0.0, 0.0, 0, 0, 0, 0, 0, 0, 0, 0, 0, 2, 0, -4, NaN, -5, -5, NaN, 4.0, \"Yes\", 0, 1, 1.0, 33.833247, \"obese\", 11.931642, 0, 17.833333, 2.935628, 0.0, 0, 0.0], [728, 1097, \"Female\", 16, 0, \"Black or African American\", 2.0, 1, 75000.0, 557, 0.0, 0.0, 0.0, 0, 0, 0, 0, 0, 0, 0, 0, 0, 1, 0, -3, NaN, 6, -4, NaN, 3.0, \"No, never married\", 0, 0, 0.0, 24.544336, \"normal\", 11.225257, 0, 0.0, 0.0, 0.0, 6, 0.0], [747, 1124, \"Male\", 16, 0, \"Black or African American\", 2.0, 5, 0.0, 0, 0.0, 0.0, 0.0, 0, 0, 0, 0, 0, 0, 0, 0, 0, 6, 0, -4, NaN, -4, 5, NaN, 0.0, \"Yes\", 0, 1, 1.0, 30.341527, \"obese\", 0.0, 0, 15.75, 2.818398, 0.0, 5, 0.0], [761, 1150, \"Female\", 16, 1, \"Something else\", 2.0, 4, 150000.0, 572, 0.0, 0.0, 0.0, 0, 0, 0, 0, 0, 0, 0, 0, 0, 2, 1, 43200, NaN, 5, -4, NaN, 3.0, \"Yes\", 0, 1, 1.0, 22.860302, \"normal\", 11.918397, 0, 14.416667, 2.735449, 10.673619, 5, 0.0], [762, 1151, \"Female\", 13, 1, \"Something else\", 2.0, 4, 145000.0, 543, 1.0, 1.0, -4.0, 0, 0, 0, 0, 0, 0, 0, 0, 0, 3, 1, 43200, NaN, 3, -4, NaN, 1.0, \"Yes\", 0, 1, 1.0, 19.270626, \"normal\", 11.884496, 1, 10.333333, 2.427748, 10.673619, 3, 0.0], [766, 1157, \"Male\", 14, 0, \"White\", 2.0, 3, 71236.0, 352, 0.0, 0.0, -4.0, 0, 0, 0, 0, 0, 0, 0, 0, 0, 2, 1, -4, NaN, -4, 5, NaN, 6.0, \"No, never married\", 0, 0, 0.0, 24.363579, \"normal\", 11.173768, 1, 0.0, 0.0, 0.0, 5, 0.0], [775, 1170, \"Male\", 15, 0, \"White\", 2.0, 2, 5000.0, 29, 0.0, 1.0, -4.0, 0, 0, 0, 0, 0, 0, 0, 0, 0, 2, 0, -4, NaN, -4, -4, NaN, 13.0, \"No, never married\", 1, 0, 0.0, 25.765818, \"over\", 8.517393, 1, 0.0, 0.0, 0.0, 0, 0.0], [776, 1171, \"Female\", 13, 0, \"White\", 2.0, 1, 170100.0, 1263, 0.0, 0.0, -4.0, 0, 0, 0, 0, 0, 0, 0, 0, 0, 4, 0, -4, NaN, 2, -4, NaN, 3.0, \"No, never married\", 0, 0, 0.0, 36.311983, \"obese\", 12.044148, 1, 0.0, 0.0, 0.0, 2, 0.0], [790, 1193, \"Male\", 15, 0, \"White\", 2.0, 3, 85229.0, 421, 0.0, 0.0, 0.0, 0, 0, 0, 0, 0, 0, 0, 0, 0, 2, 0, -4, NaN, -4, 4, NaN, 7.0, \"No, never married\", 0, 0, 0.0, 25.033784, \"over\", 11.353109, 0, 0.0, 0.0, 0.0, 4, 0.0], [802, 1207, \"Female\", 13, 0, \"Black or African American\", 2.0, 4, 37500.0, 142, 0.0, 0.0, 0.0, 0, 0, 0, 0, 0, 0, 0, 0, 0, 2, 0, -3, NaN, -4, -4, NaN, -3.0, \"No, never married\", 0, 0, 0.0, 30.986226, \"obese\", 10.532123, 0, 0.0, 0.0, 0.0, 0, 0.0], [803, 1208, \"Male\", 13, 0, \"Black or African American\", 2.0, 1, 50000.0, 371, 0.0, 0.0, 0.0, 0, 0, 0, 0, 0, 0, 0, 0, 0, 1, 0, -3, NaN, -4, 1, NaN, 5.0, \"Yes\", 0, 1, 1.0, 29.285856, \"obese\", 10.819798, 0, 9.916667, 2.390291, 0.0, 1, 0.0], [807, 1213, \"Male\", 16, 0, \"Black or African American\", 2.0, 3, 86686.0, 428, 0.0, 0.0, -4.0, 1, 0, 0, 0, 0, 0, 0, 0, 0, 4, 0, -4, NaN, -4, 3, NaN, 12.0, \"No, never married\", 1, 0, 0.0, 32.277319, \"obese\", 11.370059, 1, 0.0, 0.0, 0.0, 3, 0.0], [811, 1219, \"Male\", 15, 0, \"Black or African American\", 2.0, 1, 46666.0, 347, 0.0, 0.0, -4.0, 0, 0, 0, 0, 0, 0, 0, 0, 0, 3, 0, -4, NaN, -4, 4, NaN, 4.0, \"No, never married\", 0, 0, 0.0, 27.976531, \"over\", 10.750793, 1, 0.0, 0.0, 0.0, 4, 0.0], [840, 1255, \"Female\", 12, 0, \"White\", 2.0, 4, 135800.0, 517, 0.0, 0.0, 0.0, 0, 0, 0, 0, 0, 0, 0, 0, 0, 3, 0, 65000, NaN, 5, -4, NaN, 6.0, \"Yes\", 0, 1, 1.0, 29.4, \"obese\", 11.818946, 0, 7.666667, 2.159484, 11.082158, 5, 0.0], [846, 1264, \"Female\", 13, 0, \"White\", 2.0, 3, 127714.0, 631, 0.0, 0.0, 0.0, 0, 0, 0, 0, 0, 0, 0, 0, 0, 2, 1, -4, NaN, 3, -4, NaN, 9.0, \"No, never married\", 1, 0, 0.0, 24.363579, \"normal\", 11.757556, 0, 0.0, 0.0, 0.0, 3, 0.0], [877, 1316, \"Male\", 12, 0, \"White\", 2.0, 4, 109002.0, 415, 0.0, 0.0, 0.0, 0, 0, 0, 0, 0, 0, 0, 0, 1, 2, 1, 34200, NaN, -4, 2, NaN, 3.0, \"Yes\", 0, 1, 1.0, 33.902392, \"obese\", 11.599131, 0, 12.166667, 2.577688, 10.44001, 2, 0.0], [888, 1330, \"Male\", 16, 0, \"White\", 2.0, 2, 175000.0, 1010, 0.0, 0.0, -4.0, 0, 0, 0, 0, 0, 0, 0, 0, 0, 4, 1, -4, NaN, -4, 5, NaN, 0.0, \"No, never married\", 0, 0, 0.0, 29.022331, \"obese\", 12.072547, 1, 0.0, 0.0, 0.0, 5, 0.0], [902, 1351, \"Male\", 12, 1, \"White\", 2.0, 5, 58000.0, 188, 0.0, 0.0, 0.0, 0, 0, 0, 0, 0, 0, 0, 0, 0, 2, 1, 0, NaN, -4, -4, NaN, 2.0, \"No, never married\", 0, 0, 0.0, 25.494599, \"over\", 10.968216, 0, 0.0, 0.0, 0.0, 0, 0.0], [917, 1372, \"Male\", 14, 0, \"White\", 1.0, 2, 0.0, 0, 1.0, 0.0, 0.0, 0, 0, 0, 0, 0, 0, 0, 0, 0, 1, 1, 26750, NaN, -4, 4, NaN, 9.0, \"No, never married\", 1, 0, 0.0, 40.68287, \"obese\", 0.0, 0, 0.0, 0.0, 10.194327, 4, 0.0], [927, 1385, \"Female\", 14, 1, \"Something else\", 2.0, 8, 44000.0, 97, 0.0, 0.0, 0.0, 0, 0, 0, 0, 0, 0, 0, 0, 0, 0, 0, -3, NaN, 2, -4, NaN, 0.0, \"No, never married\", 0, 0, 0.0, 29.261186, \"obese\", 10.691968, 0, 0.0, 0.0, 0.0, 2, 0.0], [947, 1413, \"Female\", 14, 0, \"White\", 1.0, 4, 125000.0, 476, 0.0, 0.0, 0.0, 0, 0, 0, 0, 0, 0, 0, 0, 0, 2, 0, 37500, NaN, -5, -5, NaN, 0.0, \"Yes\", 0, 1, 1.0, 33.111716, \"obese\", 11.736077, 0, 12.75, 2.621039, 10.532123, 0, 0.0], [953, 1422, \"Female\", 13, 0, \"Black or African American\", 2.0, 2, 0.0, 0, 0.0, 0.0, 0.0, 1, 0, 0, 0, 0, 0, 0, 0, 0, 0, 0, -3, NaN, -4, -4, NaN, 0.0, \"No, never married\", 0, 0, 0.0, 23.713948, \"normal\", 0.0, 0, 0.0, 0.0, 0.0, 0, 0.0], [956, 1425, \"Female\", 12, 0, \"Black or African American\", 2.0, 9, 0.0, 0, 0.0, 0.0, 0.0, 0, 0, 0, 0, 0, 0, 0, 0, 0, 1, 0, -4, NaN, -4, -4, NaN, 3.0, \"No, never married\", 0, 0, 0.0, 32.918835, \"obese\", 0.0, 0, 0.0, 0.0, 0.0, 0, 0.0], [958, 1427, \"Female\", 15, 0, \"White\", 2.0, 5, 130000.0, 421, 0.0, 0.0, 0.0, 0, 0, 0, 0, 0, 0, 0, 0, 0, 2, 1, 156000, NaN, -5, -5, NaN, 1.0, \"Yes\", 0, 1, 1.0, 24.389796, \"normal\", 11.775297, 0, 14.333333, 2.730029, 11.957618, 0, 0.0], [982, 1459, \"Male\", 15, 0, \"White\", 2.0, 3, 93000.0, 459, 0.0, 0.0, -4.0, 0, 0, 0, 0, 0, 0, 0, 0, 0, 2, 1, -4, NaN, -4, -4, NaN, 12.0, \"No, never married\", 1, 0, 0.0, 28.478009, \"over\", 11.440366, 1, 0.0, 0.0, 0.0, 0, 0.0], [984, 1461, \"Male\", 16, 0, \"White\", 2.0, 2, 599728.0, 2718, 1.0, 1.0, -4.0, 0, 0, 0, 0, 0, 0, 0, 0, 0, 4, 0, -4, NaN, -4, 5, NaN, 0.0, \"No, never married\", 0, 0, 0.0, 26.383937, \"over\", 13.304233, 1, 0.0, 0.0, 0.0, 5, 0.0], [990, 1468, \"Female\", 14, 0, \"Black or African American\", 2.0, 4, 1200.0, 4, 1.0, 0.0, 0.0, 0, 0, 0, 0, 0, 0, 0, 1, 0, 2, 1, 33866, NaN, 2, -4, NaN, 9.0, \"No, never married\", 1, 0, 0.0, 61.317222, \"obese\", 7.09091, 0, 0.0, 0.0, 10.430196, 2, 0.0], [1051, 1552, \"Male\", 13, 0, \"Black or African American\", 2.0, 1, 58000.0, 431, 0.0, 0.0, -4.0, 0, 0, 0, 0, 0, 0, 0, 0, 0, 4, 0, 8500, NaN, -4, -4, NaN, 0.0, \"No, never married\", 0, 0, 0.0, 29.994667, \"obese\", 10.968216, 1, 0.0, 0.0, 9.047939, 0, 0.0], [1054, 1555, \"Female\", 12, 0, \"Black or African American\", 2.0, 2, 55000.0, 317, 1.0, 0.0, -4.0, 0, 0, 0, 0, 0, 0, 0, 0, 0, 4, 1, 69300, NaN, -4, -4, NaN, 0.0, \"No, never married\", 0, 0, 0.0, 33.63952, \"obese\", 10.915107, 1, 0.0, 0.0, 11.146215, 0, 0.0], [1055, 1556, \"Male\", 14, 0, \"Black or African American\", 2.0, 2, 0.0, 0, 0.0, 0.0, 0.0, 0, 0, 0, 0, 0, 0, 0, 0, 0, 2, 0, 15600, NaN, -4, 5, NaN, 1.0, \"No, never married\", 0, 0, 0.0, 25.102162, \"over\", 0.0, 0, 0.0, 0.0, 9.65509, 5, 0.0], [1074, 1580, \"Male\", 15, 1, \"Something else\", 1.0, 2, 0.0, 0, 0.0, 0.0, -4.0, 0, 0, 0, 0, 0, 0, 0, 0, 0, 1, 0, -4, NaN, -5, -5, NaN, 4.0, \"Yes\", 0, 1, 1.0, 19.933837, \"normal\", 0.0, 1, 2.583333, 1.276293, 0.0, 0, 0.0], [1075, 1581, \"Female\", 14, 1, \"Something else\", 2.0, 5, 60346.0, 195, 0.0, 0.0, 0.0, 0, 0, 0, 0, 0, 0, 0, 0, 0, 2, 0, -4, NaN, 1, -4, NaN, 0.0, \"None\", 0, 0, 0.0, 20.988304, \"normal\", 11.007867, 0, 3.166667, 1.427116, 0.0, 1, 0.0], [1088, 1601, \"Female\", 16, 0, \"White\", 2.0, 4, 0.0, 0, 0.0, 0.0, 0.0, 0, 0, 0, 0, 0, 0, 0, 0, 0, 4, 0, -4, NaN, 4, -4, NaN, 4.0, \"Yes\", 0, 1, 1.0, 23.490755, \"normal\", 0.0, 0, 9.5, 2.351375, 0.0, 4, 0.0], [1103, 1629, \"Male\", 12, 0, \"White\", 2.0, 4, 80000.0, 300, 1.0, 1.0, -4.0, 0, 0, 0, 0, 0, 0, 0, 0, 1, 4, 1, 82000, NaN, -4, -4, NaN, 8.0, \"No, never married\", 0, 0, 0.0, 47.609045, \"obese\", 11.289794, 1, 0.0, 0.0, 11.314487, 0, 0.0], [1111, 1644, \"Female\", 14, 0, \"White\", 2.0, 4, 599728.0, 2718, 0.0, 0.0, 0.0, 0, 0, 0, 0, 0, 0, 0, 0, 0, 7, 1, 76681, NaN, 4, -4, NaN, 1.0, \"Yes\", 0, 1, 1.0, 27.394518, \"over\", 13.304233, 0, 15.416667, 2.798297, 11.247422, 4, 0.0], [1121, 1661, \"Male\", 13, 0, \"White\", 2.0, 2, 0.0, 0, 0.0, 0.0, 0.0, 0, 0, 0, 0, 0, 0, 0, 0, 0, 1, 0, -4, NaN, -4, 2, NaN, -3.0, \"No, never married\", 0, 0, 0.0, 24.405142, \"normal\", 0.0, 0, 0.0, 0.0, 0.0, 2, 0.0], [1129, 1671, \"Female\", 15, 0, \"White\", NaN, 2, 20000.0, 115, 0.0, 0.0, -4.0, 0, 0, 0, 0, 0, 0, 0, 0, 0, 4, 0, -4, NaN, 3, -4, NaN, 0.0, \"No, never married\", 0, 0, 0.0, 19.575629, \"normal\", 9.903538, 1, 0.0, 0.0, 0.0, 3, 0.0], [1152, 1708, \"Male\", 16, 0, \"White\", 2.0, 2, 0.0, 0, 1.0, 1.0, 0.0, 0, 0, 0, 0, 0, 0, 0, 0, 0, 2, 0, -4, NaN, -4, 2, NaN, 5.0, \"Yes\", 0, 1, 1.0, 23.010315, \"normal\", 0.0, 0, 11.666667, 2.538974, 0.0, 2, 0.0], [1155, 1711, \"Male\", 13, 1, \"Something else\", 2.0, 1, 25000.0, 186, 0.0, 0.0, 0.0, 0, 0, 0, 0, 0, 0, 0, 0, 0, 0, 0, 15000, NaN, -4, 2, NaN, 0.0, \"No, never married\", 0, 0, 0.0, 36.677048, \"obese\", 10.126671, 0, 0.0, 0.0, 9.615872, 2, 0.0], [1162, 1720, \"Female\", 15, 1, \"White\", 1.0, 6, 56000.0, 154, 0.0, 0.0, 0.0, 0, 0, 0, 0, 0, 0, 0, 0, 0, 0, 0, -3, NaN, -5, -5, NaN, 0.0, \"No, never married\", 0, 0, 0.0, 31.550927, \"obese\", 10.933125, 0, 0.0, 0.0, 0.0, 0, 0.0], [1163, 1724, \"Male\", 14, 1, \"Something else\", 2.0, 4, 0.0, 0, 0.0, 0.0, 0.0, 0, 0, 0, 0, 0, 0, 0, 0, 0, 1, 0, 11674, NaN, -4, 2, NaN, 1.0, \"No, never married\", 0, 0, 0.0, 24.138503, \"normal\", 0.0, 0, 0.333333, 0.287682, 9.365205, 2, 0.0], [1184, 1764, \"Male\", 13, 0, \"White\", 2.0, 4, 16000.0, 61, 0.0, 0.0, 0.0, 0, 0, 0, 0, 0, 0, 0, 0, 0, 0, 0, -3, NaN, -4, 3, NaN, 5.0, \"No, never married\", 0, 0, 0.0, 17.648026, \"under\", 9.680406, 0, 0.166667, 0.154151, 0.0, 3, 0.0], [1191, 1772, \"Male\", 16, 0, \"White\", 2.0, 4, 106000.0, 391, 0.0, 0.0, 0.0, 0, 0, 0, 0, 0, 0, 0, 0, 0, 2, 1, -4, NaN, -4, 5, NaN, 0.0, \"Yes\", 0, 1, 1.0, 37.22973, \"obese\", 11.571204, 0, 21.416667, 3.109805, 0.0, 5, 0.0], [1211, 1797, \"Female\", 15, 0, \"White\", 2.0, 4, 203513.0, 775, 0.0, 0.0, 0.0, 0, 0, 0, 0, 0, 0, 0, 0, 0, 4, 0, 50900, NaN, -5, -5, NaN, 0.0, \"Yes\", 0, 1, 1.0, 31.751709, \"obese\", 12.22349, 0, 0.0, 0.0, 10.837638, 0, 0.0], [1245, 1838, \"Female\", 12, 0, \"Black or African American\", 2.0, 2, 36000.0, 208, 0.0, 0.0, -4.0, 0, 0, 0, 0, 0, 0, 0, 0, 0, 4, 1, 37750, NaN, -4, -4, NaN, 10.0, \"No, never married\", 1, 0, 0.0, 26.622485, \"over\", 10.491302, 1, 0.0, 0.0, 10.538767, 0, 0.0], [1246, 1839, \"Male\", 12, 0, \"Black or African American\", 2.0, 6, 68400.0, 198, 0.0, 1.0, 0.0, 0, 0, 0, 0, 0, 0, 0, 0, 0, 1, 0, 8364, NaN, -4, 5, NaN, 7.0, \"No, never married\", 0, 0, 0.0, 24.363579, \"normal\", 11.133143, 0, 0.0, 0.0, 9.031812, 5, 0.0], [1253, 1855, \"Female\", 15, 0, \"Asian or Pacific Islander\", 2.0, 5, 327000.0, 1059, 0.0, 0.0, 0.0, 0, 0, 0, 0, 0, 0, 0, 0, 0, 7, 1, 162500, NaN, -4, -4, NaN, 0.0, \"No, never married\", 0, 0, 0.0, 30.017906, \"obese\", 12.697719, 0, 0.0, 0.0, 11.998439, 0, 0.0], [1260, 1865, \"Male\", 12, 0, \"Something else\", 2.0, 3, 230000.0, 1104, 0.0, 0.0, 0.0, 0, 0, 0, 0, 0, 0, 0, 0, 0, 4, 0, -4, NaN, -4, 2, NaN, 1.0, \"Yes\", 0, 1, 1.0, 35.437933, \"obese\", 12.345839, 0, 7.416667, 2.130214, 0.0, 2, 0.0], [1281, 1893, \"Male\", 14, 0, \"White\", 2.0, 5, 599728.0, 2718, 1.0, 1.0, 1.0, 0, 0, 0, 0, 0, 0, 0, 0, 0, 2, 0, 70200, NaN, -4, 5, NaN, 4.0, \"No, never married\", 0, 0, 0.0, 26.430792, \"over\", 13.304233, 0, 0.0, 0.0, 11.159118, 5, 0.0], [1295, 1913, \"Female\", 13, 0, \"White\", 2.0, 4, 174000.0, 663, 0.0, 0.0, 0.0, 0, 0, 0, 0, 0, 0, 0, 0, 0, 2, 0, 85500, NaN, 5, -4, NaN, 10.0, \"Yes\", 1, 1, 1.0, 25.054891, \"over\", 12.066816, 0, 0.0, 0.0, 11.356283, 5, 0.0], [1308, 1934, \"Male\", 16, 1, \"Something else\", 2.0, 4, 40000.0, 152, 0.0, 0.0, 0.0, 0, 0, 0, 0, 0, 0, 0, 0, 0, 5, 0, 22700, NaN, -4, 2, NaN, 3.0, \"Yes\", 0, 1, 1.0, 31.563265, \"obese\", 10.59666, 0, 15.666667, 2.813411, 10.030164, 2, 0.0], [1309, 1935, \"Male\", 15, 1, \"Something else\", 2.0, 5, 80000.0, 259, 0.0, 0.0, 0.0, 0, 0, 0, 0, 0, 0, 0, 0, 0, 5, 0, 22700, NaN, -4, 2, NaN, 2.0, \"Yes\", 0, 1, 1.0, 26.911719, \"over\", 11.289794, 0, 16.916667, 2.885731, 10.030164, 2, 0.0], [1311, 1939, \"Female\", 13, 1, \"Something else\", 2.0, 5, 0.0, 0, 0.0, 0.0, 0.0, 0, 0, 0, 0, 0, 0, 0, 0, 0, 5, 0, 26000, NaN, -4, -4, NaN, 0.0, \"Yes\", 0, 1, 1.0, 30.541363, \"obese\", 0.0, 0, 23.083333, 3.18152, 10.16589, 0, 0.0], [1320, 1951, \"Female\", 12, 0, \"Black or African American\", 2.0, 5, 0.0, 0, 0.0, 0.0, 0.0, 1, 0, 0, 0, 0, 0, 0, 0, 0, 0, 0, -3, NaN, -4, -4, NaN, 0.0, \"No, never married\", 0, 0, 0.0, 34.826797, \"obese\", 0.0, 0, 0.0, 0.0, 0.0, 0, 0.0], [1349, 1998, \"Female\", 14, 0, \"White\", 2.0, 3, 108000.0, 533, 0.0, 0.0, 0.0, 1, 0, 0, 0, 1, 0, 0, 0, 0, 1, 1, -4, NaN, 4, -4, NaN, 5.0, \"Yes\", 0, 1, 1.0, 23.341797, \"normal\", 11.589896, 0, 14.25, 2.72458, 0.0, 4, 0.0], [1355, 2005, \"Female\", 14, 0, \"White\", 2.0, 3, 19000.0, 91, 0.0, 1.0, 0.0, 0, 0, 0, 0, 0, 0, 0, 0, 0, 0, 0, 22600, NaN, 2, -4, NaN, 11.0, \"No, never married\", 1, 0, 0.0, 23.490755, \"normal\", 9.852247, 0, 0.0, 0.0, 10.025749, 2, 0.0], [1357, 2009, \"Female\", 12, 0, \"White\", 2.0, 5, 30000.0, 99, 0.0, 0.0, 0.0, 0, 0, 0, 0, 0, 0, 0, 0, 0, 2, 0, 18000, NaN, 5, -4, NaN, 11.0, \"No, never married\", 1, 0, 0.0, 59.509913, \"obese\", 10.308986, 0, 0.0, 0.0, 9.798183, 5, 0.0], [1374, 2032, \"Male\", 15, 0, \"White\", 2.0, 4, 0.0, 0, 0.0, 0.0, 0.0, 0, 0, 0, 0, 0, 0, 0, 0, 0, 2, 1, -4, NaN, -4, 5, NaN, 0.0, \"Yes\", 0, 1, 1.0, 29.550009, \"obese\", 0.0, 0, 0.666667, 0.510826, 0.0, 5, 0.0], [1377, 2035, \"Female\", 14, 0, \"Black or African American\", 1.0, 3, 0.0, 0, 0.0, 0.0, 0.0, 0, 0, 0, 0, 0, 0, 0, 0, 0, 1, 1, 36400, NaN, 2, -4, NaN, 3.0, \"Yes\", 0, 1, 1.0, 28.188906, \"over\", 0.0, 0, 8.083333, 2.206441, 10.502352, 2, 0.0], [1383, 2043, \"Male\", 16, 0, \"White\", 2.0, 4, 300000.0, 1143, 0.0, 0.0, 0.0, 0, 0, 0, 0, 0, 0, 0, 0, 0, 4, 1, -4, NaN, -4, 2, NaN, 0.0, \"Yes\", 0, 1, 1.0, 30.845918, \"obese\", 12.611541, 0, 9.5, 2.351375, 0.0, 2, 0.0], [1385, 2047, \"Male\", 15, 0, \"White\", 2.0, 5, 164000.0, 531, 0.0, 0.0, 0.0, 0, 0, 0, 0, 0, 0, 0, 0, 0, 5, 1, -4, NaN, -4, 5, NaN, 0.0, \"Yes\", 0, 1, 1.0, 30.860534, \"obese\", 12.007628, 0, 14.666667, 2.751535, 0.0, 5, 0.0], [1390, 2058, \"Female\", 16, 0, \"White\", 1.0, 5, 129425.0, 419, 0.0, 0.0, 0.0, 0, 0, 0, 0, 0, 0, 0, 0, 0, 5, 1, -4, NaN, 5, -4, NaN, 1.0, \"Yes\", 0, 1, 1.0, 27.719091, \"over\", 11.770865, 0, 14.583333, 2.746202, 0.0, 5, 0.0], [1423, 2104, \"Female\", 14, 0, \"Black or African American\", 2.0, 4, 133000.0, 507, 0.0, 0.0, 0.0, 0, 0, 0, 0, 0, 0, 0, 0, 0, 4, 0, 15100, NaN, 3, -4, NaN, 0.0, \"Yes\", 0, 1, 1.0, 37.785542, \"obese\", 11.798112, 0, 15.583333, 2.808398, 9.622516, 3, 0.0], [1428, 2111, \"Male\", 14, 0, \"White\", 2.0, 3, 70000.0, 336, 0.0, 0.0, 0.0, 0, 0, 0, 0, 0, 0, 0, 0, 0, 3, 0, -4, NaN, -5, -5, NaN, 1.0, \"Yes\", 0, 1, 1.0, 28.126081, \"over\", 11.156265, 0, 7.583333, 2.149822, 0.0, 0, 0.0], [1429, 2113, \"Male\", 16, 0, \"White\", 2.0, 4, 41000.0, 151, 0.0, 0.0, 0.0, 0, 0, 0, 0, 1, 0, 0, 0, 0, 2, 0, -4, NaN, -4, 3, NaN, 4.0, \"Yes\", 0, 1, 1.0, 30.207031, \"obese\", 10.621352, 0, 8.666667, 2.268684, 0.0, 3, 0.0], [1436, 2123, \"Female\", 14, 0, \"White\", 2.0, 4, 126000.0, 480, 0.0, 0.0, 0.0, 0, 0, 0, 0, 0, 1, 0, 0, 0, 4, 1, 128300, NaN, -4, -4, NaN, 8.0, \"Yes\", 0, 1, 1.0, 22.148708, \"normal\", 11.744045, 0, 6.583333, 2.025953, 11.762134, 0, 0.0], [1454, 2152, \"Female\", 15, 0, \"White\", 2.0, 4, 155000.0, 591, 0.0, 0.0, 0.0, 0, 0, 0, 0, 0, 0, 0, 0, 0, 2, 0, 11900, NaN, -5, -5, NaN, 0.0, \"Yes\", 0, 1, 1.0, 25.386111, \"over\", 11.951187, 0, 17.166667, 2.899588, 9.384378, 0, 0.0], [1456, 2155, \"Male\", 13, 0, \"White\", 2.0, 2, 0.0, 0, 0.0, 0.0, -4.0, 0, 0, 0, 0, 0, 0, 0, 0, 0, 2, 0, 12440, NaN, -4, 1, NaN, 3.0, \"No, never married\", 0, 0, 0.0, 46.17189, \"obese\", 0.0, 1, 0.0, 0.0, 9.428753, 1, 0.0], [1457, 2156, \"Male\", 14, 0, \"White\", 2.0, 2, 20000.0, 115, 0.0, 0.0, -4.0, 0, 0, 0, 0, 0, 0, 0, 0, 0, 2, 0, 8050, NaN, -4, 3, NaN, 8.0, \"No, never married\", 0, 0, 0.0, 37.856185, \"obese\", 9.903538, 1, 0.0, 0.0, 8.993552, 3, 0.0], [1468, 2171, \"Female\", 15, 0, \"White\", 2.0, 4, 70000.0, 267, 0.0, 0.0, 0.0, 0, 0, 0, 0, 0, 0, 0, 0, 0, 2, 1, -3, NaN, 5, -4, NaN, 0.0, \"Yes\", 0, 1, 1.0, 24.9002, \"normal\", 11.156265, 0, 14.583333, 2.746202, 0.0, 5, 0.0], [1469, 2172, \"Male\", 14, 0, \"White\", 2.0, 4, 0.0, 0, 0.0, 0.0, -4.0, 0, 0, 0, 0, 0, 0, 0, 0, 0, 0, 1, -3, NaN, -4, 3, NaN, 3.0, \"No, never married\", 0, 0, 0.0, 23.745543, \"normal\", 0.0, 1, 0.0, 0.0, 0.0, 3, 0.0], [1479, 2186, \"Male\", 15, 0, \"White\", 2.0, 4, 136050.0, 518, 0.0, 0.0, 0.0, 0, 0, 0, 0, 0, 0, 0, 0, 0, 2, 0, -4, NaN, -4, 3, NaN, 0.0, \"Yes\", 0, 1, 1.0, 25.82449, \"over\", 11.820785, 0, 19.166667, 3.004031, 0.0, 3, 0.0], [1484, 2195, \"Female\", 16, 0, \"White\", 1.0, 4, 362714.0, 1382, 0.0, 0.0, 0.0, 0, 0, 0, 0, 0, 0, 0, 0, 0, 4, 1, 26000, NaN, 4, -4, NaN, 1.0, \"Yes\", 0, 1, 1.0, 27.365917, \"over\", 12.801373, 0, 14.333333, 2.730029, 10.16589, 4, 0.0], [1486, 2201, \"Female\", 15, 0, \"White\", 2.0, 4, 231750.0, 883, 0.0, 0.0, 0.0, 0, 0, 0, 0, 0, 0, 0, 0, 0, 5, 1, 161800, NaN, 5, -4, NaN, 0.0, \"Yes\", 0, 1, 1.0, 23.774714, \"normal\", 12.353419, 0, 12.166667, 2.577688, 11.994122, 5, 0.0], [1495, 2211, \"Male\", 16, 0, \"White\", 1.0, 4, 0.0, 0, 0.0, 0.0, 0.0, 0, 0, 0, 0, 0, 0, 0, 0, 0, 2, 1, -4, NaN, -4, 5, NaN, 0.0, \"Yes\", 0, 1, 1.0, 46.198485, \"obese\", 0.0, 0, 14.0, 2.70805, 0.0, 5, 0.0], [1525, 2258, \"Male\", 13, 0, \"White\", NaN, 1, 108000.0, 802, 0.0, 0.0, -4.0, 0, 0, 0, 0, 0, 0, 0, 0, 0, 2, 0, 37100, NaN, -4, 4, NaN, 8.0, \"No, never married\", 0, 0, 0.0, 34.002245, \"obese\", 11.589896, 1, 0.0, 0.0, 10.521399, 4, 0.0], [1542, 2279, \"Female\", 14, 0, \"Black or African American\", 2.0, 3, 15100.0, 72, 0.0, 0.0, 0.0, 0, 0, 0, 0, 0, 0, 0, 0, 0, 1, 0, 5043, NaN, 4, -4, NaN, 5.0, \"No, never married\", 0, 0, 0.0, 32.11771, \"obese\", 9.622516, 0, 0.0, 0.0, 8.525955, 4, 0.0], [1547, 2286, \"Male\", 13, 0, \"White\", 2.0, 3, 143000.0, 686, 0.0, 0.0, 0.0, 1, 0, 0, 0, 0, 0, 0, 0, 1, 5, 1, -3, NaN, -4, 2, NaN, 3.0, \"Yes\", 0, 1, 1.0, 24.40488, \"normal\", 11.870607, 0, 8.083333, 2.206441, 0.0, 2, 0.0], [1548, 2287, \"Male\", 15, 0, \"White\", 2.0, 3, 201250.0, 966, 0.0, 0.0, 0.0, 0, 0, 0, 0, 0, 0, 0, 0, 0, 2, 1, -4, NaN, -4, 5, NaN, 1.0, \"Yes\", 0, 1, 1.0, 33.46955, \"obese\", 12.212308, 0, 12.0, 2.564949, 0.0, 5, 0.0], [1559, 2302, \"Male\", 16, 0, \"White\", 2.0, 5, 57000.0, 175, 0.0, 0.0, 0.0, 0, 0, 0, 0, 0, 0, 0, 0, 0, 0, 1, 17500, NaN, -4, 2, NaN, 0.0, \"None\", 0, 0, 0.0, 27.435721, \"over\", 10.950824, 0, 16.916667, 2.885731, 9.770013, 2, 0.0], [1570, 2315, \"Male\", 14, 0, \"White\", 2.0, 5, 136000.0, 440, 0.0, 0.0, 0.0, 0, 0, 0, 0, 0, 0, 0, 0, 0, 2, 0, 33200, NaN, -4, 1, NaN, 0.0, \"Yes\", 0, 1, 1.0, 45.032895, \"obese\", 11.820418, 0, 11.75, 2.545531, 10.410335, 1, 0.0], [1576, 2321, \"Male\", 13, 0, \"White\", 2.0, 4, 52000.0, 198, 0.0, 0.0, 0.0, 0, 0, 0, 0, 0, 0, 0, 0, 0, 0, 1, -3, NaN, -4, 4, NaN, 0.0, \"Yes\", 0, 1, 1.0, 40.68287, \"obese\", 10.859018, 0, 9.75, 2.374906, 0.0, 4, 0.0], [1592, 2352, \"Female\", 12, 1, \"White\", 2.0, 2, 0.0, 0, 0.0, 0.0, 0.0, 0, 0, 0, 0, 0, 0, 0, 0, 0, 1, 1, 29500, NaN, 1, -4, NaN, 0.0, \"No, never married\", 0, 0, 0.0, 27.454438, \"over\", 0.0, 0, 0.0, 0.0, 10.292179, 1, 0.0], [1631, 2410, \"Male\", 16, 1, \"White\", 2.0, 4, 0.0, 0, 0.0, 0.0, 0.0, 0, 0, 0, 0, 0, 0, 0, 0, 0, 4, 0, -4, NaN, -4, 5, NaN, 1.0, \"Yes\", 0, 1, 1.0, 33.961353, \"obese\", 0.0, 0, 8.0, 2.197225, 0.0, 5, 0.0], [1634, 2414, \"Male\", 15, 1, \"Black or African American\", NaN, 1, 18500.0, 137, 1.0, 1.0, 0.0, 1, 0, 0, 1, 0, 0, 0, 0, 0, 1, 1, -4, NaN, -4, 4, NaN, 6.0, \"No, never married\", 0, 0, 0.0, 33.891892, \"obese\", 9.82558, 0, 0.0, 0.0, 0.0, 4, 0.0], [1641, 2426, \"Female\", 15, 0, \"White\", 1.0, 6, 56754.0, 159, 0.0, 0.0, 0.0, 0, 0, 0, 0, 0, 0, 0, 0, 0, 2, 1, -4, NaN, 5, -4, NaN, 8.0, \"Yes\", 0, 1, 1.0, 24.843031, \"normal\", 10.946499, 0, 6.416667, 2.00373, 0.0, 5, 0.0], [1652, 2441, \"Female\", 14, 0, \"White\", 2.0, 4, 48000.0, 183, 0.0, 0.0, 0.0, 0, 0, 0, 0, 0, 0, 0, 0, 0, 0, 0, 16176, NaN, 4, -4, NaN, 5.0, \"No, never married\", 0, 0, 0.0, 47.026855, \"obese\", 10.778977, 0, 0.0, 0.0, 9.691346, 4, 0.0], [1680, 2484, \"Female\", 12, 0, \"White\", 1.0, 3, 0.0, 0, 1.0, 0.0, 0.0, 0, 0, 0, 0, 0, 0, 0, 0, 0, 1, 1, -4, NaN, 5, -4, NaN, 0.0, \"No, never married\", 0, 0, 0.0, 33.653313, \"obese\", 0.0, 0, 0.0, 0.0, 0.0, 5, 0.0], [1712, 2529, \"Male\", 14, 0, \"White\", 2.0, 1, 0.0, 0, 0.0, 0.0, 0.0, 0, 0, 0, 0, 0, 0, 0, 0, 0, 1, 0, -4, NaN, -4, 5, NaN, 0.0, \"No, never married\", 0, 0, 0.0, 32.991133, \"obese\", 0.0, 0, 0.0, 0.0, 0.0, 5, 0.0], [1724, 2544, \"Male\", 12, 0, \"White\", 2.0, 3, 240000.0, 1151, 0.0, 0.0, 0.0, 0, 0, 0, 0, 0, 0, 0, 0, 0, 3, 1, 70500, NaN, -4, 5, NaN, 0.0, \"No, never married\", 0, 0, 0.0, 24.138503, \"normal\", 12.388398, 0, 0.0, 0.0, 11.163382, 5, 0.0], [1762, 2598, \"Male\", 14, 0, \"Black or African American\", 2.0, 2, 93000.0, 537, 0.0, 0.0, -4.0, 0, 0, 0, 0, 0, 0, 0, 0, 0, 2, 1, 28200, NaN, -4, 4, NaN, 0.0, \"No, never married\", 0, 0, 0.0, 22.496, \"normal\", 11.440366, 1, 0.0, 0.0, 10.247113, 4, 0.0], [1776, 2617, \"Female\", 13, 0, \"White\", 2.0, 4, 160000.0, 610, 0.0, 0.0, 0.0, 0, 0, 0, 0, 0, 0, 0, 0, 0, 4, 1, 64025, NaN, -4, -4, NaN, 11.0, \"Yes\", 1, 1, 1.0, 34.326172, \"obese\", 11.982935, 0, 16.083333, 2.838103, 11.067045, 0, 0.0], [1794, 2651, \"Female\", 14, 0, \"White\", 1.0, 3, 5000.0, 24, 1.0, 1.0, 0.0, 0, 0, 0, 0, 0, 0, 0, 0, 0, 1, 0, 4623, NaN, 5, -4, NaN, 12.0, \"Yes\", 1, 1, 1.0, 38.405307, \"obese\", 8.517393, 0, 13.416667, 2.668385, 8.439015, 5, 0.0], [1841, 2718, \"Female\", 14, 0, \"Black or African American\", 2.0, 3, 40650.0, 195, 0.0, 0.0, 0.0, 0, 0, 0, 0, 0, 0, 0, 0, 0, 2, 0, 38000, NaN, 4, -4, NaN, 0.0, \"No, never married\", 0, 0, 0.0, 44.297417, \"obese\", 10.612779, 0, 0.0, 0.0, 10.545368, 4, 0.0], [1845, 2723, \"Female\", 16, 0, \"White\", 1.0, 3, 5000.0, 25, 1.0, 1.0, 0.0, 0, 0, 0, 0, 0, 0, 0, 0, 0, 2, 0, -4, NaN, 2, -4, NaN, 2.0, \"Yes\", 0, 1, 1.0, 24.430385, \"normal\", 8.517393, 0, 11.833333, 2.552046, 0.0, 2, 0.0], [1865, 2752, \"Male\", 16, 0, \"White\", 2.0, 4, 182000.0, 693, 0.0, 0.0, 0.0, 0, 0, 0, 0, 0, 0, 0, 0, 0, 7, 1, -4, NaN, -4, 2, NaN, 0.0, \"Yes\", 0, 1, 1.0, 25.107143, \"over\", 12.111767, 0, 11.75, 2.545531, 0.0, 2, 0.0], [1893, 2788, \"Male\", 15, 0, \"White\", 2.0, 4, 111536.0, 425, 0.0, 0.0, 0.0, 0, 0, 0, 0, 0, 0, 0, 0, 0, 2, 1, -4, NaN, -4, 2, NaN, 0.0, \"Yes\", 0, 1, 1.0, 41.49941, \"obese\", 11.622112, 0, 15.25, 2.788093, 0.0, 2, 0.0], [1894, 2789, \"Male\", 15, 0, \"White\", 2.0, 3, 73000.0, 350, 0.0, 0.0, 0.0, 1, 0, 0, 0, 0, 0, 0, 0, 0, 2, 1, -4, NaN, -4, 5, NaN, 5.0, \"Yes\", 0, 1, 1.0, 20.672128, \"normal\", 11.198228, 0, 0.5, 0.405465, 0.0, 5, 0.0], [1901, 2800, \"Female\", 14, 0, \"White\", 2.0, 5, 90000.0, 291, 0.0, 0.0, 0.0, 0, 0, 0, 0, 0, 0, 0, 0, 0, 4, 1, 74250, NaN, 3, -4, NaN, 0.0, \"Yes\", 0, 1, 1.0, 27.953609, \"over\", 11.407576, 0, 17.25, 2.904165, 11.215207, 3, 0.0], [1903, 2803, \"Female\", 15, 0, \"Black or African American\", 2.0, 6, 145000.0, 398, 0.0, 0.0, 0.0, 0, 0, 0, 0, 0, 0, 0, 0, 0, 1, 1, 8260, NaN, 5, -4, NaN, 2.0, \"Yes\", 0, 1, 1.0, 34.453108, \"obese\", 11.884496, 0, 8.416667, 2.242481, 9.019301, 5, 0.0], [1913, 2819, \"Male\", 14, 0, \"Black or African American\", 2.0, 4, 10000.0, 38, 0.0, 0.0, 0.0, 0, 0, 0, 0, 0, 0, 0, 0, 0, 1, 0, 39500, NaN, -4, 1, NaN, 0.0, \"No, never married\", 0, 0, 0.0, 35.867347, \"obese\", 9.21044, 0, 0.0, 0.0, 10.584081, 1, 0.0], [1915, 2821, \"Female\", 14, 0, \"Black or African American\", 2.0, 3, 0.0, 0, 1.0, 1.0, 0.0, 0, 0, 0, 0, 0, 0, 0, 0, 0, 1, 0, -4, NaN, -4, -4, NaN, 17.0, \"No, never married\", 1, 0, 0.0, 29.756614, \"obese\", 0.0, 0, 0.0, 0.0, 0.0, 0, 0.0], [5104, 7365, \"Male\", 15, 0, \"Black or African American\", 1.0, 1, 7500.0, 56, 1.0, 1.0, -4.0, 0, 0, 0, 0, 0, 0, 0, 0, 0, 2, 1, -4, NaN, -4, 4, NaN, 3.0, \"No, never married\", 0, 0, 0.0, 21.520408, \"normal\", 8.922792, 1, 0.0, 0.0, 0.0, 4, 0.0], [5111, 7374, \"Male\", 14, 0, \"Black or African American\", 2.0, 3, 31000.0, 149, 0.0, 0.0, 0.0, 0, 0, 0, 0, 0, 0, 0, 0, 0, 4, 0, 11137, NaN, -4, 3, NaN, 0.0, \"Yes\", 0, 1, 1.0, 53.80102, \"obese\", 10.341775, 0, 3.75, 1.558145, 9.318118, 3, 0.0], [5124, 7389, \"Female\", 12, 0, \"Black or African American\", 2.0, 1, 0.0, 0, 1.0, 1.0, 0.0, 0, 0, 1, 0, 0, 0, 0, 0, 0, 2, 0, -3, NaN, -4, -4, NaN, 15.0, \"No, never married\", 1, 0, 0.0, 20.595703, \"normal\", 0.0, 0, 0.0, 0.0, 0.0, 0, 0.0], [5133, 7401, \"Male\", 13, 1, \"Something else\", 2.0, 5, 15000.0, 47, 1.0, 1.0, 0.0, 0, 0, 0, 0, 0, 0, 0, 0, 0, 0, 0, -4, NaN, -4, -4, NaN, 6.0, \"No, never married\", 0, 0, 0.0, 36.576483, \"obese\", 9.615872, 0, 0.0, 0.0, 0.0, 0, 0.0], [5152, 7431, \"Female\", 15, 1, \"Something else\", 2.0, 6, 145000.0, 398, 0.0, 0.0, 0.0, 1, 0, 0, 0, 0, 0, 0, 0, 0, 2, 1, -4, NaN, 5, -4, NaN, 0.0, \"Yes\", 0, 1, 1.0, 33.121945, \"obese\", 11.884496, 0, 21.5, 3.113515, 0.0, 5, 0.0], [5153, 7432, \"Male\", 14, 1, \"Something else\", 2.0, 5, 158000.0, 512, 0.0, 0.0, 0.0, 0, 0, 0, 0, 0, 0, 0, 0, 0, 2, 1, -4, NaN, -4, 5, NaN, 0.0, \"Yes\", 0, 1, 1.0, 34.110059, \"obese\", 11.970357, 0, 12.166667, 2.577688, 0.0, 5, 0.0], [5155, 7437, \"Female\", 16, 1, \"Something else\", 2.0, 7, 107571.0, 260, 0.0, 0.0, 0.0, 0, 0, 0, 0, 0, 0, 0, 0, 0, 4, 0, -3, NaN, 2, -4, NaN, 1.0, \"Yes\", 0, 1, 1.0, 31.739855, \"obese\", 11.585916, 0, 15.083333, 2.777784, 0.0, 2, 0.0], [5157, 7439, \"Male\", 13, 1, \"Something else\", 2.0, 2, 0.0, 0, 0.0, 0.0, -4.0, 0, 0, 0, 0, 0, 0, 0, 0, 0, 1, 1, 17200, NaN, -4, 2, NaN, 0.0, \"No, never married\", 0, 0, 0.0, 60.835119, \"obese\", 0.0, 1, 0.0, 0.0, 9.752723, 2, 0.0], [5159, 7444, \"Female\", 14, 1, \"Something else\", 2.0, 5, 91200.0, 288, 0.0, 0.0, 0.0, 0, 0, 0, 0, 0, 0, 0, 0, 0, 3, 1, 28300, NaN, -2, -4, NaN, 0.0, \"Yes\", 0, 1, 1.0, 34.006987, \"obese\", 11.420821, 0, 9.25, 2.327278, 10.250652, 0, 0.0], [5160, 7445, \"Female\", 13, 1, \"Something else\", 2.0, 4, 156000.0, 575, 0.0, 0.0, 0.0, 0, 0, 0, 0, 0, 0, 0, 0, 0, 4, 1, 28300, NaN, 2, -4, NaN, 1.0, \"Yes\", 0, 1, 1.0, 34.759444, \"obese\", 11.957618, 0, 18.333333, 2.961831, 10.250652, 2, 0.0], [5163, 7448, \"Male\", 15, 1, \"Something else\", 2.0, 7, 135000.0, 327, 0.0, 0.0, 0.0, 0, 0, 0, 0, 0, 0, 0, 0, 0, 1, 1, -4, NaN, -4, 4, NaN, 0.0, \"Yes\", 0, 1, 1.0, 31.321007, \"obese\", 11.813037, 0, 13.25, 2.656757, 0.0, 4, 0.0], [5168, 7455, \"Female\", 16, 1, \"Something else\", 1.0, 4, 140000.0, 533, 0.0, 0.0, 0.0, 0, 0, 0, 0, 0, 0, 0, 0, 0, 2, 1, 17500, NaN, -4, -4, NaN, 2.0, \"Yes\", 0, 1, 1.0, 32.918835, \"obese\", 11.849405, 0, 11.583333, 2.532373, 9.770013, 0, 0.0], [5171, 7459, \"Female\", 16, 1, \"Something else\", 1.0, 4, 120000.0, 457, 0.0, 0.0, 0.0, 0, 0, 0, 0, 0, 0, 0, 0, 0, 3, 0, 23000, NaN, 6, -4, NaN, 9.0, \"Yes\", 1, 1, 1.0, 24.797178, \"normal\", 11.695255, 0, 8.833333, 2.285778, 10.043293, 6, 0.0], [5175, 7465, \"Male\", 14, 1, \"White\", 2.0, 9, 50000.0, 96, 0.0, 0.0, 0.0, 0, 0, 0, 0, 0, 0, 0, 0, 0, 2, 0, -4, NaN, -5, -5, NaN, 0.0, \"Yes\", 0, 1, 1.0, 33.46955, \"obese\", 10.819798, 0, 15.583333, 2.808398, 0.0, 0, 0.0], [5176, 7466, \"Female\", 13, 1, \"White\", 2.0, 5, 74286.0, 241, 0.0, 0.0, 0.0, 0, 0, 0, 0, 0, 0, 0, 0, 0, 2, 0, -4, NaN, -5, -5, NaN, 3.0, \"No, never married\", 0, 0, 0.0, 39.32124, \"obese\", 11.215691, 0, 0.0, 0.0, 0.0, 0, 0.0], [5178, 7470, \"Female\", 15, 1, \"White\", 2.0, 6, 23000.0, 67, 0.0, 0.0, 0.0, 0, 0, 0, 0, 0, 0, 0, 0, 0, 2, 1, 11000, NaN, 3, -4, NaN, 0.0, \"No, never married\", 0, 0, 0.0, 33.468018, \"obese\", 10.043293, 0, 0.0, 0.0, 9.305741, 3, 0.0], [5194, 7489, \"Female\", 14, 1, \"White\", 1.0, 3, 0.0, 0, 0.0, 0.0, 0.0, 0, 0, 0, 0, 0, 0, 0, 0, 0, 3, 0, 16274, NaN, 5, -4, NaN, 1.0, \"Yes\", 0, 1, 1.0, 29.177246, \"obese\", 0.0, 0, 14.916667, 2.767367, 9.697385, 5, 0.0], [5197, 7493, \"Male\", 15, 1, \"Something else\", 2.0, 4, 255000.0, 972, 0.0, 0.0, 0.0, 0, 0, 0, 0, 0, 0, 0, 0, 0, 2, 1, -4, NaN, -4, 4, NaN, 2.0, \"Yes\", 0, 1, 1.0, 25.675676, \"over\", 12.449023, 0, 4.333333, 1.673976, 0.0, 4, 0.0], [5199, 7495, \"Male\", 15, 1, \"Something else\", 1.0, 5, 53000.0, 165, 0.0, 0.0, -4.0, 0, 0, 0, 0, 0, 0, 0, 0, 0, 2, 0, 5700, NaN, -4, 2, NaN, 5.0, \"No, never married\", 0, 0, 0.0, 35.258488, \"obese\", 10.878066, 1, 0.0, 0.0, 8.648397, 2, 0.0], [5203, 7502, \"Female\", 16, 1, \"Something else\", 2.0, 10, 12000.0, 21, 0.0, 0.0, 0.0, 0, 0, 0, 0, 0, 0, 0, 0, 0, 0, 0, 7000, NaN, -4, -4, NaN, 6.0, \"No, never married\", 0, 0, 0.0, 25.682792, \"over\", 9.392745, 0, 0.0, 0.0, 8.853808, 0, 0.0], [5206, 7505, \"Female\", 16, 1, \"Something else\", 2.0, 6, 100000.0, 275, 0.0, 0.0, 0.0, 0, 0, 0, 0, 0, 0, 0, 0, 0, 2, 1, -4, NaN, -5, -5, NaN, 0.0, \"Yes\", 0, 1, 1.0, 39.933728, \"obese\", 11.512935, 0, 21.833333, 3.128221, 0.0, 0, 0.0], [5217, 7518, \"Female\", 12, 1, \"Something else\", 2.0, 7, 33000.0, 80, 0.0, 0.0, 0.0, 0, 0, 0, 0, 0, 0, 0, 0, 0, 2, 0, 9076, NaN, 3, -4, NaN, 3.0, \"Yes\", 0, 1, 1.0, 41.87793, \"obese\", 10.404293, 0, 18.666667, 2.978925, 9.113499, 3, 0.0], [5219, 7521, \"Male\", 12, 1, \"Something else\", 2.0, 5, 150000.0, 486, 0.0, 0.0, 0.0, 0, 0, 0, 0, 0, 0, 0, 0, 0, 2, 1, 7000, NaN, -4, 2, NaN, 3.0, \"Yes\", 0, 1, 1.0, 30.110859, \"obese\", 11.918397, 0, 3.0, 1.386294, 8.853808, 2, 0.0], [5223, 7527, \"Male\", 15, 1, \"Something else\", 2.0, 4, 152000.0, 560, 0.0, 0.0, 0.0, 0, 0, 0, 0, 0, 0, 0, 0, 0, 2, 1, -3, NaN, -4, 5, NaN, 3.0, \"No, never married\", 0, 0, 0.0, 31.470386, \"obese\", 11.931642, 0, 0.0, 0.0, 0.0, 5, 0.0], [5227, 7536, \"Female\", 12, 1, \"Something else\", 2.0, 3, 140000.0, 672, 0.0, 0.0, 0.0, 1, 0, 0, 0, 0, 0, 0, 0, 0, 3, 1, 25000, NaN, 4, -4, NaN, 3.0, \"No, never married\", 0, 0, 0.0, 35.773964, \"obese\", 11.849405, 0, 0.0, 0.0, 10.126671, 4, 0.0], [5231, 7545, \"Male\", 12, 1, \"White\", 2.0, 2, 148000.0, 854, 0.0, 0.0, -4.0, 0, 0, 0, 0, 0, 0, 0, 0, 0, 1, 1, 21600, NaN, -4, 2, NaN, 4.0, \"No, never married\", 0, 0, 0.0, 45.649351, \"obese\", 11.904974, 1, 0.0, 0.0, 9.980495, 2, 0.0], [5238, 7558, \"Male\", 13, 1, \"White\", 2.0, 4, 56000.0, 213, 0.0, 0.0, 0.0, 0, 0, 0, 0, 0, 0, 0, 0, 0, 2, 1, 28730, NaN, -4, 4, NaN, 6.0, \"No, never married\", 0, 0, 0.0, 25.799445, \"over\", 10.933125, 0, 0.0, 0.0, 10.265732, 4, 0.0], [5253, 7581, \"Male\", 15, 1, \"White\", 1.0, 2, 5000.0, 28, 0.0, 0.0, 0.0, 0, 0, 0, 0, 0, 0, 0, 0, 0, 0, 1, -3, NaN, -5, -5, NaN, 2.0, \"No, never married\", 0, 0, 0.0, 36.614583, \"obese\", 8.517393, 0, 0.0, 0.0, 0.0, 0, 0.0], [5258, 7589, \"Female\", 15, 1, \"Something else\", 2.0, 2, 80000.0, 448, 0.0, 0.0, 0.0, 0, 0, 0, 0, 0, 0, 0, 0, 0, 1, 0, -3, NaN, 5, -4, NaN, 1.0, \"No, never married\", 0, 0, 0.0, 39.32124, \"obese\", 11.289794, 0, 0.0, 0.0, 0.0, 5, 0.0], [5259, 7594, \"Female\", 16, 1, \"Something else\", 2.0, 2, 100000.0, 577, 0.0, 0.0, 0.0, 0, 0, 0, 0, 0, 0, 0, 0, 0, 0, 0, 38300, NaN, 4, -4, NaN, 1.0, \"No, never married\", 0, 0, 0.0, 31.132857, \"obese\", 11.512935, 0, 0.0, 0.0, 10.553231, 4, 0.0], [5279, 7625, \"Male\", 12, 0, \"Black or African American\", 2.0, 1, 0.0, 0, 0.0, 0.0, -4.0, 0, 0, 0, 0, 0, 0, 0, 0, 0, 2, 0, 17000, NaN, -4, -4, NaN, 11.0, \"No, never married\", 1, 0, 0.0, 29.834105, \"obese\", 0.0, 1, 0.0, 0.0, 9.741027, 0, 0.0], [5281, 7627, \"Female\", 14, 0, \"Black or African American\", 2.0, 5, 183000.0, 592, 0.0, 0.0, 0.0, 0, 0, 0, 0, 0, 0, 0, 0, 0, 5, 1, 76200, NaN, -4, -4, NaN, 0.0, \"Yes\", 0, 1, 1.0, 23.294675, \"normal\", 12.117247, 0, 10.583333, 2.449567, 11.24113, 0, 0.0], [5287, 7634, \"Female\", 13, 0, \"Black or African American\", 1.0, 2, 101250.0, 584, 0.0, 0.0, -4.0, 0, 0, 0, 0, 0, 0, 0, 0, 0, 4, 1, 45000, NaN, 2, -4, NaN, 8.0, \"No, never married\", 0, 0, 0.0, 33.513477, \"obese\", 11.525358, 1, 0.0, 0.0, 10.71444, 2, 0.0], [5291, 7638, \"Male\", 12, 0, \"Black or African American\", 2.0, 2, 32000.0, 185, 0.0, 0.0, -4.0, 0, 0, 0, 0, 0, 0, 0, 0, 0, 2, 1, 48000, NaN, -4, -4, NaN, 3.0, \"No, never married\", 0, 0, 0.0, 43.742222, \"obese\", 10.373522, 1, 0.0, 0.0, 10.778977, 0, 0.0], [5297, 7647, \"Male\", 12, 0, \"Black or African American\", 2.0, 4, 108000.0, 410, 0.0, 0.0, 0.0, 0, 0, 0, 0, 0, 0, 0, 0, 0, 1, 1, -4, NaN, -4, 3, NaN, 2.0, \"No, never married\", 0, 0, 0.0, 23.745543, \"normal\", 11.589896, 0, 0.0, 0.0, 0.0, 3, 0.0], [5307, 7659, \"Female\", 16, 1, \"White\", 2.0, 5, 95000.0, 295, 0.0, 0.0, 0.0, 0, 0, 0, 0, 0, 0, 0, 0, 0, 3, 0, -4, NaN, 5, -4, NaN, 6.0, \"Yes\", 0, 1, 1.0, 29.177246, \"obese\", 11.461643, 0, 20.916667, 3.087247, 0.0, 5, 0.0], [5312, 7664, \"Female\", 14, 0, \"Black or African American\", 2.0, 6, 119000.0, 344, 0.0, 0.0, 0.0, 0, 0, 0, 0, 0, 0, 0, 0, 0, 2, 0, 21900, NaN, 2, -4, NaN, 1.0, \"No, never married\", 0, 0, 0.0, 21.453857, \"normal\", 11.686887, 0, 0.0, 0.0, 9.994288, 2, 0.0], [5313, 7665, \"Female\", 14, 0, \"Black or African American\", 2.0, 5, 97500.0, 316, 0.0, 0.0, 0.0, 0, 0, 0, 0, 0, 0, 0, 0, 0, 5, 0, -4, NaN, -4, -4, NaN, 4.0, \"Yes\", 0, 1, 1.0, 32.115932, \"obese\", 11.487618, 0, 16.75, 2.876386, 0.0, 0, 0.0], [5315, 7672, \"Male\", 15, 0, \"Black or African American\", 2.0, 1, 115000.0, 854, 0.0, 0.0, -4.0, 0, 0, 0, 0, 0, 0, 0, 0, 0, 4, 0, -4, NaN, -4, 2, NaN, 0.0, \"No, never married\", 0, 0, 0.0, 30.680421, \"obese\", 11.652696, 1, 0.0, 0.0, 0.0, 2, 0.0], [5330, 7695, \"Female\", 13, 0, \"Black or African American\", 2.0, 5, 153000.0, 475, 0.0, 0.0, 0.0, 0, 0, 0, 0, 0, 0, 0, 0, 0, 2, 0, 10315, NaN, 1, -4, NaN, 3.0, \"No, never married\", 0, 0, 0.0, 26.948333, \"over\", 11.9382, 0, 0.0, 0.0, 9.241451, 1, 0.0], [5350, 7719, \"Female\", 15, 0, \"Black or African American\", 2.0, 3, 58700.0, 282, 0.0, 0.0, 0.0, 0, 0, 0, 0, 0, 0, 0, 0, 0, 0, 0, -3, NaN, -4, -4, NaN, 0.0, \"No, never married\", 0, 0, 0.0, 25.291361, \"over\", 10.980212, 0, 0.0, 0.0, 0.0, 0, 0.0], [5367, 7743, \"Male\", 16, 0, \"Black or African American\", 2.0, 5, 40000.0, 130, 0.0, 0.0, 0.0, 0, 0, 0, 0, 0, 0, 0, 0, 0, 1, 0, -4, NaN, -4, 4, NaN, 4.0, \"Yes\", 0, 1, 1.0, 32.253289, \"obese\", 10.59666, 0, 14.5, 2.74084, 0.0, 4, 0.0], [5379, 7763, \"Male\", 14, 0, \"Black or African American\", 2.0, 1, 2000.0, 15, 0.0, 1.0, -4.0, 0, 0, 0, 0, 0, 0, 0, 0, 0, 0, 0, 8000, NaN, -4, 2, NaN, 14.0, \"No, never married\", 1, 0, 0.0, 22.313033, \"normal\", 7.601402, 1, 0.0, 0.0, 8.987322, 2, 0.0], [5380, 7765, \"Male\", 15, 0, \"Black or African American\", 2.0, 2, 214657.0, 1239, 0.0, 0.0, 0.0, 0, 0, 0, 0, 0, 0, 0, 0, 0, 2, 0, -4, NaN, -4, 5, NaN, 0.0, \"No, never married\", 0, 0, 0.0, 23.364865, \"normal\", 12.276801, 0, 0.0, 0.0, 0.0, 5, 0.0], [5392, 7780, \"Male\", 14, 0, \"Black or African American\", 1.0, 3, 0.0, 0, 0.0, 0.0, 0.0, 0, 0, 0, 0, 0, 0, 0, 0, 0, 2, 1, -3, NaN, -4, 4, NaN, 0.0, \"No, never married\", 0, 0, 0.0, 29.754957, \"obese\", 0.0, 0, 4.5, 1.704748, 0.0, 4, 0.0], [5394, 7783, \"Male\", 14, 0, \"Black or African American\", 2.0, 2, 5000.0, 29, 0.0, 0.0, 0.0, 1, 0, 0, 0, 0, 0, 0, 0, 0, 1, 0, 6850, NaN, -4, 2, NaN, 2.0, \"No, never married\", 0, 0, 0.0, 22.375579, \"normal\", 8.517393, 0, 0.0, 0.0, 8.83215, 2, 0.0], [5414, 7806, \"Male\", 14, 0, \"Black or African American\", 2.0, 1, 0.0, 0, 0.0, 0.0, 0.0, 0, 0, 0, 0, 0, 0, 0, 0, 0, 1, 0, 36000, NaN, -4, 3, NaN, 3.0, \"No, never married\", 0, 0, 0.0, 35.570923, \"obese\", 0.0, 0, 0.0, 0.0, 10.491302, 3, 0.0], [5424, 7818, \"Female\", 12, 0, \"Black or African American\", 2.0, 3, 10000.0, 48, 0.0, 0.0, 0.0, 0, 0, 0, 0, 0, 0, 0, 0, 0, 1, 0, 7800, NaN, 5, -4, NaN, 0.0, \"No, never married\", 0, 0, 0.0, 30.724246, \"obese\", 9.21044, 0, 0.0, 0.0, 8.962007, 5, 0.0], [5429, 7825, \"Male\", 13, 0, \"Black or African American\", 2.0, 3, 9771.0, 48, 0.0, 0.0, -4.0, 0, 0, 0, 0, 0, 0, 0, 0, 0, 1, 0, -3, NaN, -5, -5, NaN, 0.0, \"Yes\", 0, 1, 1.0, 28.885135, \"over\", 9.187276, 1, 13.833333, 2.696877, 0.0, 0, 0.0], [5432, 7828, \"Female\", 15, 1, \"Don't know\", NaN, 3, 62500.0, 300, 0.0, 0.0, 0.0, 0, 0, 0, 0, 0, 0, 0, 0, 0, 5, 1, -4, NaN, -4, -4, NaN, 4.0, \"Yes\", 0, 1, 1.0, 20.894722, \"normal\", 11.042938, 0, 5.833333, 1.921813, 0.0, 0, 0.0], [5445, 7842, \"Male\", 15, 0, \"Black or African American\", 2.0, 1, 37500.0, 278, 0.0, 0.0, 0.0, 0, 0, 0, 0, 0, 0, 0, 0, 0, 2, 0, -3, NaN, -5, -5, NaN, 5.0, \"No, never married\", 0, 0, 0.0, 34.213958, \"obese\", 10.532123, 0, 0.0, 0.0, 0.0, 0, 0.0], [5466, 7867, \"Female\", 13, 0, \"Black or African American\", 2.0, 2, 60460.0, 339, 0.0, 0.0, 0.0, 0, 0, 0, 0, 0, 0, 0, 0, 0, 1, 0, 23424, NaN, -4, -4, NaN, 3.0, \"No, never married\", 0, 0, 0.0, 25.505241, \"over\", 11.009754, 0, 0.0, 0.0, 10.061559, 0, 0.0], [5467, 7868, \"Male\", 14, 0, \"Black or African American\", 2.0, 3, 46600.0, 230, 0.0, 0.0, -4.0, 0, 0, 0, 0, 0, 0, 0, 0, 0, 0, 0, -4, NaN, -4, 3, NaN, 8.0, \"No, never married\", 0, 0, 0.0, 31.147612, \"obese\", 10.749377, 1, 0.0, 0.0, 0.0, 3, 0.0], [5469, 7870, \"Female\", 13, 0, \"Black or African American\", 2.0, 4, 51200.0, 194, 1.0, 1.0, 0.0, 0, 0, 0, 0, 0, 0, 0, 0, 0, 3, 0, 2808, NaN, 2, -4, NaN, 19.0, \"No, never married\", 1, 0, 0.0, 29.85652, \"obese\", 10.843514, 0, 0.0, 0.0, 7.940584, 2, 0.0], [5471, 7874, \"Female\", 14, 0, \"Black or African American\", 2.0, 4, 6000.0, 22, 0.0, 0.0, 0.0, 0, 0, 0, 0, 0, 0, 0, 0, 0, 2, 0, 7800, NaN, 5, -4, NaN, 3.0, \"No, never married\", 0, 0, 0.0, 29.950296, \"obese\", 8.699681, 0, 0.0, 0.0, 8.962007, 5, 0.0], [5473, 7877, \"Male\", 13, 0, \"Black or African American\", 2.0, 7, 25000.0, 65, 0.0, 0.0, 0.0, 0, 0, 0, 0, 0, 0, 0, 0, 0, 3, 1, 5700, NaN, -4, -4, NaN, 0.0, \"No, never married\", 0, 0, 0.0, 34.864114, \"obese\", 10.126671, 0, 0.0, 0.0, 8.648397, 0, 0.0], [5477, 7881, \"Female\", 12, 0, \"Black or African American\", 2.0, 3, 195000.0, 935, 0.0, 0.0, 0.0, 0, 0, 0, 0, 0, 0, 0, 0, 0, 5, 0, -4, NaN, -4, -4, NaN, 1.0, \"Yes\", 0, 1, 1.0, 25.790533, \"over\", 12.18076, 0, 0.0, 0.0, 0.0, 0, 0.0], [5479, 7884, \"Female\", 14, 0, \"Black or African American\", 2.0, 8, 42931.0, 95, 0.0, 0.0, 0.0, 0, 0, 0, 0, 0, 0, 0, 0, 0, 0, 0, 7500, NaN, 2, -4, NaN, 8.0, \"Yes\", 0, 1, 1.0, 29.177246, \"obese\", 10.667373, 0, 13.666667, 2.685577, 8.922792, 2, 0.0], [5488, 7899, \"Female\", 13, 1, \"White\", 2.0, 4, 67143.0, 256, 0.0, 0.0, 0.0, 0, 0, 0, 0, 0, 0, 0, 0, 0, 0, 0, -4, NaN, 4, -4, NaN, 0.0, \"No, never married\", 0, 0, 0.0, 24.323361, \"normal\", 11.114595, 0, 0.0, 0.0, 0.0, 4, 0.0], [5504, 7922, \"Male\", 13, 0, \"Black or African American\", 2.0, 5, 218514.0, 669, 0.0, 0.0, -4.0, 0, 0, 0, 0, 0, 0, 0, 0, 0, 5, 0, -3, NaN, -4, -4, NaN, 1.0, \"No, never married\", 0, 0, 0.0, 42.214299, \"obese\", 12.29461, 1, 0.0, 0.0, 0.0, 0, 0.0], [5509, 7929, \"Male\", 15, 0, \"Black or African American\", 2.0, 3, 2500.0, 12, 1.0, 1.0, -4.0, 1, 0, 0, 0, 0, 0, 0, 0, 0, 2, 1, -4, NaN, -4, -4, NaN, 1.0, \"No, never married\", 0, 0, 0.0, 36.019158, \"obese\", 7.824446, 1, 0.0, 0.0, 0.0, 0, 0.0], [5510, 7930, \"Male\", 13, 0, \"Black or African American\", 2.0, 3, 46000.0, 227, 0.0, 0.0, 0.0, 0, 0, 0, 0, 0, 0, 0, 0, 0, 2, 1, -4, NaN, -4, -4, NaN, 3.0, \"No, never married\", 0, 0, 0.0, 34.58044, \"obese\", 10.736418, 0, 0.0, 0.0, 0.0, 0, 0.0], [5530, 7958, \"Female\", 16, 0, \"Black or African American\", 1.0, 3, 9000.0, 43, 0.0, 0.0, 0.0, 0, 0, 0, 1, 0, 0, 0, 0, 0, 2, 0, -4, NaN, 3, -4, NaN, 0.0, \"No, never married\", 0, 0, 0.0, 42.265138, \"obese\", 9.105091, 0, 0.0, 0.0, 0.0, 3, 0.0], [5540, 7971, \"Female\", 12, 0, \"Black or African American\", 1.0, 6, 0.0, 0, 1.0, 1.0, 0.0, 0, 0, 0, 0, 0, 0, 0, 0, 0, 1, 0, 20000, NaN, -4, -4, NaN, 9.0, \"No, never married\", 1, 0, 0.0, 57.143667, \"obese\", 0.0, 0, 0.0, 0.0, 9.903538, 0, 0.0], [5544, 7976, \"Male\", 13, 0, \"Black or African American\", 1.0, 2, 130000.0, 750, 0.0, 0.0, -4.0, 0, 0, 0, 0, 0, 0, 0, 0, 0, 2, 0, 10000, NaN, -4, -4, NaN, 1.0, \"No, never married\", 0, 0, 0.0, 19.663387, \"normal\", 11.775297, 1, 0.0, 0.0, 9.21044, 0, 0.0], [5547, 7980, \"Female\", 14, 0, \"Black or African American\", 2.0, 5, 155000.0, 502, 0.0, 0.0, 0.0, 0, 0, 0, 0, 0, 0, 0, 0, 0, 3, 0, 51300, NaN, 2, -4, NaN, 1.0, \"No, never married\", 0, 0, 0.0, 34.698118, \"obese\", 11.951187, 0, 0.0, 0.0, 10.845466, 2, 0.0], [5548, 7981, \"Female\", 13, 0, \"Black or African American\", 2.0, 4, 43000.0, 163, 0.0, 0.0, 0.0, 0, 0, 0, 0, 0, 0, 0, 0, 0, 3, 0, 51300, NaN, -4, -4, NaN, 3.0, \"No, never married\", 0, 0, 0.0, 32.446154, \"obese\", 10.668979, 0, 0.0, 0.0, 10.845466, 0, 0.0], [5557, 7991, \"Female\", 14, 0, \"Black or African American\", 1.0, 7, 9000.0, 22, 0.0, 0.0, 0.0, 0, 0, 0, 0, 0, 0, 0, 0, 0, 2, 0, 14144, NaN, 1, -4, NaN, 7.0, \"No, never married\", 0, 0, 0.0, 41.960514, \"obese\", 9.105091, 0, 0.0, 0.0, 9.557116, 1, 0.0], [5559, 7993, \"Female\", 14, 0, \"Black or African American\", 1.0, 5, 39000.0, 128, 0.0, 0.0, 0.0, 0, 0, 0, 0, 0, 0, 0, 0, 0, 5, 0, -3, NaN, 1, -4, NaN, 7.0, \"No, never married\", 0, 0, 0.0, 28.286391, \"over\", 10.571343, 0, 0.0, 0.0, 0.0, 1, 0.0], [5566, 8001, \"Male\", 14, 0, \"Black or African American\", 1.0, 4, 5000.0, 19, 0.0, 0.0, 0.0, 0, 0, 0, 0, 0, 0, 0, 0, 0, 2, 0, -3, NaN, -4, 1, NaN, 0.0, \"No, never married\", 0, 0, 0.0, 30.168919, \"obese\", 8.517393, 0, 0.0, 0.0, 0.0, 1, 0.0], [5578, 8018, \"Male\", 15, 0, \"Black or African American\", 2.0, 5, 80000.0, 253, 0.0, 0.0, 0.0, 0, 0, 0, 0, 0, 0, 0, 0, 0, 1, 1, 6760, NaN, -4, 1, NaN, 0.0, \"Yes\", 0, 1, 1.0, 22.594123, \"normal\", 11.289794, 0, 16.833333, 2.881069, 8.818926, 1, 0.0], [5579, 8019, \"Male\", 14, 0, \"Black or African American\", 2.0, 6, 10000.0, 27, 0.0, 0.0, 0.0, 0, 0, 0, 0, 0, 0, 0, 0, 0, 1, 1, 6760, NaN, -4, 2, NaN, 3.0, \"No, never married\", 0, 0, 0.0, 26.622856, \"over\", 9.21044, 0, 0.0, 0.0, 8.818926, 2, 0.0], [5580, 8020, \"Female\", 13, 0, \"Black or African American\", 0.0, 2, 16000.0, 90, 0.0, 0.0, 0.0, 1, 0, 0, 0, 0, 0, 0, 0, 0, 2, 1, 6760, NaN, -4, -4, NaN, 0.0, \"No, never married\", 0, 0, 0.0, 36.210718, \"obese\", 9.680406, 0, 0.0, 0.0, 8.818926, 0, 0.0], [5591, 8038, \"Female\", 14, 0, \"Black or African American\", 2.0, 3, 0.0, 0, 0.0, 0.0, 0.0, 0, 0, 0, 0, 0, 0, 0, 0, 0, 1, 0, 2500, NaN, 1, -4, NaN, 14.0, \"No, never married\", 1, 0, 0.0, 26.568405, \"over\", 0.0, 0, 0.0, 0.0, 7.824446, 1, 0.0], [5599, 8054, \"Female\", 15, 0, \"Black or African American\", 2.0, 1, 68000.0, 505, 1.0, 1.0, -4.0, 1, 0, 0, 0, 0, 0, 0, 0, 0, 5, 0, -4, NaN, 3, -4, NaN, 6.0, \"No, never married\", 0, 0, 0.0, 27.432362, \"over\", 11.127278, 1, 0.0, 0.0, 0.0, 3, 0.0], [5611, 8066, \"Male\", 13, 1, \"Something else\", 2.0, 4, 210000.0, 800, 0.0, 0.0, 0.0, 0, 0, 0, 0, 0, 0, 0, 0, 0, 0, 0, 15500, NaN, -4, 6, NaN, 1.0, \"Yes\", 0, 1, 1.0, 25.526621, \"over\", 12.254868, 0, 6.083333, 1.957745, 9.64866, 6, 0.0], [5628, 8089, \"Female\", 12, 0, \"Black or African American\", 2.0, 6, 7500.0, 22, 0.0, 0.0, 0.0, 0, 0, 0, 0, 0, 0, 0, 0, 0, 2, 0, 33200, NaN, -4, -4, NaN, 6.0, \"No, never married\", 0, 0, 0.0, 31.926903, \"obese\", 8.922792, 0, 0.0, 0.0, 10.410335, 0, 0.0], [5635, 8101, \"Male\", 15, 0, \"Black or African American\", 2.0, 1, 18036.0, 134, 0.0, 0.0, -4.0, 0, 0, 0, 0, 0, 0, 0, 0, 0, 1, 1, -4, NaN, -4, 2, NaN, 0.0, \"No, never married\", 0, 0, 0.0, 46.17189, \"obese\", 9.80018, 1, 0.0, 0.0, 0.0, 2, 0.0], [5654, 8127, \"Female\", 13, 1, \"Black or African American\", 2.0, 4, 181000.0, 690, 0.0, 0.0, 0.0, 0, 0, 0, 0, 0, 0, 0, 0, 0, 2, 1, 37, NaN, 1, -4, NaN, 3.0, \"Yes\", 0, 1, 1.0, 22.860302, \"normal\", 12.106258, 0, 13.083333, 2.644992, 3.637586, 1, 0.0], [5656, 8131, \"Male\", 16, 1, \"White\", 2.0, 6, 72000.0, 198, 0.0, 0.0, 0.0, 0, 0, 0, 0, 0, 0, 0, 0, 0, 0, 0, -4, NaN, -4, 3, NaN, 0.0, \"No, never married\", 0, 0, 0.0, 29.994667, \"obese\", 11.184435, 0, 0.0, 0.0, 0.0, 3, 0.0], [5663, 8138, \"Male\", 12, 0, \"Black or African American\", 2.0, 4, 80200.0, 306, 0.0, 0.0, 0.0, 0, 0, 0, 0, 0, 0, 0, 0, 0, 1, 1, -3, NaN, -4, 3, NaN, 1.0, \"No, never married\", 0, 0, 0.0, 20.358177, \"normal\", 11.292291, 0, 0.0, 0.0, 0.0, 3, 0.0], [5669, 8145, \"Male\", 16, 1, \"Something else\", NaN, 1, 0.0, 0, 1.0, 1.0, 0.0, 0, 0, 0, 0, 0, 0, 0, 0, 0, 1, 0, -4, NaN, -4, 5, NaN, 18.0, \"No, never married\", 1, 0, 0.0, 28.886246, \"over\", 0.0, 0, 0.0, 0.0, 0.0, 5, 0.0], [5672, 8152, \"Male\", 13, 1, \"White\", 2.0, 6, 155000.0, 434, 0.0, 0.0, 0.0, 0, 0, 0, 0, 0, 0, 0, 0, 0, 4, 0, 30000, NaN, -4, 3, NaN, 0.0, \"Yes\", 0, 1, 1.0, 28.971931, \"over\", 11.951187, 0, 17.916667, 2.940043, 10.308986, 3, 0.0], [5693, 8178, \"Male\", 14, 1, \"Something else\", 1.0, 4, 38000.0, 145, 0.0, 0.0, 0.0, 0, 0, 0, 0, 0, 0, 0, 0, 0, 2, 0, 7000, NaN, -4, 4, NaN, 6.0, \"Yes\", 0, 1, 1.0, 28.498005, \"over\", 10.545368, 0, 10.083333, 2.405442, 8.853808, 4, 0.0], [5699, 8188, \"Male\", 15, 0, \"Black or African American\", 2.0, 8, 0.0, 0, 0.0, 0.0, 0.0, 0, 0, 0, 0, 0, 0, 0, 0, 0, 1, 0, -4, NaN, -4, 3, NaN, 2.0, \"No, never married\", 0, 0, 0.0, 27.31674, \"over\", 0.0, 0, 0.0, 0.0, 0.0, 3, 0.0], [5700, 8189, \"Female\", 14, 0, \"Black or African American\", 2.0, 7, 29900.0, 77, 0.0, 0.0, 0.0, 0, 0, 0, 0, 0, 0, 0, 0, 0, 1, 0, -4, NaN, -5, -5, NaN, 9.0, \"No, never married\", 1, 0, 0.0, 25.386111, \"over\", 10.305647, 0, 0.75, 0.559616, 0.0, 0, 0.0], [5706, 8200, \"Male\", 16, 0, \"Black or African American\", 2.0, 3, 8157.0, 39, 0.0, 0.0, 0.0, 0, 0, 0, 0, 0, 0, 0, 0, 0, 1, 0, -3, NaN, -4, 2, NaN, 2.0, \"No, never married\", 0, 0, 0.0, 31.868248, \"obese\", 9.006754, 0, 0.0, 0.0, 0.0, 2, 0.0], [5707, 8202, \"Female\", 16, 1, \"White\", 2.0, 5, 60552.0, 185, 0.0, 0.0, 0.0, 0, 0, 1, 0, 0, 0, 0, 0, 0, 2, 0, -4, NaN, 2, -4, NaN, 0.0, \"Yes\", 0, 1, 1.0, 29.261186, \"obese\", 11.011274, 0, 19.583333, 3.024482, 0.0, 2, 0.0], [5708, 8203, \"Male\", 14, 1, \"White\", 2.0, 1, 0.0, 0, 0.0, 0.0, -4.0, 0, 0, 0, 0, 0, 0, 0, 0, 0, 1, 0, -4, NaN, -4, 2, NaN, 2.0, \"No, never married\", 0, 0, 0.0, 30.737287, \"obese\", 0.0, 1, 0.0, 0.0, 0.0, 2, 0.0], [5710, 8205, \"Female\", 15, 1, \"White\", 2.0, 3, 120500.0, 595, 0.0, 0.0, -4.0, 0, 0, 0, 0, 0, 0, 0, 0, 0, 2, 0, -4, NaN, -4, -4, NaN, 14.0, \"No, never married\", 1, 0, 0.0, 31.321007, \"obese\", 11.699413, 1, 0.0, 0.0, 0.0, 0, 0.0], [5725, 8223, \"Female\", 13, 0, \"Black or African American\", 2.0, 4, 0.0, 0, 1.0, 1.0, 0.0, 0, 0, 0, 0, 0, 0, 0, 0, 0, 2, 1, 21728, NaN, 4, -4, NaN, 0.0, \"No, never married\", 0, 0, 0.0, 29.048123, \"obese\", 0.0, 0, 0.0, 0.0, 9.986403, 4, 0.0], [5733, 8231, \"Female\", 13, 0, \"Black or African American\", 2.0, 2, 40000.0, 231, 0.0, 0.0, -4.0, 0, 0, 0, 0, 0, 0, 0, 0, 0, 5, 0, 21300, NaN, 2, -4, NaN, 4.0, \"No, never married\", 0, 0, 0.0, 25.859914, \"over\", 10.59666, 1, 0.0, 0.0, 9.966509, 2, 0.0], [5738, 8237, \"Female\", 15, 0, \"Black or African American\", 2.0, 4, 160000.0, 610, 0.0, 0.0, 0.0, 0, 0, 0, 0, 0, 0, 0, 0, 0, 1, 0, -4, NaN, 4, -4, NaN, 5.0, \"Yes\", 0, 1, 1.0, 31.882086, \"obese\", 11.982935, 0, 10.916667, 2.477938, 0.0, 4, 0.0], [5741, 8242, \"Male\", 13, 0, \"Black or African American\", 2.0, 6, 145000.0, 392, 0.0, 0.0, -4.0, 0, 0, 0, 0, 0, 0, 0, 0, 0, 1, 0, -3, NaN, -4, -4, NaN, 6.0, \"No, never married\", 0, 0, 0.0, 23.490755, \"normal\", 11.884496, 1, 0.0, 0.0, 0.0, 0, 0.0], [5742, 8243, \"Female\", 13, 0, \"Black or African American\", 1.0, 4, 2500.0, 10, 0.0, 0.0, 0.0, 0, 0, 0, 0, 0, 0, 0, 0, 0, 2, 0, -3, NaN, -4, -4, NaN, 0.0, \"No, never married\", 0, 0, 0.0, 44.280675, \"obese\", 7.824446, 0, 0.0, 0.0, 0.0, 0, 0.0], [5760, 8268, \"Female\", 16, 0, \"Black or African American\", 2.0, 2, 800.0, 5, 0.0, 0.0, -4.0, 0, 0, 0, 0, 0, 0, 0, 0, 0, 3, 0, -4, NaN, -5, -5, NaN, 0.0, \"No, never married\", 0, 0, 0.0, 32.277319, \"obese\", 6.685861, 1, 0.0, 0.0, 0.0, 0, 0.0], [5764, 8273, \"Female\", 13, 0, \"Black or African American\", 2.0, 4, 67500.0, 256, 0.0, 0.0, 0.0, 0, 0, 0, 0, 0, 0, 0, 0, 0, 0, 0, -3, NaN, 1, -4, NaN, 6.0, \"No, never married\", 0, 0, 0.0, 40.346648, \"obese\", 11.119898, 0, 0.0, 0.0, 0.0, 1, 0.0], [5765, 8274, \"Male\", 15, 0, \"Black or African American\", 2.0, 5, 0.0, 0, 0.0, 0.0, 0.0, 0, 0, 0, 0, 0, 0, 0, 0, 0, 7, 1, -4, NaN, -4, 4, NaN, 11.0, \"Yes\", 1, 1, 1.0, 30.845918, \"obese\", 0.0, 0, 14.666667, 2.751535, 0.0, 4, 0.0], [5767, 8276, \"Female\", 16, 0, \"Black or African American\", 2.0, 4, 40000.0, 152, 0.0, 0.0, 0.0, 0, 0, 0, 0, 0, 0, 0, 0, 0, 3, 1, -4, NaN, 6, -4, NaN, 2.0, \"No, never married\", 0, 0, 0.0, 22.860302, \"normal\", 10.59666, 0, 0.0, 0.0, 0.0, 6, 0.0], [5778, 8289, \"Female\", 16, 0, \"Black or African American\", 2.0, 5, 11000.0, 36, 0.0, 0.0, 0.0, 0, 0, 0, 0, 0, 0, 0, 0, 0, 1, 0, -3, NaN, -5, -5, NaN, 0.0, \"No, never married\", 0, 0, 0.0, 27.454438, \"over\", 9.305741, 0, 0.0, 0.0, 0.0, 0, 0.0], [5785, 8296, \"Female\", 16, 0, \"Black or African American\", 2.0, 3, 66150.0, 318, 0.0, 0.0, 0.0, 0, 0, 0, 0, 0, 0, 0, 0, 0, 2, 0, -4, NaN, 1, -4, NaN, 0.0, \"No, never married\", 0, 0, 0.0, 36.106746, \"obese\", 11.099695, 0, 0.0, 0.0, 0.0, 1, 0.0], [5787, 8300, \"Female\", 14, 0, \"Black or African American\", 2.0, 4, 900.0, 3, 1.0, 1.0, 0.0, 0, 0, 0, 0, 0, 0, 0, 0, 0, 3, 0, 10164, NaN, 3, -4, NaN, 7.0, \"No, never married\", 0, 0, 0.0, 40.346648, \"obese\", 6.803505, 0, 0.0, 0.0, 9.226706, 3, 0.0], [5789, 8302, \"Female\", 14, 1, \"White\", 2.0, 2, 88000.0, 508, 0.0, 0.0, -4.0, 0, 0, 0, 0, 0, 0, 0, 0, 0, 3, 0, 30022, NaN, -5, -5, NaN, 4.0, \"No, never married\", 0, 0, 0.0, 36.791955, \"obese\", 11.385103, 1, 0.0, 0.0, 10.309719, 0, 0.0], [5803, 8322, \"Female\", 14, 1, \"Something else\", 2.0, 1, 37000.0, 275, 0.0, 0.0, -4.0, 0, 0, 0, 0, 0, 0, 0, 0, 0, 1, 1, -3, NaN, 3, -4, NaN, 5.0, \"No, never married\", 0, 0, 0.0, 26.622856, \"over\", 10.5187, 1, 0.0, 0.0, 0.0, 3, 0.0], [5804, 8324, \"Male\", 12, 0, \"Black or African American\", 2.0, 4, 100000.0, 381, 0.0, 0.0, 0.0, 0, 0, 0, 0, 0, 0, 0, 0, 0, 2, 0, 46100, NaN, -4, 3, NaN, 0.0, \"No, never married\", 0, 0, 0.0, 44.297417, \"obese\", 11.512935, 0, 0.0, 0.0, 10.73859, 3, 0.0], [5807, 8328, \"Female\", 13, 0, \"Black or African American\", 2.0, 2, 267000.0, 1541, 0.0, 0.0, -4.0, 0, 0, 0, 0, 0, 0, 0, 0, 0, 5, 0, -3, NaN, 3, -4, NaN, 0.0, \"Yes\", 0, 1, 1.0, 23.911565, \"normal\", 12.495008, 1, 7.583333, 2.149822, 0.0, 3, 0.0], [5810, 8332, \"Male\", 13, 1, \"Something else\", 2.0, 3, 38000.0, 182, 0.0, 0.0, 0.0, 0, 0, 0, 0, 0, 0, 0, 0, 0, 1, 0, 12580, NaN, -4, 4, NaN, 4.0, \"No, never married\", 0, 0, 0.0, 26.57845, \"over\", 10.545368, 0, 0.0, 0.0, 9.439943, 4, 0.0], [5813, 8337, \"Female\", 14, 0, \"Black or African American\", 2.0, 2, 0.0, 0, 0.0, 0.0, 0.0, 0, 0, 0, 0, 0, 0, 0, 0, 0, 0, 0, -3, NaN, -4, -4, NaN, 11.0, \"No, never married\", 1, 0, 0.0, 25.085424, \"over\", 0.0, 0, 0.0, 0.0, 0.0, 0, 0.0], [5814, 8338, \"Female\", 16, 1, \"White\", 2.0, 3, 24000.0, 115, 0.0, 0.0, 0.0, 0, 0, 0, 0, 0, 0, 0, 0, 0, 1, 0, -3, NaN, 1, -4, NaN, 9.0, \"No, never married\", 1, 0, 0.0, 35.392738, \"obese\", 10.085851, 0, 0.0, 0.0, 0.0, 1, 0.0], [5817, 8349, \"Female\", 14, 1, \"Something else\", 2.0, 3, 25000.0, 120, 0.0, 0.0, 0.0, 0, 0, 0, 0, 0, 0, 0, 0, 0, 0, 0, 6132, NaN, 6, -4, NaN, 9.0, \"No, never married\", 1, 0, 0.0, 24.234415, \"normal\", 10.126671, 0, 0.0, 0.0, 8.721439, 6, 0.0], [5855, 8403, \"Male\", 13, 0, \"Black or African American\", 2.0, 3, 110000.0, 528, 0.0, 0.0, 0.0, 0, 0, 0, 0, 0, 0, 0, 0, 0, 4, 0, 35050, NaN, -4, 4, NaN, 4.0, \"No, never married\", 0, 0, 0.0, 26.383937, \"over\", 11.608245, 0, 1.25, 0.81093, 10.464559, 4, 0.0], [5857, 8405, \"Female\", 13, 0, \"Black or African American\", 1.0, 4, 35000.0, 129, 0.0, 0.0, 0.0, 0, 0, 1, 0, 0, 0, 0, 0, 0, 2, 0, 18000, NaN, 2, -4, NaN, 3.0, \"No, never married\", 0, 0, 0.0, 42.263195, \"obese\", 10.463132, 0, 0.0, 0.0, 9.798183, 2, 0.0], [5864, 8415, \"Male\", 15, 0, \"Black or African American\", 1.0, 2, 45000.0, 260, 0.0, 0.0, 0.0, 0, 0, 0, 0, 0, 0, 0, 0, 0, 2, 0, -4, NaN, -4, 5, NaN, 4.0, \"No, never married\", 0, 0, 0.0, 25.418919, \"over\", 10.71444, 0, 0.0, 0.0, 0.0, 5, 0.0], [5869, 8421, \"Female\", 14, 0, \"Black or African American\", 2.0, 3, 160000.0, 768, 0.0, 0.0, 0.0, 0, 0, 0, 0, 0, 0, 0, 0, 0, 5, 1, 62400, NaN, 5, -4, NaN, 0.0, \"Yes\", 0, 1, 1.0, 27.066597, \"over\", 11.982935, 0, 7.75, 2.169054, 11.041337, 5, 0.0], [5884, 8441, \"Female\", 16, 0, \"Black or African American\", 2.0, 3, 31000.0, 149, 0.0, 0.0, 0.0, 0, 0, 0, 0, 0, 0, 0, 0, 0, 2, 0, -3, NaN, -4, -4, NaN, 7.0, \"No, never married\", 0, 0, 0.0, 46.785301, \"obese\", 10.341775, 0, 0.0, 0.0, 0.0, 0, 0.0], [5885, 8442, \"Female\", 15, 0, \"Black or African American\", 2.0, 4, 0.0, 0, 0.0, 0.0, 0.0, 0, 0, 0, 0, 0, 0, 0, 0, 0, 1, 0, -3, NaN, 2, -4, NaN, 0.0, \"No, never married\", 0, 0, 0.0, 48.056641, \"obese\", 0.0, 0, 0.0, 0.0, 0.0, 2, 0.0], [5886, 8443, \"Male\", 13, 0, \"Black or African American\", 2.0, 5, 15000.0, 46, 0.0, 0.0, 0.0, 0, 0, 0, 0, 0, 0, 0, 0, 0, 2, 0, -3, NaN, -4, 1, NaN, 4.0, \"Yes\", 0, 1, 1.0, 26.622856, \"over\", 9.615872, 0, 10.333333, 2.427748, 0.0, 1, 0.0], [5887, 8445, \"Male\", 12, 0, \"Black or African American\", 2.0, 5, 0.0, 0, 0.0, 0.0, 0.0, 0, 0, 0, 0, 0, 0, 0, 0, 0, 1, 0, -3, NaN, -4, -4, NaN, 7.0, \"No, never married\", 0, 0, 0.0, 21.182432, \"normal\", 0.0, 0, 0.0, 0.0, 0.0, 0, 0.0], [5888, 8446, \"Female\", 14, 0, \"Black or African American\", 2.0, 1, 0.0, 0, 1.0, 1.0, 0.0, 0, 0, 0, 0, 0, 0, 0, 0, 0, 0, 0, -3, NaN, 2, -4, NaN, 4.0, \"No, never married\", 0, 0, 0.0, 31.408447, \"obese\", 0.0, 0, 0.0, 0.0, 0.0, 2, 0.0], [5891, 8452, \"Male\", 14, 0, \"Black or African American\", 2.0, 5, 42000.0, 136, 0.0, 0.0, 0.0, 0, 0, 0, 0, 0, 0, 0, 0, 0, 2, 0, 9000, NaN, -4, 2, NaN, 1.0, \"Yes\", 0, 1, 1.0, 37.72903, \"obese\", 10.645449, 0, 14.75, 2.75684, 9.105091, 2, 0.0], [5892, 8457, \"Male\", 14, 0, \"Black or African American\", 2.0, 1, 29000.0, 215, 0.0, 0.0, 0.0, 0, 0, 0, 0, 0, 0, 0, 0, 0, 1, 1, 42521, NaN, -4, 4, NaN, 0.0, \"No, never married\", 0, 0, 0.0, 23.490755, \"normal\", 10.275086, 0, 0.0, 0.0, 10.657777, 4, 0.0], [5897, 8462, \"Female\", 14, 0, \"Black or African American\", 2.0, 1, 25000.0, 186, 1.0, 1.0, 0.0, 0, 0, 0, 0, 0, 0, 0, 0, 0, 2, 0, 484, NaN, -4, -4, NaN, -3.0, \"No, never married\", 0, 0, 0.0, 40.848145, \"obese\", 10.126671, 0, 0.0, 0.0, 6.184149, 0, 0.0], [5899, 8464, \"Female\", 14, 0, \"Black or African American\", 2.0, 4, 48000.0, 183, 0.0, 0.0, 0.0, 0, 0, 0, 0, 0, 0, 0, 0, 0, 1, 0, -3, NaN, 1, -4, NaN, 3.0, \"No, never married\", 0, 0, 0.0, 33.653313, \"obese\", 10.778977, 0, 0.75, 0.559616, 0.0, 1, 0.0], [5900, 8465, \"Female\", 13, 0, \"Black or African American\", 2.0, 2, 17500.0, 101, 1.0, 1.0, -4.0, 0, 0, 0, 0, 0, 0, 0, 0, 0, 2, 0, -3, NaN, -4, -4, NaN, 5.0, \"No, never married\", 0, 0, 0.0, 57.216389, \"obese\", 9.770013, 1, 0.0, 0.0, 0.0, 0, 0.0], [5916, 8484, \"Female\", 12, 0, \"Black or African American\", 2.0, 2, 0.0, 0, 0.0, 0.0, -4.0, 0, 0, 0, 0, 0, 0, 0, 0, 0, 2, 1, 44000, NaN, -4, -4, NaN, 4.0, \"No, never married\", 0, 0, 0.0, 24.938457, \"normal\", 0.0, 1, 0.0, 0.0, 10.691968, 0, 0.0], [5917, 8488, \"Male\", 14, 0, \"Black or African American\", 1.0, 2, 19500.0, 113, 0.0, 0.0, 0.0, 0, 0, 0, 0, 0, 0, 0, 0, 0, 2, 0, 73750, NaN, -4, 4, NaN, 0.0, \"No, never married\", 0, 0, 0.0, 21.182432, \"normal\", 9.878221, 0, 0.0, 0.0, 11.20845, 4, 0.0], [5921, 8492, \"Male\", 13, 1, \"Something else\", 2.0, 3, 34000.0, 163, 0.0, 0.0, 0.0, 0, 0, 0, 0, 0, 0, 0, 0, 0, 1, 1, 22000, NaN, -4, 4, NaN, 0.0, \"No, never married\", 0, 0, 0.0, 44.280675, \"obese\", 10.434145, 0, 1.0, 0.693147, 9.998843, 4, 0.0], [5933, 8505, \"Male\", 12, 1, \"White\", 2.0, 4, 15400.0, 57, 0.0, 0.0, 0.0, 0, 0, 0, 0, 0, 0, 0, 0, 0, 1, 1, -3, NaN, -4, 3, NaN, 3.0, \"No, never married\", 0, 0, 0.0, 26.430792, \"over\", 9.642188, 0, 0.0, 0.0, 0.0, 3, 0.0], [5949, 8525, \"Female\", 16, 1, \"Something else\", 2.0, 3, 20000.0, 96, 1.0, 1.0, 0.0, 0, 0, 0, 0, 0, 0, 0, 0, 0, 1, 0, 5376, NaN, 3, -4, NaN, 1.0, \"Yes\", 0, 1, 1.0, 54.677778, \"obese\", 9.903538, 0, 9.666667, 2.367124, 8.589886, 3, 0.0], [5951, 8527, \"Male\", 12, 1, \"White\", 2.0, 5, 75000.0, 237, 0.0, 0.0, 0.0, 0, 0, 0, 0, 0, 0, 0, 0, 0, 1, 0, 3812, NaN, -4, 3, NaN, 0.0, \"Yes\", 0, 1, 1.0, 27.454438, \"over\", 11.225257, 0, 8.583333, 2.260025, 8.246172, 3, 0.0], [5956, 8535, \"Male\", 13, 1, \"Something else\", 2.0, 1, 9000.0, 67, 0.0, 0.0, 0.0, 0, 0, 0, 0, 0, 0, 0, 0, 0, 2, 1, 18608, NaN, -4, 4, NaN, 0.0, \"No, never married\", 0, 0, 0.0, 48.253254, \"obese\", 9.105091, 0, 0.0, 0.0, 9.831401, 4, 0.0], [5964, 8545, \"Male\", 14, 1, \"Something else\", 2.0, 3, 16000.0, 79, 0.0, 0.0, -4.0, 0, 0, 0, 0, 0, 0, 0, 0, 0, 1, 0, 35000, NaN, -4, 3, NaN, 2.0, \"No, never married\", 0, 0, 0.0, 32.230969, \"obese\", 9.680406, 1, 0.0, 0.0, 10.463132, 3, 0.0], [5974, 8558, \"Female\", 14, 1, \"White\", 2.0, 8, 34500.0, 76, 1.0, 0.0, 0.0, 0, 0, 0, 0, 0, 0, 0, 0, 0, 2, 0, -4, NaN, 2, -4, NaN, 14.0, \"Yes\", 1, 1, 1.0, 34.747659, \"obese\", 10.448744, 0, 12.75, 2.621039, 0.0, 2, 0.0], [5977, 8563, \"Male\", 14, 1, \"White\", 2.0, 4, 0.0, 0, 0.0, 0.0, 0.0, 0, 0, 0, 0, 0, 0, 0, 0, 0, 2, 1, -4, NaN, -4, 4, NaN, 6.0, \"No, never married\", 0, 0, 0.0, 29.950296, \"obese\", 0.0, 0, 0.0, 0.0, 0.0, 4, 0.0], [5978, 8564, \"Male\", 15, 1, \"White\", 2.0, 1, 98000.0, 728, 0.0, 0.0, 0.0, 0, 0, 0, 0, 0, 0, 0, 0, 0, 2, 1, -4, NaN, -4, 4, NaN, 14.0, \"Yes\", 1, 1, 1.0, 32.280612, \"obese\", 11.492733, 0, 14.416667, 2.735449, 0.0, 4, 0.0], [5983, 8571, \"Male\", 13, 1, \"White\", 1.0, 1, 110000.0, 817, 0.0, 0.0, -4.0, 0, 0, 1, 0, 0, 0, 0, 0, 0, 3, 0, 55000, NaN, -4, 4, NaN, 0.0, \"No, never married\", 0, 0, 0.0, 21.10715, \"normal\", 11.608245, 1, 0.0, 0.0, 10.915107, 4, 0.0], [5985, 8573, \"Male\", 14, 1, \"White\", 1.0, 6, 17500.0, 47, 0.0, 0.0, 0.0, 0, 0, 0, 0, 0, 0, 0, 0, 0, 1, 0, -4, NaN, -4, 4, NaN, 2.0, \"No, never married\", 0, 0, 0.0, 40.417014, \"obese\", 9.770013, 0, 0.833333, 0.606136, 0.0, 4, 0.0], [5986, 8574, \"Male\", 12, 1, \"White\", 2.0, 5, 119000.0, 376, 0.0, 0.0, 0.0, 0, 0, 0, 0, 0, 0, 0, 0, 0, 2, 1, -3, NaN, -4, 3, NaN, -3.0, \"Yes\", 0, 1, 1.0, 28.126081, \"over\", 11.686887, 0, 10.0, 2.397895, 0.0, 3, 0.0], [5987, 8576, \"Male\", 12, 1, \"White\", 2.0, 3, 14000.0, 69, 0.0, 0.0, 0.0, 0, 0, 0, 0, 0, 0, 0, 0, 0, 2, 1, 15609, NaN, -4, 1, NaN, 10.0, \"No, never married\", 1, 0, 0.0, 29.85652, \"obese\", 9.546884, 0, 0.0, 0.0, 9.655667, 1, 0.0], [5994, 8584, \"Male\", 16, 1, \"White\", 2.0, 3, 0.0, 0, 0.0, 0.0, -4.0, 0, 0, 0, 0, 0, 0, 0, 0, 0, 4, 1, -4, NaN, -4, 5, NaN, 8.0, \"No, never married\", 0, 0, 0.0, 30.709563, \"obese\", 0.0, 1, 0.0, 0.0, 0.0, 5, 0.0], [6010, 8612, \"Male\", 13, 1, \"Black or African American\", 2.0, 1, 42000.0, 312, 0.0, 0.0, -4.0, 0, 0, 0, 0, 0, 0, 0, 0, 0, 0, 0, 8670, NaN, -5, -5, NaN, 9.0, \"No, never married\", 1, 0, 0.0, 25.102162, \"over\", 10.645449, 1, 0.0, 0.0, 9.067739, 0, 0.0], [6011, 8613, \"Female\", 13, 0, \"Black or African American\", 2.0, 1, 40000.0, 297, 0.0, 0.0, -4.0, 0, 0, 0, 0, 0, 0, 0, 0, 0, 0, 0, 8670, NaN, -5, -5, NaN, 0.0, \"No, never married\", 0, 0, 0.0, 42.863694, \"obese\", 10.59666, 1, 0.0, 0.0, 9.067739, 0, 0.0], [6015, 8618, \"Female\", 15, 0, \"Black or African American\", 2.0, 3, 0.0, 0, 0.0, 0.0, 0.0, 0, 0, 0, 0, 0, 0, 0, 0, 0, 0, 0, 0, NaN, 2, -4, NaN, 7.0, \"No, never married\", 0, 0, 0.0, 27.432362, \"over\", 0.0, 0, 0.0, 0.0, 0.0, 2, 0.0], [6028, 8635, \"Male\", 12, 0, \"Black or African American\", 2.0, 2, 30000.0, 173, 1.0, 1.0, -4.0, 0, 0, 0, 0, 0, 0, 0, 0, 0, 2, 0, 25195, NaN, -5, -5, NaN, 3.0, \"No, never married\", 0, 0, 0.0, 38.513514, \"obese\", 10.308986, 1, 0.0, 0.0, 10.134441, 0, 0.0], [6030, 8638, \"Female\", 14, 0, \"Black or African American\", 2.0, 5, 0.0, 0, 0.0, 0.0, 0.0, 0, 0, 0, 0, 0, 0, 0, 0, 0, 1, 0, 650, NaN, 1, -4, NaN, 3.0, \"No, never married\", 0, 0, 0.0, 32.11771, \"obese\", 0.0, 0, 0.0, 0.0, 6.47851, 1, 0.0], [6032, 8640, \"Female\", 12, 0, \"Black or African American\", 2.0, 5, 0.0, 0, 0.0, 0.0, 0.0, 0, 0, 1, 0, 0, 0, 0, 0, 0, 4, 0, 12000, NaN, 3, -4, NaN, 0.0, \"No, never married\", 0, 0, 0.0, 26.557778, \"over\", 0.0, 0, 0.0, 0.0, 9.392745, 3, 0.0], [6043, 8652, \"Male\", 14, 0, \"Black or African American\", 2.0, 2, 25500.0, 147, 0.0, 0.0, -4.0, 0, 0, 0, 0, 0, 0, 0, 0, 0, 1, 0, 35000, NaN, -4, 2, NaN, 3.0, \"No, never married\", 0, 0, 0.0, 24.823249, \"normal\", 10.146473, 1, 0.0, 0.0, 10.463132, 2, 0.0], [6062, 8678, \"Female\", 14, 0, \"Black or African American\", 2.0, 3, 88000.0, 422, 0.0, 0.0, 0.0, 0, 0, 0, 0, 0, 0, 0, 0, 0, 3, 0, 18127, NaN, 5, -4, NaN, 0.0, \"No, never married\", 0, 0, 0.0, 45.720604, \"obese\", 11.385103, 0, 0.0, 0.0, 9.805213, 5, 0.0], [6066, 8684, \"Male\", 13, 0, \"Black or African American\", 2.0, 1, 1886.0, 14, 0.0, 0.0, 0.0, 0, 0, 0, 0, 0, 0, 0, 0, 0, 0, 0, 15712, NaN, -4, 4, NaN, 2.0, \"No, never married\", 0, 0, 0.0, 27.365917, \"over\", 7.542744, 0, 0.0, 0.0, 9.662244, 4, 0.0], [6073, 8694, \"Female\", 14, 1, \"Something else\", 2.0, 4, 20000.0, 76, 0.0, 0.0, 0.0, 0, 0, 0, 0, 0, 0, 0, 0, 0, 0, 0, 18892, NaN, 4, -4, NaN, 0.0, \"No, never married\", 0, 0, 0.0, 34.747659, \"obese\", 9.903538, 0, 0.0, 0.0, 9.846547, 4, 0.0], [6079, 8700, \"Male\", 13, 1, \"Something else\", 2.0, 3, 0.0, 0, 1.0, 1.0, -4.0, 0, 0, 0, 0, 0, 0, 0, 0, 0, 2, 0, 26000, NaN, -4, 4, NaN, 9.0, \"No, never married\", 1, 0, 0.0, 39.129385, \"obese\", 0.0, 1, 0.0, 0.0, 10.16589, 4, 0.0], [6087, 8710, \"Female\", 13, 0, \"Black or African American\", 2.0, 1, 0.0, 0, 1.0, 0.0, -4.0, 0, 0, 0, 0, 0, 0, 0, 0, 0, 3, 1, 15000, NaN, -4, -4, NaN, 9.0, \"No, never married\", 1, 0, 0.0, 75.896202, \"obese\", 0.0, 1, 0.0, 0.0, 9.615872, 0, 0.0], [6089, 8713, \"Female\", 15, 0, \"Black or African American\", 2.0, 6, 0.0, 0, 0.0, 0.0, 0.0, 0, 0, 0, 0, 0, 0, 0, 0, 0, 1, 0, 5800, NaN, 5, -4, NaN, 3.0, \"No, never married\", 0, 0, 0.0, 29.950296, \"obese\", 0.0, 0, 0.0, 0.0, 8.665786, 5, 0.0], [6116, 8742, \"Male\", 13, 1, \"Something else\", 2.0, 3, 88000.0, 435, 0.0, 0.0, 0.0, 0, 0, 0, 0, 0, 0, 0, 0, 0, 2, 1, -4, NaN, -5, -5, NaN, 1.0, \"Yes\", 0, 1, 1.0, 30.269901, \"obese\", 11.385103, 0, 8.583333, 2.260025, 0.0, 0, 0.0], [6118, 8747, \"Female\", 14, 1, \"Something else\", 2.0, 3, 153000.0, 756, 0.0, 0.0, -4.0, 0, 0, 0, 0, 0, 0, 0, 0, 0, 1, 1, -4, NaN, 5, -4, NaN, 8.0, \"No, never married\", 0, 0, 0.0, 32.609863, \"obese\", 11.9382, 1, 0.0, 0.0, 0.0, 5, 0.0], [6140, 8775, \"Female\", 16, 1, \"White\", 2.0, 4, 599728.0, 2718, 0.0, 0.0, 0.0, 0, 0, 0, 0, 0, 0, 0, 0, 0, 3, 1, -4, NaN, 5, -4, NaN, 2.0, \"Yes\", 0, 1, 1.0, 33.568411, \"obese\", 13.304233, 0, 15.166667, 2.782952, 0.0, 5, 0.0], [6148, 8789, \"Male\", 16, 0, \"Asian or Pacific Islander\", 2.0, 4, 100000.0, 369, 0.0, 0.0, -4.0, 0, 0, 0, 0, 0, 0, 0, 0, 0, 2, 1, -4, NaN, -4, 2, NaN, 6.0, \"Yes\", 0, 1, 1.0, 28.793321, \"over\", 11.512935, 1, 4.75, 1.7492, 0.0, 2, 0.0], [6152, 8799, \"Male\", 14, 0, \"Black or African American\", 2.0, 3, 71000.0, 341, 0.0, 0.0, 0.0, 0, 0, 0, 0, 0, 0, 0, 0, 0, 2, 1, 79600, NaN, -4, 2, NaN, 3.0, \"Yes\", 0, 1, 1.0, 32.280612, \"obese\", 11.170449, 0, 16.583333, 2.866951, 11.284782, 2, 0.0], [6156, 8803, \"Male\", 15, 0, \"Black or African American\", 2.0, 2, 599728.0, 2718, 0.0, 0.0, -4.0, 1, 0, 0, 1, 0, 0, 0, 0, 0, 2, 0, -4, NaN, -5, -5, NaN, 1.0, \"Yes\", 0, 1, 1.0, 37.59711, \"obese\", 13.304233, 1, 10.416667, 2.435074, 0.0, 0, 0.0], [6157, 8805, \"Female\", 13, 0, \"White\", 2.0, 2, 125000.0, 721, 0.0, 0.0, -4.0, 0, 0, 0, 0, 0, 0, 0, 0, 0, 4, 0, 27610, NaN, -4, -4, NaN, 1.0, \"No, never married\", 0, 0, 0.0, 39.129385, \"obese\", 11.736077, 1, 0.0, 0.0, 10.22597, 0, 0.0], [6158, 8809, \"Female\", 13, 0, \"White\", 2.0, 3, 0.0, 0, 1.0, 1.0, 0.0, 1, 0, 0, 0, 0, 0, 0, 0, 0, 0, 0, 22160, NaN, 5, -4, NaN, 0.0, \"No, never married\", 0, 0, 0.0, 30.376543, \"obese\", 0.0, 0, 0.0, 0.0, 10.006089, 5, 0.0], [6161, 8813, \"Female\", 13, 0, \"White\", 2.0, 4, 70000.0, 267, 0.0, 0.0, 0.0, 0, 0, 0, 0, 0, 0, 0, 0, 0, 1, 0, 27000, NaN, 2, -4, NaN, 9.0, \"Yes\", 1, 1, 1.0, 26.622856, \"over\", 11.156265, 0, 16.0, 2.833213, 10.203629, 2, 0.0], [6167, 8820, \"Male\", 12, 1, \"White\", 2.0, 2, 44000.0, 254, 0.0, 0.0, 0.0, 0, 0, 0, 0, 0, 0, 0, 0, 0, 1, 0, -3, NaN, -4, 5, NaN, 3.0, \"No, never married\", 0, 0, 0.0, 35.560811, \"obese\", 10.691968, 0, 0.0, 0.0, 0.0, 5, 0.0], [6168, 8822, \"Male\", 15, 1, \"White\", 2.0, 6, 36114.0, 101, 0.0, 0.0, 0.0, 0, 0, 0, 0, 0, 0, 0, 0, 0, 1, 0, -4, NaN, -4, 3, NaN, 0.0, \"Yes\", 0, 1, 1.0, 19.388881, \"normal\", 10.494464, 0, 13.666667, 2.685577, 0.0, 3, 0.0], [6173, 8827, \"Female\", 15, 0, \"Black or African American\", 2.0, 2, 5280.0, 30, 1.0, 1.0, 0.0, 0, 0, 0, 0, 0, 0, 0, 0, 0, 0, 0, -4, NaN, -4, -4, NaN, 2.0, \"No, never married\", 0, 0, 0.0, 54.076923, \"obese\", 8.571871, 0, 0.0, 0.0, 0.0, 0, 0.0], [6179, 8835, \"Female\", 16, 1, \"White\", 2.0, 3, 139750.0, 671, 0.0, 0.0, 0.0, 0, 0, 0, 0, 0, 0, 0, 0, 0, 4, 1, -4, NaN, 4, -4, NaN, 1.0, \"Yes\", 0, 1, 1.0, 33.062349, \"obese\", 11.847618, 0, 4.166667, 1.642228, 0.0, 4, 0.0], [6182, 8838, \"Female\", 12, 1, \"Refusal\", 2.0, 4, 215000.0, 819, 0.0, 0.0, 0.0, 0, 0, 0, 0, 0, 0, 0, 0, 0, 4, 0, -4, NaN, -4, -4, NaN, 0.0, \"Yes\", 0, 1, 1.0, 28.516755, \"over\", 12.278398, 0, 10.416667, 2.435074, 0.0, 0, 0.0], [6188, 8848, \"Male\", 12, 0, \"Black or African American\", 2.0, 1, 0.0, 0, 0.0, 0.0, -4.0, 0, 0, 0, 0, 0, 0, 0, 0, 0, 2, 0, 5000, NaN, -4, -4, NaN, 5.0, \"Yes\", 0, 1, 1.0, 40.442373, \"obese\", 0.0, 1, 0.0, 0.0, 8.517393, 0, 0.0], [6193, 8854, \"Male\", 13, 1, \"Something else\", 2.0, 4, 0.0, 0, 0.0, 0.0, 0.0, 0, 0, 0, 0, 0, 0, 0, 0, 0, 1, 0, 74000, NaN, -4, 4, NaN, 0.0, \"No, never married\", 0, 0, 0.0, 27.435721, \"over\", 0.0, 0, 0.0, 0.0, 11.211834, 4, 0.0], [6201, 8865, \"Male\", 15, 0, \"White\", 2.0, 2, 138000.0, 796, 0.0, 0.0, -4.0, 0, 0, 0, 0, 0, 0, 0, 0, 0, 4, 1, -3, NaN, -4, 4, NaN, 6.0, \"Yes\", 0, 1, 1.0, 54.769737, \"obese\", 11.835016, 1, 13.166667, 2.650892, 0.0, 4, 0.0], [6205, 8870, \"Male\", 13, 1, \"Something else\", 2.0, 7, 93486.0, 241, 0.0, 0.0, 0.0, 0, 0, 0, 0, 0, 0, 0, 0, 0, 2, 1, 35000, NaN, -4, 5, NaN, 3.0, \"Yes\", 0, 1, 1.0, 23.803965, \"normal\", 11.445578, 0, 6.0, 1.94591, 10.463132, 5, 0.0], [6212, 8880, \"Male\", 12, 1, \"White\", 2.0, 2, 15000.0, 87, 0.0, 0.0, 0.0, 0, 0, 0, 0, 0, 0, 0, 0, 0, 2, 0, 9000, NaN, -4, 3, NaN, 4.0, \"No, never married\", 0, 0, 0.0, 22.426346, \"normal\", 9.615872, 0, 0.0, 0.0, 9.105091, 3, 0.0], [6215, 8883, \"Male\", 14, 0, \"Black or African American\", 1.0, 3, 23000.0, 114, 0.0, 0.0, 0.0, 0, 0, 0, 0, 0, 0, 0, 0, 0, 1, 1, -4, NaN, -4, 2, NaN, 3.0, \"Yes\", 0, 1, 1.0, 28.242654, \"over\", 10.043293, 0, 16.25, 2.847812, 0.0, 2, 0.0], [6224, 8894, \"Male\", 13, 0, \"Black or African American\", 2.0, 2, 35574.0, 205, 0.0, 0.0, 0.0, 0, 0, 0, 0, 0, 0, 0, 0, 0, 2, 0, 61050, NaN, -4, 5, NaN, 1.0, \"Yes\", 0, 1, 1.0, 48.253254, \"obese\", 10.479398, 0, 5.0, 1.791759, 11.019465, 5, 0.0], [6225, 8895, \"Male\", 12, 0, \"Black or African American\", 2.0, 6, 19800.0, 57, 1.0, 1.0, 0.0, 0, 0, 1, 0, 0, 0, 0, 0, 0, 2, 0, 61050, NaN, -4, 2, NaN, 11.0, \"Yes\", 1, 1, 1.0, 25.821855, \"over\", 9.893488, 0, 4.5, 1.704748, 11.019465, 2, 0.0], [6227, 8897, \"Female\", 12, 0, \"Black or African American\", 2.0, 3, 0.0, 0, 0.0, 0.0, 0.0, 0, 0, 0, 0, 0, 0, 0, 0, 0, 2, 0, 3000, NaN, -4, -4, NaN, 3.0, \"No, never married\", 0, 0, 0.0, 27.439294, \"over\", 0.0, 0, 0.0, 0.0, 8.006701, 0, 0.0], [6229, 8899, \"Female\", 15, 0, \"Black or African American\", 2.0, 6, 52507.0, 147, 0.0, 0.0, 0.0, 0, 0, 0, 0, 0, 0, 0, 0, 0, 1, 0, 16000, NaN, 3, -4, NaN, 0.0, \"No, never married\", 0, 0, 0.0, 28.339632, \"over\", 10.868721, 0, 0.0, 0.0, 9.680406, 3, 0.0], [6233, 8904, \"Male\", 14, 0, \"Black or African American\", 1.0, 3, 87000.0, 418, 0.0, 0.0, 0.0, 0, 0, 0, 0, 0, 0, 0, 0, 0, 1, 0, 2500, NaN, -4, -4, NaN, 4.0, \"No, never married\", 0, 0, 0.0, 29.834105, \"obese\", 11.373675, 0, 4.416667, 1.689481, 7.824446, 0, 0.0], [6235, 8906, \"Female\", 15, 1, \"White\", 2.0, 5, 105000.0, 340, 0.0, 0.0, 0.0, 0, 0, 0, 0, 0, 0, 0, 0, 0, 4, 1, -4, NaN, 5, -4, NaN, 2.0, \"Yes\", 0, 1, 1.0, 25.054891, \"over\", 11.561725, 0, 16.25, 2.847812, 0.0, 5, 0.0], [6244, 8917, \"Male\", 14, 1, \"Something else\", 2.0, 5, 186300.0, 603, 0.0, 0.0, 0.0, 1, 0, 0, 0, 0, 0, 0, 0, 0, 0, 1, 34000, NaN, -4, 5, NaN, 0.0, \"Yes\", 0, 1, 1.0, 29.531611, \"obese\", 12.135119, 0, 17.166667, 2.899588, 10.434145, 5, 0.0], [6250, 8926, \"Female\", 15, 0, \"Black or African American\", 2.0, 2, 36584.0, 205, 0.0, 0.0, 0.0, 0, 0, 0, 0, 0, 0, 0, 0, 0, 2, 0, -4, NaN, 2, -4, NaN, 0.0, \"No, never married\", 0, 0, 0.0, 30.724246, \"obese\", 10.507394, 0, 0.0, 0.0, 0.0, 2, 0.0], [6251, 8927, \"Male\", 16, 0, \"White\", 2.0, 3, 180000.0, 864, 0.0, 0.0, 0.0, 0, 0, 0, 0, 0, 0, 0, 0, 0, 5, 0, -4, NaN, -4, 4, NaN, 0.0, \"Yes\", 0, 1, 1.0, 29.156057, \"obese\", 12.100718, 0, 7.416667, 2.130214, 0.0, 4, 0.0], [6263, 8947, \"Male\", 15, 0, \"White\", 2.0, 6, 260000.0, 752, 0.0, 0.0, 0.0, 0, 0, 0, 0, 0, 0, 0, 0, 0, 2, 0, -4, NaN, -4, 1, NaN, 0.0, \"Yes\", 0, 1, 1.0, 32.736486, \"obese\", 12.468441, 0, 12.583333, 2.608844, 0.0, 1, 0.0], [6276, 8965, \"Female\", 15, 0, \"Black or African American\", 2.0, 4, 30000.0, 112, 0.0, 0.0, 0.0, 0, 0, 0, 0, 0, 0, 0, 0, 0, 2, 0, -4, NaN, 4, -4, NaN, 0.0, \"No, never married\", 0, 0, 0.0, 37.490895, \"obese\", 10.308986, 0, 1.833333, 1.041454, 0.0, 4, 0.0], [6283, 8973, \"Female\", 12, 0, \"Black or African American\", NaN, 3, 256008.0, 1229, 0.0, 0.0, 0.0, 1, 0, 0, 0, 0, 0, 0, 0, 0, 4, 0, 40500, NaN, 2, -4, NaN, 5.0, \"No, never married\", 0, 0, 0.0, 31.614201, \"obese\", 12.452968, 0, 0.0, 0.0, 10.609082, 2, 0.0], [6288, 8979, \"Female\", 16, 0, \"White\", 1.0, 2, 155000.0, 894, 0.0, 0.0, 0.0, 0, 0, 0, 0, 0, 0, 0, 0, 0, 1, 0, -3, NaN, 6, -4, NaN, 3.0, \"Yes\", 0, 1, 1.0, 26.850694, \"over\", 11.951187, 0, 2.416667, 1.228665, 0.0, 6, 0.0]];\n",
       "\n",
       "        // Define the dt_args\n",
       "        let dt_args = {\"layout\": {\"topStart\": \"pageLength\", \"topEnd\": \"search\", \"bottomStart\": \"info\", \"bottomEnd\": \"paging\"}, \"order\": [], \"warn_on_dom\": true, \"fnInfoCallback\": function (oSettings, iStart, iEnd, iMax, iTotal, sPre) { return sPre + ' (<a href=\"https://mwouts.github.io/itables/downsampling.html\">downsampled</a> from 744x42 to 373x42 as maxBytes=65536)'; }};\n",
       "        dt_args[\"data\"] = data;\n",
       "\n",
       "        \n",
       "        new DataTable(table, dt_args);\n",
       "    });\n",
       "</script>\n"
      ],
      "text/plain": [
       "<IPython.core.display.HTML object>"
      ]
     },
     "metadata": {},
     "output_type": "display_data"
    }
   ],
   "source": [
    "#Put the two (mutually exclusive) p-scores into one and add to the model data df\n",
    "temp_df = pd.DataFrame({'pscore1':result1, 'pscore2':result2})\n",
    "temp_df.fillna(0,inplace=True)\n",
    "temp_df['pscore'] = temp_df['pscore1'] +temp_df['pscore2']\n",
    "\n",
    "temp_model_data_df.drop('pscore',axis=1,errors='ignore',inplace=True)\n",
    "temp_model_data_df = pd.concat([temp_model_data_df,temp_df[['pscore']]],axis=1)"
   ]
  },
  {
   "cell_type": "code",
   "execution_count": 39,
   "id": "e688d27a-d11a-4c43-9955-135d221c55d4",
   "metadata": {
    "tags": []
   },
   "outputs": [
    {
     "ename": "ValueError",
     "evalue": "Could not interpret value `pscore` for parameter `x`",
     "output_type": "error",
     "traceback": [
      "\u001b[1;31m---------------------------------------------------------------------------\u001b[0m",
      "\u001b[1;31mValueError\u001b[0m                                Traceback (most recent call last)",
      "Cell \u001b[1;32mIn[39], line 2\u001b[0m\n\u001b[0;32m      1\u001b[0m \u001b[38;5;66;03m#Check propensity score overlap between treated (married) and untreated\u001b[39;00m\n\u001b[1;32m----> 2\u001b[0m \u001b[43msns\u001b[49m\u001b[38;5;241;43m.\u001b[39;49m\u001b[43mhistplot\u001b[49m\u001b[43m(\u001b[49m\u001b[43mdata\u001b[49m\u001b[38;5;241;43m=\u001b[39;49m\u001b[43mtemp_model_data_df\u001b[49m\u001b[43m,\u001b[49m\u001b[43m \u001b[49m\u001b[43mx\u001b[49m\u001b[38;5;241;43m=\u001b[39;49m\u001b[38;5;124;43m'\u001b[39;49m\u001b[38;5;124;43mpscore\u001b[39;49m\u001b[38;5;124;43m'\u001b[39;49m\u001b[43m,\u001b[49m\u001b[43m \u001b[49m\u001b[43mhue\u001b[49m\u001b[38;5;241;43m=\u001b[39;49m\u001b[38;5;124;43m'\u001b[39;49m\u001b[38;5;124;43mmarried_vs_never_married\u001b[39;49m\u001b[38;5;124;43m'\u001b[39;49m\u001b[43m)\u001b[49m \n",
      "File \u001b[1;32mC:\\ProgramData\\anaconda3\\Lib\\site-packages\\seaborn\\distributions.py:1395\u001b[0m, in \u001b[0;36mhistplot\u001b[1;34m(data, x, y, hue, weights, stat, bins, binwidth, binrange, discrete, cumulative, common_bins, common_norm, multiple, element, fill, shrink, kde, kde_kws, line_kws, thresh, pthresh, pmax, cbar, cbar_ax, cbar_kws, palette, hue_order, hue_norm, color, log_scale, legend, ax, **kwargs)\u001b[0m\n\u001b[0;32m   1374\u001b[0m \u001b[38;5;28;01mdef\u001b[39;00m \u001b[38;5;21mhistplot\u001b[39m(\n\u001b[0;32m   1375\u001b[0m     data\u001b[38;5;241m=\u001b[39m\u001b[38;5;28;01mNone\u001b[39;00m, \u001b[38;5;241m*\u001b[39m,\n\u001b[0;32m   1376\u001b[0m     \u001b[38;5;66;03m# Vector variables\u001b[39;00m\n\u001b[1;32m   (...)\u001b[0m\n\u001b[0;32m   1392\u001b[0m     \u001b[38;5;241m*\u001b[39m\u001b[38;5;241m*\u001b[39mkwargs,\n\u001b[0;32m   1393\u001b[0m ):\n\u001b[1;32m-> 1395\u001b[0m     p \u001b[38;5;241m=\u001b[39m \u001b[43m_DistributionPlotter\u001b[49m\u001b[43m(\u001b[49m\n\u001b[0;32m   1396\u001b[0m \u001b[43m        \u001b[49m\u001b[43mdata\u001b[49m\u001b[38;5;241;43m=\u001b[39;49m\u001b[43mdata\u001b[49m\u001b[43m,\u001b[49m\n\u001b[0;32m   1397\u001b[0m \u001b[43m        \u001b[49m\u001b[43mvariables\u001b[49m\u001b[38;5;241;43m=\u001b[39;49m\u001b[43m_DistributionPlotter\u001b[49m\u001b[38;5;241;43m.\u001b[39;49m\u001b[43mget_semantics\u001b[49m\u001b[43m(\u001b[49m\u001b[38;5;28;43mlocals\u001b[39;49m\u001b[43m(\u001b[49m\u001b[43m)\u001b[49m\u001b[43m)\u001b[49m\n\u001b[0;32m   1398\u001b[0m \u001b[43m    \u001b[49m\u001b[43m)\u001b[49m\n\u001b[0;32m   1400\u001b[0m     p\u001b[38;5;241m.\u001b[39mmap_hue(palette\u001b[38;5;241m=\u001b[39mpalette, order\u001b[38;5;241m=\u001b[39mhue_order, norm\u001b[38;5;241m=\u001b[39mhue_norm)\n\u001b[0;32m   1402\u001b[0m     \u001b[38;5;28;01mif\u001b[39;00m ax \u001b[38;5;129;01mis\u001b[39;00m \u001b[38;5;28;01mNone\u001b[39;00m:\n",
      "File \u001b[1;32mC:\\ProgramData\\anaconda3\\Lib\\site-packages\\seaborn\\distributions.py:113\u001b[0m, in \u001b[0;36m_DistributionPlotter.__init__\u001b[1;34m(self, data, variables)\u001b[0m\n\u001b[0;32m    107\u001b[0m \u001b[38;5;28;01mdef\u001b[39;00m \u001b[38;5;21m__init__\u001b[39m(\n\u001b[0;32m    108\u001b[0m     \u001b[38;5;28mself\u001b[39m,\n\u001b[0;32m    109\u001b[0m     data\u001b[38;5;241m=\u001b[39m\u001b[38;5;28;01mNone\u001b[39;00m,\n\u001b[0;32m    110\u001b[0m     variables\u001b[38;5;241m=\u001b[39m{},\n\u001b[0;32m    111\u001b[0m ):\n\u001b[1;32m--> 113\u001b[0m     \u001b[38;5;28;43msuper\u001b[39;49m\u001b[43m(\u001b[49m\u001b[43m)\u001b[49m\u001b[38;5;241;43m.\u001b[39;49m\u001b[38;5;21;43m__init__\u001b[39;49m\u001b[43m(\u001b[49m\u001b[43mdata\u001b[49m\u001b[38;5;241;43m=\u001b[39;49m\u001b[43mdata\u001b[49m\u001b[43m,\u001b[49m\u001b[43m \u001b[49m\u001b[43mvariables\u001b[49m\u001b[38;5;241;43m=\u001b[39;49m\u001b[43mvariables\u001b[49m\u001b[43m)\u001b[49m\n",
      "File \u001b[1;32mC:\\ProgramData\\anaconda3\\Lib\\site-packages\\seaborn\\_oldcore.py:640\u001b[0m, in \u001b[0;36mVectorPlotter.__init__\u001b[1;34m(self, data, variables)\u001b[0m\n\u001b[0;32m    635\u001b[0m \u001b[38;5;66;03m# var_ordered is relevant only for categorical axis variables, and may\u001b[39;00m\n\u001b[0;32m    636\u001b[0m \u001b[38;5;66;03m# be better handled by an internal axis information object that tracks\u001b[39;00m\n\u001b[0;32m    637\u001b[0m \u001b[38;5;66;03m# such information and is set up by the scale_* methods. The analogous\u001b[39;00m\n\u001b[0;32m    638\u001b[0m \u001b[38;5;66;03m# information for numeric axes would be information about log scales.\u001b[39;00m\n\u001b[0;32m    639\u001b[0m \u001b[38;5;28mself\u001b[39m\u001b[38;5;241m.\u001b[39m_var_ordered \u001b[38;5;241m=\u001b[39m {\u001b[38;5;124m\"\u001b[39m\u001b[38;5;124mx\u001b[39m\u001b[38;5;124m\"\u001b[39m: \u001b[38;5;28;01mFalse\u001b[39;00m, \u001b[38;5;124m\"\u001b[39m\u001b[38;5;124my\u001b[39m\u001b[38;5;124m\"\u001b[39m: \u001b[38;5;28;01mFalse\u001b[39;00m}  \u001b[38;5;66;03m# alt., used DefaultDict\u001b[39;00m\n\u001b[1;32m--> 640\u001b[0m \u001b[38;5;28;43mself\u001b[39;49m\u001b[38;5;241;43m.\u001b[39;49m\u001b[43massign_variables\u001b[49m\u001b[43m(\u001b[49m\u001b[43mdata\u001b[49m\u001b[43m,\u001b[49m\u001b[43m \u001b[49m\u001b[43mvariables\u001b[49m\u001b[43m)\u001b[49m\n\u001b[0;32m    642\u001b[0m \u001b[38;5;28;01mfor\u001b[39;00m var, \u001b[38;5;28mcls\u001b[39m \u001b[38;5;129;01min\u001b[39;00m \u001b[38;5;28mself\u001b[39m\u001b[38;5;241m.\u001b[39m_semantic_mappings\u001b[38;5;241m.\u001b[39mitems():\n\u001b[0;32m    643\u001b[0m \n\u001b[0;32m    644\u001b[0m     \u001b[38;5;66;03m# Create the mapping function\u001b[39;00m\n\u001b[0;32m    645\u001b[0m     map_func \u001b[38;5;241m=\u001b[39m partial(\u001b[38;5;28mcls\u001b[39m\u001b[38;5;241m.\u001b[39mmap, plotter\u001b[38;5;241m=\u001b[39m\u001b[38;5;28mself\u001b[39m)\n",
      "File \u001b[1;32mC:\\ProgramData\\anaconda3\\Lib\\site-packages\\seaborn\\_oldcore.py:701\u001b[0m, in \u001b[0;36mVectorPlotter.assign_variables\u001b[1;34m(self, data, variables)\u001b[0m\n\u001b[0;32m    699\u001b[0m \u001b[38;5;28;01melse\u001b[39;00m:\n\u001b[0;32m    700\u001b[0m     \u001b[38;5;28mself\u001b[39m\u001b[38;5;241m.\u001b[39minput_format \u001b[38;5;241m=\u001b[39m \u001b[38;5;124m\"\u001b[39m\u001b[38;5;124mlong\u001b[39m\u001b[38;5;124m\"\u001b[39m\n\u001b[1;32m--> 701\u001b[0m     plot_data, variables \u001b[38;5;241m=\u001b[39m \u001b[38;5;28;43mself\u001b[39;49m\u001b[38;5;241;43m.\u001b[39;49m\u001b[43m_assign_variables_longform\u001b[49m\u001b[43m(\u001b[49m\n\u001b[0;32m    702\u001b[0m \u001b[43m        \u001b[49m\u001b[43mdata\u001b[49m\u001b[43m,\u001b[49m\u001b[43m \u001b[49m\u001b[38;5;241;43m*\u001b[39;49m\u001b[38;5;241;43m*\u001b[39;49m\u001b[43mvariables\u001b[49m\u001b[43m,\u001b[49m\n\u001b[0;32m    703\u001b[0m \u001b[43m    \u001b[49m\u001b[43m)\u001b[49m\n\u001b[0;32m    705\u001b[0m \u001b[38;5;28mself\u001b[39m\u001b[38;5;241m.\u001b[39mplot_data \u001b[38;5;241m=\u001b[39m plot_data\n\u001b[0;32m    706\u001b[0m \u001b[38;5;28mself\u001b[39m\u001b[38;5;241m.\u001b[39mvariables \u001b[38;5;241m=\u001b[39m variables\n",
      "File \u001b[1;32mC:\\ProgramData\\anaconda3\\Lib\\site-packages\\seaborn\\_oldcore.py:938\u001b[0m, in \u001b[0;36mVectorPlotter._assign_variables_longform\u001b[1;34m(self, data, **kwargs)\u001b[0m\n\u001b[0;32m    933\u001b[0m \u001b[38;5;28;01melif\u001b[39;00m \u001b[38;5;28misinstance\u001b[39m(val, (\u001b[38;5;28mstr\u001b[39m, \u001b[38;5;28mbytes\u001b[39m)):\n\u001b[0;32m    934\u001b[0m \n\u001b[0;32m    935\u001b[0m     \u001b[38;5;66;03m# This looks like a column name but we don't know what it means!\u001b[39;00m\n\u001b[0;32m    937\u001b[0m     err \u001b[38;5;241m=\u001b[39m \u001b[38;5;124mf\u001b[39m\u001b[38;5;124m\"\u001b[39m\u001b[38;5;124mCould not interpret value `\u001b[39m\u001b[38;5;132;01m{\u001b[39;00mval\u001b[38;5;132;01m}\u001b[39;00m\u001b[38;5;124m` for parameter `\u001b[39m\u001b[38;5;132;01m{\u001b[39;00mkey\u001b[38;5;132;01m}\u001b[39;00m\u001b[38;5;124m`\u001b[39m\u001b[38;5;124m\"\u001b[39m\n\u001b[1;32m--> 938\u001b[0m     \u001b[38;5;28;01mraise\u001b[39;00m \u001b[38;5;167;01mValueError\u001b[39;00m(err)\n\u001b[0;32m    940\u001b[0m \u001b[38;5;28;01melse\u001b[39;00m:\n\u001b[0;32m    941\u001b[0m \n\u001b[0;32m    942\u001b[0m     \u001b[38;5;66;03m# Otherwise, assume the value is itself data\u001b[39;00m\n\u001b[0;32m    943\u001b[0m \n\u001b[0;32m    944\u001b[0m     \u001b[38;5;66;03m# Raise when data object is present and a vector can't matched\u001b[39;00m\n\u001b[0;32m    945\u001b[0m     \u001b[38;5;28;01mif\u001b[39;00m \u001b[38;5;28misinstance\u001b[39m(data, pd\u001b[38;5;241m.\u001b[39mDataFrame) \u001b[38;5;129;01mand\u001b[39;00m \u001b[38;5;129;01mnot\u001b[39;00m \u001b[38;5;28misinstance\u001b[39m(val, pd\u001b[38;5;241m.\u001b[39mSeries):\n",
      "\u001b[1;31mValueError\u001b[0m: Could not interpret value `pscore` for parameter `x`"
     ]
    }
   ],
   "source": [
    "#Check propensity score overlap between treated (married) and untreated\n",
    "sns.histplot(data=temp_model_data_df, x='pscore', hue='married_vs_never_married') "
   ]
  },
  {
   "cell_type": "code",
   "execution_count": null,
   "id": "f289bdf6-8293-4394-a242-ac10be6b4fe1",
   "metadata": {
    "tags": []
   },
   "outputs": [],
   "source": [
    "#Use nearest neighbor to get matched indices and create new dataframe for it. \n",
    "\n",
    "T = temp_model_data_df[target_treatment]\n",
    "\n",
    "treated = temp_model_data_df[temp_model_data_df[target_treatment] == 1]\n",
    "control = temp_model_data_df[temp_model_data_df[target_treatment] == 0]\n",
    "\n",
    "# Fit the Nearest Neighbors model on the control group's propensity scores\n",
    "nn = NearestNeighbors(n_neighbors=1)\n",
    "nn.fit(control[['pscore']])\n",
    "\n",
    "# Find the nearest neighbors in the control group for each treated unit\n",
    "distances, indices = nn.kneighbors(treated[['pscore']])\n",
    "\n",
    "# Get the matched control indices\n",
    "matched_control_indices = control.iloc[indices.flatten()].index\n",
    "\n",
    "# Create a DataFrame with the matched pairs\n",
    "matched_data_df = pd.concat([treated, temp_model_data_df.loc[matched_control_indices]])\n",
    "\n",
    "show(matched_data_df.groupby(target_treatment).mean())\n"
   ]
  },
  {
   "cell_type": "code",
   "execution_count": null,
   "id": "672828a5-de14-4acd-839d-c494d9773aaa",
   "metadata": {},
   "outputs": [],
   "source": [
    "show(temp_model_data_df.groupby(target_treatment).mean())"
   ]
  },
  {
   "cell_type": "markdown",
   "id": "6252bc70-6511-448c-8e52-b0dc74f2b02a",
   "metadata": {},
   "source": [
    "### Get effect"
   ]
  },
  {
   "cell_type": "code",
   "execution_count": null,
   "id": "368a1d6b-f4d9-4e74-aff2-809861b49a20",
   "metadata": {
    "tags": []
   },
   "outputs": [],
   "source": [
    "# Calculate the mean outcome for the treated and matched control groups\n",
    "treated_outcome = matched_data[matched_data_df[target_treatment] == 1][target_outcome].mean()\n",
    "control_outcome = matched_data[matched_data_df[target_treatment] == 0][target_outcome].mean()\n",
    "\n",
    "# Calculate the Average Treatment Effect (ATE)\n",
    "ate = treated_outcome - control_outcome\n",
    "\n",
    "print(f\"Prob. of CESD > x for married: {treated_outcome:.4f}\")\n",
    "print(f\"Prob. of CESD > x for never married: {control_outcome:.4f}\")\n",
    "print(f\"Average Treatment Effect in prob. (Relative): {(treated_outcome / control_outcome):.4f}\")\n",
    "print('')\n",
    "\n",
    "# Convert to odds to match with others\n",
    "treated_outcome_odds = treated_outcome / (1 - treated_outcome)\n",
    "control_outcome_odds = control_outcome / (1 - control_outcome)\n",
    "\n",
    "                        \n",
    "print(f\"Odds for CESD > x for married: {treated_outcome_odds:.4f}\")\n",
    "print(f\"Odds for CESD > x for never married: {control_outcome_odds:.4f}\")\n",
    "print(f\"Average Treatment Effect in odds (Relative): {(treated_outcome_odds / control_outcome_odds):.4f}\")\n",
    "\n",
    "\n"
   ]
  },
  {
   "cell_type": "markdown",
   "id": "ef665bc0-1f78-462b-b1d5-573af51b97f7",
   "metadata": {
    "tags": []
   },
   "source": [
    "## RAndom"
   ]
  },
  {
   "cell_type": "code",
   "execution_count": null,
   "id": "a5a470b9-be66-45cc-990b-32d3d3bd49b2",
   "metadata": {
    "tags": []
   },
   "outputs": [],
   "source": [
    "show(tidy_df[['CV_URBAN_RURAL']])"
   ]
  },
  {
   "cell_type": "code",
   "execution_count": null,
   "id": "d630b746-915c-4aeb-8c55-157c2165b68a",
   "metadata": {
    "tags": []
   },
   "outputs": [],
   "source": [
    "temp_df = cohab_mhealth_df.loc[:,['uid','Ever_cohabitted','CESD_above_8','married']].drop_duplicates()\n",
    "temp_df.dropna(inplace=True)\n",
    "temp_df = pd.pivot_table(temp_df,values='uid',index='Ever_cohabitted',columns='CESD_above_8',aggfunc='count')\n",
    "temp_df / temp_df.sum()\n",
    "\n"
   ]
  },
  {
   "cell_type": "code",
   "execution_count": null,
   "id": "ea2f6d71-d035-4e19-a482-c0787b13cd66",
   "metadata": {
    "tags": []
   },
   "outputs": [],
   "source": [
    "temp_df = cohab_mhealth_df.loc[cohab_mhealth_df['Year'] == 2021,['uid','Ever_cohabitted','CESD_above_8','married']].drop_duplicates()\n",
    "temp2_df = tidy_df.loc[tidy_df['Year'] <= 2001].groupby('uid')[['YSAQ_291A','YSAQ_294A']].max().max(axis=1).to_frame()\n",
    "temp2_df = temp2_df.applymap(lambda x: 0 if x < 0 else x)\n",
    "temp_df = temp_df.merge(temp2_df,on='uid')\n",
    "temp_df.rename(columns={0:'dated'},inplace=True)\n",
    "\n",
    "\n",
    "temp_df.dropna(inplace=True)\n",
    "temp_df = pd.pivot_table(temp_df,values='uid',index='dated',columns='married',aggfunc='count')\n",
    "temp_df / temp_df.sum()"
   ]
  },
  {
   "cell_type": "code",
   "execution_count": null,
   "id": "8943aade-65f2-48d1-a67f-4aef6842af21",
   "metadata": {
    "tags": []
   },
   "outputs": [],
   "source": [
    "# Look for variables that can be used for propensity scoring or as instrumental variable\n",
    "# Get all columns from particular year, and set negative values to NaNs\n",
    "temp_df = tidy_df.loc[tidy_df['Year'] == 1997,:].select_dtypes(exclude=['object','category'])\n",
    "temp_df = temp_df.apply(dense_columns,axis=0)\n",
    "temp_df = temp_df.applymap(lambda x: np.nan if x < 0 else x)\n",
    "\n",
    "#Get needed treatment + outcome data and merge with previous df\n",
    "temp2_df = cohab_mhealth_df.loc[cohab_mhealth_df['Year'] == target_year,['uid','Ever_cohabitted','CESD_above_8','married']].drop_duplicates()\n",
    "temp_df = temp_df.merge(temp2_df,on='uid')\n",
    "\n",
    "#Create same married flags in the same df\n",
    "temp_df['married_vs_not_married'] = (temp_df['married'] == 'Yes').astype(int)\n",
    "temp_df['married_vs_never_married'] = (temp_df['married'] == 'Yes').astype(int)\n",
    "#For married VS never married, the \"Married but married before\" respondents will be marked as NaN\n",
    "temp_df.loc[temp_df['married']=='No',['married_vs_never_married']] = np.nan\n",
    "\n",
    "#Create correlation dataframe. Not using pearson as target (both treatment and outcome) is binomial\n",
    "corr_df = temp_df.corrwith(temp_df['married_vs_never_married'],method='kendall').to_frame(name='corr').reset_index(names='name')\n",
    "#Calculate % of nans \n",
    "temp3_df = (1 - temp_df.count() / temp_df.shape[0]).to_frame(name='nans').reset_index(names='name')\n",
    "corr_df = corr_df.merge(temp3_df,on='name')\n",
    "\n",
    "#Get descriptions from codebook\n",
    "corr_df = corr_df.merge(codebook_df[['Modified_Question','Modified_Description']].drop_duplicates(),left_on='name',right_on='Modified_Question',how='left')\n",
    "corr_df.drop('Modified_Question',axis=1,inplace=True)\n",
    "\n",
    "#Looking at list of \n",
    "show(corr_df.loc[corr_df['nans'] < 0.7,:].sort_values(by='corr',ascending=False))"
   ]
  },
  {
   "cell_type": "code",
   "execution_count": null,
   "id": "95f6be2e-4b09-4084-84af-b77d6dfa8327",
   "metadata": {
    "tags": []
   },
   "outputs": [],
   "source": [
    "show(temp_df.loc[:,['married_vs_never_married','YSAQ_364']].value_counts().to_frame().reset_index().pivot(index='married_vs_never_married',columns='YSAQ_364'))"
   ]
  },
  {
   "cell_type": "code",
   "execution_count": null,
   "id": "244dd67f-a782-46b3-9ca7-9c5d6b40f937",
   "metadata": {
    "tags": []
   },
   "outputs": [],
   "source": [
    "temp_df = cohab_mhealth_df.loc[:,['uid','Ever_cohabitted','CESD_above_8','married']].drop_duplicates()\n",
    "temp_df.dropna(inplace=True)\n",
    "temp_df.loc[:,['Ever_cohabitted','married']].value_counts(dropna=False)"
   ]
  },
  {
   "cell_type": "markdown",
   "id": "d61a2b8b-56bb-45c7-b252-b6a941f0230e",
   "metadata": {},
   "source": [
    "R1210200 1997 married"
   ]
  }
 ],
 "metadata": {
  "kernelspec": {
   "display_name": "Python 3 (ipykernel)",
   "language": "python",
   "name": "python3"
  },
  "language_info": {
   "codemirror_mode": {
    "name": "ipython",
    "version": 3
   },
   "file_extension": ".py",
   "mimetype": "text/x-python",
   "name": "python",
   "nbconvert_exporter": "python",
   "pygments_lexer": "ipython3",
   "version": "3.11.7"
  }
 },
 "nbformat": 4,
 "nbformat_minor": 5
}
