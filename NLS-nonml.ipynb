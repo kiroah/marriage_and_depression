{
 "cells": [
  {
   "cell_type": "markdown",
   "id": "15c88ee5-db4a-4f0c-9790-a3d2f6ae3bff",
   "metadata": {},
   "source": [
    "# Cohabit & marriage impact analysis - Non-ML based causal impact analysis"
   ]
  },
  {
   "cell_type": "markdown",
   "id": "ccac62b2-1953-467c-bedd-74c3ba7b41d6",
   "metadata": {},
   "source": [
    "## Notebook objective\n",
    "   * Conduct causal impact analysis using non-ML methods. \n",
    "   * The decided estimand is as follows: \n",
    "      * __In US national longitudinal survey (NLS) 97 respondents, what is the <span style=\"color:green\"> probability/odds difference to scoring 8 or higher (i.e. sig. chance in having depression)</span> in the 2021 survey between the respondents that are married VS never married at the time of the survey?__\n",
    "\n",
    "\n",
    "## Results summary\n",
    "   * At a high level, __getting married will decrease the odds of scoring 8 or higher in CES-D7 by 40~60%__ (with variation based on different methods of estimation)\n",
    "   * However, __when looking at probability difference, it is only 3~5%__\n",
    "      * As a reference, we currently have ~10% responders with CESD-D7 scoring higher than 8\n",
    "   * Following techniques were tested: logistic regression, propensity score matching, and inverse probability weighing was tested with different variables\n",
    "   * _This is a just a notebook summary and not a project summary. In real world settings information needs to be organized differently based on the audience_\n"
   ]
  },
  {
   "cell_type": "markdown",
   "id": "89442ea9-4049-4974-a12b-a5cdf7fdd403",
   "metadata": {},
   "source": [
    "## Notes\n",
    "   * __Data assumptions:__\n",
    "      * SUTVA - We assume there's no spillover effect, and marriage \"treatment\" is the same across people. The latter is fixed such that marriage = having legal notice, but the effect is hard to justify it is equal among everyone. Nevertheless, we will assume so. \n",
    "   * List of responders is not completely random, as the sampling is done in two methods, listed below: \n",
    "      * A cross-sectional sample of 6,748 respondents designed to be representative of people living in the United States during the initial survey round and born between January 1, 1980, and December 31, 1984. For more information on representativeness of sample, see NLSY97 Technical Sampling Report (2000).\n",
    "      * A supplemental sample of 2,236 respondents designed to oversample Hispanic/Latino and black people living in the United States during the initial survey round and born during the same period as the cross-sectional sample.\n",
    "   * This is using logitudinal data however it's not really a panel data analysis since we are not comparing two points in time (as data is not available)\n",
    "   * We will mainly use the 2019 data as it's pre-COVID, but may look at 2021 data for comparison\n",
    "   * To reduce dependency between rounds (i.e. need to run previous rounds prior to running next round), some code may be redundant between rounds\n",
    "   * At some point PCA can be used but is not being done here as I have not really studied PCA yet. \n"
   ]
  },
  {
   "cell_type": "markdown",
   "id": "f5a7d459-36ef-435a-8b56-ff3704e4365e",
   "metadata": {},
   "source": [
    "## Imports"
   ]
  },
  {
   "cell_type": "code",
   "execution_count": 6,
   "id": "a64961d6-d54e-4f84-889c-e74b2e168542",
   "metadata": {
    "tags": []
   },
   "outputs": [],
   "source": [
    "import pandas as pd\n",
    "from io import StringIO\n",
    "import re\n",
    "from itables import init_notebook_mode\n",
    "from itables import show\n",
    "\n",
    "import math\n",
    "import numpy as np\n",
    "import seaborn as sns\n",
    "import matplotlib.pyplot as plt\n",
    "\n",
    "from sklearn.model_selection import train_test_split\n",
    "from sklearn.linear_model import LinearRegression\n",
    "from sklearn.tree import DecisionTreeRegressor\n",
    "from sklearn.metrics import mean_squared_error, r2_score\n",
    "import statsmodels.api as sm\n",
    "import statsmodels.formula.api as smf\n",
    "\n",
    "from sklearn.metrics import confusion_matrix, ConfusionMatrixDisplay\n",
    "from scipy.stats import chi2_contingency\n",
    "from scipy.stats import ks_2samp\n",
    "from scipy.stats import mannwhitneyu\n",
    "from sklearn.neighbors import NearestNeighbors\n",
    "\n",
    "from imblearn.under_sampling import RandomUnderSampler\n",
    "\n",
    "import pickle"
   ]
  },
  {
   "cell_type": "markdown",
   "id": "0de5305c-7ba2-475d-842d-a809bbe6982f",
   "metadata": {},
   "source": [
    "## Data preprocess"
   ]
  },
  {
   "cell_type": "code",
   "execution_count": 8,
   "id": "4b3af025-79d4-49e0-aa85-3f8ac42ae1b0",
   "metadata": {
    "tags": []
   },
   "outputs": [],
   "source": [
    "target_year = 2019\n",
    "target_outcome = 'CESD_above_8'\n",
    "target_treatment = 'married_vs_never_married'"
   ]
  },
  {
   "cell_type": "code",
   "execution_count": 9,
   "id": "41d30868-8f3d-435c-ba3d-67fa588424b1",
   "metadata": {
    "tags": []
   },
   "outputs": [],
   "source": [
    "def better_colnames(df, from_col: str, to_cols: list[str]  = ['Description','Year']):\n",
    "    ''' Helper function to rename the columns in the (NLS data) df into something readable/helpful, based on data in codebook_df\n",
    "    '''\n",
    "    #Create dataframe with Ref column and the desired new column names based on input\n",
    "    col_mapping = pd.concat([codebook_df[from_col],codebook_df[to_cols[0]].str.cat(codebook_df[to_cols[1:]],sep='_')],axis=1)    \n",
    "    col_mapping.columns.values[1] = '_'.join(to_cols)\n",
    "    #Convert the mapping dataframe to dictionary and rename columns\n",
    "    return(df.rename(columns = col_mapping.set_index(from_col).squeeze().to_dict()))"
   ]
  },
  {
   "cell_type": "code",
   "execution_count": 10,
   "id": "7bc90439-8e49-4430-8ca3-a8a37be05338",
   "metadata": {
    "tags": []
   },
   "outputs": [],
   "source": [
    "tidy_df= pd.read_pickle('temp/tidy_df.pkl')\n",
    "main_df= pd.read_pickle('temp/main_df.pkl')\n",
    "codebook_df= pd.read_pickle('temp/codebook_df.pkl')\n",
    "mental_health_df= pd.read_pickle('temp/mental_health_df.pkl')\n",
    "codebook_df= pd.read_pickle('temp/codebook_df.pkl')\n",
    "cohab_mhealth_df = pd.read_pickle('temp/cohab_mhealth_df.pkl')\n",
    "source_df = pd.read_pickle('temp/source_df.pkl')\n",
    "partner_df = pd.read_pickle('temp/partner_df.pkl')\n",
    "marriage_stats_df = pd.read_pickle('temp/marriage_stats_df.pkl')\n",
    "interview_df = pd.read_pickle('temp/interview_df.pkl')\n"
   ]
  },
  {
   "cell_type": "code",
   "execution_count": 11,
   "id": "b7e64e71-78d8-4bcb-b740-31c30ca4661b",
   "metadata": {
    "tags": []
   },
   "outputs": [],
   "source": [
    "#Model data creation\n",
    "\n",
    "tidy_df_cols = {\n",
    "    'uid': 'uid',\n",
    "    'sex': 'sex',\n",
    "    'age_1996': 'age_1996',\n",
    "    'hispanic': 'hispanic',\n",
    "    'race': 'race',\n",
    "    'CV_URBAN_RURAL': 'urban',\n",
    "    'CV_HH_SIZE': 'household_size',\n",
    "    'CV_INCOME_FAMILY': 'household_income',\n",
    "    'CV_HH_POV_RATIO': 'pov_ratio',\n",
    "    'YHEA_1005': 'limited_work_kind',\n",
    "    'YHEA_1006': 'limited_work_amt',\n",
    "    'BIOADOPTCHILD_ADOPTED.01': 'child_1_adopted', #This can also tell if respondent has a child\n",
    "    \n",
    "}\n",
    "source_df_cols = {\n",
    "    'S1235200': 'asthma_2002',\n",
    "    'S1235201': 'heart_2002',\n",
    "    'S1235202': 'anemia_2002',\n",
    "    'S1235203': 'diabetes_2002',\n",
    "    'S1235204': 'cancer_2002',\n",
    "    'S1235205': 'epilepsy_2002',\n",
    "    'S1235206': 'hiv_aids_2002',\n",
    "    'S1235207': 'std_2002',\n",
    "    'S1235208': 'chronic_other_2002',\n",
    "    'Z9083900': 'highest_degree',\n",
    "    'R0534000': 'nonresp_parent_in_HH',\n",
    "    'R1204500': 'hh_income_1997',\n",
    "    'R0689000': 'pct_college_by_30',\n",
    "    'R2182500': 'date_male_1998',\n",
    "    'R2182000': 'date_female_1998',    \n",
    "    'R0073000': 'num_days_homework'\n",
    "}\n",
    "\n",
    "#Initially add columns from tidy_df \n",
    "model_data_df = tidy_df.loc[tidy_df['Year'] == target_year,list(tidy_df_cols.keys()),]\n",
    "\n",
    "#Add source_df columns\n",
    "model_data_df = model_data_df.merge(source_df.loc[:,['uid'] + list(source_df_cols.keys())],on='uid')\n",
    "\n",
    "\n",
    "#Add derived columns from previous work\n",
    "cohab_mhealth_cols = ['uid','Rxx_CESD_SCORE_(x_ITEM)','married',target_outcome]\n",
    "model_data_df = model_data_df.merge(cohab_mhealth_df.loc[cohab_mhealth_df['Year']==2019,cohab_mhealth_cols],on='uid')\n",
    "model_data_df = model_data_df.rename(columns={'Rxx_CESD_SCORE_(x_ITEM)':'CESD'})\n",
    "\n",
    "\n",
    "#converting the main treatments and outcome to int\n",
    "#Since there are three states (Married, Not married but married before, Never married), we will create two separate columns \n",
    "model_data_df['CESD_above_8'] = model_data_df['CESD_above_8'].astype(int)\n",
    "model_data_df['married_vs_not_married'] = (model_data_df['married'] == 'Yes').astype(int)\n",
    "model_data_df['married_vs_never_married'] = (model_data_df['married'] == 'Yes').astype(int)\n",
    "#For married VS never married, the \"Married but married before\" respondents will be marked as NaN\n",
    "model_data_df.loc[model_data_df['married']=='No',['married_vs_never_married']] = np.nan\n",
    "\n",
    "model_data_df.rename(columns=tidy_df_cols,inplace=True)\n",
    "model_data_df.rename(columns=source_df_cols,inplace=True)"
   ]
  },
  {
   "cell_type": "code",
   "execution_count": 12,
   "id": "80b9e4ce-cad1-4634-b02a-b3b42aafdba3",
   "metadata": {
    "tags": []
   },
   "outputs": [],
   "source": [
    "# Currently a lot of the columns are stored as sparse data. Some models choke as they don't handle such datatype. \n",
    "# Therefore, changing them to dense\n",
    "\n",
    "def dense_columns(col):\n",
    "    if (isinstance(col.dtype, pd.SparseDtype)): \n",
    "        return col.sparse.to_dense()\n",
    "    else:\n",
    "        return col\n",
    "    \n",
    "model_data_df = model_data_df.apply(dense_columns,axis=0)"
   ]
  },
  {
   "cell_type": "code",
   "execution_count": 13,
   "id": "44baa2e3-8d5f-4e36-a4ae-8b97034ad1bc",
   "metadata": {
    "tags": []
   },
   "outputs": [],
   "source": [
    "#Create BMI columns. Since height and weight not mentioned every year, need to pull from last known\n",
    "\n",
    "#Get index for last known weight and height \n",
    "last_known_wgt_idx = tidy_df.loc[(tidy_df['YSAQ_000B'].notnull()) & (tidy_df['YSAQ_000B'] > 0),:].groupby('uid')['YSAQ_000B'].idxmax()\n",
    "last_known_hgt_idx = tidy_df.loc[(tidy_df['YSAQ_000A000001'].notnull()) & (tidy_df['YSAQ_000A000001'] > 0)\n",
    "                                 & (tidy_df['YSAQ_000A000002'].notnull()) & (tidy_df['YSAQ_000A000002'] >= 0)\n",
    "                                 ,:].groupby('uid')['YSAQ_000A000001'].idxmax()\n",
    "\n",
    "\n",
    "#Using the values above, get bmi\n",
    "bmi_df = tidy_df.loc[last_known_wgt_idx,['uid','YSAQ_000B']]\n",
    "bmi_df = bmi_df.merge(tidy_df.loc[last_known_hgt_idx,['uid','YSAQ_000A000001','YSAQ_000A000002']],on='uid',how='left')\n",
    "bmi_df['bmi'] = bmi_df['YSAQ_000B'] / ((bmi_df['YSAQ_000A000001'] * 12 + bmi_df['YSAQ_000A000002']) ** 2) * 703\n",
    "bmi_df['bmi'] = bmi_df['bmi'].sparse.to_dense()\n",
    "\n",
    "model_data_df.drop(['bmi','bmi_bin'],inplace=True,errors='ignore')\n",
    "model_data_df = model_data_df.merge(bmi_df[['uid','bmi']], on='uid',how='left')\n",
    "\n",
    "#Imputing bmi based on US average. Technically the average is different per male and female, but it's slight difference\n",
    "# (29.1 VS 29.6) so just using the same value.\n",
    "model_data_df['bmi'] = model_data_df['bmi'].fillna(29.4)\n",
    "\n",
    "#There is one person with weight of 999. Assuming that's by error. Using average\n",
    "model_data_df.loc[model_data_df['uid'] == 5707,'bmi'] = 29.4\n",
    "\n",
    "#Create bin\n",
    "model_data_df['bmi_bin'] = ''\n",
    "model_data_df.loc[model_data_df['bmi'] < 18.5,'bmi_bin'] = 'under'\n",
    "model_data_df.loc[model_data_df['bmi'].between(18.5, 25.0,inclusive='left'),'bmi_bin'] = 'normal'\n",
    "model_data_df.loc[model_data_df['bmi'].between(25.0, 29.0,inclusive='left'),'bmi_bin'] = 'over'\n",
    "model_data_df.loc[model_data_df['bmi'] > 29.0,'bmi_bin'] = 'obese'\n",
    "model_data_df['bmi_bin'] = model_data_df['bmi_bin'].astype('category')"
   ]
  },
  {
   "cell_type": "code",
   "execution_count": 14,
   "id": "67a9079d-35ec-4523-9807-b3840692d45d",
   "metadata": {
    "tags": []
   },
   "outputs": [],
   "source": [
    "#Flipping urban variable values (0:rural 1:urban 2:unknown) to somewhat more ordinal (0:unknown 1:rural 2:urban)\n",
    "model_data_df['urban'].fillna(0,inplace=True)\n",
    "model_data_df.loc[model_data_df['urban'] < 0,'urban'] = 2\n",
    "model_data_df['urban'] = model_data_df['urban'].map({0:1,1:2,2:0})"
   ]
  },
  {
   "cell_type": "code",
   "execution_count": 15,
   "id": "37c65883-3838-45c5-827f-d0b03316fee2",
   "metadata": {
    "tags": []
   },
   "outputs": [],
   "source": [
    "#Put any NaNs or negative values to zero\n",
    "model_data_df['household_income'].fillna(0,inplace=True)\n",
    "model_data_df.loc[model_data_df['household_income'] < 0, 'household_income'] = 0\n",
    "#Log transform income\n",
    "model_data_df['household_income_log'] = np.log(model_data_df['household_income'] + 1) \n",
    "\n",
    "model_data_df.loc[model_data_df['limited_work_kind'] < 0, 'limited_work_kind'] = 0\n",
    "model_data_df.loc[model_data_df['limited_work_kind'] < 0, 'limited_work_kind'] = 0\n",
    "\n",
    "\n",
    "\n",
    "model_data_df.loc[model_data_df['pov_ratio'] < 0, 'pov_ratio'] = 0\n",
    "\n",
    "# Create a column for having a child or not. \n",
    "# One concern. This may not mean the child is still alive, which may negatively effect the mental health\n",
    "model_data_df['has_child'] = (model_data_df['child_1_adopted'] < 0).astype(int)\n"
   ]
  },
  {
   "cell_type": "code",
   "execution_count": 16,
   "id": "f00a4b8a-67b3-4147-a25b-d16d4177381e",
   "metadata": {
    "tags": []
   },
   "outputs": [],
   "source": [
    "model_data_df.loc[model_data_df['asthma_2002'] < 0, 'asthma_2002'] = 0\n",
    "model_data_df.loc[model_data_df['heart_2002'] < 0, 'heart_2002'] = 0\n",
    "model_data_df.loc[model_data_df['anemia_2002'] < 0, 'anemia_2002'] = 0\n",
    "model_data_df.loc[model_data_df['diabetes_2002'] < 0, 'diabetes_2002'] = 0\n",
    "model_data_df.loc[model_data_df['cancer_2002'] < 0, 'cancer_2002'] = 0\n",
    "model_data_df.loc[model_data_df['epilepsy_2002'] < 0, 'epilepsy_2002'] = 0\n",
    "model_data_df.loc[model_data_df['hiv_aids_2002'] < 0, 'hiv_aids_2002'] = 0\n",
    "model_data_df.loc[model_data_df['std_2002'] < 0, 'std_2002'] = 0\n",
    "model_data_df.loc[model_data_df['chronic_other_2002'] < 0, 'chronic_other_2002'] = 0"
   ]
  },
  {
   "cell_type": "code",
   "execution_count": 17,
   "id": "607bd4af-a123-4f89-ba85-53df77983d33",
   "metadata": {
    "tags": []
   },
   "outputs": [],
   "source": [
    "#For highest educational degree, there were few that refused to answer (-3). For them, setting as high school diploma (2)\n",
    "model_data_df.loc[model_data_df['highest_degree'] < 0, 'highest_degree'] = 2"
   ]
  },
  {
   "cell_type": "code",
   "execution_count": 18,
   "id": "fe18de98-57db-4ea5-b3a2-43abfe954e08",
   "metadata": {},
   "outputs": [],
   "source": [
    "# Create log transform version of hh_income_1997. \n",
    "model_data_df['hh_income_1997_log'] = np.log(model_data_df['hh_income_1997'].map(lambda x: x if x > 0 else 0)+ 1) \n",
    "\n",
    "#Set negative values to NaNs\n",
    "model_data_df.loc[model_data_df['pct_college_by_30'] < 0,'pct_college_by_30'] = np.nan\n",
    "model_data_df.loc[model_data_df['num_days_homework'] < 0,'num_days_homework'] = np.nan\n",
    "\n",
    "\n",
    "#combine date male and female \n",
    "model_data_df['date_1998'] = model_data_df.loc[:,['date_male_1998','date_female_1998']].max(axis=1)\n",
    "model_data_df['date_1998'] = model_data_df['date_1998'].map(lambda x: x if x > 0 else 0)\n"
   ]
  },
  {
   "cell_type": "code",
   "execution_count": 19,
   "id": "680d9427-dcb9-46d8-97c2-d1c379e6541e",
   "metadata": {
    "tags": []
   },
   "outputs": [],
   "source": [
    "#Get number of months married based on the interview year-month\n",
    "temp_df = interview_df.loc[interview_df['Year']==target_year,:]\n",
    "temp_df = temp_df.merge(marriage_stats_df,on='uid')\n",
    "temp_df = temp_df.loc[(temp_df['marriage_start'] <= temp_df['interview_year-month']) & (temp_df['interview_year-month'] <= temp_df['marriage_end']) ,:]\n",
    "temp_df['marriage_start_year'] = temp_df['marriage_start'].str[:4].astype(int)\n",
    "temp_df['marriage_start_month'] = temp_df['marriage_start'].str[-2:].astype(int)\n",
    "temp_df['years_married'] = ((temp_df['CV_INTERVIEW_DATE_Y'].astype(int) - temp_df['marriage_start_year'])) + ((temp_df['CV_INTERVIEW_DATE_M'].astype(int) - temp_df['marriage_start_month']) / 12.0)\n",
    "\n",
    "model_data_df.drop('years_married',errors='ignore')\n",
    "model_data_df = model_data_df.merge(temp_df[['uid','years_married']],on='uid',how='left')\n",
    "model_data_df['years_married'].fillna(0,inplace=True)\n",
    "\n",
    "model_data_df['years_married_log'] =  np.log(model_data_df['years_married'] + 1)"
   ]
  },
  {
   "cell_type": "markdown",
   "id": "f93c985c-21ae-4e1f-a279-3a613de2aabb",
   "metadata": {
    "tags": []
   },
   "source": [
    "## Round 0 - Logistic regression w/ only treatment variable\n",
    "   * Use logistic regression w/ married_vs_never_married only\n",
    "   * Odds change: 0.44x, w/ p-value < 0.01"
   ]
  },
  {
   "cell_type": "code",
   "execution_count": 21,
   "id": "309c7a74-58c4-458a-9e48-5d30cc3f1737",
   "metadata": {
    "tags": []
   },
   "outputs": [],
   "source": [
    "temp_model_data_df = model_data_df.copy()\n",
    "temp_model_data_df.dropna(axis=0,subset=target_treatment,inplace=True)"
   ]
  },
  {
   "cell_type": "code",
   "execution_count": 22,
   "id": "288a9d0f-77e4-4894-9847-e4b5c66e760f",
   "metadata": {
    "tags": []
   },
   "outputs": [
    {
     "name": "stdout",
     "output_type": "stream",
     "text": [
      "CESD_above_8 ~ married_vs_never_married\n",
      "                 Generalized Linear Model Regression Results                  \n",
      "==============================================================================\n",
      "Dep. Variable:           CESD_above_8   No. Observations:                 5838\n",
      "Model:                            GLM   Df Residuals:                     5836\n",
      "Model Family:                Binomial   Df Model:                            1\n",
      "Link Function:                  Logit   Scale:                          1.0000\n",
      "Method:                          IRLS   Log-Likelihood:                -1700.5\n",
      "Date:                Wed, 14 Aug 2024   Deviance:                       3401.0\n",
      "Time:                        09:42:40   Pearson chi2:                 5.84e+03\n",
      "No. Iterations:                     6   Pseudo R-squ. (CS):            0.01333\n",
      "Covariance Type:            nonrobust                                         \n",
      "============================================================================================\n",
      "                               coef    std err          z      P>|z|      [0.025      0.975]\n",
      "--------------------------------------------------------------------------------------------\n",
      "Intercept                   -1.9724      0.058    -34.126      0.000      -2.086      -1.859\n",
      "married_vs_never_married    -0.8375      0.097     -8.606      0.000      -1.028      -0.647\n",
      "============================================================================================\n",
      "Log odds increase when married: 0.43281211563215294 \n",
      "P-value: 7.556097266545776e-18 \n"
     ]
    }
   ],
   "source": [
    "formula = target_outcome +  ' ~ ' + target_treatment\n",
    "print(formula)\n",
    "# Fit the logistic regression model using GLM\n",
    "model = smf.glm(formula=formula, data=temp_model_data_df, family=sm.families.Binomial()).fit()\n",
    "\n",
    "# Print the summary of the model\n",
    "print(model.summary())\n",
    "print(f'Log odds increase when married: {math.exp(model.params[target_treatment])} ')\n",
    "print(f'P-value: {model.pvalues[target_treatment]} ')\n"
   ]
  },
  {
   "cell_type": "markdown",
   "id": "3c914e7f-5da1-46d8-b8f8-9cbdb4781dff",
   "metadata": {},
   "source": [
    "## Round 1 - Logistic regression w/ few demographics\n",
    "   * Use logistic regression w/ age, race-related & sex as additional explanatory variables\n",
    "   * Additional assumptions\n",
    "      * No unconfounding variables (HAHAHA...) \n",
    "      * Linearity of logit - We should check this but not checking for this round as the above assumption doesn't really hold anyways\n",
    "   * __Result__\n",
    "      * Odds change: 0.41x, w/ p-value < 0.01\n",
    "      * There is significance btw male VS female. We will look at this later"
   ]
  },
  {
   "cell_type": "code",
   "execution_count": 24,
   "id": "f698fff4-6f59-4a78-84d7-bfb6ed5e2fe0",
   "metadata": {
    "tags": []
   },
   "outputs": [],
   "source": [
    "temp_model_data_df = model_data_df.copy()\n",
    "temp_model_data_df.dropna(axis=0,subset=target_treatment,inplace=True)"
   ]
  },
  {
   "cell_type": "code",
   "execution_count": 25,
   "id": "332dbea6-e584-4dcd-a211-f1cdfddab44a",
   "metadata": {
    "tags": []
   },
   "outputs": [
    {
     "name": "stdout",
     "output_type": "stream",
     "text": [
      "CESD_above_8  ~  married_vs_never_married + age_1996 + C(hispanic) + C(sex) + C(race)\n"
     ]
    }
   ],
   "source": [
    "#formula creation\n",
    "\n",
    "Xs_numerical = ['age_1996']\n",
    "Xs_categorical = ['hispanic','sex','race']\n",
    "\n",
    "formula = f'{target_outcome}  ~  {target_treatment} + ' + (' + '.join(Xs_numerical)) + ' + C(' + (') + C(').join(Xs_categorical) + ')'\n",
    "print(formula)"
   ]
  },
  {
   "cell_type": "code",
   "execution_count": 26,
   "id": "7d8de7bd-7ed0-4b06-9903-153069915c69",
   "metadata": {
    "tags": []
   },
   "outputs": [
    {
     "name": "stdout",
     "output_type": "stream",
     "text": [
      "                 Generalized Linear Model Regression Results                  \n",
      "==============================================================================\n",
      "Dep. Variable:           CESD_above_8   No. Observations:                 5838\n",
      "Model:                            GLM   Df Residuals:                     5825\n",
      "Model Family:                Binomial   Df Model:                           12\n",
      "Link Function:                  Logit   Scale:                          1.0000\n",
      "Method:                          IRLS   Log-Likelihood:                -1677.1\n",
      "Date:                Wed, 14 Aug 2024   Deviance:                       3354.3\n",
      "Time:                        09:42:40   Pearson chi2:                 5.81e+03\n",
      "No. Iterations:                    20   Pseudo R-squ. (CS):            0.02119\n",
      "Covariance Type:            nonrobust                                         \n",
      "========================================================================================================\n",
      "                                           coef    std err          z      P>|z|      [0.025      0.975]\n",
      "--------------------------------------------------------------------------------------------------------\n",
      "Intercept                               -1.6536      1.223     -1.353      0.176      -4.050       0.743\n",
      "C(hispanic)[T.-1]                       18.4340   1.28e+04      0.001      0.999   -2.51e+04    2.52e+04\n",
      "C(hispanic)[T.0]                        -1.1500      0.878     -1.310      0.190      -2.870       0.570\n",
      "C(hispanic)[T.1]                        -1.5258      0.881     -1.731      0.083      -3.253       0.202\n",
      "C(sex)[T.Male]                          -0.5488      0.096     -5.733      0.000      -0.736      -0.361\n",
      "C(race)[T.Asian or Pacific Islander]     0.3479      0.845      0.412      0.681      -1.309       2.005\n",
      "C(race)[T.Black or African American]     0.6430      0.736      0.874      0.382      -0.799       2.085\n",
      "C(race)[T.Don't know]                  -18.0682   1.28e+04     -0.001      0.999   -2.52e+04    2.51e+04\n",
      "C(race)[T.Refusal]                       0.3861      1.088      0.355      0.723      -1.747       2.519\n",
      "C(race)[T.Something else]                1.0371      0.751      1.381      0.167      -0.435       2.509\n",
      "C(race)[T.White]                         0.8414      0.734      1.147      0.252      -0.597       2.280\n",
      "married_vs_never_married                -0.9284      0.103     -8.974      0.000      -1.131      -0.726\n",
      "age_1996                                 0.0287      0.034      0.852      0.394      -0.037       0.095\n",
      "========================================================================================================\n",
      "Log odds increase when married: 0.3952048795049616 \n",
      "P-value: 2.8588987010526637e-19 \n"
     ]
    }
   ],
   "source": [
    "# Fit the logistic regression model using GLM\n",
    "model = smf.glm(formula=formula, data=temp_model_data_df, family=sm.families.Binomial()).fit()\n",
    "\n",
    "# Print the summary of the model\n",
    "print(model.summary())\n",
    "print(f'Log odds increase when married: {math.exp(model.params[target_treatment])} ')\n",
    "print(f'P-value: {model.pvalues[target_treatment]} ')\n"
   ]
  },
  {
   "cell_type": "markdown",
   "id": "607accd8-0b7d-4ef0-bb2e-631665b4d2dd",
   "metadata": {
    "tags": []
   },
   "source": [
    "## Round 2 - Logistic regression w/ more fields\n",
    "   * Use logistic regression w/ added fields:\n",
    "      * BMI in bins (underweight, normal, over, obese)\n",
    "      * Living in urban or rural place\n",
    "      * Household income at survey year\n",
    "      * <strike>POV ratio</strike>\n",
    "      * Education level\n",
    "      * Have child or not\n",
    "      * Number of people in household\n",
    "      * Chronic condition\n",
    "      * Limited in kind<strike>/amount</strike> of work because of health\n",
    "      * <strike>Length of marriage </strike>\n",
    "   * Additional assumptions\n",
    "      * No unconfounding variables (better than before with added variables, but still quite unsure)\n",
    "      * Linearity of logit - Only checked non-logit linear correlation btw variables. No high r2s\n",
    "   * __Result__\n",
    "      * Odds change: 0.44x, w/ p-value < 0.01\n",
    "      * If we look at ATE (average treatment effect), the difference in probability is ~ 3.8% "
   ]
  },
  {
   "cell_type": "code",
   "execution_count": 63,
   "id": "11c020ba-eeb3-4296-822e-c720eacdf9e6",
   "metadata": {
    "tags": []
   },
   "outputs": [],
   "source": [
    "temp_model_data_df = model_data_df.copy()\n",
    "temp_model_data_df.dropna(axis=0,subset=target_treatment,inplace=True)"
   ]
  },
  {
   "cell_type": "code",
   "execution_count": 65,
   "id": "e7d63565-c11c-4cce-a08c-7ed5e4559134",
   "metadata": {
    "tags": []
   },
   "outputs": [
    {
     "name": "stdout",
     "output_type": "stream",
     "text": [
      "CESD_above_8  ~  married_vs_never_married + age_1996 + household_size + household_income_log + has_child + asthma_2002 + heart_2002 + anemia_2002 + diabetes_2002 + cancer_2002 + epilepsy_2002 + hiv_aids_2002 + std_2002 + chronic_other_2002 + urban + highest_degree + C(hispanic) + C(sex) + C(race) + C(bmi_bin) + C(limited_work_kind)\n"
     ]
    }
   ],
   "source": [
    "#formula creation\n",
    "\n",
    "Xs_numerical = ['age_1996','household_size','household_income_log','has_child', \n",
    "                'asthma_2002','heart_2002','anemia_2002','diabetes_2002','cancer_2002','epilepsy_2002',\n",
    "                'hiv_aids_2002','std_2002','chronic_other_2002','urban', 'highest_degree']\n",
    "Xs_categorical = ['hispanic','sex','race','bmi_bin','limited_work_kind',]\n",
    "\n",
    "formula = f'{target_outcome}  ~  {target_treatment} + ' + (' + '.join(Xs_numerical)) + ' + C(' + (') + C(').join(Xs_categorical) + ')'\n",
    "print(formula)"
   ]
  },
  {
   "cell_type": "code",
   "execution_count": 107,
   "id": "d333b503-8442-43fd-94dc-fc2b69b66a53",
   "metadata": {
    "tags": []
   },
   "outputs": [
    {
     "name": "stdout",
     "output_type": "stream",
     "text": [
      "                 Generalized Linear Model Regression Results                  \n",
      "==============================================================================\n",
      "Dep. Variable:           CESD_above_8   No. Observations:                 5838\n",
      "Model:                            GLM   Df Residuals:                     5808\n",
      "Model Family:                Binomial   Df Model:                           29\n",
      "Link Function:                  Logit   Scale:                          1.0000\n",
      "Method:                          IRLS   Log-Likelihood:                -1501.2\n",
      "Date:                Wed, 14 Aug 2024   Deviance:                       3002.4\n",
      "Time:                        15:06:43   Pearson chi2:                 5.80e+03\n",
      "No. Iterations:                    20   Pseudo R-squ. (CS):            0.07844\n",
      "Covariance Type:            nonrobust                                         \n",
      "========================================================================================================\n",
      "                                           coef    std err          z      P>|z|      [0.025      0.975]\n",
      "--------------------------------------------------------------------------------------------------------\n",
      "Intercept                               -1.1182      1.287     -0.869      0.385      -3.640       1.404\n",
      "C(hispanic)[T.-1]                       17.9175   1.27e+04      0.001      0.999   -2.49e+04    2.49e+04\n",
      "C(hispanic)[T.0]                        -1.1940      0.887     -1.346      0.178      -2.933       0.545\n",
      "C(hispanic)[T.1]                        -1.6150      0.892     -1.811      0.070      -3.363       0.133\n",
      "C(sex)[T.Male]                          -0.5791      0.105     -5.502      0.000      -0.785      -0.373\n",
      "C(race)[T.Asian or Pacific Islander]     0.7097      0.893      0.794      0.427      -1.041       2.461\n",
      "C(race)[T.Black or African American]     0.7221      0.776      0.931      0.352      -0.798       2.242\n",
      "C(race)[T.Don't know]                  -17.0987   1.27e+04     -0.001      0.999   -2.49e+04    2.49e+04\n",
      "C(race)[T.Refusal]                       0.6589      1.114      0.592      0.554      -1.524       2.842\n",
      "C(race)[T.Something else]                1.2180      0.792      1.537      0.124      -0.335       2.771\n",
      "C(race)[T.White]                         1.0460      0.774      1.352      0.176      -0.470       2.562\n",
      "C(bmi_bin)[T.obese]                      0.0491      0.131      0.374      0.708      -0.208       0.306\n",
      "C(bmi_bin)[T.over]                       0.0559      0.151      0.371      0.711      -0.239       0.351\n",
      "C(bmi_bin)[T.under]                     -1.1578      0.756     -1.531      0.126      -2.640       0.324\n",
      "C(limited_work_kind)[T.1.0]              1.8366      0.121     15.117      0.000       1.598       2.075\n",
      "married_vs_never_married                -0.5524      0.123     -4.500      0.000      -0.793      -0.312\n",
      "age_1996                                -0.0108      0.036     -0.302      0.763      -0.081       0.059\n",
      "household_size                          -0.0478      0.036     -1.310      0.190      -0.119       0.024\n",
      "household_income_log                    -0.0382      0.010     -3.893      0.000      -0.057      -0.019\n",
      "has_child                                0.1235      0.127      0.969      0.332      -0.126       0.373\n",
      "asthma_2002                              0.0058      0.179      0.033      0.974      -0.345       0.357\n",
      "heart_2002                               0.0780      0.540      0.144      0.885      -0.980       1.136\n",
      "anemia_2002                             -0.0308      0.353     -0.087      0.930      -0.723       0.661\n",
      "diabetes_2002                            0.4558      0.500      0.912      0.362      -0.524       1.435\n",
      "cancer_2002                              0.4045      0.609      0.664      0.507      -0.789       1.598\n",
      "epilepsy_2002                            0.3981      0.784      0.508      0.611      -1.138       1.934\n",
      "hiv_aids_2002                         2.542e-09   1.85e-06      0.001      0.999   -3.62e-06    3.62e-06\n",
      "std_2002                                 0.9581      0.511      1.874      0.061      -0.044       1.960\n",
      "chronic_other_2002                       0.1015      0.324      0.314      0.754      -0.533       0.736\n",
      "urban                                    0.1588      0.114      1.396      0.163      -0.064       0.382\n",
      "highest_degree                          -0.1908      0.039     -4.948      0.000      -0.266      -0.115\n",
      "========================================================================================================\n",
      "Log odds difference when married: 0.5755816120686758 \n",
      "P-value: 6.793958437966011e-06 \n"
     ]
    }
   ],
   "source": [
    "# Fit the logistic regression model using GLM\n",
    "model = smf.glm(formula=formula, data=temp_model_data_df, family=sm.families.Binomial()).fit()\n",
    "#model = smf.glm(formula=formula, data=temp_model_data_df, family=sm.families.Binomial()).fit_regularized)\n",
    "\n",
    "\n",
    "# Print the summary of the model\n",
    "print(model.summary())\n",
    "print(f'Log odds difference when married: {math.exp(model.params[target_treatment])} ')\n",
    "print(f'P-value: {model.pvalues[target_treatment]} ')"
   ]
  },
  {
   "cell_type": "markdown",
   "id": "7da72715-30c0-4619-9414-cf58c5cf3e79",
   "metadata": {},
   "source": [
    "### Calculating the ATE\n",
    "Instead of only looking at (log-)odds change, we will also calculate ATE. We will calculate by diffing the predicted outcome between treated (married) or not, and getting the average. This is basically s-learner"
   ]
  },
  {
   "cell_type": "code",
   "execution_count": 161,
   "id": "72a7346c-7752-447a-9150-7037127fade2",
   "metadata": {
    "tags": []
   },
   "outputs": [
    {
     "name": "stdout",
     "output_type": "stream",
     "text": [
      "Average probability for T = 1: 0.1059\n",
      "Average probability for T = 0: 0.0673\n",
      "Diff: -0.0385\n"
     ]
    }
   ],
   "source": [
    "X0 = temp_model_data_df.assign(married_vs_never_married=0)\n",
    "X0 = sm.add_constant(X0)\n",
    "X1 = temp_model_data_df.assign(married_vs_never_married=1)\n",
    "X1 = sm.add_constant(X1,has_constant='add')\n",
    "\n",
    "o0 = model.predict(X0)\n",
    "o1 = model.predict(X1)\n",
    "print(f'Average probability for T = 1: {o0.mean():.4f}')\n",
    "print(f'Average probability for T = 0: {o1.mean():.4f}')\n",
    "print(f'Diff: {(o1.mean()- o0.mean()):.4f}')\n"
   ]
  },
  {
   "cell_type": "code",
   "execution_count": 148,
   "id": "0b6dc6ec-f3ef-463d-bd7e-10300393be35",
   "metadata": {
    "tags": []
   },
   "outputs": [
    {
     "data": {
      "text/html": [
       "<div>\n",
       "<style scoped>\n",
       "    .dataframe tbody tr th:only-of-type {\n",
       "        vertical-align: middle;\n",
       "    }\n",
       "\n",
       "    .dataframe tbody tr th {\n",
       "        vertical-align: top;\n",
       "    }\n",
       "\n",
       "    .dataframe thead th {\n",
       "        text-align: right;\n",
       "    }\n",
       "</style>\n",
       "<table border=\"1\" class=\"dataframe\">\n",
       "  <thead>\n",
       "    <tr style=\"text-align: right;\">\n",
       "      <th></th>\n",
       "      <th>married_vs_never_married</th>\n",
       "    </tr>\n",
       "  </thead>\n",
       "  <tbody>\n",
       "    <tr>\n",
       "      <th>dy/dx</th>\n",
       "      <td>-0.038951</td>\n",
       "    </tr>\n",
       "    <tr>\n",
       "      <th>Std. Err.</th>\n",
       "      <td>0.008688</td>\n",
       "    </tr>\n",
       "    <tr>\n",
       "      <th>z</th>\n",
       "      <td>-4.483291</td>\n",
       "    </tr>\n",
       "    <tr>\n",
       "      <th>Pr(&gt;|z|)</th>\n",
       "      <td>0.000007</td>\n",
       "    </tr>\n",
       "    <tr>\n",
       "      <th>Conf. Int. Low</th>\n",
       "      <td>-0.055980</td>\n",
       "    </tr>\n",
       "    <tr>\n",
       "      <th>Cont. Int. Hi.</th>\n",
       "      <td>-0.021923</td>\n",
       "    </tr>\n",
       "  </tbody>\n",
       "</table>\n",
       "</div>"
      ],
      "text/plain": [
       "                married_vs_never_married\n",
       "dy/dx                          -0.038951\n",
       "Std. Err.                       0.008688\n",
       "z                              -4.483291\n",
       "Pr(>|z|)                        0.000007\n",
       "Conf. Int. Low                 -0.055980\n",
       "Cont. Int. Hi.                 -0.021923"
      ]
     },
     "execution_count": 148,
     "metadata": {},
     "output_type": "execute_result"
    }
   ],
   "source": [
    "# Since the treatment is binary, the AME (Average marginal effect) should be pretty close to ATE. Looking at the output for reference. \n",
    "marginal_effect = model.get_margeff()\n",
    "marginal_effect.summary_frame().loc[target_treatment].to_frame()"
   ]
  },
  {
   "cell_type": "markdown",
   "id": "a4430f57-2357-427d-9644-79e0d311090f",
   "metadata": {
    "tags": []
   },
   "source": [
    "## Round 3 - Propensity score matching\n",
    "  * Since this is observational data (from treatment i.e. marriage perspective), we will attempt to apply propensity score to balance the assignments. \n",
    "  * We will use logistic regression for matching\n",
    "  * Steps: \n",
    "     1. Decide on variables \n",
    "     2. Fit logistic regression model \n",
    "     3. Match data (nearest neighbor) & see propensity score overlap and covariates balance \n",
    "     4. Get average treatment effects\n",
    "  * *Result*\n",
    "     * Odds change: 0.59x\n",
    "     * However there are a lot (~10%) of data points w/ propensity score of 0. This may mean we don't have enough variables for better scoring. Either way"
   ]
  },
  {
   "cell_type": "markdown",
   "id": "f035575b-84e6-4f7b-9dcb-f4f9eba7fc04",
   "metadata": {
    "tags": []
   },
   "source": [
    "### Variable selection\n",
    "In addition to basic demographics that were used before, try to see if there are other variables\n",
    "__Criteria__\n",
    "   * Confounding variables\n",
    "   * Pre-treatment variables\n",
    "   * Not instrumental\n",
    "   * (No peeking for balance)\n",
    "\n",
    "\n",
    "   "
   ]
  },
  {
   "cell_type": "code",
   "execution_count": 33,
   "id": "14dddd80-b7bf-4208-a103-bdf877e4b4ba",
   "metadata": {
    "tags": []
   },
   "outputs": [
    {
     "name": "stdout",
     "output_type": "stream",
     "text": [
      "# of people married by year:\n"
     ]
    },
    {
     "data": {
      "text/plain": [
       "1996.0      2\n",
       "1997.0     27\n",
       "1998.0     79\n",
       "1999.0    204\n",
       "2000.0    429\n",
       "Name: First_marriage_year, dtype: int64"
      ]
     },
     "execution_count": 33,
     "metadata": {},
     "output_type": "execute_result"
    }
   ],
   "source": [
    "# Checking to see which survey year data we can use (Total is ~8300)\n",
    "# Based on below output, we will assume we can data from survey 1998 or less, since the # of people married is still low\n",
    "\n",
    "print(\"# of people married by year:\")\n",
    "cohab_mhealth_df['First_marriage_year'].value_counts().sort_index().cumsum().head()"
   ]
  },
  {
   "cell_type": "code",
   "execution_count": 34,
   "id": "ab425098-ccca-4afe-a8c0-48f79ea878b2",
   "metadata": {
    "tags": []
   },
   "outputs": [
    {
     "name": "stderr",
     "output_type": "stream",
     "text": [
      "C:\\Users\\hiron\\AppData\\Local\\Temp\\ipykernel_1324\\741386516.py:18: FutureWarning: The default value of numeric_only in DataFrame.corrwith is deprecated. In a future version, it will default to False. Select only valid columns or specify the value of numeric_only to silence this warning.\n",
      "  corr_df = temp_df.corrwith(temp_df['married_vs_never_married'],method='kendall').to_frame(name='corr').reset_index(names='name')\n"
     ]
    },
    {
     "data": {
      "text/html": [
       "<table id=\"itables_84255599_e061_4be8_ad58_ee1ce6cbb53e\" class=\"display nowrap\" data-quarto-disable-processing=\"true\" style=\"table-layout:auto;width:auto;margin:auto;caption-side:bottom\">\n",
       "<thead>\n",
       "    <tr style=\"text-align: right;\">\n",
       "      <th></th>\n",
       "      <th>name</th>\n",
       "      <th>corr</th>\n",
       "      <th>nans</th>\n",
       "      <th>Modified_Description</th>\n",
       "    </tr>\n",
       "  </thead><tbody><tr><td>Loading... (need <a href=https://mwouts.github.io/itables/troubleshooting.html>help</a>?)</td></tr></tbody>\n",
       "\n",
       "</table>\n",
       "<link href=\"https://www.unpkg.com/dt_for_itables@2.0.1/dt_bundle.css\" rel=\"stylesheet\">\n",
       "<script type=\"module\">\n",
       "    import {DataTable, jQuery as $} from 'https://www.unpkg.com/dt_for_itables@2.0.1/dt_bundle.js';\n",
       "\n",
       "    document.querySelectorAll(\"#itables_84255599_e061_4be8_ad58_ee1ce6cbb53e:not(.dataTable)\").forEach(table => {\n",
       "        // Define the table data\n",
       "        const data = [[2180, \"married_vs_never_married\", 1.0, 0.158464, \"NaN\"], [2179, \"married_vs_not_married\", 1.0, 0.0, \"NaN\"], [2177, \"Ever_cohabitted\", 0.451462, 0.0, \"NaN\"], [1911, \"YOUTH_NONR1INHH.01\", 0.182457, 0.0, \"YOUTH, DOES xST NON-RESP BIO PARENT OF R xx LIVE IN HH? (ROS ITEM)\"], [180, \"CV_INCOME_GROSS_YR\", 0.178584, 0.2592, \"GROSS HH INCOME IN PAST YEAR\"], [202, \"CV_SAMPLE_TYPE\", 0.177176, 0.0, \"SAMPLE TYPE.  CROSS-SECTIONAL OR OVERSAMPLE\"], [1388, \"PC10_026\", 0.175208, 0.117477, \"R RECEIVE INCOME FROM JOB LAST YEAR?\"], [175, \"CV_HH_POV_RATIO\", 0.172559, 0.261798, \"RATIO OF HOUSEHOLD INCOME TO POVERTY LEVEL\"], [1907, \"YOUTH_DADID.01\", 0.160405, 0.0, \"YOUTH, R xx BIO DADS ID (ROS ITEM)\"], [1876, \"YINC_1400\", 0.148252, 0.002165, \"R RECEIVE INCOME FROM JOB IN PAST YEAR?\"], [1396, \"PC11_014\", 0.147505, 0.669649, \"PERCENT CHANCE R HAS COLLEGE DEGREE BY xx YEARS OLD\"], [1391, \"PC11_005\", 0.147019, 0.665031, \"PERCENT CHANCE R IN SCHOOL NEXT YEAR\"], [1981, \"YSAQ_296\", 0.143809, 0.750036, \"# DATES R HAD IN PAST YEAR WITH MALE\"], [1393, \"PC11_008\", 0.143021, 0.66734, \"PERCENT CHANCE R HAS HIGH SCHOOL DIPLOMA BY xx YEARS OLD\"], [1977, \"YSAQ_294A\", 0.101197, 0.493578, \"R HAS EVER HAD DATE WITH BOYFRIEND?\"], [1536, \"YEXP_2000\", 0.100584, 0.616106, \"PERCENT CHANCE R HAS COLLEGE DEGREE BY xx YEARS OLD\"], [2017, \"YSAQ_364\", 0.098383, 0.575263, \"HOW OLD R FIRST TIME DRINK ALCOHOL?\"], [1321, \"P5_028\", 0.095463, 0.573387, \"TOTAL INCOME PRS SPOUSE FROM WAGES AND SALARY LAST YEAR (TRUNC)\"], [1531, \"YEXP_1500\", 0.09149, 0.615096, \"PERCENT CHANCE R HAS HIGH SCHOOL DIPLOMA BY xx YEARS OLD\"], [2139, \"YTIM_2200\", 0.08959, 0.399192, \"R SPEND TIME DOING HOMEWORK?\"], [1972, \"YSAQ_292\", 0.088396, 0.699379, \"HOW OLD R FIRST DATE WITH A GIRLFRIEND?\"], [1549, \"YEXP_500\", 0.086836, 0.614519, \"PERCENT CHANCE R IN SCHOOL NEXT YEAR\"], [1541, \"YEXP_300\", 0.086799, 0.616972, \"PERCENT CHANCE GET FLU NEXT YEAR\"], [1389, \"PC10_027\", 0.077, 0.700101, \"RS TOTAL INCOME FROM WAGES AND SALARY LAST YEAR\"], [2041, \"YSAQ_513\", 0.075218, 0.030307, \"PERCENT CHANCE ARRESTED IF STEAL CAR?\"], [5, \"age_1996\", 0.073506, 0.0, \"NaN\"], [151, \"CV_AGE_12/31/96\", 0.073506, 0.0, \"RS AGE AS OF xx/xx/xx\"], [1850, \"YHEA_900\", 0.072803, 0.799971, \"SMOKING x PACK + PER DAY INCREASE CHANCE HEART DISEASE?\"], [4, \"first_interview_age\", 0.072144, 0.0, \"NaN\"], [152, \"CV_AGE_INT_DATE\", 0.070267, 0.0, \"RS AGE AT INTERVIEW DATE\"], [1559, \"YEXP_700\", 0.069431, 0.61957, \"PERCENT CHANCE WORK xx+ HOURS WHILE NOT IN SCHOOL NEXT YEAR\"], [1317, \"P5_018\", 0.067574, 0.113581, \"PR RECEIVE INCOME FROM OWN BUS OR FARM IN LAST YEAR?\"], [150, \"CV_AGE(MONTHS)_INT_DATE\", 0.067489, 0.0, \"RS AGE IN MONTHS AS OF INTERVIEW DATE\"], [1934, \"YPRS_600\", 0.067487, 0.020927, \"PERCENT OF PEERS WHO GO TO CHURCH REGULARLY\"], [2010, \"YSAQ_360\", 0.065983, 0.612354, \"HOW OLD R FIRST TIME SMOKED?\"], [1929, \"YPRS_1100\", 0.065319, 0.011834, \"PERCENT PEERS WHO PLAN TO GO TO COLLEGE\"], [1910, \"YOUTH_MOMID.01\", 0.064779, 0.0, \"YOUTH, R xx BIO MOMS ID (ROS ITEM)\"], [2158, \"YTIM_3200_000002\", 0.064385, 0.424304, \"TIME PER WEEKDAY R WATCHES TV? (MINUTES)\"], [2164, \"YTIM_3600_000002\", 0.063714, 0.634435, \"TIME PER WEEKDAY R READS FOR PLEASURE (MINUTES)\"], [1323, \"P5_031\", 0.060753, 0.397316, \"PRS SPOUSE RECEIVE INCOME FROM OWN BUS OR FARM LAST YEAR?\"], [1542, \"YEXP_400\", 0.058123, 0.614807, \"PERCENT CHANCE EAT PIZZA NEXT YEAR\"], [1971, \"YSAQ_291A\", 0.057314, 0.509453, \"R HAS EVER HAD DATE WITH GIRLFRIEND?\"], [2160, \"YTIM_3300_000002\", 0.056979, 0.419974, \"TOTAL TIME PER WEEKEND R WATCHES TV (MINUTES)\"], [1882, \"YINC_1700\", 0.056301, 0.595468, \"TOTAL INCOME FROM WAGES AND SALARY IN PAST YEAR\"], [1294, \"P2_049\", 0.055628, 0.43686, \"WHAT RELIGION WAS PRS SPOUSE/PARTNER RAISED IN?\"], [1540, \"YEXP_2100\", 0.05522, 0.616684, \"PERCENT CHANCE WORK xx+ HOURS PER WEEK BY xx YEARS OLD\"], [1320, \"P5_022\", 0.052158, 0.396883, \"PRS SPOUSE RECEIVE INCOME FROM JOB LAST YEAR?\"], [1304, \"P4_016\", 0.052084, 0.506134, \"RS NONRESP BIO PARENT x HEIGHT IN FEET\"], [2016, \"YSAQ_363\", 0.051911, 0.003897, \"R EVER DRINK ALCOHOL?\"], [2165, \"YTIM_3700_000001\", 0.051125, 0.625487, \"TOTAL TIME PER WEEKEND R READS FOR PLEASURE (HOURS)\"], [1974, \"YSAQ_293\", 0.048423, 0.698081, \"# DATES R HAS HAD IN PAST YEAR WITH GIRLFRIEND\"], [2143, \"YTIM_2500_000001\", 0.048072, 0.470919, \"TOTAL TIME PER WEEKEND DOING HOMEWORK (HOURS)\"], [1979, \"YSAQ_295\", 0.047979, 0.751624, \"HOW OLD R FIRST DATE WITH BOYFRIEND?\"], [1756, \"YHEA_2000\", 0.046201, 0.020349, \"HEIGHT OF R IN FEET\"], [1315, \"P5_016\", 0.042326, 0.407129, \"TOTAL INCOME FROM PRS WAGES AND SALARY LAST YEAR (TRUNC)\"], [1312, \"P5_010\", 0.040695, 0.112282, \"PR RECEIVE INCOME FROM JOB LAST YEAR?\"], [2140, \"YTIM_2300\", 0.039181, 0.471064, \"# WEEKDAYS R DOES HOMEWORK\"], [2145, \"YTIM_2600\", 0.038963, 0.39313, \"R TAKE EXTRA CLASSES OR LESSONS?\"], [1936, \"YPRS_800\", 0.038651, 0.019483, \"PERCENT OF PEERS WHO GET DRUNK x+ TIMES A MONTH\"], [1914, \"YOUTH_PARENTID.01\", 0.038308, 0.0, \"YOUTH, ID OF R xx RESP PARENT (ROS ITEM)\"], [2162, \"YTIM_3500\", 0.038232, 0.625198, \"# WEEKDAYS R READ FOR PLEASURE\"], [2040, \"YSAQ_374\", 0.035615, 0.00202, \"WHAT R DO ABOUT WEIGHT\"], [1937, \"YPRS_900\", 0.03521, 0.003608, \"PERCENT PEERS IN SPORTS, CLUBS, SCHOOL ACTIVITIES\"], [1749, \"YHEA_1400\", 0.034126, 0.798528, \"x+ DRINKS INCREASE RS RISK ADDICTION TO ALCOHOL?\"], [1913, \"YOUTH_PARENTGUAR.01\", 0.032774, 0.0, \"YOUTH, DOES R xx HAVE A RESP PARENT OR GUARDIAN IN HH (ROS ITEM)\"], [1397, \"PC11_015\", 0.032435, 0.667484, \"PERCENT CHANCE R WORK xx+ HOURS PER WEEK BY xx YEARS OLD\"], [2074, \"YSCH_36600\", 0.031926, 0.001732, \"STUDENTS DISRUPT LEARNING AGREE/DISAGREE\"], [2045, \"YSAQ_516\", 0.030644, 0.039688, \"PERCENT CHANCE GO TO JAIL IF STOLE CAR?\"], [1296, \"P2_114.01\", 0.029196, 0.770818, \"WHAT RELIGION WAS NONRESP PARENT xx RAISED IN?\"], [2144, \"YTIM_2500_000002\", 0.02886, 0.470486, \"TOTAL TIME PER WEEKEND DOING HOMEWORK (MINUTES)\"], [1295, \"P2_050\", 0.026727, 0.427479, \"WHAT IS PRS SPOUSE/PARTNER CURRENT RELIGIOUS PREFERENCE?\"], [2161, \"YTIM_3400\", 0.025675, 0.393419, \"R SPEND TIME READING FOR PLEASURE?\"], [2062, \"YSAQ_INTRO_2\", 0.02413, 0.000577, \"CHOCOLATE ICE CREAM (SAQ)\"], [2009, \"YSAQ_359\", 0.022966, 0.003175, \"R EVER SMOKED?\"], [1905, \"YOUTH_ADOPDADID.01\", 0.022857, 0.0, \"YOUTH, R xx ADOPTIVE DADS ID (ROS ITEM)\"], [1343, \"P6_INT_2\", 0.022618, 0.322557, \"INTRO PSAQ CHOCOLATE ICE CREAM\"], [1306, \"P4_018\", 0.022384, 0.525906, \"RS NONRESP BIO PARENTx WEIGHT\"], [1527, \"YEXP_1100\", 0.02082, 0.615673, \"PERCENT CHANCE R GET DRUNK BY NEXT YEAR\"], [2007, \"YSAQ_356\", 0.020585, 0.39313, \"R OPTIMISTIC ABOUT FUTURE (AGREE/DISAGREE)\"], [154, \"CV_CENSUS_REGION\", 0.019877, 0.0, \"CENSUS REGION OF RESIDENCE\"], [1292, \"P2_013\", 0.019422, 0.112137, \"WHAT RELIGION WAS PR RAISED IN?\"], [1758, \"YHEA_2100\", 0.017724, 0.023813, \"HEIGHT OF R IN INCHES\"], [1293, \"P2_014\", 0.017259, 0.113003, \"WHAT IS PRS CURRENT RELIGIOUS PREFERENCE?\"], [2152, \"YTIM_3000\", 0.015161, 0.39313, \"R SPEND TIME WATCHING TV?\"], [1301, \"P4_004\", 0.015056, 0.114735, \"HEIGHT OF PR IN FEET\"], [2044, \"YSAQ_515\", 0.013216, 0.041564, \"PERCENT CHANCE PAY FINE AND RELEASED IF STOLE CAR?\"], [2020, \"YSAQ_365\", 0.0121, 0.575263, \"# DAYS R DRINK ALCOHOL LAST xx DAYS\"], [1305, \"P4_017\", 0.01122, 0.506567, \"RS NONRESP BIO PARENTx HEIGHT IN INCHES\"], [2141, \"YTIM_2400_000001\", 0.009179, 0.471352, \"TIME PER WEEKDAY SPEND DOING HOMEWORK (HOURS)\"], [1342, \"P6_028\", 0.008514, 0.747438, \"x+ DRINKS INCREASE PRS RISK OF HARMING UNBORN CHILD?\"], [1528, \"YEXP_1200\", 0.006317, 0.618848, \"PERCENT CHANCE R VICTIM OF VIOLENT CRIME BY NEXT YEAR\"], [1447, \"PC9_023\", 0.005848, 0.115168, \"R HAVE DEFORMED/MISSING BODY PART?\"], [182, \"CV_INTERVIEW_DATE_M\", 0.005701, 0.0, \"MONTH R INTERVIEWED\"], [201, \"CV_PARENT_INT_DATE_Y\", 0.00511, 0.109973, \"PARENTS INTERVIEW DATE\"], [1750, \"YHEA_1500\", 0.005104, 0.798961, \"x+ DRINKS INCREASE RS RISK OF HARMING UNBORN CHILD?\"], [2043, \"YSAQ_514\", 0.005055, 0.037668, \"PERCENT CHANCE RELEASED WITH OUT CHARGE IF STOLE CAR?\"], [1302, \"P4_005\", 0.002558, 0.116467, \"HEIGHT OF PR IN INCHES\"], [1935, \"YPRS_700\", 0.002244, 0.011401, \"PERCENT OF PEERS WHO SMOKE\"], [1530, \"YEXP_1400\", 0.001421, 0.624621, \"PERCENT CHANCE R DIE BY NEXT YEAR\"], [1338, \"P6_022\", 0.000269, 0.765623, \"x+ DRINKS INCREASE PRS RISK GETTING ARTHRITIS?\"], [181, \"CV_INTERVIEW_CMONTH\", -0.000864, 0.0, \"MONTH INTERVIEWED\"], [1330, \"P6_011\", -0.001109, 0.324001, \"PR DOES NOT NEED RELIGION FOR GOOD VALUES\"], [2004, \"YSAQ_351A\", -0.001834, 0.391398, \"WHO R TURNS TO WITH PERSONAL PROBLEMS?\"], [6, \"hispanic\", -0.002189, 0.003031, \"NaN\"], [2013, \"YSAQ_361\", -0.003639, 0.611632, \"# DAYS SMOKED IN LAST xx DAYS\"], [1948, \"YSAQ_010\", -0.003757, 0.395295, \"# DAYS PER WEEK TYPICALLY FAMILY DOES SOMETHING RELIGIOUS\"], [1906, \"YOUTH_ADOPMOMID.01\", -0.004402, 0.0, \"YOUTH, R xx ADOPTIVE MOMS ID (ROS ITEM)\"], [2142, \"YTIM_2400_000002\", -0.004497, 0.471208, \"TIME PER WEEKDAY SPEND DOING HOMEWORK (MINUTES)\"], [1534, \"YEXP_1900\", -0.006308, 0.625198, \"PERCENT CHANCE R DIE BY xx YEARS OLD\"], [176, \"CV_HH_SIZE\", -0.00634, 0.0, \"HOUSEHOLD SIZE\"], [1408, \"PC9_003\", -0.006533, 0.115168, \"R TAKE MEDICATION FOR CHRONIC CONDITION?\"], [2039, \"YSAQ_373\", -0.007118, 0.00202, \"R DESCRIBE WEIGHT\"], [2005, \"YSAQ_354\", -0.00723, 0.392553, \"R EXPECTS BEST IN UNCERTAIN TIMES (AGREE/DISAGREE)\"], [200, \"CV_PARENT_INT_DATE_M\", -0.008533, 0.109973, \"PARENTS INTERVIEW DATE\"], [1328, \"P6_004\", -0.00991, 0.326021, \"OPTIMISTIC ABOUT PRS FUTURE\"], [208, \"FP_PPRELIG\", -0.010555, 0.324722, \"PARENTS RELIGIOSITY, PARENT REPORT\"], [2166, \"YTIM_3700_000002\", -0.011204, 0.62491, \"TOTAL TIME PER WEEKEND R READS FOR PLEASURE (MINUTES)\"], [1533, \"YEXP_1800\", -0.011515, 0.618415, \"PERCENT CHANCE R A PARENT BY xx YEARS OLD\"], [2076, \"YSCH_36800\", -0.011806, 0.008804, \"CHEAT ON TEST AND ASSIGNMENT (AGREE/DISAGREE)\"], [1339, \"P6_023\", -0.011901, 0.74917, \"x+ DRINKS INCREASE PRS RISK DAMAGE LIVER?\"], [1341, \"P6_027\", -0.012233, 0.748737, \"x+ DRINKS INCREASE PRS RISK ADDICTION TO ALCOHOL?\"], [1326, \"P6_002\", -0.012368, 0.324434, \"UNCERTAIN TIMES PR EXPECT BEST\"], [1340, \"P6_024\", -0.013801, 0.754799, \"x+ DRINKS INCREASE PRS RISK GET HEART DISEASE?\"], [1558, \"YEXP_600\", -0.013901, 0.616106, \"PERCENT CHANCE R IN SCHOOL AND WORKING xx+ HOURS PER WEEK NEXT YEAR\"], [184, \"CV_INTERVIEW_DATE_Y\", -0.015151, 0.0, \"YEAR R INTERVIEWED\"], [1425, \"PC9_014\", -0.015501, 0.115168, \"R HAVE TROUBLE SEEING, HEARING, SPEAKING? (SENSORY)\"], [1931, \"YPRS_1300\", -0.015901, 0.023236, \"PERCENT PEERS USE ILLEGAL DRUGS\"], [1996, \"YSAQ_345\", -0.016301, 0.692163, \"R HAS TROUBLE SLEEPING (FEMALE)\"], [1908, \"YOUTH_FOSTDADID.01\", -0.016457, 0.0, \"YOUTH, R xx FOSTER DADS ID (ROS ITEM)\"], [1335, \"P6_019\", -0.017241, 0.324434, \"PR ASKS GOD HELP MAKE DECISIONS\"], [2, \"birth_month\", -0.018096, 0.0, \"NaN\"], [1760, \"YHEA_2200\", -0.020128, 0.030885, \"WEIGHT OF R - POUNDS\"], [1930, \"YPRS_1200\", -0.022327, 0.014143, \"PERCENT OF PEERS WHO DO VOLUNTEER WORK\"], [2001, \"YSAQ_348\", -0.022454, 0.699235, \"R DOES NOT GET ALONG WITH OTHERS (MALE)\"], [1982, \"YSAQ_297\", -0.024535, 0.781787, \"# DIFFERENT BOYS DATED IN LAST YEAR\"], [2024, \"YSAQ_369\", -0.025496, 0.003608, \"R EVER USE MARIJUANA?\"], [1912, \"YOUTH_NONR2INHH.01\", -0.026317, 0.0, \"YOUTH, IS R xx xND NON-RESP BIO PARENT IN HH (ROS ITEM)\"], [2048, \"YSAQ_518\", -0.030277, 0.015009, \"R VICTIM OF BULLYING < xx YEARS OLD?\"], [2156, \"YTIM_3100\", -0.03197, 0.419541, \"# WEEKDAYS R WATCHES TV\"], [2046, \"YSAQ_517\", -0.032166, 0.016597, \"HOUSE OR APARTMENT BROKEN INTO < xx YEARS OLD?\"], [1300, \"P4_003\", -0.033094, 0.111271, \"PR HAVE HEALTH PROBLEM SINCE OLDEST CHILD BORN?\"], [1463, \"PC9_032\", -0.033247, 0.115168, \"R HAVE A CHRONIC CONDITION?\"], [2068, \"YSCH_36000\", -0.033557, 0.01169, \"R THREATENED TO BE HURT AT SCHOOL\"], [1909, \"YOUTH_FOSTMOMID.01\", -0.036967, 0.0, \"YOUTH, R xx FOSTER MOMS ID (ROS ITEM)\"], [1532, \"YEXP_1600\", -0.037314, 0.615096, \"PERCENT CHANCE R IN JAIL BY xx YEARS OLD\"], [2067, \"YSCH_35900\", -0.038375, 0.011546, \"R HAD SOMETHING STOLEN FROM SCHOOL\"], [2071, \"YSCH_36300\", -0.039835, 0.031462, \"# DAYS R ABSENT FROM SCHOOL?\"], [2002, \"YSAQ_349\", -0.040091, 0.699235, \"R LIES OR CHEATS (MALE)\"], [1932, \"YPRS_1400\", -0.041125, 0.005629, \"PERCENT OF PEERS WHO CUT CLASSES OR SCHOOL\"], [1299, \"P4_002\", -0.041987, 0.111416, \"PR HAVE LONG-TERM HEALTH PROBLEM LIMITING EMPLOYMENT?\"], [1407, \"PC9_002\", -0.04324, 0.115601, \"R HAVE PHYSICAL, EMOTIONAL CONDITION LIMITS SCHOOL/WORK?\"], [1529, \"YEXP_1300\", -0.044806, 0.616251, \"PERCENT CHANCE R ARRESTED BY NEXT YEAR\"], [1337, \"P6_021A\", -0.045932, 0.325299, \"PR PRAYS MORE THAN ONCE A DAY\"], [1344, \"P6_INT_3\", -0.047346, 0.322557, \"INTRO PSAQ FAVORITE ICE CREAM\"], [2077, \"YSCH_36900\", -0.048779, 0.004185, \"DISCIPLINE IS FAIR AGREE/DISAGREE\"], [1327, \"P6_003\", -0.050014, 0.324145, \"RARELY GOOD THINGS HAPPEN TO PR\"], [2163, \"YTIM_3600_000001\", -0.050643, 0.634868, \"TIME PER WEEKDAY R READS FOR PLEASURE (HOURS)\"], [174, \"CV_HH_INCOME_SOURCE\", -0.051542, 0.0, \"HOUSEHOLD INCOME FROM PARENT OR R\"], [1329, \"P6_005\", -0.052423, 0.324289, \"HARDLY EXPECT THINGS TO GO PRS WAY\"], [1919, \"YOUTH_SIBRELY01.01\", -0.053545, 0.547265, \"YOUTH, RELATIONSHIP OF xST OTHER RESPONDENT IN R xx HOUSEHOLD (ROS ITEM)\"], [177, \"CV_HH_UNDER_18\", -0.054199, 0.0, \"NUMBER OF HOUSEHOLD MEMBERS UNDER AGE xx\"], [2064, \"YSAQ_INTRO_3\", -0.054939, 0.000722, \"FAVORITE ICE CREAM (SAQ)\"], [2159, \"YTIM_3300_000001\", -0.055986, 0.421129, \"TOTAL TIME PER WEEKEND R WATCHES TV (HOURS)\"], [1976, \"YSAQ_294\", -0.056537, 0.738923, \"# DIFFERENT GIRLS DATED IN PAST YEAR\"], [2000, \"YSAQ_347\", -0.056559, 0.699235, \"R HAS TROUBLE CONCENTRATING AND PAYING ATTENTION (MALE)\"], [1392, \"PC11_006\", -0.05836, 0.667773, \"PERCENT CHANCE R IN SCHOOL & WORKING xx+ HOURS PER WEEK NEXT YEAR\"], [2073, \"YSCH_36500\", -0.058771, 0.002742, \"TEACHERS INTERESTED IN STUDENTS AGREE/DISAGREE\"], [178, \"CV_HH_UNDER_6\", -0.05958, 0.0, \"NUMBER OF HOUSEHOLD MEMBERS UNDER AGE x\"], [1395, \"PC11_013\", -0.062853, 0.671093, \"PERCENT CHANCE R A PARENT BY xx YEARS OLD\"], [1334, \"P6_018\", -0.066748, 0.786838, \"PR OBEYS RELIGIOUS TEACHINGS IN EVERY SITUATION\"], [212, \"FP_YYMBEHS\", -0.068627, 0.699235, \"BOYS BEHAVIORAL/EMOTIONAL PROBLEMS SCALE, YOUTH REPORT\"], [1310, \"P4_028\", -0.06886, 0.394718, \"PRS SPOUSE/PARTNER HEALTH IN GENERAL\"], [1992, \"YSAQ_343\", -0.070497, 0.692163, \"R LIES OR CHEATS (FEMALE)\"], [1336, \"P6_020\", -0.071407, 0.32631, \"GOD HAS NOTHING TO DO WITH WHAT HAPPENS TO PR\"], [1998, \"YSAQ_346\", -0.072053, 0.692163, \"R UNHAPPY, SAD, DEPRESSED (FEMALE)\"], [3, \"birth_year\", -0.073506, 0.0, \"NaN\"], [1311, \"P4_029\", -0.073551, 0.393852, \"PRS SPOUSE/PARTNER HAVE HEALTH PROBLEM LIMITING EMPLOYMENT?\"], [2003, \"YSAQ_350\", -0.074484, 0.699235, \"R UNHAPPY, SAD, DEPRESSED (MALE)\"], [203, \"CV_URBAN_RURAL\", -0.075038, 0.0, \"CURRENT RESIDENCE IN URBAN OR RURAL AREA\"], [2008, \"YSAQ_357\", -0.075047, 0.39111, \"HARDLY EXPECT THINGS TO GO RS WAY (AGREE/DISAGREE)\"], [1994, \"YSAQ_344\", -0.076252, 0.692019, \"RS SCHOOL WORK POOR (FEMALE)\"], [2075, \"YSCH_36700\", -0.077177, 0.002598, \"STUDENTS GRADED FAIRLY AGREE/DISAGREE\"], [1643, \"YHEA_100\", -0.078199, 0.0, \"HOW IS RS GENERAL HEALTH?\"], [2070, \"YSCH_36200\", -0.079053, 0.017463, \"R LATE FOR SCHOOL WITHOUT EXCUSE\"], [1303, \"P4_006\", -0.080116, 0.154423, \"WEIGHT OF PR\"], [2072, \"YSCH_36400\", -0.082108, 0.001443, \"TEACHERS GOOD (AGREE/DISAGREE)\"], [1409, \"PC9_004\", -0.083237, 0.115745, \"R HAVE LEARNING/EMOTIONAL PROBLEM LIMITING SCHOOL/WORK PERFORMANCE?\"], [211, \"FP_YYFBEHS\", -0.085656, 0.692019, \"GIRLS BEHAVIORAL/EMOTIONAL PROBLEMS SCALE, YOUTH REPORT\"], [198, \"CV_MSA\", -0.08834, 0.0, \"R CURRENTLY RESIDE IN MSA\"], [1501, \"SIDCODE\", -0.09037, 0.0, \"HOUSEHOLD IDENTIFICATION CODE\"], [1394, \"PC11_011\", -0.091299, 0.667052, \"PERCENT CHANCE R IN JAIL BY xx YEARS OLD\"], [0, \"index\", -0.091676, 0.0, \"NaN\"], [1500, \"PUBID\", -0.091676, 0.0, \"PUBID, YOUTH CASE IDENTIFICATION CODE\"], [1, \"uid\", -0.091676, 0.0, \"NaN\"], [2050, \"YSAQ_519\", -0.094201, 0.015009, \"R SEE SOMEONE SHOT WITH GUN < xx YEARS OLD?\"], [1933, \"YPRS_1600\", -0.095257, 0.566171, \"PERCENT OF PEERS WHO HAVE HAD SEX\"], [1298, \"P4_001\", -0.096613, 0.110839, \"HOW IS PRS GENERAL HEALTH\"], [2006, \"YSAQ_355\", -0.100195, 0.390677, \"R RARELY EXPECTS GOOD THINGS (AGREE/DISAGREE)\"], [1406, \"PC9_001\", -0.100228, 0.115312, \"HOW IS RS HEALTH?\"], [1928, \"YPRS_1000\", -0.106643, 0.017896, \"PERCENT OF PEERS BELONG TO A GANG\"], [1915, \"YOUTH_SIBID01.01\", -0.109525, 0.546832, \"YOUTH, ID OF xST OTHER RESPONDENT IN R xx HOUSEHOLD (ROS ITEM)\"], [1331, \"P6_015\", -0.110621, 0.60153, \"PR OBEYS BIBLE IN EVERY SITUATION\"], [2178, \"CESD_above_8\", -0.115439, 0.0, \"NaN\"], [2069, \"YSCH_36100\", -0.117563, 0.011401, \"R IN A FIGHT AT SCHOOL\"], [2157, \"YTIM_3200_000001\", -0.123853, 0.424737, \"TIME PER WEEKDAY R WATCHES TV? (HOURS)\"], [2078, \"YSCH_37000\", -0.125136, 0.002309, \"FEEL SAFE AT SCHOOL AGREE/DISAGREE\"], [207, \"CV_YTH_REL_HH_CURRENT\", -0.18649, 0.003608, \"RS RELATIONSHIP TO HOUSEHOLD PARENT FIGURE\"], [204, \"CV_YTH_REL_HH_AGE_12\", -0.197736, 0.121374, \"RELATIONSHIP TO PARENT FIGURES WHEN R AGE xx\"], [206, \"CV_YTH_REL_HH_AGE_6\", -0.209654, 0.121663, \"RELATIONSHIP TO PARENT FIGURES WHEN R AGE x\"], [205, \"CV_YTH_REL_HH_AGE_2\", -0.211755, 0.120941, \"RELATIONSHIP TO PARENT FIGURES WHEN R AGE x\"], [7, \"Year\", NaN, 0.0, \"NaN\"], [2176, \"last_interview\", NaN, 0.0, \"NaN\"]];\n",
       "\n",
       "        // Define the dt_args\n",
       "        let dt_args = {\"layout\": {\"topStart\": \"pageLength\", \"topEnd\": \"search\", \"bottomStart\": \"info\", \"bottomEnd\": \"paging\"}, \"order\": [], \"warn_on_dom\": true};\n",
       "        dt_args[\"data\"] = data;\n",
       "\n",
       "        \n",
       "        new DataTable(table, dt_args);\n",
       "    });\n",
       "</script>\n"
      ],
      "text/plain": [
       "<IPython.core.display.HTML object>"
      ]
     },
     "metadata": {},
     "output_type": "display_data"
    }
   ],
   "source": [
    "# Look for additional variables that can be used for propensity scoring (but not for instrumental)\n",
    "# Get all columns from particular year, and set negative values to NaNs\n",
    "temp_df = tidy_df.loc[tidy_df['Year'] == 1997,:].select_dtypes(exclude=['object','category'])\n",
    "temp_df = temp_df.apply(dense_columns,axis=0)\n",
    "temp_df = temp_df.applymap(lambda x: np.nan if x < 0 else x)\n",
    "\n",
    "#Get needed treatment + outcome data and merge with previous df\n",
    "temp2_df = cohab_mhealth_df.loc[cohab_mhealth_df['Year'] == target_year,['uid','Ever_cohabitted','CESD_above_8','married']].drop_duplicates()\n",
    "temp_df = temp_df.merge(temp2_df,on='uid')\n",
    "\n",
    "#Create same married flags in the same df\n",
    "temp_df['married_vs_not_married'] = (temp_df['married'] == 'Yes').astype(int)\n",
    "temp_df['married_vs_never_married'] = (temp_df['married'] == 'Yes').astype(int)\n",
    "#For married VS never married, the \"Married but married before\" respondents will be marked as NaN\n",
    "temp_df.loc[temp_df['married']=='No',['married_vs_never_married']] = np.nan\n",
    "\n",
    "#Create correlation dataframe. Not using pearson as target (both treatment and outcome) is binomial\n",
    "corr_df = temp_df.corrwith(temp_df['married_vs_never_married'],method='kendall').to_frame(name='corr').reset_index(names='name')\n",
    "#Calculate % of nans \n",
    "temp3_df = (1 - temp_df.count() / temp_df.shape[0]).to_frame(name='nans').reset_index(names='name')\n",
    "corr_df = corr_df.merge(temp3_df,on='name')\n",
    "\n",
    "#Get descriptions from codebook\n",
    "corr_df = corr_df.merge(codebook_df[['Modified_Question','Modified_Description']].drop_duplicates(),left_on='name',right_on='Modified_Question',how='left')\n",
    "corr_df.drop('Modified_Question',axis=1,inplace=True)\n",
    "\n",
    "#Looking at list of \n",
    "show(corr_df.loc[corr_df['nans'] <= 0.8,:].sort_values(by='corr',ascending=False))"
   ]
  },
  {
   "cell_type": "markdown",
   "id": "1d124373-79ab-4a87-8ce6-8e386b17f776",
   "metadata": {},
   "source": [
    "__Results__ \n",
    "   * Just by looking at correlation (kendall), the correlation score is low (<0.2). However we will include a few based on score & data availability\n",
    "      * YOUTH_NONR1INHH.01 - If non-responding biological parent live in the household \n",
    "      * CV_INCOME_GROSS_YR - Gross income of household\n",
    "      * PC11_014 - Percent change respondent has college degree by some age (only answered by age >= 16)\n",
    "      * YTIM_2300 - # of days spending homework a week (only answered by age <= 15\n",
    "      * YSAQ_296 - # of dates with male\n",
    "      * YSAQ_294 - # of dates with female"
   ]
  },
  {
   "cell_type": "markdown",
   "id": "ecfc17c3-f0cc-450e-9967-c3192fcbdd57",
   "metadata": {},
   "source": [
    "### Fit propensity model (logistic regression)"
   ]
  },
  {
   "cell_type": "code",
   "execution_count": 37,
   "id": "492a23f9-20b8-4169-a0f8-ee2b93a69be7",
   "metadata": {
    "tags": []
   },
   "outputs": [],
   "source": [
    "temp_model_data_df = model_data_df.copy()\n",
    "temp_model_data_df.dropna(axis=0,subset=target_treatment,inplace=True)"
   ]
  },
  {
   "cell_type": "code",
   "execution_count": 38,
   "id": "21dda967-dfd4-401f-b117-fddec8d66a01",
   "metadata": {
    "tags": []
   },
   "outputs": [
    {
     "name": "stdout",
     "output_type": "stream",
     "text": [
      "Model over 15: married_vs_never_married ~ hh_income_1997_log + date_1998 + num_days_homework + C(hispanic) + C(sex) + C(race) + C(nonresp_parent_in_HH)\n",
      "Model under 16: married_vs_never_married ~ hh_income_1997_log + date_1998 + pct_college_by_30 + C(hispanic) + C(sex) + C(race) + C(nonresp_parent_in_HH)\n"
     ]
    }
   ],
   "source": [
    "#Since \"Number of days doing HW\" and \"Percent going to college by 30\" is mutually exclusive by age, we will create two \n",
    "# separate models. \n",
    "\n",
    "Xs_numerical = ['hh_income_1997_log','date_1998','num_days_homework']\n",
    "Xs_categorical = ['hispanic','sex','race','nonresp_parent_in_HH']\n",
    "formula = f'{target_treatment} ~ ' + (' + '.join(Xs_numerical)) + ' + C(' + (') + C(').join(Xs_categorical) + ')'\n",
    "print(\"Model over 15: \" + formula)\n",
    "# Fit the logistic regression model using GLM\n",
    "model_over_15 = smf.glm(formula=formula, data=temp_model_data_df, family=sm.families.Binomial()).fit()\n",
    "result1 = model_over_15.predict(temp_model_data_df[Xs_numerical+Xs_categorical])\n",
    "\n",
    "\n",
    "#formula creation\n",
    "Xs_numerical = ['hh_income_1997_log','date_1998','pct_college_by_30']\n",
    "Xs_categorical = ['hispanic','sex','race','nonresp_parent_in_HH']\n",
    "formula = f'{target_treatment} ~ ' + (' + '.join(Xs_numerical)) + ' + C(' + (') + C(').join(Xs_categorical) + ')'\n",
    "print(\"Model under 16: \" + formula)\n",
    "# Fit the logistic regression model using GLM\n",
    "model_under_16 = smf.glm(formula=formula, data=temp_model_data_df, family=sm.families.Binomial()).fit()\n",
    "result2 = model_under_16.predict(temp_model_data_df[Xs_numerical+Xs_categorical])\n",
    "\n"
   ]
  },
  {
   "cell_type": "markdown",
   "id": "e15acdfe-3b07-4450-ab34-a0d93c040c9a",
   "metadata": {},
   "source": [
    "### Match responders and check balance"
   ]
  },
  {
   "cell_type": "code",
   "execution_count": 40,
   "id": "4ca24ca0-bab7-4a52-ae2f-423cae92ada1",
   "metadata": {},
   "outputs": [],
   "source": [
    "#Put the two (mutually exclusive) p-scores into one and add to the model data df\n",
    "temp_df = pd.DataFrame({'pscore1':result1, 'pscore2':result2})\n",
    "temp_df.fillna(0,inplace=True)\n",
    "temp_df['pscore'] = temp_df['pscore1'] +temp_df['pscore2']\n",
    "\n",
    "temp_model_data_df.drop('pscore',axis=1,errors='ignore',inplace=True)\n",
    "temp_model_data_df = pd.concat([temp_model_data_df,temp_df[['pscore']]],axis=1)"
   ]
  },
  {
   "cell_type": "code",
   "execution_count": 41,
   "id": "e688d27a-d11a-4c43-9955-135d221c55d4",
   "metadata": {
    "tags": []
   },
   "outputs": [
    {
     "data": {
      "text/plain": [
       "<AxesSubplot: xlabel='pscore', ylabel='Count'>"
      ]
     },
     "execution_count": 41,
     "metadata": {},
     "output_type": "execute_result"
    },
    {
     "data": {
      "image/png": "[encoded data removed]",
      "text/plain": [
       "<Figure size 640x480 with 1 Axes>"
      ]
     },
     "metadata": {},
     "output_type": "display_data"
    }
   ],
   "source": [
    "#Check propensity score overlap between treated (married) and untreated\n",
    "sns.histplot(data=temp_model_data_df, x='pscore', hue=target_treatment) "
   ]
  },
  {
   "cell_type": "code",
   "execution_count": 42,
   "id": "f289bdf6-8293-4394-a242-ac10be6b4fe1",
   "metadata": {
    "tags": []
   },
   "outputs": [
    {
     "name": "stderr",
     "output_type": "stream",
     "text": [
      "C:\\Users\\hiron\\AppData\\Local\\Temp\\ipykernel_1324\\1006916421.py:21: FutureWarning: The default value of numeric_only in DataFrameGroupBy.mean is deprecated. In a future version, numeric_only will default to False. Either specify numeric_only or select only columns which should be valid for the function.\n",
      "  show(matched_df.groupby(target_treatment).mean())\n"
     ]
    },
    {
     "data": {
      "text/html": [
       "<table id=\"itables_337452f2_1639_40e0_b61f_eda8c239d684\" class=\"display nowrap\" data-quarto-disable-processing=\"true\" style=\"table-layout:auto;width:auto;margin:auto;caption-side:bottom\">\n",
       "<thead>\n",
       "    <tr style=\"text-align: right;\">\n",
       "      <th></th>\n",
       "      <th>uid</th>\n",
       "      <th>age_1996</th>\n",
       "      <th>hispanic</th>\n",
       "      <th>urban</th>\n",
       "      <th>household_size</th>\n",
       "      <th>household_income</th>\n",
       "      <th>pov_ratio</th>\n",
       "      <th>limited_work_kind</th>\n",
       "      <th>limited_work_amt</th>\n",
       "      <th>child_1_adopted</th>\n",
       "      <th>asthma_2002</th>\n",
       "      <th>heart_2002</th>\n",
       "      <th>anemia_2002</th>\n",
       "      <th>diabetes_2002</th>\n",
       "      <th>cancer_2002</th>\n",
       "      <th>epilepsy_2002</th>\n",
       "      <th>hiv_aids_2002</th>\n",
       "      <th>std_2002</th>\n",
       "      <th>chronic_other_2002</th>\n",
       "      <th>highest_degree</th>\n",
       "      <th>nonresp_parent_in_HH</th>\n",
       "      <th>hh_income_1997</th>\n",
       "      <th>pct_college_by_30</th>\n",
       "      <th>date_male_1998</th>\n",
       "      <th>date_female_1998</th>\n",
       "      <th>num_days_homework</th>\n",
       "      <th>CESD</th>\n",
       "      <th>CESD_above_8</th>\n",
       "      <th>married_vs_not_married</th>\n",
       "      <th>bmi</th>\n",
       "      <th>household_income_log</th>\n",
       "      <th>has_child</th>\n",
       "      <th>hh_income_1997_log</th>\n",
       "      <th>date_1998</th>\n",
       "      <th>years_married</th>\n",
       "      <th>years_married_log</th>\n",
       "      <th>pscore</th>\n",
       "    </tr>\n",
       "    <tr>\n",
       "      <th>married_vs_never_married</th>\n",
       "      <th></th>\n",
       "      <th></th>\n",
       "      <th></th>\n",
       "      <th></th>\n",
       "      <th></th>\n",
       "      <th></th>\n",
       "      <th></th>\n",
       "      <th></th>\n",
       "      <th></th>\n",
       "      <th></th>\n",
       "      <th></th>\n",
       "      <th></th>\n",
       "      <th></th>\n",
       "      <th></th>\n",
       "      <th></th>\n",
       "      <th></th>\n",
       "      <th></th>\n",
       "      <th></th>\n",
       "      <th></th>\n",
       "      <th></th>\n",
       "      <th></th>\n",
       "      <th></th>\n",
       "      <th></th>\n",
       "      <th></th>\n",
       "      <th></th>\n",
       "      <th></th>\n",
       "      <th></th>\n",
       "      <th></th>\n",
       "      <th></th>\n",
       "      <th></th>\n",
       "      <th></th>\n",
       "      <th></th>\n",
       "      <th></th>\n",
       "      <th></th>\n",
       "      <th></th>\n",
       "      <th></th>\n",
       "      <th></th>\n",
       "    </tr>\n",
       "  </thead><tbody><tr><td>Loading... (need <a href=https://mwouts.github.io/itables/troubleshooting.html>help</a>?)</td></tr></tbody>\n",
       "\n",
       "</table>\n",
       "<link href=\"https://www.unpkg.com/dt_for_itables@2.0.1/dt_bundle.css\" rel=\"stylesheet\">\n",
       "<script type=\"module\">\n",
       "    import {DataTable, jQuery as $} from 'https://www.unpkg.com/dt_for_itables@2.0.1/dt_bundle.js';\n",
       "\n",
       "    document.querySelectorAll(\"#itables_337452f2_1639_40e0_b61f_eda8c239d684:not(.dataTable)\").forEach(table => {\n",
       "        // Define the table data\n",
       "        const data = [[0.0, 3511.021339, 13.744911, 0.154301, 1.832567, 2.919567, 61417.033487, 323.291202, 0.08109, 0.08109, -1.838148, 0.078135, 0.007879, 0.013132, 0.004596, 0.005581, 0.001641, 0.0, 0.009192, 0.019041, 2.708142, 0.533158, 36464.622456, 75.465421, -1.569599, -1.33388, 3.918317, 2.970781, 0.094879, 0.0, 32.291568, 8.528184, 0.459947, 7.132676, 2.444846, 0.076849, 0.025077, 0.524639], [1.0, 4257.832239, 14.05975, 0.200919, 1.733093, 4.12541, 97234.105384, 407.330598, 0.059422, 0.047932, -0.54629, 0.076822, 0.007879, 0.018056, 0.004268, 0.005253, 0.003611, 0.0, 0.004924, 0.01937, 3.060407, 0.595535, 40536.312213, 75.752521, -1.136573, -1.112607, 3.89, 2.32239, 0.056796, 1.0, 30.315161, 9.152745, 0.137886, 7.873832, 2.780368, 9.467416, 2.18219, 0.52585]];\n",
       "\n",
       "        // Define the dt_args\n",
       "        let dt_args = {\"layout\": {\"topStart\": null, \"topEnd\": null, \"bottomStart\": null, \"bottomEnd\": null}, \"order\": [], \"warn_on_dom\": true};\n",
       "        dt_args[\"data\"] = data;\n",
       "\n",
       "        \n",
       "        new DataTable(table, dt_args);\n",
       "    });\n",
       "</script>\n"
      ],
      "text/plain": [
       "<IPython.core.display.HTML object>"
      ]
     },
     "metadata": {},
     "output_type": "display_data"
    }
   ],
   "source": [
    "#Use nearest neighbor to get matched indices and create new dataframe for it. \n",
    "\n",
    "T = temp_model_data_df[target_treatment]\n",
    "\n",
    "treated = temp_model_data_df[temp_model_data_df[target_treatment] == 1]\n",
    "control = temp_model_data_df[temp_model_data_df[target_treatment] == 0]\n",
    "\n",
    "# Fit the Nearest Neighbors model on the control group's propensity scores\n",
    "nn = NearestNeighbors(n_neighbors=1)\n",
    "nn.fit(control[['pscore']])\n",
    "\n",
    "# Find the nearest neighbors in the control group for each treated unit\n",
    "distances, indices = nn.kneighbors(treated[['pscore']])\n",
    "\n",
    "# Get the matched control indices\n",
    "matched_control_indices = control.iloc[indices.flatten()].index\n",
    "\n",
    "# Create a DataFrame with the matched pairs\n",
    "matched_df = pd.concat([treated, temp_model_data_df.loc[matched_control_indices]])\n",
    "\n",
    "show(matched_df.groupby(target_treatment).mean())\n"
   ]
  },
  {
   "cell_type": "code",
   "execution_count": 43,
   "id": "672828a5-de14-4acd-839d-c494d9773aaa",
   "metadata": {},
   "outputs": [
    {
     "name": "stderr",
     "output_type": "stream",
     "text": [
      "C:\\Users\\hiron\\AppData\\Local\\Temp\\ipykernel_1324\\863515322.py:1: FutureWarning: The default value of numeric_only in DataFrameGroupBy.mean is deprecated. In a future version, numeric_only will default to False. Either specify numeric_only or select only columns which should be valid for the function.\n",
      "  show(temp_model_data_df.groupby(target_treatment).mean())\n"
     ]
    },
    {
     "data": {
      "text/html": [
       "<table id=\"itables_7d640dd1_860b_4512_a542_3b6c420546d9\" class=\"display nowrap\" data-quarto-disable-processing=\"true\" style=\"table-layout:auto;width:auto;margin:auto;caption-side:bottom\">\n",
       "<thead>\n",
       "    <tr style=\"text-align: right;\">\n",
       "      <th></th>\n",
       "      <th>uid</th>\n",
       "      <th>age_1996</th>\n",
       "      <th>hispanic</th>\n",
       "      <th>urban</th>\n",
       "      <th>household_size</th>\n",
       "      <th>household_income</th>\n",
       "      <th>pov_ratio</th>\n",
       "      <th>limited_work_kind</th>\n",
       "      <th>limited_work_amt</th>\n",
       "      <th>child_1_adopted</th>\n",
       "      <th>asthma_2002</th>\n",
       "      <th>heart_2002</th>\n",
       "      <th>anemia_2002</th>\n",
       "      <th>diabetes_2002</th>\n",
       "      <th>cancer_2002</th>\n",
       "      <th>epilepsy_2002</th>\n",
       "      <th>hiv_aids_2002</th>\n",
       "      <th>std_2002</th>\n",
       "      <th>chronic_other_2002</th>\n",
       "      <th>highest_degree</th>\n",
       "      <th>nonresp_parent_in_HH</th>\n",
       "      <th>hh_income_1997</th>\n",
       "      <th>pct_college_by_30</th>\n",
       "      <th>date_male_1998</th>\n",
       "      <th>date_female_1998</th>\n",
       "      <th>num_days_homework</th>\n",
       "      <th>CESD</th>\n",
       "      <th>CESD_above_8</th>\n",
       "      <th>married_vs_not_married</th>\n",
       "      <th>bmi</th>\n",
       "      <th>household_income_log</th>\n",
       "      <th>has_child</th>\n",
       "      <th>hh_income_1997_log</th>\n",
       "      <th>date_1998</th>\n",
       "      <th>years_married</th>\n",
       "      <th>years_married_log</th>\n",
       "      <th>pscore</th>\n",
       "    </tr>\n",
       "    <tr>\n",
       "      <th>married_vs_never_married</th>\n",
       "      <th></th>\n",
       "      <th></th>\n",
       "      <th></th>\n",
       "      <th></th>\n",
       "      <th></th>\n",
       "      <th></th>\n",
       "      <th></th>\n",
       "      <th></th>\n",
       "      <th></th>\n",
       "      <th></th>\n",
       "      <th></th>\n",
       "      <th></th>\n",
       "      <th></th>\n",
       "      <th></th>\n",
       "      <th></th>\n",
       "      <th></th>\n",
       "      <th></th>\n",
       "      <th></th>\n",
       "      <th></th>\n",
       "      <th></th>\n",
       "      <th></th>\n",
       "      <th></th>\n",
       "      <th></th>\n",
       "      <th></th>\n",
       "      <th></th>\n",
       "      <th></th>\n",
       "      <th></th>\n",
       "      <th></th>\n",
       "      <th></th>\n",
       "      <th></th>\n",
       "      <th></th>\n",
       "      <th></th>\n",
       "      <th></th>\n",
       "      <th></th>\n",
       "      <th></th>\n",
       "      <th></th>\n",
       "      <th></th>\n",
       "    </tr>\n",
       "  </thead><tbody><tr><td>Loading... (need <a href=https://mwouts.github.io/itables/troubleshooting.html>help</a>?)</td></tr></tbody>\n",
       "\n",
       "</table>\n",
       "<link href=\"https://www.unpkg.com/dt_for_itables@2.0.1/dt_bundle.css\" rel=\"stylesheet\">\n",
       "<script type=\"module\">\n",
       "    import {DataTable, jQuery as $} from 'https://www.unpkg.com/dt_for_itables@2.0.1/dt_bundle.js';\n",
       "\n",
       "    document.querySelectorAll(\"#itables_7d640dd1_860b_4512_a542_3b6c420546d9:not(.dataTable)\").forEach(table => {\n",
       "        // Define the table data\n",
       "        const data = [[0.0, 4840.746777, 13.831662, 0.201648, 1.823424, 2.876791, 52233.635029, 269.731375, 0.106017, 0.094198, -1.709527, 0.075573, 0.005372, 0.017192, 0.005731, 0.003223, 0.001791, 0.0, 0.00394, 0.016476, 2.27543, 0.413324, 28520.938395, 64.371147, -1.830587, -1.179083, 3.785244, 3.436605, 0.122135, 0.0, 31.293543, 7.669553, 0.428009, 7.25987, 2.281877, 0.073991, 0.025429, 0.390137], [1.0, 4257.832239, 14.05975, 0.200919, 1.733093, 4.12541, 97234.105384, 407.330598, 0.059422, 0.047932, -0.54629, 0.076822, 0.007879, 0.018056, 0.004268, 0.005253, 0.003611, 0.0, 0.004924, 0.01937, 3.060407, 0.595535, 40536.312213, 75.752521, -1.136573, -1.112607, 3.89, 2.32239, 0.056796, 1.0, 30.315161, 9.152745, 0.137886, 7.873832, 2.780368, 9.467416, 2.18219, 0.52585]];\n",
       "\n",
       "        // Define the dt_args\n",
       "        let dt_args = {\"layout\": {\"topStart\": null, \"topEnd\": null, \"bottomStart\": null, \"bottomEnd\": null}, \"order\": [], \"warn_on_dom\": true};\n",
       "        dt_args[\"data\"] = data;\n",
       "\n",
       "        \n",
       "        new DataTable(table, dt_args);\n",
       "    });\n",
       "</script>\n"
      ],
      "text/plain": [
       "<IPython.core.display.HTML object>"
      ]
     },
     "metadata": {},
     "output_type": "display_data"
    }
   ],
   "source": [
    "show(temp_model_data_df.groupby(target_treatment).mean())"
   ]
  },
  {
   "cell_type": "markdown",
   "id": "44749de1-8034-4c5c-97e0-56251f5b8a0f",
   "metadata": {},
   "source": [
    "__Results__\n",
    "   * There seems a good overlap between treated & untreated w/ propensity score, although there are a lot of 0 propensity scores which is concerning\n",
    "   * The balance of covariates seems ok (was also checked for categorical variables) though there may not be a huge difference"
   ]
  },
  {
   "cell_type": "markdown",
   "id": "6252bc70-6511-448c-8e52-b0dc74f2b02a",
   "metadata": {},
   "source": [
    "### Get effect"
   ]
  },
  {
   "cell_type": "code",
   "execution_count": 167,
   "id": "368a1d6b-f4d9-4e74-aff2-809861b49a20",
   "metadata": {
    "tags": []
   },
   "outputs": [
    {
     "name": "stdout",
     "output_type": "stream",
     "text": [
      "Prob. of CESD > x for married: 0.0570\n",
      "Prob. of CESD > x for never married: 0.1061\n",
      "Average Treatment Effect in prob.: -0.0492\n",
      "\n",
      "Odds for CESD > x for married: 0.0604\n",
      "Odds for CESD > x for never married: 0.1188\n",
      "Effect in odds ratio): 0.5089\n"
     ]
    }
   ],
   "source": [
    "# Calculate the mean outcome for the treated and matched control groups\n",
    "treated_outcome = matched_df[matched_df[target_treatment] == 1][target_outcome].mean()\n",
    "control_outcome = matched_df[matched_df[target_treatment] == 0][target_outcome].mean()\n",
    "\n",
    "# Calculate the Average Treatment Effect (ATE)\n",
    "ate = treated_outcome - control_outcome\n",
    "\n",
    "print(f\"Prob. of CESD > x for married: {treated_outcome:.4f}\")\n",
    "print(f\"Prob. of CESD > x for never married: {control_outcome:.4f}\")\n",
    "print(f\"Average Treatment Effect in prob.: {(treated_outcome - control_outcome):.4f}\")\n",
    "print('')\n",
    "\n",
    "# Convert to odds to match with others\n",
    "treated_outcome_odds = treated_outcome / (1 - treated_outcome)\n",
    "control_outcome_odds = control_outcome / (1 - control_outcome)\n",
    "\n",
    "                        \n",
    "print(f\"Odds for CESD > x for married: {treated_outcome_odds:.4f}\")\n",
    "print(f\"Odds for CESD > x for never married: {control_outcome_odds:.4f}\")\n",
    "print(f\"Effect in odds ratio): {(treated_outcome_odds / control_outcome_odds):.4f}\")\n",
    "\n",
    "\n"
   ]
  },
  {
   "cell_type": "markdown",
   "id": "2fb9cfba-0d27-426d-a17e-6107a0ecd015",
   "metadata": {},
   "source": [
    "## Round 4 - Inverse probability weighting\n",
    "Use propensity score method from preious step to calculate average effect using IPW instead of PSM\n",
    "\n",
    "__Big note: As IPW doesn't allow pscore of 0, we are discarding about 10% of users. This round is done just for reference only__\n",
    "\n",
    "__Results__\n",
    "   * Odds change: 0.61x"
   ]
  },
  {
   "cell_type": "code",
   "execution_count": 48,
   "id": "550dd0ae-062e-46c9-bfe3-403979cbf7a2",
   "metadata": {
    "tags": []
   },
   "outputs": [],
   "source": [
    "temp_model_data_df = model_data_df.copy()\n",
    "temp_model_data_df.dropna(axis=0,subset=target_treatment,inplace=True)"
   ]
  },
  {
   "cell_type": "code",
   "execution_count": 49,
   "id": "86e1d0cf-d025-4ba6-8499-f2f5f6480f0d",
   "metadata": {
    "tags": []
   },
   "outputs": [
    {
     "name": "stdout",
     "output_type": "stream",
     "text": [
      "Model over 15: married_vs_never_married ~ hh_income_1997_log + date_1998 + num_days_homework + C(hispanic) + C(sex) + C(race) + C(nonresp_parent_in_HH)\n",
      "Model under 16: married_vs_never_married ~ hh_income_1997_log + date_1998 + pct_college_by_30 + C(hispanic) + C(sex) + C(race) + C(nonresp_parent_in_HH)\n"
     ]
    }
   ],
   "source": [
    "#Since \"Number of days doing HW\" and \"Percent going to college by 30\" is mutually exclusive by age, we will create two \n",
    "# separate models. \n",
    "\n",
    "Xs_numerical = ['hh_income_1997_log','date_1998','num_days_homework']\n",
    "Xs_categorical = ['hispanic','sex','race','nonresp_parent_in_HH']\n",
    "formula = f'{target_treatment} ~ ' + (' + '.join(Xs_numerical)) + ' + C(' + (') + C(').join(Xs_categorical) + ')'\n",
    "print(\"Model over 15: \" + formula)\n",
    "# Fit the logistic regression model using GLM\n",
    "model_over_15 = smf.glm(formula=formula, data=temp_model_data_df, family=sm.families.Binomial()).fit()\n",
    "result1 = model_over_15.predict(temp_model_data_df[Xs_numerical+Xs_categorical])\n",
    "\n",
    "\n",
    "#formula creation\n",
    "Xs_numerical = ['hh_income_1997_log','date_1998','pct_college_by_30']\n",
    "Xs_categorical = ['hispanic','sex','race','nonresp_parent_in_HH']\n",
    "formula = f'{target_treatment} ~ ' + (' + '.join(Xs_numerical)) + ' + C(' + (') + C(').join(Xs_categorical) + ')'\n",
    "print(\"Model under 16: \" + formula)\n",
    "# Fit the logistic regression model using GLM\n",
    "model_under_16 = smf.glm(formula=formula, data=temp_model_data_df, family=sm.families.Binomial()).fit()\n",
    "result2 = model_under_16.predict(temp_model_data_df[Xs_numerical+Xs_categorical])\n",
    "\n",
    "#Put the two (mutually exclusive) p-scores into one and add to the model data df\n",
    "temp_df = pd.DataFrame({'pscore1':result1, 'pscore2':result2})\n",
    "temp_df.fillna(0,inplace=True)\n",
    "temp_df['pscore'] = temp_df['pscore1'] +temp_df['pscore2']\n",
    "\n",
    "temp_model_data_df.drop('pscore',axis=1,errors='ignore',inplace=True)\n",
    "temp_model_data_df = pd.concat([temp_model_data_df,temp_df[['pscore']]],axis=1)"
   ]
  },
  {
   "cell_type": "code",
   "execution_count": 50,
   "id": "78fa9028-613c-4a30-950d-a2ce89af750b",
   "metadata": {
    "tags": []
   },
   "outputs": [],
   "source": [
    "temp_model_data_df = temp_model_data_df.query('pscore!=0')"
   ]
  },
  {
   "cell_type": "code",
   "execution_count": 51,
   "id": "ac05783f-8041-4dc9-b61a-672eeb9746d7",
   "metadata": {
    "tags": []
   },
   "outputs": [],
   "source": [
    "#Use nearest neighbor to get matched indices and create new dataframe for it. \n",
    "\n",
    "T = temp_model_data_df[target_treatment]\n",
    "\n",
    "treated = temp_model_data_df[temp_model_data_df[target_treatment] == 1]\n",
    "control = temp_model_data_df[temp_model_data_df[target_treatment] == 0]\n",
    "\n",
    "# Fit the Nearest Neighbors model on the control group's propensity scores\n",
    "nn = NearestNeighbors(n_neighbors=1)\n",
    "nn.fit(control[['pscore']])\n",
    "\n",
    "# Find the nearest neighbors in the control group for each treated unit\n",
    "distances, indices = nn.kneighbors(treated[['pscore']])\n",
    "\n",
    "# Get the matched control indices\n",
    "matched_control_indices = control.iloc[indices.flatten()].index\n",
    "\n",
    "# Create a DataFrame with the matched pairs\n",
    "matched_df = pd.concat([treated, temp_model_data_df.loc[matched_control_indices]])"
   ]
  },
  {
   "cell_type": "code",
   "execution_count": 52,
   "id": "b7410de4-b37a-4ffb-a5d3-e8708da8b4f4",
   "metadata": {
    "tags": []
   },
   "outputs": [
    {
     "name": "stdout",
     "output_type": "stream",
     "text": [
      "Prob. of CESD > x for married: 0.0582\n",
      "Prob. of CESD > x for never married: 0.0966\n",
      "Average Treatment Effect in prob. (Relative): 0.6027\n",
      "\n",
      "Odds for CESD > x for married: 0.0618\n",
      "Odds for CESD > x for never married: 0.1069\n",
      "Average Treatment Effect in odds (Relative): 0.5782\n"
     ]
    }
   ],
   "source": [
    "# Calculate weights\n",
    "matched_df['weight'] = np.where(matched_df[target_treatment] == 1, 1 / matched_df['pscore'], 1 / (1 - matched_df['pscore']))\n",
    "\n",
    "# Calculate weighted outcomes\n",
    "w_treated_outcome = np.sum(matched_df[matched_df[target_treatment] == 1]['weight'] * matched_df[matched_df[target_treatment] == 1][target_outcome]) / np.sum(matched_df[matched_df[target_treatment] == 1]['weight'])\n",
    "w_control_outcome = np.sum(matched_df[matched_df[target_treatment] == 0]['weight'] * matched_df[matched_df[target_treatment] == 0][target_outcome]) / np.sum(matched_df[matched_df[target_treatment] == 0]['weight'])\n",
    "\n",
    "# Calculate the ATE\n",
    "ate = w_treated_outcome - w_control_outcome\n",
    "\n",
    "print(f\"Prob. of CESD > x for married: {w_treated_outcome:.4f}\")\n",
    "print(f\"Prob. of CESD > x for never married: {w_control_outcome:.4f}\")\n",
    "print(f\"Average Treatment Effect in prob. (Relative): {(w_treated_outcome / w_control_outcome):.4f}\")\n",
    "print('')\n",
    "\n",
    "# Convert to odds to match with others\n",
    "w_treated_outcome_odds = w_treated_outcome / (1 - w_treated_outcome)\n",
    "w_control_outcome_odds = w_control_outcome / (1 - w_control_outcome)\n",
    "\n",
    "                        \n",
    "print(f\"Odds for CESD > x for married: {w_treated_outcome_odds:.4f}\")\n",
    "print(f\"Odds for CESD > x for never married: {w_control_outcome_odds:.4f}\")\n",
    "print(f\"Average Treatment Effect in odds (Relative): {(w_treated_outcome_odds / w_control_outcome_odds):.4f}\")\n",
    "\n"
   ]
  },
  {
   "cell_type": "markdown",
   "id": "04cc3085-1a53-442f-9100-4594e357e0e8",
   "metadata": {
    "tags": []
   },
   "source": [
    "## Round 5 - Logistic regression w/ balanced outcome sample via undersampling\n",
    "Wanted to check how much the unbalance of outcome (CESD > 8 is about 1:10 ratio) is affecting the results from logistic regression. We use undersampling to balance the # of responders of CESD > 8 or not. \n",
    "   * __Result__\n",
    "      * Odds change: 0.60x, w/ p-value < 0.01\n",
    "      * In other words, not a large difference"
   ]
  },
  {
   "cell_type": "code",
   "execution_count": 54,
   "id": "fc01df9c-29ef-40d7-aaf9-18ac01ad478d",
   "metadata": {
    "tags": []
   },
   "outputs": [
    {
     "name": "stdout",
     "output_type": "stream",
     "text": [
      "CESD_above_8  ~  married_vs_never_married + age_1996 + household_size + household_income_log + has_child + asthma_2002 + heart_2002 + anemia_2002 + diabetes_2002 + cancer_2002 + epilepsy_2002 + hiv_aids_2002 + std_2002 + chronic_other_2002 + urban + highest_degree + C(hispanic) + C(sex) + C(race) + C(bmi_bin) + C(limited_work_kind)\n"
     ]
    }
   ],
   "source": [
    "temp_model_data_df = model_data_df.copy()\n",
    "temp_model_data_df.dropna(axis=0,subset=target_treatment,inplace=True)\n",
    "\n",
    "rus = RandomUnderSampler()\n",
    "X_resampled, y_resampled = rus.fit_resample(temp_model_data_df, temp_model_data_df[target_outcome])\n",
    "\n",
    "Xs_numerical = ['age_1996','household_size','household_income_log','has_child', \n",
    "                'asthma_2002','heart_2002','anemia_2002','diabetes_2002','cancer_2002','epilepsy_2002',\n",
    "                'hiv_aids_2002','std_2002','chronic_other_2002','urban', 'highest_degree']\n",
    "Xs_categorical = ['hispanic','sex','race','bmi_bin','limited_work_kind',]\n",
    "\n",
    "formula = f'{target_outcome}  ~  {target_treatment} + ' + (' + '.join(Xs_numerical)) + ' + C(' + (') + C(').join(Xs_categorical) + ')'\n",
    "print(formula)\n",
    "\n"
   ]
  },
  {
   "cell_type": "code",
   "execution_count": 55,
   "id": "7a206aab-30e0-4d0c-82ca-8617274aa383",
   "metadata": {
    "tags": []
   },
   "outputs": [
    {
     "name": "stdout",
     "output_type": "stream",
     "text": [
      "                 Generalized Linear Model Regression Results                  \n",
      "==============================================================================\n",
      "Dep. Variable:           CESD_above_8   No. Observations:                 1028\n",
      "Model:                            GLM   Df Residuals:                      998\n",
      "Model Family:                Binomial   Df Model:                           29\n",
      "Link Function:                  Logit   Scale:                          1.0000\n",
      "Method:                          IRLS   Log-Likelihood:                -579.01\n",
      "Date:                Wed, 14 Aug 2024   Deviance:                       1158.0\n",
      "Time:                        09:42:46   Pearson chi2:                 1.03e+03\n",
      "No. Iterations:                    19   Pseudo R-squ. (CS):             0.2288\n",
      "Covariance Type:            nonrobust                                         \n",
      "========================================================================================================\n",
      "                                           coef    std err          z      P>|z|      [0.025      0.975]\n",
      "--------------------------------------------------------------------------------------------------------\n",
      "Intercept                                0.5912      1.776      0.333      0.739      -2.889       4.071\n",
      "C(hispanic)[T.-1]                       38.7095   2.51e+04      0.002      0.999   -4.91e+04    4.92e+04\n",
      "C(hispanic)[T.0]                        -0.3777      1.374     -0.275      0.783      -3.070       2.315\n",
      "C(hispanic)[T.1]                        -0.7462      1.378     -0.542      0.588      -3.446       1.954\n",
      "C(sex)[T.Male]                          -0.6496      0.154     -4.232      0.000      -0.951      -0.349\n",
      "C(race)[T.Asian or Pacific Islander]     1.0371      1.087      0.954      0.340      -1.093       3.167\n",
      "C(race)[T.Black or African American]     1.0811      0.918      1.178      0.239      -0.718       2.880\n",
      "C(race)[T.Don't know]                  -17.8445   1.77e+04     -0.001      0.999   -3.48e+04    3.47e+04\n",
      "C(race)[T.Refusal]                       1.3882      1.561      0.890      0.374      -1.671       4.447\n",
      "C(race)[T.Something else]                1.4538      0.935      1.555      0.120      -0.379       3.286\n",
      "C(race)[T.White]                         1.2772      0.910      1.403      0.161      -0.507       3.061\n",
      "C(bmi_bin)[T.obese]                      0.1241      0.183      0.677      0.498      -0.235       0.483\n",
      "C(bmi_bin)[T.over]                       0.3819      0.218      1.752      0.080      -0.045       0.809\n",
      "C(bmi_bin)[T.under]                     -0.8136      0.919     -0.886      0.376      -2.614       0.987\n",
      "C(limited_work_kind)[T.1.0]              2.1887      0.253      8.644      0.000       1.692       2.685\n",
      "married_vs_never_married                -0.6601      0.175     -3.763      0.000      -1.004      -0.316\n",
      "age_1996                                -0.0205      0.052     -0.395      0.693      -0.122       0.081\n",
      "household_size                          -0.1326      0.054     -2.468      0.014      -0.238      -0.027\n",
      "household_income_log                    -0.0409      0.015     -2.724      0.006      -0.070      -0.011\n",
      "has_child                               -0.1469      0.197     -0.744      0.457      -0.534       0.240\n",
      "asthma_2002                              0.0687      0.263      0.261      0.794      -0.447       0.585\n",
      "heart_2002                              -1.0883      0.721     -1.509      0.131      -2.502       0.325\n",
      "anemia_2002                             -0.6341      0.508     -1.247      0.212      -1.630       0.362\n",
      "diabetes_2002                            1.5567      1.157      1.346      0.178      -0.710       3.824\n",
      "cancer_2002                              0.9682      1.389      0.697      0.486      -1.754       3.690\n",
      "epilepsy_2002                            0.0558      1.230      0.045      0.964      -2.355       2.467\n",
      "hiv_aids_2002                         5.489e-11   3.67e-08      0.001      0.999   -7.18e-08    7.19e-08\n",
      "std_2002                                 1.9411      1.225      1.584      0.113      -0.460       4.342\n",
      "chronic_other_2002                       0.2823      0.487      0.580      0.562      -0.672       1.237\n",
      "urban                                    0.1647      0.166      0.995      0.320      -0.160       0.489\n",
      "highest_degree                          -0.1844      0.053     -3.460      0.001      -0.289      -0.080\n",
      "========================================================================================================\n",
      "Log odds difference when married: 0.516789085081101 \n",
      "P-value: 0.00016787580505359006 \n"
     ]
    }
   ],
   "source": [
    "# Fit the logistic regression model using GLM\n",
    "model = smf.glm(formula=formula, data=X_resampled, family=sm.families.Binomial()).fit()\n",
    "#model = smf.glm(formula=formula, data=temp_model_data_df, family=sm.families.Binomial()).fit_regularized)\n",
    "\n",
    "\n",
    "# Print the summary of the model\n",
    "print(model.summary())\n",
    "print(f'Log odds difference when married: {math.exp(model.params[target_treatment])} ')\n",
    "print(f'P-value: {model.pvalues[target_treatment]} ')\n"
   ]
  },
  {
   "cell_type": "markdown",
   "id": "e7b00dd7-f21c-4898-85b1-d98db570cc9a",
   "metadata": {
    "jp-MarkdownHeadingCollapsed": true,
    "tags": []
   },
   "source": [
    "## backlog\n",
    "   * Health_at_38_39\n",
    "   * Substance use\n",
    "   * Make length of marriage as the treatment instead of married VS not \n",
    "   * Use more later survey year qs for propensity score calculation\n",
    "   * Instrumental variable? - Unable to find a variable (or set of them) that has high correlation w/ marriage (but low directly to outcome)"
   ]
  },
  {
   "cell_type": "markdown",
   "id": "ef665bc0-1f78-462b-b1d5-573af51b97f7",
   "metadata": {
    "tags": []
   },
   "source": [
    "## Playground"
   ]
  },
  {
   "cell_type": "code",
   "execution_count": 58,
   "id": "396025e3-f139-4b28-bc65-3722e873ca07",
   "metadata": {
    "tags": []
   },
   "outputs": [],
   "source": [
    "temp_model_data_df = model_data_df.copy()\n",
    "temp_model_data_df.dropna(axis=0,subset=target_treatment,inplace=True)"
   ]
  },
  {
   "cell_type": "code",
   "execution_count": null,
   "id": "0c07b79e-f480-4d57-b5e8-217d1c3ae04a",
   "metadata": {},
   "outputs": [],
   "source": []
  },
  {
   "cell_type": "code",
   "execution_count": 59,
   "id": "30611a66-1057-417f-a316-85fc78e5ba78",
   "metadata": {
    "tags": []
   },
   "outputs": [
    {
     "ename": "NameError",
     "evalue": "name 'y_res' is not defined",
     "output_type": "error",
     "traceback": [
      "\u001b[1;31m---------------------------------------------------------------------------\u001b[0m",
      "\u001b[1;31mNameError\u001b[0m                                 Traceback (most recent call last)",
      "Cell \u001b[1;32mIn[59], line 1\u001b[0m\n\u001b[1;32m----> 1\u001b[0m \u001b[43my_res\u001b[49m\u001b[38;5;241m.\u001b[39mvalue_counts()\n",
      "\u001b[1;31mNameError\u001b[0m: name 'y_res' is not defined"
     ]
    }
   ],
   "source": [
    "y_res.value_counts()"
   ]
  },
  {
   "cell_type": "code",
   "execution_count": null,
   "id": "e654c373-152f-4f80-8ba7-93d100d4000c",
   "metadata": {
    "tags": []
   },
   "outputs": [],
   "source": [
    "from imblearn.under_sampling import RandomUnderSampler\n",
    "\n",
    "rus = RandomUnderSampler(random_state=42)\n",
    "X_res, y_res = rus.fit_resample(temp_model_data_df, temp_model_data_df[target_outcome])\n",
    "\n",
    "#formula creation\n",
    "\n",
    "Xs_numerical = ['age_1996','household_size','household_income_log','has_child', \n",
    "                'asthma_2002','heart_2002','anemia_2002','diabetes_2002','cancer_2002','epilepsy_2002',\n",
    "                'hiv_aids_2002','std_2002','chronic_other_2002','urban', 'highest_degree']\n",
    "Xs_categorical = ['hispanic','sex','race','bmi_bin','limited_work_kind',]\n",
    "\n",
    "formula = f'{target_outcome}  ~  {target_treatment} + ' + (' + '.join(Xs_numerical)) + ' + C(' + (') + C(').join(Xs_categorical) + ')'\n",
    "print(formula)"
   ]
  },
  {
   "cell_type": "code",
   "execution_count": null,
   "id": "d3f1de91-8c63-4209-8153-ebeed139c708",
   "metadata": {
    "tags": []
   },
   "outputs": [],
   "source": [
    "# Fit the logistic regression model using GLM\n",
    "model = smf.glm(formula=formula, data=X_res, family=sm.families.Binomial()).fit()\n",
    "#model = smf.glm(formula=formula, data=temp_model_data_df, family=sm.families.Binomial()).fit_regularized)\n",
    "\n",
    "\n",
    "# Print the summary of the model\n",
    "print(model.summary())\n",
    "print(f'Log odds difference when married: {math.exp(model.params[target_treatment])} ')\n",
    "print(f'P-value: {model.pvalues[target_treatment]} ')\n"
   ]
  },
  {
   "cell_type": "code",
   "execution_count": null,
   "id": "a5a470b9-be66-45cc-990b-32d3d3bd49b2",
   "metadata": {
    "tags": []
   },
   "outputs": [],
   "source": [
    "show(tidy_df[['CV_URBAN_RURAL']])"
   ]
  },
  {
   "cell_type": "code",
   "execution_count": null,
   "id": "d630b746-915c-4aeb-8c55-157c2165b68a",
   "metadata": {
    "tags": []
   },
   "outputs": [],
   "source": [
    "temp_df = cohab_mhealth_df.loc[:,['uid','Ever_cohabitted','CESD_above_8','married']].drop_duplicates()\n",
    "temp_df.dropna(inplace=True)\n",
    "temp_df = pd.pivot_table(temp_df,values='uid',index='Ever_cohabitted',columns='CESD_above_8',aggfunc='count')\n",
    "temp_df / temp_df.sum()\n",
    "\n"
   ]
  },
  {
   "cell_type": "code",
   "execution_count": null,
   "id": "ea2f6d71-d035-4e19-a482-c0787b13cd66",
   "metadata": {
    "tags": []
   },
   "outputs": [],
   "source": [
    "temp_df = cohab_mhealth_df.loc[cohab_mhealth_df['Year'] == 2021,['uid','Ever_cohabitted','CESD_above_8','married']].drop_duplicates()\n",
    "temp2_df = tidy_df.loc[tidy_df['Year'] <= 2001].groupby('uid')[['YSAQ_291A','YSAQ_294A']].max().max(axis=1).to_frame()\n",
    "temp2_df = temp2_df.applymap(lambda x: 0 if x < 0 else x)\n",
    "temp_df = temp_df.merge(temp2_df,on='uid')\n",
    "temp_df.rename(columns={0:'dated'},inplace=True)\n",
    "\n",
    "\n",
    "temp_df.dropna(inplace=True)\n",
    "temp_df = pd.pivot_table(temp_df,values='uid',index='dated',columns='married',aggfunc='count')\n",
    "temp_df / temp_df.sum()"
   ]
  },
  {
   "cell_type": "code",
   "execution_count": null,
   "id": "8943aade-65f2-48d1-a67f-4aef6842af21",
   "metadata": {
    "tags": []
   },
   "outputs": [],
   "source": [
    "# Look for variables that can be used for propensity scoring or as instrumental variable\n",
    "# Get all columns from particular year, and set negative values to NaNs\n",
    "temp_df = tidy_df.loc[tidy_df['Year'] == 1997,:].select_dtypes(exclude=['object','category'])\n",
    "temp_df = temp_df.apply(dense_columns,axis=0)\n",
    "temp_df = temp_df.applymap(lambda x: np.nan if x < 0 else x)\n",
    "\n",
    "#Get needed treatment + outcome data and merge with previous df\n",
    "temp2_df = cohab_mhealth_df.loc[cohab_mhealth_df['Year'] == target_year,['uid','Ever_cohabitted','CESD_above_8','married']].drop_duplicates()\n",
    "temp_df = temp_df.merge(temp2_df,on='uid')\n",
    "\n",
    "#Create same married flags in the same df\n",
    "temp_df['married_vs_not_married'] = (temp_df['married'] == 'Yes').astype(int)\n",
    "temp_df['married_vs_never_married'] = (temp_df['married'] == 'Yes').astype(int)\n",
    "#For married VS never married, the \"Married but married before\" respondents will be marked as NaN\n",
    "temp_df.loc[temp_df['married']=='No',['married_vs_never_married']] = np.nan\n",
    "\n",
    "#Create correlation dataframe. Not using pearson as target (both treatment and outcome) is binomial\n",
    "corr_df = temp_df.corrwith(temp_df['married_vs_never_married'],method='kendall').to_frame(name='corr').reset_index(names='name')\n",
    "#Calculate % of nans \n",
    "temp3_df = (1 - temp_df.count() / temp_df.shape[0]).to_frame(name='nans').reset_index(names='name')\n",
    "corr_df = corr_df.merge(temp3_df,on='name')\n",
    "\n",
    "#Get descriptions from codebook\n",
    "corr_df = corr_df.merge(codebook_df[['Modified_Question','Modified_Description']].drop_duplicates(),left_on='name',right_on='Modified_Question',how='left')\n",
    "corr_df.drop('Modified_Question',axis=1,inplace=True)\n",
    "\n",
    "#Looking at list of \n",
    "show(corr_df.loc[corr_df['nans'] < 0.7,:].sort_values(by='corr',ascending=False))"
   ]
  },
  {
   "cell_type": "code",
   "execution_count": null,
   "id": "95f6be2e-4b09-4084-84af-b77d6dfa8327",
   "metadata": {
    "tags": []
   },
   "outputs": [],
   "source": [
    "show(temp_df.loc[:,['married_vs_never_married','YSAQ_364']].value_counts().to_frame().reset_index().pivot(index='married_vs_never_married',columns='YSAQ_364'))"
   ]
  },
  {
   "cell_type": "code",
   "execution_count": null,
   "id": "244dd67f-a782-46b3-9ca7-9c5d6b40f937",
   "metadata": {
    "tags": []
   },
   "outputs": [],
   "source": [
    "temp_df = cohab_mhealth_df.loc[:,['uid','Ever_cohabitted','CESD_above_8','married']].drop_duplicates()\n",
    "temp_df.dropna(inplace=True)\n",
    "temp_df.loc[:,['Ever_cohabitted','married']].value_counts(dropna=False)"
   ]
  },
  {
   "cell_type": "markdown",
   "id": "d61a2b8b-56bb-45c7-b252-b6a941f0230e",
   "metadata": {},
   "source": [
    "R1210200 1997 married"
   ]
  }
 ],
 "metadata": {
  "kernelspec": {
   "display_name": "Python 3 (ipykernel)",
   "language": "python",
   "name": "python3"
  },
  "language_info": {
   "codemirror_mode": {
    "name": "ipython",
    "version": 3
   },
   "file_extension": ".py",
   "mimetype": "text/x-python",
   "name": "python",
   "nbconvert_exporter": "python",
   "pygments_lexer": "ipython3",
   "version": "3.11.7"
  }
 },
 "nbformat": 4,
 "nbformat_minor": 5
}
